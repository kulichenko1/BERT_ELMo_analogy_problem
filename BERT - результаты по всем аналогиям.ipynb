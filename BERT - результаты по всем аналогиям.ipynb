{
 "cells": [
  {
   "cell_type": "code",
   "execution_count": 222,
   "metadata": {},
   "outputs": [
    {
     "name": "stdout",
     "output_type": "stream",
     "text": [
      "The autotime extension is already loaded. To reload it, use:\n",
      "  %reload_ext autotime\n",
      "time: 4.61 s (started: 2021-05-20 14:21:22 +03:00)\n"
     ]
    }
   ],
   "source": [
    "from transformers import AutoTokenizer, AutoModel\n",
    "\n",
    "from sklearn.decomposition import PCA\n",
    "\n",
    "import torch\n",
    "\n",
    "import matplotlib.pyplot as plt\n",
    "from scipy.spatial.distance import cosine\n",
    "import pandas as pd\n",
    "import numpy as np\n",
    "import re\n",
    "import seaborn as sns\n",
    "\n",
    "%load_ext autotime"
   ]
  },
  {
   "cell_type": "markdown",
   "metadata": {},
   "source": [
    "# 1. Кастомные функции"
   ]
  },
  {
   "cell_type": "markdown",
   "metadata": {},
   "source": [
    "## 1.1 Получить слова из текста в нужном формате\n",
    "\n",
    "Берется файл с аналогиями, переводится в нужный вид, с которым будут работать в дальнейшем функции"
   ]
  },
  {
   "cell_type": "code",
   "execution_count": 15,
   "metadata": {},
   "outputs": [
    {
     "name": "stdout",
     "output_type": "stream",
     "text": [
      "time: 0 ns (started: 2021-05-20 00:56:43 +03:00)\n"
     ]
    }
   ],
   "source": [
    "def unique_list(l):\n",
    "    ulist = []\n",
    "    [ulist.append(x) for x in l if x not in ulist]\n",
    "    return ulist"
   ]
  },
  {
   "cell_type": "code",
   "execution_count": 62,
   "metadata": {},
   "outputs": [
    {
     "name": "stdout",
     "output_type": "stream",
     "text": [
      "time: 0 ns (started: 2021-05-20 01:40:25 +03:00)\n"
     ]
    }
   ],
   "source": [
    "def get_analogy_words(filename):\n",
    "    \n",
    "    with open(filename, encoding='utf-8') as f:\n",
    "        content = f.readlines()\n",
    "    \n",
    "    words_to_agg = [x.strip() for x in content] \n",
    "    \n",
    "    words_to_agg = \" \".join(words_to_agg)\n",
    "    words_to_agg = \" \".join(words_to_agg.split('_'))\n",
    "    \n",
    "    stop_words = ['PROPN', 'ADJ', 'VERB','ADV', 'NOUN']\n",
    "    \n",
    "    for i in stop_words:\n",
    "        words_to_agg = words_to_agg.replace(i, '')\n",
    "    \n",
    "    words_to_agg = words_to_agg.replace('й','и')\n",
    "    \n",
    "    words_to_agg = ' '.join(unique_list(words_to_agg.split()))\n",
    "    \n",
    "    return words_to_agg"
   ]
  },
  {
   "cell_type": "code",
   "execution_count": 17,
   "metadata": {},
   "outputs": [
    {
     "data": {
      "text/plain": [
       "'афины греция багдад ирак бангкок таиланд пекин китай берлин германия берн швейцария каир египет канберра австралия ханой вьетнам гавана куба хельсинки финляндия исламабад пакистан кабул афганистан лондон англия мадрид испания москва россия осло норвегия оттава канада париж франция рим италия стокгольм швеция тегеран иран токио япония'"
      ]
     },
     "execution_count": 17,
     "metadata": {},
     "output_type": "execute_result"
    },
    {
     "name": "stdout",
     "output_type": "stream",
     "text": [
      "time: 0 ns (started: 2021-05-20 00:56:44 +03:00)\n"
     ]
    }
   ],
   "source": [
    "file1 = 'C:\\\\Users\\\\Asus\\\\Data analysis\\\\Учеба\\\\ДИПЛОМ\\\\Analogies\\\\Small\\\\столица-страна.txt'\n",
    "\n",
    "anal1 = get_analogy_words(file1)\n",
    "\n",
    "anal1"
   ]
  },
  {
   "cell_type": "code",
   "execution_count": 18,
   "metadata": {},
   "outputs": [
    {
     "data": {
      "text/plain": [
       "'приемлемый неприемлемый простой непростой определенный неопределенный ясный неясный удобный неудобный конкурентноспособный неконкурентноспособный последовательный непоследовательный убедительный неубедительный решенный нерешенный эффективный неэффективный этичный неэтичный удачный неудачный честный нечестный уместный неуместный информативный неинформативный осведомленный неосведомленный известный неизвестный вероятный невероятный логичный нелогичный приятный неприятный возможный невозможный продуктивный непродуктивный рациональный иррациональный разумный неразумный ответственный безответственный уверенный неуверенный благодарный неблагодарный'"
      ]
     },
     "execution_count": 18,
     "metadata": {},
     "output_type": "execute_result"
    },
    {
     "name": "stdout",
     "output_type": "stream",
     "text": [
      "time: 16 ms (started: 2021-05-20 00:57:28 +03:00)\n"
     ]
    }
   ],
   "source": [
    "file2 = 'C:\\\\Users\\\\Asus\\\\Data analysis\\\\Учеба\\\\ДИПЛОМ\\\\Analogies\\\\Small\\\\adj-NOTadj.txt'\n",
    "\n",
    "anal2 = get_analogy_words(file2)\n",
    "\n",
    "anal2"
   ]
  },
  {
   "cell_type": "markdown",
   "metadata": {},
   "source": [
    "## 1.2 Получить эмбеддинги BERT"
   ]
  },
  {
   "cell_type": "code",
   "execution_count": 228,
   "metadata": {},
   "outputs": [
    {
     "name": "stdout",
     "output_type": "stream",
     "text": [
      "time: 16 ms (started: 2021-05-20 14:30:01 +03:00)\n"
     ]
    }
   ],
   "source": [
    "def get_embeddings(tokenizer, model, words_to_embed):\n",
    "    \"\"\"\n",
    "    Функция возвращает таблицу с эмбеддингами каждого слова.\n",
    "    \n",
    "    Parameters\n",
    "    ----------\n",
    "    tokenizer : transformers.models.bert.tokenization_bert_fast.BertTokenizerFast\n",
    "        Предобученный токенизатор BERT\n",
    "    \n",
    "    model : transformers.models.bert.modeling_bert.BertModel\n",
    "        Предобученная модель BERT\n",
    "    \n",
    "    words_to_embed : str\n",
    "        Слова, переданные в виде одной строки, идущие через пробел.\n",
    "        \n",
    "    Returns\n",
    "    -------\n",
    "    table_embedding : pd.Dataframe\n",
    "        Табличка с эмбеддингами каждого слова из `words_to_embed`\n",
    "    \n",
    "    \"\"\"\n",
    "    \n",
    "    # Add the special tokens.\n",
    "    marked_text = \"[CLS] \" + words_to_embed + \" [SEP]\"\n",
    "\n",
    "    # Split the sentence into tokens.\n",
    "    tokenized_text = tokenizer.tokenize(marked_text)\n",
    "\n",
    "    # Map the token strings to their vocabulary indeces.\n",
    "    indexed_tokens = tokenizer.convert_tokens_to_ids(tokenized_text)\n",
    "\n",
    "    segments_ids = [1] * len(tokenized_text)\n",
    "    \n",
    "    # Convert inputs to PyTorch tensors\n",
    "    tokens_tensor = torch.tensor([indexed_tokens])\n",
    "    segments_tensors = torch.tensor([segments_ids])\n",
    "    \n",
    "    # Run the text through BERT, and collect all of the hidden states produced\n",
    "    # from all 12 layers. \n",
    "    with torch.no_grad():\n",
    "\n",
    "        outputs = model(tokens_tensor, segments_tensors)\n",
    "\n",
    "        # Evaluating the model will return a different number of objects based on \n",
    "        # how it's  configured in the `from_pretrained` call earlier. In this case, \n",
    "        # becase we set `output_hidden_states = True`, the third item will be the \n",
    "        # hidden states from all layers. See the documentation for more details:\n",
    "        # https://huggingface.co/transformers/model_doc/bert.html#bertmodel\n",
    "        hidden_states = outputs[2]\n",
    "        \n",
    "    # Concatenate the tensors for all layers. We use `stack` here to\n",
    "    # create a new dimension in the tensor.\n",
    "    token_embeddings = torch.stack(hidden_states, dim=0)\n",
    "    \n",
    "    # Remove dimension 1, the \"batches\".\n",
    "    token_embeddings = torch.squeeze(token_embeddings, dim=1)\n",
    "    \n",
    "    # Swap dimensions 0 and 1.\n",
    "    token_embeddings = token_embeddings.permute(1,0,2)\n",
    "\n",
    "    # Stores the token vectors, with shape [22 x 768]\n",
    "    token_vecs_sum = []\n",
    "\n",
    "    # `token_embeddings` is a [22 x 12 x 768] tensor.\n",
    "    \n",
    "    # For each token in the sentence...\n",
    "    for token in token_embeddings:\n",
    "\n",
    "        # `token` is a [12 x 768] tensor\n",
    "\n",
    "        # Sum the vectors from the last four layers.\n",
    "        sum_vec = torch.sum(token[-4:], dim=0)\n",
    "    \n",
    "        # Use `sum_vec` to represent `token`.\n",
    "        token_vecs_sum.append(sum_vec)\n",
    "    \n",
    "    word_ids = []\n",
    "\n",
    "    for i in range(len(tokenized_text)):\n",
    "        if (tokenized_text[i] in words_to_embed.lower()):\n",
    "            word_ids.append(i)\n",
    "    \n",
    "    words_embs = {}\n",
    "\n",
    "    for i in range(len(word_ids)):\n",
    "        words_embs[words_to_embed.lower().split()[i]] = token_vecs_sum[word_ids[i]]\n",
    "    \n",
    "    table_embedding = pd.DataFrame()\n",
    "    for word in words_to_embed.lower().split():\n",
    "        table_embedding = table_embedding.append(pd.Series(words_embs[word]),ignore_index=True)\n",
    "\n",
    "    table_embedding.index = words_to_embed.lower().split()\n",
    "    \n",
    "    return table_embedding"
   ]
  },
  {
   "cell_type": "markdown",
   "metadata": {},
   "source": [
    "## 1.3 Решить задачу аналогии методом 3CosAdd"
   ]
  },
  {
   "cell_type": "code",
   "execution_count": 23,
   "metadata": {},
   "outputs": [
    {
     "name": "stdout",
     "output_type": "stream",
     "text": [
      "time: 16 ms (started: 2021-05-20 01:11:05 +03:00)\n"
     ]
    }
   ],
   "source": [
    "def solve_analogy_3CosAdd(words_to_embed, words_embeddings):\n",
    "    \n",
    "    index_list = np.arange(0,len(words_to_embed.split()))\n",
    "    evensList = [x for x in index_list if x % 2 == 0]\n",
    "    index_list =  np.arange(0,len(evensList))\n",
    "    \n",
    "    word_1 = [words_to_embed.lower().split()[i] for i in evensList]\n",
    "    word_2 = [words_to_embed.lower().split()[i+1] for i in evensList]\n",
    "    \n",
    "    N_tasks = 0\n",
    "    N_correct = 0\n",
    "    \n",
    "    for word_1_index in range(len(word_1)):\n",
    "    \n",
    "        #print('Looking for ', word_1[word_1_index])\n",
    "    \n",
    "        for pair_id in index_list:\n",
    "            \n",
    "            argmax = 0\n",
    "            i_max = 0\n",
    "            \n",
    "            for word_vector in words_to_embed.lower().split():\n",
    "            \n",
    "                vecs_to_exclude = [word_2[word_1_index], word_1[pair_id], word_2[pair_id]]\n",
    "                #print(vecs_to_exclude)\n",
    "                #print(word_vector)\n",
    "            \n",
    "                #print(capital_id, pair_id)\n",
    "                if ((word_vector not in vecs_to_exclude) & (word_1_index != pair_id)):\n",
    "                \n",
    "                    res = 1 - cosine(words_embeddings.loc[word_vector], (words_embeddings.loc[word_1[pair_id]] - words_embeddings.loc[word_2[pair_id]] + words_embeddings.loc[word_2[word_1_index]]))\n",
    "                \n",
    "                    #print(capitals[pair_id], '-', countries[pair_id], '+', countries[capital_id])\n",
    "                    #print(res)\n",
    "                    if (res > argmax):\n",
    "                        argmax = res\n",
    "                        i_max = word_vector\n",
    "            N_tasks += 1\n",
    "            \n",
    "            #print(argmax)\n",
    "        \n",
    "            #print(word_1[pair_id], '-', word_2[pair_id], '+', word_2[word_1_index], '=', i_max)\n",
    "        \n",
    "        \n",
    "            if (i_max == word_1[word_1_index]):\n",
    "                N_correct += 1\n",
    "        #print('')\n",
    "\n",
    "    print('Accuracy score =', N_correct/N_tasks)\n",
    "    print(N_correct)\n",
    "    print(N_tasks)\n",
    "    \n",
    "    score = N_correct/N_tasks\n",
    "    \n",
    "    return score"
   ]
  },
  {
   "cell_type": "markdown",
   "metadata": {},
   "source": [
    "## 1.4 Решить задачу аналогии методом 3CosAvg"
   ]
  },
  {
   "cell_type": "code",
   "execution_count": 254,
   "metadata": {},
   "outputs": [
    {
     "name": "stdout",
     "output_type": "stream",
     "text": [
      "time: 16 ms (started: 2021-05-20 16:04:05 +03:00)\n"
     ]
    }
   ],
   "source": [
    "def solve_analogy_3CosAvg(words_to_embed, words_embeddings):\n",
    "    \n",
    "    index_list = np.arange(0,len(words_to_embed.split()))\n",
    "    evensList = [x for x in index_list if x % 2 == 0]\n",
    "    index_list =  np.arange(0,len(evensList))\n",
    "    \n",
    "    word_1 = [words_to_embed.lower().split()[i] for i in evensList]\n",
    "    word_2 = [words_to_embed.lower().split()[i+1] for i in evensList]\n",
    "    \n",
    "    N_tasks = 0\n",
    "    N_correct = 0\n",
    "    \n",
    "    v_1 = 0\n",
    "    v_2 = 0\n",
    "\n",
    "    for pair_id in index_list:\n",
    "        v_1 += words_embeddings.loc[word_1[pair_id]]\n",
    "        v_2 += words_embeddings.loc[word_2[pair_id]]\n",
    "\n",
    "    d = (v_1 - v_2)/len(index_list)\n",
    "    \n",
    "    N_tasks = 0\n",
    "    N_correct = 0\n",
    "\n",
    "    for word_2_index in range(len(word_2)):\n",
    "        #print('looking for ', word_1[word_2_index])\n",
    "        \n",
    "        argmax = 0\n",
    "        i_max = 0\n",
    "        \n",
    "        for word_vector in words_to_embed.lower().split():\n",
    "            \n",
    "            vecs_to_exclude = [word_2[word_2_index]]\n",
    "            \n",
    "            if (word_vector not in vecs_to_exclude):\n",
    "                \n",
    "                res = 1 - cosine(words_embeddings.loc[word_vector], (words_embeddings.loc[word_2[word_2_index]] + d))\n",
    "                \n",
    "                if (res > argmax):\n",
    "                    argmax = res\n",
    "                    i_max = word_vector\n",
    "            \n",
    "            \n",
    "        #print(word_2[word_2_index], '- d = ', i_max)\n",
    "        N_tasks +=1\n",
    "    \n",
    "        if (i_max == word_1[word_2_index]):\n",
    "            N_correct += 1\n",
    "    \n",
    "    print('Accuracy score =', N_correct/N_tasks)\n",
    "    print(N_correct)\n",
    "    print(N_tasks)\n",
    "    \n",
    "    score = N_correct/N_tasks\n",
    "    \n",
    "    return score"
   ]
  },
  {
   "cell_type": "code",
   "execution_count": null,
   "metadata": {},
   "outputs": [],
   "source": []
  },
  {
   "cell_type": "markdown",
   "metadata": {},
   "source": [
    "# 2. Решим задачи аналогий"
   ]
  },
  {
   "cell_type": "markdown",
   "metadata": {},
   "source": [
    "## 2.1 Модель RuBERT"
   ]
  },
  {
   "cell_type": "code",
   "execution_count": 5,
   "metadata": {},
   "outputs": [
    {
     "name": "stdout",
     "output_type": "stream",
     "text": [
      "time: 8.84 s (started: 2021-05-19 23:51:58 +03:00)\n"
     ]
    }
   ],
   "source": [
    "tokenizer = AutoTokenizer.from_pretrained(\"DeepPavlov/rubert-base-cased\")\n",
    "\n",
    "model = AutoModel.from_pretrained(\"DeepPavlov/rubert-base-cased\",output_hidden_states = True)"
   ]
  },
  {
   "cell_type": "markdown",
   "metadata": {},
   "source": [
    "### 2.1.1 Прилагательные - антонимы с приставкой не-"
   ]
  },
  {
   "cell_type": "code",
   "execution_count": 255,
   "metadata": {},
   "outputs": [
    {
     "data": {
      "text/plain": [
       "'приемлемыи неприемлемыи простои непростои определенныи неопределенныи ясныи неясныи удобныи неудобныи конкурентноспособныи неконкурентноспособныи последовательныи непоследовательныи убедительныи неубедительныи решенныи нерешенныи эффективныи неэффективныи этичныи неэтичныи удачныи неудачныи честныи нечестныи уместныи неуместныи информативныи неинформативныи осведомленныи неосведомленныи известныи неизвестныи вероятныи невероятныи логичныи нелогичныи приятныи неприятныи возможныи невозможныи продуктивныи непродуктивныи рациональныи иррациональныи разумныи неразумныи ответственныи безответственныи уверенныи неуверенныи благодарныи неблагодарныи'"
      ]
     },
     "execution_count": 255,
     "metadata": {},
     "output_type": "execute_result"
    },
    {
     "name": "stdout",
     "output_type": "stream",
     "text": [
      "time: 31 ms (started: 2021-05-20 16:04:41 +03:00)\n"
     ]
    }
   ],
   "source": [
    "file1 = 'C:\\\\Users\\\\Asus\\\\Data analysis\\\\Учеба\\\\ДИПЛОМ\\\\Analogies\\\\Small\\\\adj-NOTadj.txt'\n",
    "\n",
    "analogy_1 = get_analogy_words(file1)\n",
    "\n",
    "analogy_1"
   ]
  },
  {
   "cell_type": "code",
   "execution_count": 256,
   "metadata": {},
   "outputs": [
    {
     "name": "stdout",
     "output_type": "stream",
     "text": [
      "time: 1min (started: 2021-05-20 16:04:42 +03:00)\n"
     ]
    }
   ],
   "source": [
    "analogy_1_embeddings = get_embeddings(tokenizer,model,analogy_1)"
   ]
  },
  {
   "cell_type": "code",
   "execution_count": 31,
   "metadata": {},
   "outputs": [
    {
     "name": "stdout",
     "output_type": "stream",
     "text": [
      "Accuracy score = 0.654320987654321\n",
      "477\n",
      "729\n",
      "time: 30.9 s (started: 2021-05-20 01:17:17 +03:00)\n"
     ]
    }
   ],
   "source": [
    "analogy_1_score = solve_analogy_3CosAdd(analogy_1,analogy_1_embeddings)"
   ]
  },
  {
   "cell_type": "code",
   "execution_count": 257,
   "metadata": {},
   "outputs": [
    {
     "name": "stdout",
     "output_type": "stream",
     "text": [
      "Accuracy score = 0.8148148148148148\n",
      "22\n",
      "27\n",
      "time: 703 ms (started: 2021-05-20 16:05:47 +03:00)\n"
     ]
    }
   ],
   "source": [
    "analogy_1_score_3CosAvg = solve_analogy_3CosAvg(analogy_1,analogy_1_embeddings)"
   ]
  },
  {
   "cell_type": "markdown",
   "metadata": {},
   "source": [
    "### 2.1.2 Страна - прилагательное"
   ]
  },
  {
   "cell_type": "code",
   "execution_count": 32,
   "metadata": {},
   "outputs": [
    {
     "data": {
      "text/plain": [
       "'албания албанский аргентина аргентинский австралия австралийский австрия австрийский беларусь белорусский бразилия бразильский болгария болгарский камбоджа камбоджийский чили чилийский китай китайский колумбия колумбийский хорватия хорватский дания датский египет египетский англия английский франция французский германия немецкий греция греческий исландия исландский индия индийский ирландия ирландский израиль израильский италия итальянский япония японский корея корейский македония македонский мальта мальтийский мексика мексиканский молдова молдавский нидерланды голландский норвегия норвежский перу перуанский польша польский португалия португальский россия русский словакия словацкий испания испанский швеция шведский швейцария швейцарский таиланд тайский украина украинский'"
      ]
     },
     "execution_count": 32,
     "metadata": {},
     "output_type": "execute_result"
    },
    {
     "name": "stdout",
     "output_type": "stream",
     "text": [
      "time: 16 ms (started: 2021-05-20 01:17:58 +03:00)\n"
     ]
    }
   ],
   "source": [
    "file2 = 'C:\\\\Users\\\\Asus\\\\Data analysis\\\\Учеба\\\\ДИПЛОМ\\\\Analogies\\\\Small\\\\country-adjective.txt'\n",
    "\n",
    "analogy_2 = get_analogy_words(file2)\n",
    "\n",
    "analogy_2"
   ]
  },
  {
   "cell_type": "code",
   "execution_count": 259,
   "metadata": {},
   "outputs": [
    {
     "name": "stdout",
     "output_type": "stream",
     "text": [
      "time: 2.31 s (started: 2021-05-20 16:14:36 +03:00)\n"
     ]
    }
   ],
   "source": [
    "analogy_2_embeddings = get_embeddings(tokenizer,model,analogy_2)"
   ]
  },
  {
   "cell_type": "code",
   "execution_count": 34,
   "metadata": {},
   "outputs": [
    {
     "name": "stdout",
     "output_type": "stream",
     "text": [
      "Accuracy score = 0.7638310529446758\n",
      "1284\n",
      "1681\n",
      "time: 1min 51s (started: 2021-05-20 01:18:01 +03:00)\n"
     ]
    }
   ],
   "source": [
    "analogy_2_score = solve_analogy_3CosAdd(analogy_2,analogy_2_embeddings)"
   ]
  },
  {
   "cell_type": "code",
   "execution_count": 260,
   "metadata": {},
   "outputs": [
    {
     "name": "stdout",
     "output_type": "stream",
     "text": [
      "Accuracy score = 0.8292682926829268\n",
      "34\n",
      "41\n",
      "time: 1.75 s (started: 2021-05-20 16:14:42 +03:00)\n"
     ]
    }
   ],
   "source": [
    "analogy_2_score_3CosAvg = solve_analogy_3CosAvg(analogy_2,analogy_2_embeddings)"
   ]
  },
  {
   "cell_type": "markdown",
   "metadata": {},
   "source": [
    "### 2.1.3 Страна - язык"
   ]
  },
  {
   "cell_type": "code",
   "execution_count": 35,
   "metadata": {},
   "outputs": [
    {
     "data": {
      "text/plain": [
       "'андорра каталанский аргентина испанский австралия английский австрия немецкий багамы бангладеш бенгальский барбадос белиз боливия бразилия португальский камбоджа кхмерский канада чили колумбия куба кипр греческий дания датский египет арабский эфиопия амхарский фиджи гваделупа французский гватемала гайана иран персидский иордания кувейт мозамбик никарагуа норвегия норвежский палестина перу сирия тайвань китайский сша венесуэла россия русский'"
      ]
     },
     "execution_count": 35,
     "metadata": {},
     "output_type": "execute_result"
    },
    {
     "name": "stdout",
     "output_type": "stream",
     "text": [
      "time: 16 ms (started: 2021-05-20 01:19:52 +03:00)\n"
     ]
    }
   ],
   "source": [
    "file3 = 'C:\\\\Users\\\\Asus\\\\Data analysis\\\\Учеба\\\\ДИПЛОМ\\\\Analogies\\\\Small\\\\country-language.txt'\n",
    "\n",
    "analogy_3 = get_analogy_words(file3)\n",
    "\n",
    "analogy_3"
   ]
  },
  {
   "cell_type": "code",
   "execution_count": 261,
   "metadata": {},
   "outputs": [
    {
     "name": "stdout",
     "output_type": "stream",
     "text": [
      "time: 969 ms (started: 2021-05-20 16:15:28 +03:00)\n"
     ]
    }
   ],
   "source": [
    "analogy_3_embeddings = get_embeddings(tokenizer,model,analogy_3)"
   ]
  },
  {
   "cell_type": "code",
   "execution_count": 37,
   "metadata": {},
   "outputs": [
    {
     "name": "stdout",
     "output_type": "stream",
     "text": [
      "Accuracy score = 0.19822485207100593\n",
      "134\n",
      "676\n",
      "time: 27.3 s (started: 2021-05-20 01:19:53 +03:00)\n"
     ]
    }
   ],
   "source": [
    "analogy_3_score = solve_analogy_3CosAdd(analogy_3,analogy_3_embeddings)"
   ]
  },
  {
   "cell_type": "code",
   "execution_count": 262,
   "metadata": {},
   "outputs": [
    {
     "name": "stdout",
     "output_type": "stream",
     "text": [
      "Accuracy score = 0.3076923076923077\n",
      "8\n",
      "26\n",
      "time: 672 ms (started: 2021-05-20 16:15:30 +03:00)\n"
     ]
    }
   ],
   "source": [
    "analogy_3_score_3CosAvg = solve_analogy_3CosAvg(analogy_3,analogy_3_embeddings)"
   ]
  },
  {
   "cell_type": "markdown",
   "metadata": {},
   "source": [
    "### 2.1.4 Страна - валюта"
   ]
  },
  {
   "cell_type": "code",
   "execution_count": 64,
   "metadata": {},
   "outputs": [
    {
     "data": {
      "text/plain": [
       "'алжир динар ангола кванза аргентина песо армения драм бразилия реал болгария лев камбоджа риель канада доллар хорватия куна дания крона европа евро венгрия форинт индия рупия иран риал япония иена корея вона латвия лат литва лит македония денар малаизия ринггит мексика нигерия наира польша злотыи румыния леи россия рубль швеция таиланд бат украина гривна сша вьетнам донг'"
      ]
     },
     "execution_count": 64,
     "metadata": {},
     "output_type": "execute_result"
    },
    {
     "name": "stdout",
     "output_type": "stream",
     "text": [
      "time: 0 ns (started: 2021-05-20 01:40:49 +03:00)\n"
     ]
    }
   ],
   "source": [
    "file4 = 'C:\\\\Users\\\\Asus\\\\Data analysis\\\\Учеба\\\\ДИПЛОМ\\\\Analogies\\\\Small\\\\country-money.txt'\n",
    "\n",
    "analogy_4 = get_analogy_words(file4)\n",
    "\n",
    "analogy_4"
   ]
  },
  {
   "cell_type": "code",
   "execution_count": 65,
   "metadata": {},
   "outputs": [
    {
     "name": "stdout",
     "output_type": "stream",
     "text": [
      "time: 16 ms (started: 2021-05-20 01:40:53 +03:00)\n"
     ]
    }
   ],
   "source": [
    "analogy_4 = analogy_4.replace('сша','')\n",
    "analogy_4 = analogy_4.replace('мексика','')\n",
    "analogy_4 = analogy_4.replace('швеция','')"
   ]
  },
  {
   "cell_type": "code",
   "execution_count": 263,
   "metadata": {
    "scrolled": true
   },
   "outputs": [
    {
     "name": "stdout",
     "output_type": "stream",
     "text": [
      "time: 735 ms (started: 2021-05-20 16:15:53 +03:00)\n"
     ]
    }
   ],
   "source": [
    "analogy_4_embeddings = get_embeddings(tokenizer,model,analogy_4)"
   ]
  },
  {
   "cell_type": "code",
   "execution_count": 69,
   "metadata": {},
   "outputs": [
    {
     "name": "stdout",
     "output_type": "stream",
     "text": [
      "Accuracy score = 0.3319615912208505\n",
      "242\n",
      "729\n",
      "time: 30.3 s (started: 2021-05-20 01:41:23 +03:00)\n"
     ]
    }
   ],
   "source": [
    "analogy_4_score = solve_analogy_3CosAdd(analogy_4,analogy_4_embeddings)"
   ]
  },
  {
   "cell_type": "code",
   "execution_count": 264,
   "metadata": {},
   "outputs": [
    {
     "name": "stdout",
     "output_type": "stream",
     "text": [
      "Accuracy score = 0.4444444444444444\n",
      "12\n",
      "27\n",
      "time: 688 ms (started: 2021-05-20 16:15:55 +03:00)\n"
     ]
    }
   ],
   "source": [
    "analogy_4_score_3CosAvg = solve_analogy_3CosAvg(analogy_4,analogy_4_embeddings)"
   ]
  },
  {
   "cell_type": "markdown",
   "metadata": {},
   "source": [
    "### 2.1.5 Сущ. единственное число - множественное число"
   ]
  },
  {
   "cell_type": "code",
   "execution_count": 76,
   "metadata": {},
   "outputs": [
    {
     "data": {
      "text/plain": [
       "'улыбка улыбки число числа завод заводы ящик ящики дисковод дисководы период периоды день дни песня песни вебсаит вебсаиты бог боги принцип принципы автомобиль автомобили правительство правительства бумага бумаги препарат препараты эксперт эксперты факт факты дорога дороги событие события офис офисы наука науки альбом альбомы задача задачи игрок игроки контакт контакты штат штаты плакат плакаты государство государства нагреватель нагреватели кружка кружки вещь вещи сезон сезоны друг друзья ягодица ягодицы налог налоги студент студенты система системы книга книги рыба рыбы операция операции ночь ночи понятие понятия запас запасы желание желания билет билеты приказ приказы коллега коллеги артист артисты преступление преступления покупатель покупатели закон законы популяция популяции пользователь пользователи жертва жертвы инженер инженеры версия версии мольберт мольберты пример примеры механизм механизмы цена цены язык языки академия академии водоем водоемы предмет предметы неделя недели смерть смерти год годы час часы роль роли список списки улица улицы месяц месяцы гость гости дерево деревья область области департамент департаменты отличие отличия источник источники деревня деревни город города площадь площади решение решения река реки лицо лица враг враги территория территории средство средства сцена сцены технология технологии специалист специалисты угол углы звук звуки идея идеи запись записи товар товары рука руки нога ноги синдром синдромы начальник начальники участник участники'"
      ]
     },
     "execution_count": 76,
     "metadata": {},
     "output_type": "execute_result"
    },
    {
     "name": "stdout",
     "output_type": "stream",
     "text": [
      "time: 94 ms (started: 2021-05-20 01:45:05 +03:00)\n"
     ]
    }
   ],
   "source": [
    "file5 = 'C:\\\\Users\\\\Asus\\\\Data analysis\\\\Учеба\\\\ДИПЛОМ\\\\Analogies\\\\Small\\\\singular-plural.txt'\n",
    "\n",
    "analogy_5 = get_analogy_words(file5)\n",
    "\n",
    "analogy_5"
   ]
  },
  {
   "cell_type": "code",
   "execution_count": 265,
   "metadata": {
    "scrolled": true
   },
   "outputs": [
    {
     "name": "stdout",
     "output_type": "stream",
     "text": [
      "time: 1.89 s (started: 2021-05-20 16:16:16 +03:00)\n"
     ]
    }
   ],
   "source": [
    "analogy_5_embeddings = get_embeddings(tokenizer,model,analogy_5)"
   ]
  },
  {
   "cell_type": "code",
   "execution_count": 78,
   "metadata": {},
   "outputs": [
    {
     "name": "stdout",
     "output_type": "stream",
     "text": [
      "Accuracy score = 0.9724\n",
      "9724\n",
      "10000\n",
      "time: 26min 52s (started: 2021-05-20 01:45:06 +03:00)\n"
     ]
    }
   ],
   "source": [
    "analogy_5_score = solve_analogy_3CosAdd(analogy_5,analogy_5_embeddings)"
   ]
  },
  {
   "cell_type": "code",
   "execution_count": 266,
   "metadata": {},
   "outputs": [
    {
     "name": "stdout",
     "output_type": "stream",
     "text": [
      "Accuracy score = 0.99\n",
      "99\n",
      "100\n",
      "time: 10.1 s (started: 2021-05-20 16:16:20 +03:00)\n"
     ]
    }
   ],
   "source": [
    "analogy_5_score_3CosAvg = solve_analogy_3CosAvg(analogy_5,analogy_5_embeddings)"
   ]
  },
  {
   "cell_type": "markdown",
   "metadata": {},
   "source": [
    "### 2.1.6 Глагол - существительное с -тель"
   ]
  },
  {
   "cell_type": "code",
   "execution_count": 79,
   "metadata": {},
   "outputs": [
    {
     "data": {
      "text/plain": [
       "'исследовать исследователь слушать слушатель водить водитель нанимать наниматель крушить крушитель мучить мучитель грабить грабитель спасать спасатель карать каратель читать читатель строить строитель искать искатель мыслить мыслитель угнетать угнетатель почитать почитатель заклинать заклинатель предпринимать предприниматель получать получатель отправлять отправитель истязать истязатель держать держатель воздыхать воздыхатель учить учитель вершить вершитель глотать глотатель разжигать разжигатель воспевать воспеватель потакать потакатель писать писатель деять деятель созидать созидатель преподавать преподаватель покрывать покрыватель душить душитель ваять ваятель кормить кормитель служить служитель открывать открыватель надзирать надзиратель следовать следователь владеть владетель добывать добыватель вымогать вымогатель завещать завещатель изобретать изобретатель крестить креститель носить носитель содержать содержатель копать копатель обитать обитатель обладать обладатель поджигать поджигатель покупать покупатель преследовать преследователь избирать избиратель хранить хранитель'"
      ]
     },
     "execution_count": 79,
     "metadata": {},
     "output_type": "execute_result"
    },
    {
     "name": "stdout",
     "output_type": "stream",
     "text": [
      "time: 31 ms (started: 2021-05-20 02:11:59 +03:00)\n"
     ]
    }
   ],
   "source": [
    "file6 = 'C:\\\\Users\\\\Asus\\\\Data analysis\\\\Учеба\\\\ДИПЛОМ\\\\Analogies\\\\Small\\\\verb-noun.txt'\n",
    "\n",
    "analogy_6 = get_analogy_words(file6)\n",
    "\n",
    "analogy_6"
   ]
  },
  {
   "cell_type": "code",
   "execution_count": 267,
   "metadata": {
    "scrolled": true
   },
   "outputs": [
    {
     "name": "stdout",
     "output_type": "stream",
     "text": [
      "time: 1.86 s (started: 2021-05-20 16:17:09 +03:00)\n"
     ]
    }
   ],
   "source": [
    "analogy_6_embeddings = get_embeddings(tokenizer,model,analogy_6)"
   ]
  },
  {
   "cell_type": "code",
   "execution_count": 81,
   "metadata": {},
   "outputs": [
    {
     "name": "stdout",
     "output_type": "stream",
     "text": [
      "Accuracy score = 0.7767857142857143\n",
      "2436\n",
      "3136\n",
      "time: 4min 34s (started: 2021-05-20 02:12:00 +03:00)\n"
     ]
    }
   ],
   "source": [
    "analogy_6_score = solve_analogy_3CosAdd(analogy_6,analogy_6_embeddings)"
   ]
  },
  {
   "cell_type": "code",
   "execution_count": 268,
   "metadata": {},
   "outputs": [
    {
     "name": "stdout",
     "output_type": "stream",
     "text": [
      "Accuracy score = 0.9464285714285714\n",
      "53\n",
      "56\n",
      "time: 3.42 s (started: 2021-05-20 16:17:11 +03:00)\n"
     ]
    }
   ],
   "source": [
    "analogy_6_score_3CosAvg = solve_analogy_3CosAvg(analogy_6,analogy_6_embeddings)"
   ]
  },
  {
   "cell_type": "markdown",
   "metadata": {},
   "source": [
    "### 2.1.7 Глагол - существительное с -ение"
   ]
  },
  {
   "cell_type": "code",
   "execution_count": 82,
   "metadata": {},
   "outputs": [
    {
     "data": {
      "text/plain": [
       "'обвинять обвинение восхищать восхищение утверждать утверждение вычислять вычисление продолжить продолжение объявлять объявление лишать лишение наблюдать наблюдение вдохновлять вдохновление освещать освещение воображать воображение определять определение восстановить восстановление истекать истечение приложить приложение истреблять истребление возбуждать возбуждение выступать выступление гореть горение дозволять дозволение достигать достижение завершать завершение задымлять задымление засорять засорение изготовлять изготовление измельчать измельчение крушить крушение лечить лечение назначать назначение ознакомлять ознакомление осведомлять осведомление очищать очищение повреждать повреждение повышать повышение пополнять пополнение поручать поручение поселять поселение посещать посещение потрясать потрясение предвкушать предвкушение представлять представление преуменьшать преуменьшение примирять примирение разрушать разрушение располагать расположение рассуждать рассуждение свергать свержение сооружать сооружение сотрясать сотрясение стареть старение удалять удаление удобрять удобрение укреплять укрепление упрощать упрощение устранять устранение'"
      ]
     },
     "execution_count": 82,
     "metadata": {},
     "output_type": "execute_result"
    },
    {
     "name": "stdout",
     "output_type": "stream",
     "text": [
      "time: 47 ms (started: 2021-05-20 02:16:34 +03:00)\n"
     ]
    }
   ],
   "source": [
    "file7 = 'C:\\\\Users\\\\Asus\\\\Data analysis\\\\Учеба\\\\ДИПЛОМ\\\\Analogies\\\\Small\\\\verb-noun_3.txt'\n",
    "\n",
    "analogy_7 = get_analogy_words(file7)\n",
    "\n",
    "analogy_7"
   ]
  },
  {
   "cell_type": "code",
   "execution_count": 269,
   "metadata": {
    "scrolled": true
   },
   "outputs": [
    {
     "name": "stdout",
     "output_type": "stream",
     "text": [
      "time: 1.77 s (started: 2021-05-20 16:17:28 +03:00)\n"
     ]
    }
   ],
   "source": [
    "analogy_7_embeddings = get_embeddings(tokenizer,model,analogy_7)"
   ]
  },
  {
   "cell_type": "code",
   "execution_count": 84,
   "metadata": {},
   "outputs": [
    {
     "name": "stdout",
     "output_type": "stream",
     "text": [
      "Accuracy score = 0.8105785123966942\n",
      "2452\n",
      "3025\n",
      "time: 4min 32s (started: 2021-05-20 02:16:35 +03:00)\n"
     ]
    }
   ],
   "source": [
    "analogy_7_score = solve_analogy_3CosAdd(analogy_7,analogy_7_embeddings)"
   ]
  },
  {
   "cell_type": "code",
   "execution_count": 270,
   "metadata": {},
   "outputs": [
    {
     "name": "stdout",
     "output_type": "stream",
     "text": [
      "Accuracy score = 0.9818181818181818\n",
      "54\n",
      "55\n",
      "time: 3.28 s (started: 2021-05-20 16:17:30 +03:00)\n"
     ]
    }
   ],
   "source": [
    "analogy_7_score_3CosAvg = solve_analogy_3CosAvg(analogy_7,analogy_7_embeddings)"
   ]
  },
  {
   "cell_type": "markdown",
   "metadata": {},
   "source": [
    "### 2.1.8 Глагол - существительное с -ация"
   ]
  },
  {
   "cell_type": "code",
   "execution_count": 85,
   "metadata": {},
   "outputs": [
    {
     "data": {
      "text/plain": [
       "'колонизировать колонизация компилировать компиляция конфигурировать конфигурация консультировать консультация персонализировать персонализация глобализировать глобализация импровизировать импровизация максимизировать маскимизация минимизировать минимизация модернизировать модернизация оптимизировать оптимизация организовывать организация приватизировать приватизация рандомизировать рандомизация стабилизировать стабилизация стандартизировать стандартизация утилизировать утилизация визуализировать визуализация декларировать декларация монетизировать монетизация аппроксимировать аппроксимация интегрировать интеграция концентрировать концентрация урбанизировать урбанизация автоматизировать автоматизация авторизировать авторизация агитировать агитация адаптировать адаптация актуализировать актуализация ассоциировать ассоциация гиперболизировать гиперболизация деградировать деградация дегустировать дегустация дезинформировать дезинформация дезориентировать дезориентация декорировать декорация индексировать индексация иллюстрировать иллюстрация иммигрировать иммиграция идентифицировать идентификация конфисковать конфискация компрометировать компроментация комплектовать комплектация капитализировать капитализация канонизировать канонизация ориентировать ориентация оперировать операция нумеровать нумерация нормализовать нормализация мутировать мутация мотивировать мотивация модифицировать модификация мигрировать миграция медитировать медитация регламентировать регламентация'"
      ]
     },
     "execution_count": 85,
     "metadata": {},
     "output_type": "execute_result"
    },
    {
     "name": "stdout",
     "output_type": "stream",
     "text": [
      "time: 31 ms (started: 2021-05-20 02:21:07 +03:00)\n"
     ]
    }
   ],
   "source": [
    "file8 = 'C:\\\\Users\\\\Asus\\\\Data analysis\\\\Учеба\\\\ДИПЛОМ\\\\Analogies\\\\Small\\\\verb_noun_2.txt'\n",
    "\n",
    "analogy_8 = get_analogy_words(file8)\n",
    "\n",
    "analogy_8"
   ]
  },
  {
   "cell_type": "code",
   "execution_count": 271,
   "metadata": {
    "scrolled": true
   },
   "outputs": [
    {
     "name": "stdout",
     "output_type": "stream",
     "text": [
      "time: 1.69 s (started: 2021-05-20 16:17:48 +03:00)\n"
     ]
    }
   ],
   "source": [
    "analogy_8_embeddings = get_embeddings(tokenizer,model,analogy_8)"
   ]
  },
  {
   "cell_type": "code",
   "execution_count": 87,
   "metadata": {},
   "outputs": [
    {
     "name": "stdout",
     "output_type": "stream",
     "text": [
      "Accuracy score = 0.6882644628099174\n",
      "2082\n",
      "3025\n",
      "time: 4min 33s (started: 2021-05-20 02:21:08 +03:00)\n"
     ]
    }
   ],
   "source": [
    "analogy_8_score = solve_analogy_3CosAdd(analogy_8,analogy_8_embeddings)"
   ]
  },
  {
   "cell_type": "code",
   "execution_count": 272,
   "metadata": {},
   "outputs": [
    {
     "name": "stdout",
     "output_type": "stream",
     "text": [
      "Accuracy score = 0.8\n",
      "44\n",
      "55\n",
      "time: 3.27 s (started: 2021-05-20 16:17:51 +03:00)\n"
     ]
    }
   ],
   "source": [
    "analogy_8_score_3CosAvg = solve_analogy_3CosAvg(analogy_8,analogy_8_embeddings)"
   ]
  },
  {
   "cell_type": "markdown",
   "metadata": {},
   "source": [
    "### 2.1.9 Мужской род - женский род"
   ]
  },
  {
   "cell_type": "code",
   "execution_count": 88,
   "metadata": {},
   "outputs": [
    {
     "data": {
      "text/plain": [
       "'актер актриса мальчик девочка брат сестра бык корова бизнесмен бизнесвумен председатель председательница папа мама герцог герцогиня император императрица лис лисица бог богиня дедушка бабушка внук внучка жених невеста руководитель руководительница наследник наследница герои героиня муж жена король королева лев львица мужчина женщина директор директриса племянник племянница поэт поэтесса полицеискии полицеиская принц принцесса баран овца петух курица сын дочь жеребец кобыла тигр тигрица дядя тетя официант официантка вор воровка конь лошадь юноша девушка старик старуха супруг супруга красавец красавица певец певица тесть теща отчим мачеха работник работница школьник школьница виновник виновница учитель учительница писатель писательница ткач ткачиха артист артистка студент студентка чемпион чемпионка колдун колдунья журналист журналистка тракторист трактористка разведчик разведчица воспитатель воспитательница гимнаст гимнастка рекордсмен рекордсменка теннисист теннисистка бегун бегунья волк волчица продавец продавщица кот кошка барон баронесса библиотекарь библиотекарша секретарь секретарша гусь гусыня'"
      ]
     },
     "execution_count": 88,
     "metadata": {},
     "output_type": "execute_result"
    },
    {
     "name": "stdout",
     "output_type": "stream",
     "text": [
      "time: 31 ms (started: 2021-05-20 02:25:41 +03:00)\n"
     ]
    }
   ],
   "source": [
    "file9 = 'C:\\\\Users\\\\Asus\\\\Data analysis\\\\Учеба\\\\ДИПЛОМ\\\\Analogies\\\\Small\\\\мужской род - женский род.txt'\n",
    "\n",
    "analogy_9 = get_analogy_words(file9)\n",
    "\n",
    "analogy_9"
   ]
  },
  {
   "cell_type": "code",
   "execution_count": 273,
   "metadata": {
    "scrolled": true
   },
   "outputs": [
    {
     "name": "stdout",
     "output_type": "stream",
     "text": [
      "time: 1.36 s (started: 2021-05-20 16:18:08 +03:00)\n"
     ]
    }
   ],
   "source": [
    "analogy_9_embeddings = get_embeddings(tokenizer,model,analogy_9)"
   ]
  },
  {
   "cell_type": "code",
   "execution_count": 90,
   "metadata": {},
   "outputs": [
    {
     "name": "stdout",
     "output_type": "stream",
     "text": [
      "Accuracy score = 0.890844286032524\n",
      "3999\n",
      "4489\n",
      "time: 8min 4s (started: 2021-05-20 02:25:42 +03:00)\n"
     ]
    }
   ],
   "source": [
    "analogy_9_score = solve_analogy_3CosAdd(analogy_9,analogy_9_embeddings)"
   ]
  },
  {
   "cell_type": "code",
   "execution_count": 274,
   "metadata": {},
   "outputs": [
    {
     "name": "stdout",
     "output_type": "stream",
     "text": [
      "Accuracy score = 0.9701492537313433\n",
      "65\n",
      "67\n",
      "time: 4.28 s (started: 2021-05-20 16:18:10 +03:00)\n"
     ]
    }
   ],
   "source": [
    "analogy_9_score_3CosAvg = solve_analogy_3CosAvg(analogy_9,analogy_9_embeddings)"
   ]
  },
  {
   "cell_type": "markdown",
   "metadata": {},
   "source": [
    "### 2.1.10 Прилагательное - наречие"
   ]
  },
  {
   "cell_type": "code",
   "execution_count": 91,
   "metadata": {},
   "outputs": [
    {
     "data": {
      "text/plain": [
       "'удивительныи удивительно очевидныи очевидно спокоиныи спокоино веселыи весело страшныи страшно эффективныи эффективно красивыи красиво свободныи свободно яростныи яростно счастливыи счастливо непосредственныи непосредственно нечастыи нечасто удачныи удачно полезныи полезно случаиныи случаино возможныи возможно точныи точно профессиональныи профессионально быстрыи быстро тихии тихо редкии редко неохотныи неохотно безопасныи безопасно серьезныи серьезно медленныи медленно внезапныи внезапно стремительныи стремительно типичныи типично несчастныи несчастно обычныи обычно'"
      ]
     },
     "execution_count": 91,
     "metadata": {},
     "output_type": "execute_result"
    },
    {
     "name": "stdout",
     "output_type": "stream",
     "text": [
      "time: 0 ns (started: 2021-05-20 02:33:46 +03:00)\n"
     ]
    }
   ],
   "source": [
    "file10 = 'C:\\\\Users\\\\Asus\\\\Data analysis\\\\Учеба\\\\ДИПЛОМ\\\\Analogies\\\\Small\\\\прилагательное-наречие_2.txt'\n",
    "\n",
    "analogy_10 = get_analogy_words(file10)\n",
    "\n",
    "analogy_10"
   ]
  },
  {
   "cell_type": "code",
   "execution_count": 275,
   "metadata": {
    "scrolled": true
   },
   "outputs": [
    {
     "name": "stdout",
     "output_type": "stream",
     "text": [
      "time: 844 ms (started: 2021-05-20 16:19:00 +03:00)\n"
     ]
    }
   ],
   "source": [
    "analogy_10_embeddings = get_embeddings(tokenizer,model,analogy_10)"
   ]
  },
  {
   "cell_type": "code",
   "execution_count": 93,
   "metadata": {},
   "outputs": [
    {
     "name": "stdout",
     "output_type": "stream",
     "text": [
      "Accuracy score = 0.42444444444444446\n",
      "382\n",
      "900\n",
      "time: 41.9 s (started: 2021-05-20 02:33:47 +03:00)\n"
     ]
    }
   ],
   "source": [
    "analogy_10_score = solve_analogy_3CosAdd(analogy_10,analogy_10_embeddings)"
   ]
  },
  {
   "cell_type": "code",
   "execution_count": 276,
   "metadata": {},
   "outputs": [
    {
     "name": "stdout",
     "output_type": "stream",
     "text": [
      "Accuracy score = 0.6333333333333333\n",
      "19\n",
      "30\n",
      "time: 906 ms (started: 2021-05-20 16:19:02 +03:00)\n"
     ]
    }
   ],
   "source": [
    "analogy_10_score_3CosAvg = solve_analogy_3CosAvg(analogy_10,analogy_10_embeddings)"
   ]
  },
  {
   "cell_type": "markdown",
   "metadata": {},
   "source": [
    "### 2.1.11 Прилагательное - сравнительная степень"
   ]
  },
  {
   "cell_type": "code",
   "execution_count": 94,
   "metadata": {},
   "outputs": [
    {
     "data": {
      "text/plain": [
       "'яркии ярче дешевыи дешевле холодныи холоднее крутои круче глубокии глубже легкии легче быстрыи быстрее тяжелыи тяжелее высокии выше жаркии жарче длинныи длиннее громкии громче низкии ниже безопасныи безопаснее острыи острее короткии короче простои проще медленныи медленнее умныи умнее сильныи сильнее крепкии крепче теплыи теплее слабыи слабее широкии шире молодои моложе'"
      ]
     },
     "execution_count": 94,
     "metadata": {},
     "output_type": "execute_result"
    },
    {
     "name": "stdout",
     "output_type": "stream",
     "text": [
      "time: 16 ms (started: 2021-05-20 02:34:29 +03:00)\n"
     ]
    }
   ],
   "source": [
    "file11 = 'C:\\\\Users\\\\Asus\\\\Data analysis\\\\Учеба\\\\ДИПЛОМ\\\\Analogies\\\\Small\\\\прилагательное-сравнительная степень.txt'\n",
    "\n",
    "analogy_11 = get_analogy_words(file11)\n",
    "\n",
    "analogy_11"
   ]
  },
  {
   "cell_type": "code",
   "execution_count": 277,
   "metadata": {
    "scrolled": true
   },
   "outputs": [
    {
     "name": "stdout",
     "output_type": "stream",
     "text": [
      "time: 891 ms (started: 2021-05-20 16:19:19 +03:00)\n"
     ]
    }
   ],
   "source": [
    "analogy_11_embeddings = get_embeddings(tokenizer,model,analogy_11)"
   ]
  },
  {
   "cell_type": "code",
   "execution_count": 96,
   "metadata": {},
   "outputs": [
    {
     "name": "stdout",
     "output_type": "stream",
     "text": [
      "Accuracy score = 0.5216\n",
      "326\n",
      "625\n",
      "time: 24.6 s (started: 2021-05-20 02:34:29 +03:00)\n"
     ]
    }
   ],
   "source": [
    "analogy_11_score = solve_analogy_3CosAdd(analogy_11,analogy_11_embeddings)"
   ]
  },
  {
   "cell_type": "code",
   "execution_count": 278,
   "metadata": {},
   "outputs": [
    {
     "name": "stdout",
     "output_type": "stream",
     "text": [
      "Accuracy score = 0.8\n",
      "20\n",
      "25\n",
      "time: 609 ms (started: 2021-05-20 16:19:22 +03:00)\n"
     ]
    }
   ],
   "source": [
    "analogy_11_score_3CosAvg = solve_analogy_3CosAvg(analogy_11,analogy_11_embeddings)"
   ]
  },
  {
   "cell_type": "markdown",
   "metadata": {},
   "source": [
    "### 2.1.12 Известная столица - страна"
   ]
  },
  {
   "cell_type": "code",
   "execution_count": 97,
   "metadata": {},
   "outputs": [
    {
     "data": {
      "text/plain": [
       "'афины греция багдад ирак бангкок таиланд пекин китаи берлин германия берн швеицария каир египет канберра австралия ханои вьетнам гавана куба хельсинки финляндия исламабад пакистан кабул афганистан лондон англия мадрид испания москва россия осло норвегия оттава канада париж франция рим италия стокгольм швеция тегеран иран токио япония'"
      ]
     },
     "execution_count": 97,
     "metadata": {},
     "output_type": "execute_result"
    },
    {
     "name": "stdout",
     "output_type": "stream",
     "text": [
      "time: 16 ms (started: 2021-05-20 02:34:54 +03:00)\n"
     ]
    }
   ],
   "source": [
    "file12 = 'C:\\\\Users\\\\Asus\\\\Data analysis\\\\Учеба\\\\ДИПЛОМ\\\\Analogies\\\\Small\\\\столица-страна.txt'\n",
    "\n",
    "analogy_12 = get_analogy_words(file12)\n",
    "\n",
    "analogy_12"
   ]
  },
  {
   "cell_type": "code",
   "execution_count": 279,
   "metadata": {},
   "outputs": [
    {
     "name": "stdout",
     "output_type": "stream",
     "text": [
      "time: 656 ms (started: 2021-05-20 16:20:27 +03:00)\n"
     ]
    }
   ],
   "source": [
    "analogy_12_embeddings = get_embeddings(tokenizer,model,analogy_12)"
   ]
  },
  {
   "cell_type": "code",
   "execution_count": 99,
   "metadata": {},
   "outputs": [
    {
     "name": "stdout",
     "output_type": "stream",
     "text": [
      "Accuracy score = 0.1285444234404537\n",
      "68\n",
      "529\n",
      "time: 18.6 s (started: 2021-05-20 02:34:54 +03:00)\n"
     ]
    }
   ],
   "source": [
    "analogy_12_score = solve_analogy_3CosAdd(analogy_12,analogy_12_embeddings)"
   ]
  },
  {
   "cell_type": "code",
   "execution_count": 280,
   "metadata": {},
   "outputs": [
    {
     "name": "stdout",
     "output_type": "stream",
     "text": [
      "Accuracy score = 0.08695652173913043\n",
      "2\n",
      "23\n",
      "time: 547 ms (started: 2021-05-20 16:20:29 +03:00)\n"
     ]
    }
   ],
   "source": [
    "analogy_12_score_3CosAvg = solve_analogy_3CosAvg(analogy_12,analogy_12_embeddings)"
   ]
  },
  {
   "cell_type": "markdown",
   "metadata": {},
   "source": [
    "### 2.1.13 Любая столица - страна"
   ]
  },
  {
   "cell_type": "code",
   "execution_count": 101,
   "metadata": {},
   "outputs": [
    {
     "data": {
      "text/plain": [
       "'абуджа нигерия аккра гана алжир амман иордания анкара турция антананариву мадагаскар апиа самоа ашхабад туркменистан асмэра эритрея астана казахстан афины греция багдад ирак баку азербаиджан бамако мали бангкок таиланд банжул гамбия пекин китаи беирут ливан белград сербия бельмопан белиз берлин германия берн швеицария бишкек кыргызстан братислава словакия брюссель бельгия бухарест румыния будапешт венгрия бужумбура бурунди каир египет канберра австралия каракас венесуэла кишинев молдова конакри гвинея копенгаген дания дакар сенегал дамаск сирия дакка бангладеш доха катар дублин ирландия душанбе таджикистан фунафути тувалу габороне ботсвана джорджтаун гаиана ханои вьетнам хараре зимбабве гавана куба хельсинки финляндия исламабад пакистан джакарта индонезия кабул афганистан кампала уганда катманду непал хартум судан киев украина кигали руанда кингстон ямаика либревиль габон лилонгве малави лима перу лиссабон португалия любляна словения лондон англия луанда ангола лусака замбия мадрид испания манагуа никарагуа манама бахреин манила филиппины мапуту мозамбик минск беларусь могадишо сомали монровия либерия монтевидео уругваи москва россия мускат оман наироби кения нассау багамски ниамеи нигер никосия кипр нуакшот мавритания нуук гренландия осло норвегия оттава канада парамарибо суринам париж франция подгорица черногория кито эквадор рабат марокко рига латвия рим италия розо доминика сантьяго чили скопье македония софия болгария стокгольм швеция сува фиджи таибэи таивань таллинн эстония ташкент узбекистан тбилиси грузия тегусигальпа гондурас тегеран иран тхимпху бутан тирана албания токио япония триполи ливия тунис вадуц лихтенштеин валлетта мальта вена австрия вьентьян лаос вильнюс литва варшава польша виндхук намибия ереван армения загреб хорватия'"
      ]
     },
     "execution_count": 101,
     "metadata": {},
     "output_type": "execute_result"
    },
    {
     "name": "stdout",
     "output_type": "stream",
     "text": [
      "time: 62 ms (started: 2021-05-20 02:35:41 +03:00)\n"
     ]
    }
   ],
   "source": [
    "file13 = 'C:\\\\Users\\\\Asus\\\\Data analysis\\\\Учеба\\\\ДИПЛОМ\\\\Analogies\\\\Small\\\\столица-страна_2.txt'\n",
    "\n",
    "analogy_13 = get_analogy_words(file13)\n",
    "\n",
    "analogy_13"
   ]
  },
  {
   "cell_type": "code",
   "execution_count": 282,
   "metadata": {},
   "outputs": [
    {
     "name": "stdout",
     "output_type": "stream",
     "text": [
      "time: 3.2 s (started: 2021-05-20 16:22:16 +03:00)\n"
     ]
    }
   ],
   "source": [
    "analogy_13_embeddings = get_embeddings(tokenizer,model,analogy_13)"
   ]
  },
  {
   "cell_type": "code",
   "execution_count": 103,
   "metadata": {},
   "outputs": [
    {
     "name": "stdout",
     "output_type": "stream",
     "text": [
      "Accuracy score = 0.04241965973534972\n",
      "561\n",
      "13225\n",
      "time: 41min 48s (started: 2021-05-20 02:35:43 +03:00)\n"
     ]
    }
   ],
   "source": [
    "analogy_13_score = solve_analogy_3CosAdd(analogy_13,analogy_13_embeddings)"
   ]
  },
  {
   "cell_type": "code",
   "execution_count": 283,
   "metadata": {},
   "outputs": [
    {
     "name": "stdout",
     "output_type": "stream",
     "text": [
      "Accuracy score = 0.043478260869565216\n",
      "5\n",
      "115\n",
      "time: 13.3 s (started: 2021-05-20 16:22:20 +03:00)\n"
     ]
    }
   ],
   "source": [
    "analogy_13_score_3CosAvg = solve_analogy_3CosAvg(analogy_13,analogy_13_embeddings)"
   ]
  },
  {
   "cell_type": "markdown",
   "metadata": {},
   "source": [
    "### Сохраним результаты по RuBERT"
   ]
  },
  {
   "cell_type": "code",
   "execution_count": 104,
   "metadata": {},
   "outputs": [
    {
     "name": "stdout",
     "output_type": "stream",
     "text": [
      "time: 0 ns (started: 2021-05-20 03:17:31 +03:00)\n"
     ]
    }
   ],
   "source": [
    "RuBERT_scores = [analogy_1_score,analogy_2_score,analogy_3_score,analogy_4_score,\n",
    "                analogy_5_score,analogy_6_score,analogy_7_score,analogy_8_score,\n",
    "                analogy_9_score,analogy_10_score,analogy_11_score,analogy_12_score,\n",
    "                analogy_13_score]"
   ]
  },
  {
   "cell_type": "code",
   "execution_count": 105,
   "metadata": {},
   "outputs": [
    {
     "data": {
      "text/plain": [
       "[0.654320987654321,\n",
       " 0.7638310529446758,\n",
       " 0.19822485207100593,\n",
       " 0.3319615912208505,\n",
       " 0.9724,\n",
       " 0.7767857142857143,\n",
       " 0.8105785123966942,\n",
       " 0.6882644628099174,\n",
       " 0.890844286032524,\n",
       " 0.42444444444444446,\n",
       " 0.5216,\n",
       " 0.1285444234404537,\n",
       " 0.04241965973534972]"
      ]
     },
     "execution_count": 105,
     "metadata": {},
     "output_type": "execute_result"
    },
    {
     "name": "stdout",
     "output_type": "stream",
     "text": [
      "time: 0 ns (started: 2021-05-20 03:17:31 +03:00)\n"
     ]
    }
   ],
   "source": [
    "RuBERT_scores"
   ]
  },
  {
   "cell_type": "code",
   "execution_count": 285,
   "metadata": {},
   "outputs": [
    {
     "name": "stdout",
     "output_type": "stream",
     "text": [
      "time: 0 ns (started: 2021-05-20 16:28:07 +03:00)\n"
     ]
    }
   ],
   "source": [
    "RuBERT_scores_3CosAvg = [analogy_1_score_3CosAvg,analogy_2_score_3CosAvg,analogy_3_score_3CosAvg,\n",
    "                         analogy_4_score_3CosAvg,analogy_5_score_3CosAvg,analogy_6_score_3CosAvg,\n",
    "                         analogy_7_score_3CosAvg,analogy_8_score_3CosAvg,analogy_9_score_3CosAvg,\n",
    "                         analogy_10_score_3CosAvg,analogy_11_score_3CosAvg,analogy_12_score_3CosAvg,\n",
    "                         analogy_13_score_3CosAvg]"
   ]
  },
  {
   "cell_type": "code",
   "execution_count": 286,
   "metadata": {},
   "outputs": [
    {
     "data": {
      "text/plain": [
       "[0.8148148148148148,\n",
       " 0.8292682926829268,\n",
       " 0.3076923076923077,\n",
       " 0.4444444444444444,\n",
       " 0.99,\n",
       " 0.9464285714285714,\n",
       " 0.9818181818181818,\n",
       " 0.8,\n",
       " 0.9701492537313433,\n",
       " 0.6333333333333333,\n",
       " 0.8,\n",
       " 0.08695652173913043,\n",
       " 0.043478260869565216]"
      ]
     },
     "execution_count": 286,
     "metadata": {},
     "output_type": "execute_result"
    },
    {
     "name": "stdout",
     "output_type": "stream",
     "text": [
      "time: 0 ns (started: 2021-05-20 16:28:09 +03:00)\n"
     ]
    }
   ],
   "source": [
    "RuBERT_scores_3CosAvg"
   ]
  },
  {
   "cell_type": "code",
   "execution_count": null,
   "metadata": {},
   "outputs": [],
   "source": []
  },
  {
   "cell_type": "code",
   "execution_count": null,
   "metadata": {},
   "outputs": [],
   "source": []
  },
  {
   "cell_type": "markdown",
   "metadata": {},
   "source": [
    "## 2.2 Модель RuBERT Sentence"
   ]
  },
  {
   "cell_type": "code",
   "execution_count": 106,
   "metadata": {},
   "outputs": [
    {
     "name": "stdout",
     "output_type": "stream",
     "text": [
      "time: 14.9 s (started: 2021-05-20 03:17:31 +03:00)\n"
     ]
    }
   ],
   "source": [
    "tokenizer_2 = AutoTokenizer.from_pretrained(\"DeepPavlov/rubert-base-cased-sentence\")\n",
    "\n",
    "model_2 = AutoModel.from_pretrained(\"DeepPavlov/rubert-base-cased-sentence\",output_hidden_states = True)"
   ]
  },
  {
   "cell_type": "markdown",
   "metadata": {},
   "source": [
    "### 2.2.1 Прилагательные - антонимы с приставкой не-"
   ]
  },
  {
   "cell_type": "code",
   "execution_count": 107,
   "metadata": {},
   "outputs": [
    {
     "data": {
      "text/plain": [
       "'приемлемыи неприемлемыи простои непростои определенныи неопределенныи ясныи неясныи удобныи неудобныи конкурентноспособныи неконкурентноспособныи последовательныи непоследовательныи убедительныи неубедительныи решенныи нерешенныи эффективныи неэффективныи этичныи неэтичныи удачныи неудачныи честныи нечестныи уместныи неуместныи информативныи неинформативныи осведомленныи неосведомленныи известныи неизвестныи вероятныи невероятныи логичныи нелогичныи приятныи неприятныи возможныи невозможныи продуктивныи непродуктивныи рациональныи иррациональныи разумныи неразумныи ответственныи безответственныи уверенныи неуверенныи благодарныи неблагодарныи'"
      ]
     },
     "execution_count": 107,
     "metadata": {},
     "output_type": "execute_result"
    },
    {
     "name": "stdout",
     "output_type": "stream",
     "text": [
      "time: 31 ms (started: 2021-05-20 03:17:46 +03:00)\n"
     ]
    }
   ],
   "source": [
    "file1 = 'C:\\\\Users\\\\Asus\\\\Data analysis\\\\Учеба\\\\ДИПЛОМ\\\\Analogies\\\\Small\\\\adj-NOTadj.txt'\n",
    "\n",
    "analogy_1 = get_analogy_words(file1)\n",
    "\n",
    "analogy_1"
   ]
  },
  {
   "cell_type": "code",
   "execution_count": 287,
   "metadata": {},
   "outputs": [
    {
     "name": "stdout",
     "output_type": "stream",
     "text": [
      "time: 19.8 s (started: 2021-05-20 16:33:14 +03:00)\n"
     ]
    }
   ],
   "source": [
    "analogy_1_embeddings = get_embeddings(tokenizer_2,model_2,analogy_1)"
   ]
  },
  {
   "cell_type": "code",
   "execution_count": 109,
   "metadata": {},
   "outputs": [
    {
     "name": "stdout",
     "output_type": "stream",
     "text": [
      "Accuracy score = 0.6611796982167353\n",
      "482\n",
      "729\n",
      "time: 29.4 s (started: 2021-05-20 03:17:48 +03:00)\n"
     ]
    }
   ],
   "source": [
    "analogy_1_score = solve_analogy_3CosAdd(analogy_1,analogy_1_embeddings)"
   ]
  },
  {
   "cell_type": "code",
   "execution_count": 288,
   "metadata": {},
   "outputs": [
    {
     "name": "stdout",
     "output_type": "stream",
     "text": [
      "Accuracy score = 0.8518518518518519\n",
      "23\n",
      "27\n",
      "time: 797 ms (started: 2021-05-20 16:33:34 +03:00)\n"
     ]
    }
   ],
   "source": [
    "analogy_1_score_3CosAvg = solve_analogy_3CosAvg(analogy_1,analogy_1_embeddings)"
   ]
  },
  {
   "cell_type": "markdown",
   "metadata": {},
   "source": [
    "### 2.2.2 Страна - прилагательное"
   ]
  },
  {
   "cell_type": "code",
   "execution_count": 110,
   "metadata": {},
   "outputs": [
    {
     "data": {
      "text/plain": [
       "'албания албанскии аргентина аргентинскии австралия австралиискии австрия австриискии беларусь белорусскии бразилия бразильскии болгария болгарскии камбоджа камбоджиискии чили чилиискии китаи китаискии колумбия колумбиискии хорватия хорватскии дания датскии египет египетскии англия англиискии франция французскии германия немецкии греция греческии исландия исландскии индия индиискии ирландия ирландскии израиль израильскии италия итальянскии япония японскии корея кореискии македония македонскии мальта мальтиискии мексика мексиканскии молдова молдавскии нидерланды голландскии норвегия норвежскии перу перуанскии польша польскии португалия португальскии россия русскии словакия словацкии испания испанскии швеция шведскии швеицария швеицарскии таиланд таискии украина украинскии'"
      ]
     },
     "execution_count": 110,
     "metadata": {},
     "output_type": "execute_result"
    },
    {
     "name": "stdout",
     "output_type": "stream",
     "text": [
      "time: 15 ms (started: 2021-05-20 03:18:18 +03:00)\n"
     ]
    }
   ],
   "source": [
    "file2 = 'C:\\\\Users\\\\Asus\\\\Data analysis\\\\Учеба\\\\ДИПЛОМ\\\\Analogies\\\\Small\\\\country-adjective.txt'\n",
    "\n",
    "analogy_2 = get_analogy_words(file2)\n",
    "\n",
    "analogy_2"
   ]
  },
  {
   "cell_type": "code",
   "execution_count": 289,
   "metadata": {},
   "outputs": [
    {
     "name": "stdout",
     "output_type": "stream",
     "text": [
      "time: 19.1 s (started: 2021-05-20 16:33:35 +03:00)\n"
     ]
    }
   ],
   "source": [
    "analogy_2_embeddings = get_embeddings(tokenizer_2,model_2,analogy_2)"
   ]
  },
  {
   "cell_type": "code",
   "execution_count": 112,
   "metadata": {},
   "outputs": [
    {
     "name": "stdout",
     "output_type": "stream",
     "text": [
      "Accuracy score = 0.8649613325401546\n",
      "1454\n",
      "1681\n",
      "time: 1min 46s (started: 2021-05-20 03:18:20 +03:00)\n"
     ]
    }
   ],
   "source": [
    "analogy_2_score = solve_analogy_3CosAdd(analogy_2,analogy_2_embeddings)"
   ]
  },
  {
   "cell_type": "code",
   "execution_count": 290,
   "metadata": {},
   "outputs": [
    {
     "name": "stdout",
     "output_type": "stream",
     "text": [
      "Accuracy score = 0.975609756097561\n",
      "40\n",
      "41\n",
      "time: 1.88 s (started: 2021-05-20 16:33:54 +03:00)\n"
     ]
    }
   ],
   "source": [
    "analogy_2_score_3CosAvg = solve_analogy_3CosAvg(analogy_2,analogy_2_embeddings)"
   ]
  },
  {
   "cell_type": "markdown",
   "metadata": {},
   "source": [
    "### 2.2.3 Страна - язык"
   ]
  },
  {
   "cell_type": "code",
   "execution_count": 113,
   "metadata": {},
   "outputs": [
    {
     "data": {
      "text/plain": [
       "'андорра каталанскии аргентина испанскии австралия англиискии австрия немецкии багамы бангладеш бенгальскии барбадос белиз боливия бразилия португальскии камбоджа кхмерскии канада чили колумбия куба кипр греческии дания датскии египет арабскии эфиопия амхарскии фиджи гваделупа французскии гватемала гаиана иран персидскии иордания кувеит мозамбик никарагуа норвегия норвежскии палестина перу сирия таивань китаискии сша венесуэла россия русскии'"
      ]
     },
     "execution_count": 113,
     "metadata": {},
     "output_type": "execute_result"
    },
    {
     "name": "stdout",
     "output_type": "stream",
     "text": [
      "time: 32 ms (started: 2021-05-20 03:20:06 +03:00)\n"
     ]
    }
   ],
   "source": [
    "file3 = 'C:\\\\Users\\\\Asus\\\\Data analysis\\\\Учеба\\\\ДИПЛОМ\\\\Analogies\\\\Small\\\\country-language.txt'\n",
    "\n",
    "analogy_3 = get_analogy_words(file3)\n",
    "\n",
    "analogy_3"
   ]
  },
  {
   "cell_type": "code",
   "execution_count": 291,
   "metadata": {},
   "outputs": [
    {
     "name": "stdout",
     "output_type": "stream",
     "text": [
      "time: 10.9 s (started: 2021-05-20 16:33:56 +03:00)\n"
     ]
    }
   ],
   "source": [
    "analogy_3_embeddings = get_embeddings(tokenizer_2,model_2,analogy_3)"
   ]
  },
  {
   "cell_type": "code",
   "execution_count": 115,
   "metadata": {},
   "outputs": [
    {
     "name": "stdout",
     "output_type": "stream",
     "text": [
      "Accuracy score = 0.28550295857988167\n",
      "193\n",
      "676\n",
      "time: 25.8 s (started: 2021-05-20 03:20:07 +03:00)\n"
     ]
    }
   ],
   "source": [
    "analogy_3_score = solve_analogy_3CosAdd(analogy_3,analogy_3_embeddings)"
   ]
  },
  {
   "cell_type": "code",
   "execution_count": 292,
   "metadata": {},
   "outputs": [
    {
     "name": "stdout",
     "output_type": "stream",
     "text": [
      "Accuracy score = 0.3076923076923077\n",
      "8\n",
      "26\n",
      "time: 797 ms (started: 2021-05-20 16:34:07 +03:00)\n"
     ]
    }
   ],
   "source": [
    "analogy_3_score_3CosAvg = solve_analogy_3CosAvg(analogy_3,analogy_3_embeddings)"
   ]
  },
  {
   "cell_type": "markdown",
   "metadata": {},
   "source": [
    "### 2.2.4 Страна - валюта"
   ]
  },
  {
   "cell_type": "code",
   "execution_count": 116,
   "metadata": {},
   "outputs": [
    {
     "data": {
      "text/plain": [
       "'алжир динар ангола кванза аргентина песо армения драм бразилия реал болгария лев камбоджа риель канада доллар хорватия куна дания крона европа евро венгрия форинт индия рупия иран риал япония иена корея вона латвия лат литва лит македония денар малаизия ринггит мексика нигерия наира польша злотыи румыния леи россия рубль швеция таиланд бат украина гривна сша вьетнам донг'"
      ]
     },
     "execution_count": 116,
     "metadata": {},
     "output_type": "execute_result"
    },
    {
     "name": "stdout",
     "output_type": "stream",
     "text": [
      "time: 62 ms (started: 2021-05-20 03:20:33 +03:00)\n"
     ]
    }
   ],
   "source": [
    "file4 = 'C:\\\\Users\\\\Asus\\\\Data analysis\\\\Учеба\\\\ДИПЛОМ\\\\Analogies\\\\Small\\\\country-money.txt'\n",
    "\n",
    "analogy_4 = get_analogy_words(file4)\n",
    "\n",
    "analogy_4"
   ]
  },
  {
   "cell_type": "code",
   "execution_count": 117,
   "metadata": {},
   "outputs": [
    {
     "name": "stdout",
     "output_type": "stream",
     "text": [
      "time: 0 ns (started: 2021-05-20 03:20:33 +03:00)\n"
     ]
    }
   ],
   "source": [
    "analogy_4 = analogy_4.replace('сша','')\n",
    "analogy_4 = analogy_4.replace('мексика','')\n",
    "analogy_4 = analogy_4.replace('швеция','')"
   ]
  },
  {
   "cell_type": "code",
   "execution_count": 293,
   "metadata": {
    "scrolled": true
   },
   "outputs": [
    {
     "name": "stdout",
     "output_type": "stream",
     "text": [
      "time: 1.31 s (started: 2021-05-20 16:34:12 +03:00)\n"
     ]
    }
   ],
   "source": [
    "analogy_4_embeddings = get_embeddings(tokenizer_2,model_2,analogy_4)"
   ]
  },
  {
   "cell_type": "code",
   "execution_count": 119,
   "metadata": {},
   "outputs": [
    {
     "name": "stdout",
     "output_type": "stream",
     "text": [
      "Accuracy score = 0.43209876543209874\n",
      "315\n",
      "729\n",
      "time: 28.8 s (started: 2021-05-20 03:20:34 +03:00)\n"
     ]
    }
   ],
   "source": [
    "analogy_4_score = solve_analogy_3CosAdd(analogy_4,analogy_4_embeddings)"
   ]
  },
  {
   "cell_type": "code",
   "execution_count": 294,
   "metadata": {},
   "outputs": [
    {
     "name": "stdout",
     "output_type": "stream",
     "text": [
      "Accuracy score = 0.5185185185185185\n",
      "14\n",
      "27\n",
      "time: 719 ms (started: 2021-05-20 16:34:14 +03:00)\n"
     ]
    }
   ],
   "source": [
    "analogy_4_score_3CosAvg = solve_analogy_3CosAvg(analogy_4,analogy_4_embeddings)"
   ]
  },
  {
   "cell_type": "markdown",
   "metadata": {},
   "source": [
    "### 2.2.5 Сущ. единственное число - множественное число"
   ]
  },
  {
   "cell_type": "code",
   "execution_count": 120,
   "metadata": {},
   "outputs": [
    {
     "data": {
      "text/plain": [
       "'улыбка улыбки число числа завод заводы ящик ящики дисковод дисководы период периоды день дни песня песни вебсаит вебсаиты бог боги принцип принципы автомобиль автомобили правительство правительства бумага бумаги препарат препараты эксперт эксперты факт факты дорога дороги событие события офис офисы наука науки альбом альбомы задача задачи игрок игроки контакт контакты штат штаты плакат плакаты государство государства нагреватель нагреватели кружка кружки вещь вещи сезон сезоны друг друзья ягодица ягодицы налог налоги студент студенты система системы книга книги рыба рыбы операция операции ночь ночи понятие понятия запас запасы желание желания билет билеты приказ приказы коллега коллеги артист артисты преступление преступления покупатель покупатели закон законы популяция популяции пользователь пользователи жертва жертвы инженер инженеры версия версии мольберт мольберты пример примеры механизм механизмы цена цены язык языки академия академии водоем водоемы предмет предметы неделя недели смерть смерти год годы час часы роль роли список списки улица улицы месяц месяцы гость гости дерево деревья область области департамент департаменты отличие отличия источник источники деревня деревни город города площадь площади решение решения река реки лицо лица враг враги территория территории средство средства сцена сцены технология технологии специалист специалисты угол углы звук звуки идея идеи запись записи товар товары рука руки нога ноги синдром синдромы начальник начальники участник участники'"
      ]
     },
     "execution_count": 120,
     "metadata": {},
     "output_type": "execute_result"
    },
    {
     "name": "stdout",
     "output_type": "stream",
     "text": [
      "time: 172 ms (started: 2021-05-20 03:21:03 +03:00)\n"
     ]
    }
   ],
   "source": [
    "file5 = 'C:\\\\Users\\\\Asus\\\\Data analysis\\\\Учеба\\\\ДИПЛОМ\\\\Analogies\\\\Small\\\\singular-plural.txt'\n",
    "\n",
    "analogy_5 = get_analogy_words(file5)\n",
    "\n",
    "analogy_5"
   ]
  },
  {
   "cell_type": "code",
   "execution_count": 295,
   "metadata": {
    "scrolled": true
   },
   "outputs": [
    {
     "name": "stdout",
     "output_type": "stream",
     "text": [
      "time: 3.86 s (started: 2021-05-20 16:34:33 +03:00)\n"
     ]
    }
   ],
   "source": [
    "analogy_5_embeddings = get_embeddings(tokenizer_2,model_2,analogy_5)"
   ]
  },
  {
   "cell_type": "code",
   "execution_count": 122,
   "metadata": {},
   "outputs": [
    {
     "name": "stdout",
     "output_type": "stream",
     "text": [
      "Accuracy score = 0.9884\n",
      "9884\n",
      "10000\n",
      "time: 26min 14s (started: 2021-05-20 03:21:05 +03:00)\n"
     ]
    }
   ],
   "source": [
    "analogy_5_score = solve_analogy_3CosAdd(analogy_5,analogy_5_embeddings)"
   ]
  },
  {
   "cell_type": "code",
   "execution_count": 296,
   "metadata": {
    "scrolled": true
   },
   "outputs": [
    {
     "name": "stdout",
     "output_type": "stream",
     "text": [
      "Accuracy score = 1.0\n",
      "100\n",
      "100\n",
      "time: 10.3 s (started: 2021-05-20 16:34:37 +03:00)\n"
     ]
    }
   ],
   "source": [
    "analogy_5_score_3CosAvg = solve_analogy_3CosAvg(analogy_5,analogy_5_embeddings)"
   ]
  },
  {
   "cell_type": "markdown",
   "metadata": {},
   "source": [
    "### 2.2.6 Глагол - существительное с -тель"
   ]
  },
  {
   "cell_type": "code",
   "execution_count": 123,
   "metadata": {},
   "outputs": [
    {
     "data": {
      "text/plain": [
       "'исследовать исследователь слушать слушатель водить водитель нанимать наниматель крушить крушитель мучить мучитель грабить грабитель спасать спасатель карать каратель читать читатель строить строитель искать искатель мыслить мыслитель угнетать угнетатель почитать почитатель заклинать заклинатель предпринимать предприниматель получать получатель отправлять отправитель истязать истязатель держать держатель воздыхать воздыхатель учить учитель вершить вершитель глотать глотатель разжигать разжигатель воспевать воспеватель потакать потакатель писать писатель деять деятель созидать созидатель преподавать преподаватель покрывать покрыватель душить душитель ваять ваятель кормить кормитель служить служитель открывать открыватель надзирать надзиратель следовать следователь владеть владетель добывать добыватель вымогать вымогатель завещать завещатель изобретать изобретатель крестить креститель носить носитель содержать содержатель копать копатель обитать обитатель обладать обладатель поджигать поджигатель покупать покупатель преследовать преследователь избирать избиратель хранить хранитель'"
      ]
     },
     "execution_count": 123,
     "metadata": {},
     "output_type": "execute_result"
    },
    {
     "name": "stdout",
     "output_type": "stream",
     "text": [
      "time: 344 ms (started: 2021-05-20 03:47:20 +03:00)\n"
     ]
    }
   ],
   "source": [
    "file6 = 'C:\\\\Users\\\\Asus\\\\Data analysis\\\\Учеба\\\\ДИПЛОМ\\\\Analogies\\\\Small\\\\verb-noun.txt'\n",
    "\n",
    "analogy_6 = get_analogy_words(file6)\n",
    "\n",
    "analogy_6"
   ]
  },
  {
   "cell_type": "code",
   "execution_count": 297,
   "metadata": {
    "scrolled": true
   },
   "outputs": [
    {
     "name": "stdout",
     "output_type": "stream",
     "text": [
      "time: 2.31 s (started: 2021-05-20 16:34:47 +03:00)\n"
     ]
    }
   ],
   "source": [
    "analogy_6_embeddings = get_embeddings(tokenizer_2,model_2,analogy_6)"
   ]
  },
  {
   "cell_type": "code",
   "execution_count": 125,
   "metadata": {},
   "outputs": [
    {
     "name": "stdout",
     "output_type": "stream",
     "text": [
      "Accuracy score = 0.9052933673469388\n",
      "2839\n",
      "3136\n",
      "time: 4min 35s (started: 2021-05-20 03:47:22 +03:00)\n"
     ]
    }
   ],
   "source": [
    "analogy_6_score = solve_analogy_3CosAdd(analogy_6,analogy_6_embeddings)"
   ]
  },
  {
   "cell_type": "code",
   "execution_count": 298,
   "metadata": {},
   "outputs": [
    {
     "name": "stdout",
     "output_type": "stream",
     "text": [
      "Accuracy score = 0.9821428571428571\n",
      "55\n",
      "56\n",
      "time: 3.36 s (started: 2021-05-20 16:34:50 +03:00)\n"
     ]
    }
   ],
   "source": [
    "analogy_6_score_3CosAvg = solve_analogy_3CosAvg(analogy_6,analogy_6_embeddings)"
   ]
  },
  {
   "cell_type": "markdown",
   "metadata": {},
   "source": [
    "### 2.2.7 Глагол - существительное с -ение"
   ]
  },
  {
   "cell_type": "code",
   "execution_count": 126,
   "metadata": {},
   "outputs": [
    {
     "data": {
      "text/plain": [
       "'обвинять обвинение восхищать восхищение утверждать утверждение вычислять вычисление продолжить продолжение объявлять объявление лишать лишение наблюдать наблюдение вдохновлять вдохновление освещать освещение воображать воображение определять определение восстановить восстановление истекать истечение приложить приложение истреблять истребление возбуждать возбуждение выступать выступление гореть горение дозволять дозволение достигать достижение завершать завершение задымлять задымление засорять засорение изготовлять изготовление измельчать измельчение крушить крушение лечить лечение назначать назначение ознакомлять ознакомление осведомлять осведомление очищать очищение повреждать повреждение повышать повышение пополнять пополнение поручать поручение поселять поселение посещать посещение потрясать потрясение предвкушать предвкушение представлять представление преуменьшать преуменьшение примирять примирение разрушать разрушение располагать расположение рассуждать рассуждение свергать свержение сооружать сооружение сотрясать сотрясение стареть старение удалять удаление удобрять удобрение укреплять укрепление упрощать упрощение устранять устранение'"
      ]
     },
     "execution_count": 126,
     "metadata": {},
     "output_type": "execute_result"
    },
    {
     "name": "stdout",
     "output_type": "stream",
     "text": [
      "time: 62 ms (started: 2021-05-20 03:51:58 +03:00)\n"
     ]
    }
   ],
   "source": [
    "file7 = 'C:\\\\Users\\\\Asus\\\\Data analysis\\\\Учеба\\\\ДИПЛОМ\\\\Analogies\\\\Small\\\\verb-noun_3.txt'\n",
    "\n",
    "analogy_7 = get_analogy_words(file7)\n",
    "\n",
    "analogy_7"
   ]
  },
  {
   "cell_type": "code",
   "execution_count": 299,
   "metadata": {
    "scrolled": true
   },
   "outputs": [
    {
     "name": "stdout",
     "output_type": "stream",
     "text": [
      "time: 2.14 s (started: 2021-05-20 16:35:04 +03:00)\n"
     ]
    }
   ],
   "source": [
    "analogy_7_embeddings = get_embeddings(tokenizer_2,model_2,analogy_7)"
   ]
  },
  {
   "cell_type": "code",
   "execution_count": 128,
   "metadata": {},
   "outputs": [
    {
     "name": "stdout",
     "output_type": "stream",
     "text": [
      "Accuracy score = 0.9705785123966942\n",
      "2936\n",
      "3025\n",
      "time: 4min 20s (started: 2021-05-20 03:52:00 +03:00)\n"
     ]
    }
   ],
   "source": [
    "analogy_7_score = solve_analogy_3CosAdd(analogy_7,analogy_7_embeddings)"
   ]
  },
  {
   "cell_type": "code",
   "execution_count": 300,
   "metadata": {},
   "outputs": [
    {
     "name": "stdout",
     "output_type": "stream",
     "text": [
      "Accuracy score = 1.0\n",
      "55\n",
      "55\n",
      "time: 3.33 s (started: 2021-05-20 16:35:06 +03:00)\n"
     ]
    }
   ],
   "source": [
    "analogy_7_score_3CosAvg = solve_analogy_3CosAvg(analogy_7,analogy_7_embeddings)"
   ]
  },
  {
   "cell_type": "markdown",
   "metadata": {},
   "source": [
    "### 2.2.8 Глагол - существительное с -ация"
   ]
  },
  {
   "cell_type": "code",
   "execution_count": 129,
   "metadata": {},
   "outputs": [
    {
     "data": {
      "text/plain": [
       "'колонизировать колонизация компилировать компиляция конфигурировать конфигурация консультировать консультация персонализировать персонализация глобализировать глобализация импровизировать импровизация максимизировать маскимизация минимизировать минимизация модернизировать модернизация оптимизировать оптимизация организовывать организация приватизировать приватизация рандомизировать рандомизация стабилизировать стабилизация стандартизировать стандартизация утилизировать утилизация визуализировать визуализация декларировать декларация монетизировать монетизация аппроксимировать аппроксимация интегрировать интеграция концентрировать концентрация урбанизировать урбанизация автоматизировать автоматизация авторизировать авторизация агитировать агитация адаптировать адаптация актуализировать актуализация ассоциировать ассоциация гиперболизировать гиперболизация деградировать деградация дегустировать дегустация дезинформировать дезинформация дезориентировать дезориентация декорировать декорация индексировать индексация иллюстрировать иллюстрация иммигрировать иммиграция идентифицировать идентификация конфисковать конфискация компрометировать компроментация комплектовать комплектация капитализировать капитализация канонизировать канонизация ориентировать ориентация оперировать операция нумеровать нумерация нормализовать нормализация мутировать мутация мотивировать мотивация модифицировать модификация мигрировать миграция медитировать медитация регламентировать регламентация'"
      ]
     },
     "execution_count": 129,
     "metadata": {},
     "output_type": "execute_result"
    },
    {
     "name": "stdout",
     "output_type": "stream",
     "text": [
      "time: 47 ms (started: 2021-05-20 03:56:21 +03:00)\n"
     ]
    }
   ],
   "source": [
    "file8 = 'C:\\\\Users\\\\Asus\\\\Data analysis\\\\Учеба\\\\ДИПЛОМ\\\\Analogies\\\\Small\\\\verb_noun_2.txt'\n",
    "\n",
    "analogy_8 = get_analogy_words(file8)\n",
    "\n",
    "analogy_8"
   ]
  },
  {
   "cell_type": "code",
   "execution_count": 301,
   "metadata": {
    "scrolled": true
   },
   "outputs": [
    {
     "name": "stdout",
     "output_type": "stream",
     "text": [
      "time: 2.25 s (started: 2021-05-20 16:35:16 +03:00)\n"
     ]
    }
   ],
   "source": [
    "analogy_8_embeddings = get_embeddings(tokenizer_2,model_2,analogy_8)"
   ]
  },
  {
   "cell_type": "code",
   "execution_count": 131,
   "metadata": {},
   "outputs": [
    {
     "name": "stdout",
     "output_type": "stream",
     "text": [
      "Accuracy score = 0.8284297520661157\n",
      "2506\n",
      "3025\n",
      "time: 4min 15s (started: 2021-05-20 03:56:23 +03:00)\n"
     ]
    }
   ],
   "source": [
    "analogy_8_score = solve_analogy_3CosAdd(analogy_8,analogy_8_embeddings)"
   ]
  },
  {
   "cell_type": "code",
   "execution_count": 302,
   "metadata": {},
   "outputs": [
    {
     "name": "stdout",
     "output_type": "stream",
     "text": [
      "Accuracy score = 0.8909090909090909\n",
      "49\n",
      "55\n",
      "time: 3.27 s (started: 2021-05-20 16:35:19 +03:00)\n"
     ]
    }
   ],
   "source": [
    "analogy_8_score_3CosAvg = solve_analogy_3CosAvg(analogy_8,analogy_8_embeddings)"
   ]
  },
  {
   "cell_type": "markdown",
   "metadata": {},
   "source": [
    "### 2.2.9 Мужской род - женский род"
   ]
  },
  {
   "cell_type": "code",
   "execution_count": 132,
   "metadata": {},
   "outputs": [
    {
     "data": {
      "text/plain": [
       "'актер актриса мальчик девочка брат сестра бык корова бизнесмен бизнесвумен председатель председательница папа мама герцог герцогиня император императрица лис лисица бог богиня дедушка бабушка внук внучка жених невеста руководитель руководительница наследник наследница герои героиня муж жена король королева лев львица мужчина женщина директор директриса племянник племянница поэт поэтесса полицеискии полицеиская принц принцесса баран овца петух курица сын дочь жеребец кобыла тигр тигрица дядя тетя официант официантка вор воровка конь лошадь юноша девушка старик старуха супруг супруга красавец красавица певец певица тесть теща отчим мачеха работник работница школьник школьница виновник виновница учитель учительница писатель писательница ткач ткачиха артист артистка студент студентка чемпион чемпионка колдун колдунья журналист журналистка тракторист трактористка разведчик разведчица воспитатель воспитательница гимнаст гимнастка рекордсмен рекордсменка теннисист теннисистка бегун бегунья волк волчица продавец продавщица кот кошка барон баронесса библиотекарь библиотекарша секретарь секретарша гусь гусыня'"
      ]
     },
     "execution_count": 132,
     "metadata": {},
     "output_type": "execute_result"
    },
    {
     "name": "stdout",
     "output_type": "stream",
     "text": [
      "time: 125 ms (started: 2021-05-20 04:00:39 +03:00)\n"
     ]
    }
   ],
   "source": [
    "file9 = 'C:\\\\Users\\\\Asus\\\\Data analysis\\\\Учеба\\\\ДИПЛОМ\\\\Analogies\\\\Small\\\\мужской род - женский род.txt'\n",
    "\n",
    "analogy_9 = get_analogy_words(file9)\n",
    "\n",
    "analogy_9"
   ]
  },
  {
   "cell_type": "code",
   "execution_count": 303,
   "metadata": {
    "scrolled": true
   },
   "outputs": [
    {
     "name": "stdout",
     "output_type": "stream",
     "text": [
      "time: 2.36 s (started: 2021-05-20 16:35:33 +03:00)\n"
     ]
    }
   ],
   "source": [
    "analogy_9_embeddings = get_embeddings(tokenizer_2,model_2,analogy_9)"
   ]
  },
  {
   "cell_type": "code",
   "execution_count": 134,
   "metadata": {},
   "outputs": [
    {
     "name": "stdout",
     "output_type": "stream",
     "text": [
      "Accuracy score = 0.9610158164401871\n",
      "4314\n",
      "4489\n",
      "time: 7min 42s (started: 2021-05-20 04:00:41 +03:00)\n"
     ]
    }
   ],
   "source": [
    "analogy_9_score = solve_analogy_3CosAdd(analogy_9,analogy_9_embeddings)"
   ]
  },
  {
   "cell_type": "code",
   "execution_count": 304,
   "metadata": {},
   "outputs": [
    {
     "name": "stdout",
     "output_type": "stream",
     "text": [
      "Accuracy score = 1.0\n",
      "67\n",
      "67\n",
      "time: 4.8 s (started: 2021-05-20 16:35:36 +03:00)\n"
     ]
    }
   ],
   "source": [
    "analogy_9_score_3CosAvg = solve_analogy_3CosAvg(analogy_9,analogy_9_embeddings)"
   ]
  },
  {
   "cell_type": "markdown",
   "metadata": {},
   "source": [
    "### 2.2.10 Прилагательное - наречие"
   ]
  },
  {
   "cell_type": "code",
   "execution_count": 135,
   "metadata": {},
   "outputs": [
    {
     "data": {
      "text/plain": [
       "'удивительныи удивительно очевидныи очевидно спокоиныи спокоино веселыи весело страшныи страшно эффективныи эффективно красивыи красиво свободныи свободно яростныи яростно счастливыи счастливо непосредственныи непосредственно нечастыи нечасто удачныи удачно полезныи полезно случаиныи случаино возможныи возможно точныи точно профессиональныи профессионально быстрыи быстро тихии тихо редкии редко неохотныи неохотно безопасныи безопасно серьезныи серьезно медленныи медленно внезапныи внезапно стремительныи стремительно типичныи типично несчастныи несчастно обычныи обычно'"
      ]
     },
     "execution_count": 135,
     "metadata": {},
     "output_type": "execute_result"
    },
    {
     "name": "stdout",
     "output_type": "stream",
     "text": [
      "time: 31 ms (started: 2021-05-20 04:08:23 +03:00)\n"
     ]
    }
   ],
   "source": [
    "file10 = 'C:\\\\Users\\\\Asus\\\\Data analysis\\\\Учеба\\\\ДИПЛОМ\\\\Analogies\\\\Small\\\\прилагательное-наречие_2.txt'\n",
    "\n",
    "analogy_10 = get_analogy_words(file10)\n",
    "\n",
    "analogy_10"
   ]
  },
  {
   "cell_type": "code",
   "execution_count": 305,
   "metadata": {
    "scrolled": true
   },
   "outputs": [
    {
     "name": "stdout",
     "output_type": "stream",
     "text": [
      "time: 1.25 s (started: 2021-05-20 16:35:47 +03:00)\n"
     ]
    }
   ],
   "source": [
    "analogy_10_embeddings = get_embeddings(tokenizer_2,model_2,analogy_10)"
   ]
  },
  {
   "cell_type": "code",
   "execution_count": 137,
   "metadata": {},
   "outputs": [
    {
     "name": "stdout",
     "output_type": "stream",
     "text": [
      "Accuracy score = 0.7288888888888889\n",
      "656\n",
      "900\n",
      "time: 40.7 s (started: 2021-05-20 04:08:24 +03:00)\n"
     ]
    }
   ],
   "source": [
    "analogy_10_score = solve_analogy_3CosAdd(analogy_10,analogy_10_embeddings)"
   ]
  },
  {
   "cell_type": "code",
   "execution_count": 306,
   "metadata": {},
   "outputs": [
    {
     "name": "stdout",
     "output_type": "stream",
     "text": [
      "Accuracy score = 0.8333333333333334\n",
      "25\n",
      "30\n",
      "time: 906 ms (started: 2021-05-20 16:35:50 +03:00)\n"
     ]
    }
   ],
   "source": [
    "analogy_10_score_3CosAvg = solve_analogy_3CosAvg(analogy_10,analogy_10_embeddings)"
   ]
  },
  {
   "cell_type": "markdown",
   "metadata": {},
   "source": [
    "### 2.2.11 Прилагательное - сравнительная степень"
   ]
  },
  {
   "cell_type": "code",
   "execution_count": 138,
   "metadata": {},
   "outputs": [
    {
     "data": {
      "text/plain": [
       "'яркии ярче дешевыи дешевле холодныи холоднее крутои круче глубокии глубже легкии легче быстрыи быстрее тяжелыи тяжелее высокии выше жаркии жарче длинныи длиннее громкии громче низкии ниже безопасныи безопаснее острыи острее короткии короче простои проще медленныи медленнее умныи умнее сильныи сильнее крепкии крепче теплыи теплее слабыи слабее широкии шире молодои моложе'"
      ]
     },
     "execution_count": 138,
     "metadata": {},
     "output_type": "execute_result"
    },
    {
     "name": "stdout",
     "output_type": "stream",
     "text": [
      "time: 0 ns (started: 2021-05-20 04:09:05 +03:00)\n"
     ]
    }
   ],
   "source": [
    "file11 = 'C:\\\\Users\\\\Asus\\\\Data analysis\\\\Учеба\\\\ДИПЛ\\\\Analogies\\\\Small\\\\прилагательное-сравнительная степень.txt'\n",
    "\n",
    "analogy_11 = get_analogy_words(file11)\n",
    "\n",
    "analogy_11"
   ]
  },
  {
   "cell_type": "code",
   "execution_count": 307,
   "metadata": {
    "scrolled": true
   },
   "outputs": [
    {
     "name": "stdout",
     "output_type": "stream",
     "text": [
      "time: 906 ms (started: 2021-05-20 16:36:07 +03:00)\n"
     ]
    }
   ],
   "source": [
    "analogy_11_embeddings = get_embeddings(tokenizer_2,model_2,analogy_11)"
   ]
  },
  {
   "cell_type": "code",
   "execution_count": 140,
   "metadata": {},
   "outputs": [
    {
     "name": "stdout",
     "output_type": "stream",
     "text": [
      "Accuracy score = 0.6048\n",
      "378\n",
      "625\n",
      "time: 23.3 s (started: 2021-05-20 04:09:05 +03:00)\n"
     ]
    }
   ],
   "source": [
    "analogy_11_score = solve_analogy_3CosAdd(analogy_11,analogy_11_embeddings)"
   ]
  },
  {
   "cell_type": "code",
   "execution_count": 308,
   "metadata": {},
   "outputs": [
    {
     "name": "stdout",
     "output_type": "stream",
     "text": [
      "Accuracy score = 0.84\n",
      "21\n",
      "25\n",
      "time: 672 ms (started: 2021-05-20 16:36:09 +03:00)\n"
     ]
    }
   ],
   "source": [
    "analogy_11_score_3CosAvg = solve_analogy_3CosAvg(analogy_11,analogy_11_embeddings)"
   ]
  },
  {
   "cell_type": "markdown",
   "metadata": {},
   "source": [
    "### 2.2.12 Известная столица - страна"
   ]
  },
  {
   "cell_type": "code",
   "execution_count": 141,
   "metadata": {},
   "outputs": [
    {
     "data": {
      "text/plain": [
       "'афины греция багдад ирак бангкок таиланд пекин китаи берлин германия берн швеицария каир египет канберра австралия ханои вьетнам гавана куба хельсинки финляндия исламабад пакистан кабул афганистан лондон англия мадрид испания москва россия осло норвегия оттава канада париж франция рим италия стокгольм швеция тегеран иран токио япония'"
      ]
     },
     "execution_count": 141,
     "metadata": {},
     "output_type": "execute_result"
    },
    {
     "name": "stdout",
     "output_type": "stream",
     "text": [
      "time: 16 ms (started: 2021-05-20 04:09:29 +03:00)\n"
     ]
    }
   ],
   "source": [
    "file12 = 'C:\\\\Users\\\\Asus\\\\Data analysis\\\\Учеба\\\\ДИПЛОМ\\\\Analogies\\\\Small\\\\столица-страна.txt'\n",
    "\n",
    "analogy_12 = get_analogy_words(file12)\n",
    "\n",
    "analogy_12"
   ]
  },
  {
   "cell_type": "code",
   "execution_count": 309,
   "metadata": {},
   "outputs": [
    {
     "name": "stdout",
     "output_type": "stream",
     "text": [
      "time: 860 ms (started: 2021-05-20 16:41:14 +03:00)\n"
     ]
    }
   ],
   "source": [
    "analogy_12_embeddings = get_embeddings(tokenizer_2,model_2,analogy_12)"
   ]
  },
  {
   "cell_type": "code",
   "execution_count": 143,
   "metadata": {},
   "outputs": [
    {
     "name": "stdout",
     "output_type": "stream",
     "text": [
      "Accuracy score = 0.2684310018903592\n",
      "142\n",
      "529\n",
      "time: 17.8 s (started: 2021-05-20 04:09:30 +03:00)\n"
     ]
    }
   ],
   "source": [
    "analogy_12_score = solve_analogy_3CosAdd(analogy_12,analogy_12_embeddings)"
   ]
  },
  {
   "cell_type": "code",
   "execution_count": 310,
   "metadata": {},
   "outputs": [
    {
     "name": "stdout",
     "output_type": "stream",
     "text": [
      "Accuracy score = 0.391304347826087\n",
      "9\n",
      "23\n",
      "time: 610 ms (started: 2021-05-20 16:41:16 +03:00)\n"
     ]
    }
   ],
   "source": [
    "analogy_12_score_3CosAvg = solve_analogy_3CosAvg(analogy_12,analogy_12_embeddings)"
   ]
  },
  {
   "cell_type": "markdown",
   "metadata": {},
   "source": [
    "### 2.2.13 Любая столица - страна"
   ]
  },
  {
   "cell_type": "code",
   "execution_count": 144,
   "metadata": {},
   "outputs": [
    {
     "data": {
      "text/plain": [
       "'абуджа нигерия аккра гана алжир амман иордания анкара турция антананариву мадагаскар апиа самоа ашхабад туркменистан асмэра эритрея астана казахстан афины греция багдад ирак баку азербаиджан бамако мали бангкок таиланд банжул гамбия пекин китаи беирут ливан белград сербия бельмопан белиз берлин германия берн швеицария бишкек кыргызстан братислава словакия брюссель бельгия бухарест румыния будапешт венгрия бужумбура бурунди каир египет канберра австралия каракас венесуэла кишинев молдова конакри гвинея копенгаген дания дакар сенегал дамаск сирия дакка бангладеш доха катар дублин ирландия душанбе таджикистан фунафути тувалу габороне ботсвана джорджтаун гаиана ханои вьетнам хараре зимбабве гавана куба хельсинки финляндия исламабад пакистан джакарта индонезия кабул афганистан кампала уганда катманду непал хартум судан киев украина кигали руанда кингстон ямаика либревиль габон лилонгве малави лима перу лиссабон португалия любляна словения лондон англия луанда ангола лусака замбия мадрид испания манагуа никарагуа манама бахреин манила филиппины мапуту мозамбик минск беларусь могадишо сомали монровия либерия монтевидео уругваи москва россия мускат оман наироби кения нассау багамски ниамеи нигер никосия кипр нуакшот мавритания нуук гренландия осло норвегия оттава канада парамарибо суринам париж франция подгорица черногория кито эквадор рабат марокко рига латвия рим италия розо доминика сантьяго чили скопье македония софия болгария стокгольм швеция сува фиджи таибэи таивань таллинн эстония ташкент узбекистан тбилиси грузия тегусигальпа гондурас тегеран иран тхимпху бутан тирана албания токио япония триполи ливия тунис вадуц лихтенштеин валлетта мальта вена австрия вьентьян лаос вильнюс литва варшава польша виндхук намибия ереван армения загреб хорватия'"
      ]
     },
     "execution_count": 144,
     "metadata": {},
     "output_type": "execute_result"
    },
    {
     "name": "stdout",
     "output_type": "stream",
     "text": [
      "time: 78 ms (started: 2021-05-20 04:09:47 +03:00)\n"
     ]
    }
   ],
   "source": [
    "file13 = 'C:\\\\Users\\\\Asus\\\\Data analysis\\\\Учеба\\\\ДИПЛОМ\\\\Analogies\\\\Small\\\\столица-страна_2.txt'\n",
    "\n",
    "analogy_13 = get_analogy_words(file13)\n",
    "\n",
    "analogy_13"
   ]
  },
  {
   "cell_type": "code",
   "execution_count": 311,
   "metadata": {},
   "outputs": [
    {
     "name": "stdout",
     "output_type": "stream",
     "text": [
      "time: 4.19 s (started: 2021-05-20 16:41:31 +03:00)\n"
     ]
    }
   ],
   "source": [
    "analogy_13_embeddings = get_embeddings(tokenizer_2,model_2,analogy_13)"
   ]
  },
  {
   "cell_type": "code",
   "execution_count": 146,
   "metadata": {},
   "outputs": [
    {
     "name": "stdout",
     "output_type": "stream",
     "text": [
      "Accuracy score = 0.046275992438563326\n",
      "612\n",
      "13225\n",
      "time: 40min 50s (started: 2021-05-20 04:09:53 +03:00)\n"
     ]
    }
   ],
   "source": [
    "analogy_13_score = solve_analogy_3CosAdd(analogy_13,analogy_13_embeddings)"
   ]
  },
  {
   "cell_type": "code",
   "execution_count": 312,
   "metadata": {},
   "outputs": [
    {
     "name": "stdout",
     "output_type": "stream",
     "text": [
      "Accuracy score = 0.043478260869565216\n",
      "5\n",
      "115\n",
      "time: 14.5 s (started: 2021-05-20 16:41:35 +03:00)\n"
     ]
    }
   ],
   "source": [
    "analogy_13_score_3CosAvg = solve_analogy_3CosAvg(analogy_13,analogy_13_embeddings)"
   ]
  },
  {
   "cell_type": "markdown",
   "metadata": {},
   "source": [
    "### Сохраним результаты по RuBERT Sentence"
   ]
  },
  {
   "cell_type": "code",
   "execution_count": 147,
   "metadata": {},
   "outputs": [
    {
     "name": "stdout",
     "output_type": "stream",
     "text": [
      "time: 0 ns (started: 2021-05-20 04:50:43 +03:00)\n"
     ]
    }
   ],
   "source": [
    "RuBERT_sentence_scores = [analogy_1_score,analogy_2_score,analogy_3_score,analogy_4_score,\n",
    "                analogy_5_score,analogy_6_score,analogy_7_score,analogy_8_score,\n",
    "                analogy_9_score,analogy_10_score,analogy_11_score,analogy_12_score,\n",
    "                analogy_13_score]"
   ]
  },
  {
   "cell_type": "code",
   "execution_count": 148,
   "metadata": {},
   "outputs": [
    {
     "data": {
      "text/plain": [
       "[0.6611796982167353,\n",
       " 0.8649613325401546,\n",
       " 0.28550295857988167,\n",
       " 0.43209876543209874,\n",
       " 0.9884,\n",
       " 0.9052933673469388,\n",
       " 0.9705785123966942,\n",
       " 0.8284297520661157,\n",
       " 0.9610158164401871,\n",
       " 0.7288888888888889,\n",
       " 0.6048,\n",
       " 0.2684310018903592,\n",
       " 0.046275992438563326]"
      ]
     },
     "execution_count": 148,
     "metadata": {},
     "output_type": "execute_result"
    },
    {
     "name": "stdout",
     "output_type": "stream",
     "text": [
      "time: 0 ns (started: 2021-05-20 04:50:43 +03:00)\n"
     ]
    }
   ],
   "source": [
    "RuBERT_sentence_scores"
   ]
  },
  {
   "cell_type": "code",
   "execution_count": 313,
   "metadata": {},
   "outputs": [
    {
     "name": "stdout",
     "output_type": "stream",
     "text": [
      "time: 0 ns (started: 2021-05-20 16:42:02 +03:00)\n"
     ]
    }
   ],
   "source": [
    "RuBERT_sentence_scores_3CosAvg = [analogy_1_score_3CosAvg,analogy_2_score_3CosAvg,analogy_3_score_3CosAvg,\n",
    "                         analogy_4_score_3CosAvg,analogy_5_score_3CosAvg,analogy_6_score_3CosAvg,\n",
    "                         analogy_7_score_3CosAvg,analogy_8_score_3CosAvg,analogy_9_score_3CosAvg,\n",
    "                         analogy_10_score_3CosAvg,analogy_11_score_3CosAvg,analogy_12_score_3CosAvg,\n",
    "                         analogy_13_score_3CosAvg]"
   ]
  },
  {
   "cell_type": "code",
   "execution_count": 315,
   "metadata": {},
   "outputs": [
    {
     "data": {
      "text/plain": [
       "[0.8518518518518519,\n",
       " 0.975609756097561,\n",
       " 0.3076923076923077,\n",
       " 0.5185185185185185,\n",
       " 1.0,\n",
       " 0.9821428571428571,\n",
       " 1.0,\n",
       " 0.8909090909090909,\n",
       " 1.0,\n",
       " 0.8333333333333334,\n",
       " 0.84,\n",
       " 0.391304347826087,\n",
       " 0.043478260869565216]"
      ]
     },
     "execution_count": 315,
     "metadata": {},
     "output_type": "execute_result"
    },
    {
     "name": "stdout",
     "output_type": "stream",
     "text": [
      "time: 0 ns (started: 2021-05-20 16:42:25 +03:00)\n"
     ]
    }
   ],
   "source": [
    "RuBERT_sentence_scores_3CosAvg"
   ]
  },
  {
   "cell_type": "code",
   "execution_count": null,
   "metadata": {},
   "outputs": [],
   "source": []
  },
  {
   "cell_type": "code",
   "execution_count": null,
   "metadata": {},
   "outputs": [],
   "source": []
  },
  {
   "cell_type": "code",
   "execution_count": null,
   "metadata": {},
   "outputs": [],
   "source": []
  },
  {
   "cell_type": "markdown",
   "metadata": {},
   "source": [
    "## 2.3 Модель RuBERT Conversational"
   ]
  },
  {
   "cell_type": "code",
   "execution_count": 224,
   "metadata": {
    "scrolled": true
   },
   "outputs": [
    {
     "name": "stdout",
     "output_type": "stream",
     "text": [
      "time: 10.9 s (started: 2021-05-20 14:28:40 +03:00)\n"
     ]
    }
   ],
   "source": [
    "tokenizer_3 = AutoTokenizer.from_pretrained(\"DeepPavlov/rubert-base-cased-conversational\")\n",
    "\n",
    "model_3 = AutoModel.from_pretrained(\"DeepPavlov/rubert-base-cased-conversational\",output_hidden_states = True)"
   ]
  },
  {
   "cell_type": "markdown",
   "metadata": {},
   "source": [
    "### 2.3.1 Прилагательные - антонимы с приставкой не-"
   ]
  },
  {
   "cell_type": "code",
   "execution_count": 150,
   "metadata": {},
   "outputs": [
    {
     "data": {
      "text/plain": [
       "'приемлемыи неприемлемыи простои непростои определенныи неопределенныи ясныи неясныи удобныи неудобныи конкурентноспособныи неконкурентноспособныи последовательныи непоследовательныи убедительныи неубедительныи решенныи нерешенныи эффективныи неэффективныи этичныи неэтичныи удачныи неудачныи честныи нечестныи уместныи неуместныи информативныи неинформативныи осведомленныи неосведомленныи известныи неизвестныи вероятныи невероятныи логичныи нелогичныи приятныи неприятныи возможныи невозможныи продуктивныи непродуктивныи рациональныи иррациональныи разумныи неразумныи ответственныи безответственныи уверенныи неуверенныи благодарныи неблагодарныи'"
      ]
     },
     "execution_count": 150,
     "metadata": {},
     "output_type": "execute_result"
    },
    {
     "name": "stdout",
     "output_type": "stream",
     "text": [
      "time: 46 ms (started: 2021-05-20 04:55:10 +03:00)\n"
     ]
    }
   ],
   "source": [
    "file1 = 'C:\\\\Users\\\\Asus\\\\Data analysis\\\\Учеба\\\\ДИПЛОМ\\\\Analogies\\\\Small\\\\adj-NOTadj.txt'\n",
    "\n",
    "analogy_1 = get_analogy_words(file1)\n",
    "\n",
    "analogy_1"
   ]
  },
  {
   "cell_type": "code",
   "execution_count": 316,
   "metadata": {},
   "outputs": [
    {
     "name": "stdout",
     "output_type": "stream",
     "text": [
      "time: 781 ms (started: 2021-05-20 16:42:56 +03:00)\n"
     ]
    }
   ],
   "source": [
    "analogy_1_embeddings = get_embeddings(tokenizer_3,model_3,analogy_1)"
   ]
  },
  {
   "cell_type": "code",
   "execution_count": 152,
   "metadata": {},
   "outputs": [
    {
     "name": "stdout",
     "output_type": "stream",
     "text": [
      "Accuracy score = 0.5651577503429356\n",
      "412\n",
      "729\n",
      "time: 29.2 s (started: 2021-05-20 04:55:11 +03:00)\n"
     ]
    }
   ],
   "source": [
    "analogy_1_score = solve_analogy_3CosAdd(analogy_1,analogy_1_embeddings)"
   ]
  },
  {
   "cell_type": "code",
   "execution_count": 317,
   "metadata": {},
   "outputs": [
    {
     "name": "stdout",
     "output_type": "stream",
     "text": [
      "Accuracy score = 0.9259259259259259\n",
      "25\n",
      "27\n",
      "time: 766 ms (started: 2021-05-20 16:42:59 +03:00)\n"
     ]
    }
   ],
   "source": [
    "analogy_1_score_3CosAvg = solve_analogy_3CosAvg(analogy_1,analogy_1_embeddings)"
   ]
  },
  {
   "cell_type": "markdown",
   "metadata": {},
   "source": [
    "### 2.3.2 Страна - прилагательное"
   ]
  },
  {
   "cell_type": "code",
   "execution_count": 153,
   "metadata": {},
   "outputs": [
    {
     "data": {
      "text/plain": [
       "'албания албанскии аргентина аргентинскии австралия австралиискии австрия австриискии беларусь белорусскии бразилия бразильскии болгария болгарскии камбоджа камбоджиискии чили чилиискии китаи китаискии колумбия колумбиискии хорватия хорватскии дания датскии египет египетскии англия англиискии франция французскии германия немецкии греция греческии исландия исландскии индия индиискии ирландия ирландскии израиль израильскии италия итальянскии япония японскии корея кореискии македония македонскии мальта мальтиискии мексика мексиканскии молдова молдавскии нидерланды голландскии норвегия норвежскии перу перуанскии польша польскии португалия португальскии россия русскии словакия словацкии испания испанскии швеция шведскии швеицария швеицарскии таиланд таискии украина украинскии'"
      ]
     },
     "execution_count": 153,
     "metadata": {},
     "output_type": "execute_result"
    },
    {
     "name": "stdout",
     "output_type": "stream",
     "text": [
      "time: 31 ms (started: 2021-05-20 04:55:41 +03:00)\n"
     ]
    }
   ],
   "source": [
    "file2 = 'C:\\\\Users\\\\Asus\\\\Data analysis\\\\Учеба\\\\ДИПЛОМ\\\\Analogies\\\\Small\\\\country-adjective.txt'\n",
    "\n",
    "analogy_2 = get_analogy_words(file2)\n",
    "\n",
    "analogy_2"
   ]
  },
  {
   "cell_type": "code",
   "execution_count": 318,
   "metadata": {},
   "outputs": [
    {
     "name": "stdout",
     "output_type": "stream",
     "text": [
      "time: 766 ms (started: 2021-05-20 16:45:25 +03:00)\n"
     ]
    }
   ],
   "source": [
    "analogy_2_embeddings = get_embeddings(tokenizer_3,model_3,analogy_2)"
   ]
  },
  {
   "cell_type": "code",
   "execution_count": 155,
   "metadata": {},
   "outputs": [
    {
     "name": "stdout",
     "output_type": "stream",
     "text": [
      "Accuracy score = 0.6323616894705533\n",
      "1063\n",
      "1681\n",
      "time: 1min 44s (started: 2021-05-20 04:55:43 +03:00)\n"
     ]
    }
   ],
   "source": [
    "analogy_2_score = solve_analogy_3CosAdd(analogy_2,analogy_2_embeddings)"
   ]
  },
  {
   "cell_type": "code",
   "execution_count": 319,
   "metadata": {},
   "outputs": [
    {
     "name": "stdout",
     "output_type": "stream",
     "text": [
      "Accuracy score = 0.7804878048780488\n",
      "32\n",
      "41\n",
      "time: 1.81 s (started: 2021-05-20 16:45:29 +03:00)\n"
     ]
    }
   ],
   "source": [
    "analogy_2_score_3CosAvg = solve_analogy_3CosAvg(analogy_2,analogy_2_embeddings)"
   ]
  },
  {
   "cell_type": "markdown",
   "metadata": {},
   "source": [
    "### 2.3.3 Страна - язык"
   ]
  },
  {
   "cell_type": "code",
   "execution_count": 156,
   "metadata": {},
   "outputs": [
    {
     "data": {
      "text/plain": [
       "'андорра каталанскии аргентина испанскии австралия англиискии австрия немецкии багамы бангладеш бенгальскии барбадос белиз боливия бразилия португальскии камбоджа кхмерскии канада чили колумбия куба кипр греческии дания датскии египет арабскии эфиопия амхарскии фиджи гваделупа французскии гватемала гаиана иран персидскии иордания кувеит мозамбик никарагуа норвегия норвежскии палестина перу сирия таивань китаискии сша венесуэла россия русскии'"
      ]
     },
     "execution_count": 156,
     "metadata": {},
     "output_type": "execute_result"
    },
    {
     "name": "stdout",
     "output_type": "stream",
     "text": [
      "time: 15 ms (started: 2021-05-20 04:57:28 +03:00)\n"
     ]
    }
   ],
   "source": [
    "file3 = 'C:\\\\Users\\\\Asus\\\\Data analysis\\\\Учеба\\\\ДИПЛОМ\\\\Analogies\\\\Small\\\\country-language.txt'\n",
    "\n",
    "analogy_3 = get_analogy_words(file3)\n",
    "\n",
    "analogy_3"
   ]
  },
  {
   "cell_type": "code",
   "execution_count": 320,
   "metadata": {},
   "outputs": [
    {
     "name": "stdout",
     "output_type": "stream",
     "text": [
      "time: 375 ms (started: 2021-05-20 16:45:43 +03:00)\n"
     ]
    }
   ],
   "source": [
    "analogy_3_embeddings = get_embeddings(tokenizer_3,model_3,analogy_3)"
   ]
  },
  {
   "cell_type": "code",
   "execution_count": 158,
   "metadata": {},
   "outputs": [
    {
     "name": "stdout",
     "output_type": "stream",
     "text": [
      "Accuracy score = 0.09911242603550297\n",
      "67\n",
      "676\n",
      "time: 26.6 s (started: 2021-05-20 04:57:29 +03:00)\n"
     ]
    }
   ],
   "source": [
    "analogy_3_score = solve_analogy_3CosAdd(analogy_3,analogy_3_embeddings)"
   ]
  },
  {
   "cell_type": "code",
   "execution_count": 321,
   "metadata": {},
   "outputs": [
    {
     "name": "stdout",
     "output_type": "stream",
     "text": [
      "Accuracy score = 0.15384615384615385\n",
      "4\n",
      "26\n",
      "time: 750 ms (started: 2021-05-20 16:45:45 +03:00)\n"
     ]
    }
   ],
   "source": [
    "analogy_3_score_3CosAvg = solve_analogy_3CosAvg(analogy_3,analogy_3_embeddings)"
   ]
  },
  {
   "cell_type": "markdown",
   "metadata": {},
   "source": [
    "### 2.3.4 Страна - валюта"
   ]
  },
  {
   "cell_type": "code",
   "execution_count": 159,
   "metadata": {},
   "outputs": [
    {
     "data": {
      "text/plain": [
       "'алжир динар ангола кванза аргентина песо армения драм бразилия реал болгария лев камбоджа риель канада доллар хорватия куна дания крона европа евро венгрия форинт индия рупия иран риал япония иена корея вона латвия лат литва лит македония денар малаизия ринггит мексика нигерия наира польша злотыи румыния леи россия рубль швеция таиланд бат украина гривна сша вьетнам донг'"
      ]
     },
     "execution_count": 159,
     "metadata": {},
     "output_type": "execute_result"
    },
    {
     "name": "stdout",
     "output_type": "stream",
     "text": [
      "time: 47 ms (started: 2021-05-20 04:57:55 +03:00)\n"
     ]
    }
   ],
   "source": [
    "file4 = 'C:\\\\Users\\\\Asus\\\\Data analysis\\\\Учеба\\\\ДИПЛОМ\\\\Analogies\\\\Small\\\\country-money.txt'\n",
    "\n",
    "analogy_4 = get_analogy_words(file4)\n",
    "\n",
    "analogy_4"
   ]
  },
  {
   "cell_type": "code",
   "execution_count": 160,
   "metadata": {},
   "outputs": [
    {
     "name": "stdout",
     "output_type": "stream",
     "text": [
      "time: 0 ns (started: 2021-05-20 04:57:56 +03:00)\n"
     ]
    }
   ],
   "source": [
    "analogy_4 = analogy_4.replace('сша','')\n",
    "analogy_4 = analogy_4.replace('мексика','')\n",
    "analogy_4 = analogy_4.replace('швеция','')"
   ]
  },
  {
   "cell_type": "code",
   "execution_count": 322,
   "metadata": {
    "scrolled": true
   },
   "outputs": [
    {
     "name": "stdout",
     "output_type": "stream",
     "text": [
      "time: 657 ms (started: 2021-05-20 16:49:34 +03:00)\n"
     ]
    }
   ],
   "source": [
    "analogy_4_embeddings = get_embeddings(tokenizer_3,model_3,analogy_4)"
   ]
  },
  {
   "cell_type": "code",
   "execution_count": 162,
   "metadata": {},
   "outputs": [
    {
     "name": "stdout",
     "output_type": "stream",
     "text": [
      "Accuracy score = 0.18244170096021947\n",
      "133\n",
      "729\n",
      "time: 29.6 s (started: 2021-05-20 04:57:56 +03:00)\n"
     ]
    }
   ],
   "source": [
    "analogy_4_score = solve_analogy_3CosAdd(analogy_4,analogy_4_embeddings)"
   ]
  },
  {
   "cell_type": "code",
   "execution_count": 323,
   "metadata": {},
   "outputs": [
    {
     "name": "stdout",
     "output_type": "stream",
     "text": [
      "Accuracy score = 0.3333333333333333\n",
      "9\n",
      "27\n",
      "time: 797 ms (started: 2021-05-20 16:49:36 +03:00)\n"
     ]
    }
   ],
   "source": [
    "analogy_4_score_3CosAvg = solve_analogy_3CosAvg(analogy_4,analogy_4_embeddings)"
   ]
  },
  {
   "cell_type": "markdown",
   "metadata": {},
   "source": [
    "### 2.3.5 Сущ. единственное число - множественное число"
   ]
  },
  {
   "cell_type": "code",
   "execution_count": 163,
   "metadata": {},
   "outputs": [
    {
     "data": {
      "text/plain": [
       "'улыбка улыбки число числа завод заводы ящик ящики дисковод дисководы период периоды день дни песня песни вебсаит вебсаиты бог боги принцип принципы автомобиль автомобили правительство правительства бумага бумаги препарат препараты эксперт эксперты факт факты дорога дороги событие события офис офисы наука науки альбом альбомы задача задачи игрок игроки контакт контакты штат штаты плакат плакаты государство государства нагреватель нагреватели кружка кружки вещь вещи сезон сезоны друг друзья ягодица ягодицы налог налоги студент студенты система системы книга книги рыба рыбы операция операции ночь ночи понятие понятия запас запасы желание желания билет билеты приказ приказы коллега коллеги артист артисты преступление преступления покупатель покупатели закон законы популяция популяции пользователь пользователи жертва жертвы инженер инженеры версия версии мольберт мольберты пример примеры механизм механизмы цена цены язык языки академия академии водоем водоемы предмет предметы неделя недели смерть смерти год годы час часы роль роли список списки улица улицы месяц месяцы гость гости дерево деревья область области департамент департаменты отличие отличия источник источники деревня деревни город города площадь площади решение решения река реки лицо лица враг враги территория территории средство средства сцена сцены технология технологии специалист специалисты угол углы звук звуки идея идеи запись записи товар товары рука руки нога ноги синдром синдромы начальник начальники участник участники'"
      ]
     },
     "execution_count": 163,
     "metadata": {},
     "output_type": "execute_result"
    },
    {
     "name": "stdout",
     "output_type": "stream",
     "text": [
      "time: 219 ms (started: 2021-05-20 04:58:26 +03:00)\n"
     ]
    }
   ],
   "source": [
    "file5 = 'C:\\\\Users\\\\Asus\\\\Data analysis\\\\Учеба\\\\ДИПЛОМ\\\\Analogies\\\\Small\\\\singular-plural.txt'\n",
    "\n",
    "analogy_5 = get_analogy_words(file5)\n",
    "\n",
    "analogy_5"
   ]
  },
  {
   "cell_type": "code",
   "execution_count": 324,
   "metadata": {
    "scrolled": true
   },
   "outputs": [
    {
     "name": "stdout",
     "output_type": "stream",
     "text": [
      "time: 953 ms (started: 2021-05-20 16:49:51 +03:00)\n"
     ]
    }
   ],
   "source": [
    "analogy_5_embeddings = get_embeddings(tokenizer_3,model_3,analogy_5)"
   ]
  },
  {
   "cell_type": "code",
   "execution_count": 165,
   "metadata": {},
   "outputs": [
    {
     "name": "stdout",
     "output_type": "stream",
     "text": [
      "Accuracy score = 0.9839\n",
      "9839\n",
      "10000\n",
      "time: 26min 33s (started: 2021-05-20 04:58:28 +03:00)\n"
     ]
    }
   ],
   "source": [
    "analogy_5_score = solve_analogy_3CosAdd(analogy_5,analogy_5_embeddings)"
   ]
  },
  {
   "cell_type": "code",
   "execution_count": 325,
   "metadata": {},
   "outputs": [
    {
     "name": "stdout",
     "output_type": "stream",
     "text": [
      "Accuracy score = 1.0\n",
      "100\n",
      "100\n",
      "time: 10.3 s (started: 2021-05-20 16:49:53 +03:00)\n"
     ]
    }
   ],
   "source": [
    "analogy_5_score_3CosAvg = solve_analogy_3CosAvg(analogy_5,analogy_5_embeddings)"
   ]
  },
  {
   "cell_type": "markdown",
   "metadata": {},
   "source": [
    "### 2.3.6 Глагол - существительное с -тель"
   ]
  },
  {
   "cell_type": "code",
   "execution_count": 166,
   "metadata": {},
   "outputs": [
    {
     "data": {
      "text/plain": [
       "'исследовать исследователь слушать слушатель водить водитель нанимать наниматель крушить крушитель мучить мучитель грабить грабитель спасать спасатель карать каратель читать читатель строить строитель искать искатель мыслить мыслитель угнетать угнетатель почитать почитатель заклинать заклинатель предпринимать предприниматель получать получатель отправлять отправитель истязать истязатель держать держатель воздыхать воздыхатель учить учитель вершить вершитель глотать глотатель разжигать разжигатель воспевать воспеватель потакать потакатель писать писатель деять деятель созидать созидатель преподавать преподаватель покрывать покрыватель душить душитель ваять ваятель кормить кормитель служить служитель открывать открыватель надзирать надзиратель следовать следователь владеть владетель добывать добыватель вымогать вымогатель завещать завещатель изобретать изобретатель крестить креститель носить носитель содержать содержатель копать копатель обитать обитатель обладать обладатель поджигать поджигатель покупать покупатель преследовать преследователь избирать избиратель хранить хранитель'"
      ]
     },
     "execution_count": 166,
     "metadata": {},
     "output_type": "execute_result"
    },
    {
     "name": "stdout",
     "output_type": "stream",
     "text": [
      "time: 31 ms (started: 2021-05-20 05:25:02 +03:00)\n"
     ]
    }
   ],
   "source": [
    "file6 = 'C:\\\\Users\\\\Asus\\\\Data analysis\\\\Учеба\\\\ДИПЛОМ\\\\Analogies\\\\Small\\\\verb-noun.txt'\n",
    "\n",
    "analogy_6 = get_analogy_words(file6)\n",
    "\n",
    "analogy_6"
   ]
  },
  {
   "cell_type": "code",
   "execution_count": 326,
   "metadata": {
    "scrolled": true
   },
   "outputs": [
    {
     "name": "stdout",
     "output_type": "stream",
     "text": [
      "time: 672 ms (started: 2021-05-20 16:50:06 +03:00)\n"
     ]
    }
   ],
   "source": [
    "analogy_6_embeddings = get_embeddings(tokenizer_3,model_3,analogy_6)"
   ]
  },
  {
   "cell_type": "code",
   "execution_count": 168,
   "metadata": {},
   "outputs": [
    {
     "name": "stdout",
     "output_type": "stream",
     "text": [
      "Accuracy score = 0.795280612244898\n",
      "2494\n",
      "3136\n",
      "time: 4min 31s (started: 2021-05-20 05:25:04 +03:00)\n"
     ]
    }
   ],
   "source": [
    "analogy_6_score = solve_analogy_3CosAdd(analogy_6,analogy_6_embeddings)"
   ]
  },
  {
   "cell_type": "code",
   "execution_count": 327,
   "metadata": {},
   "outputs": [
    {
     "name": "stdout",
     "output_type": "stream",
     "text": [
      "Accuracy score = 0.9285714285714286\n",
      "52\n",
      "56\n",
      "time: 3.48 s (started: 2021-05-20 16:50:08 +03:00)\n"
     ]
    }
   ],
   "source": [
    "analogy_6_score_3CosAvg = solve_analogy_3CosAvg(analogy_6,analogy_6_embeddings)"
   ]
  },
  {
   "cell_type": "markdown",
   "metadata": {},
   "source": [
    "### 2.3.7 Глагол - существительное с -ение"
   ]
  },
  {
   "cell_type": "code",
   "execution_count": 169,
   "metadata": {},
   "outputs": [
    {
     "data": {
      "text/plain": [
       "'обвинять обвинение восхищать восхищение утверждать утверждение вычислять вычисление продолжить продолжение объявлять объявление лишать лишение наблюдать наблюдение вдохновлять вдохновление освещать освещение воображать воображение определять определение восстановить восстановление истекать истечение приложить приложение истреблять истребление возбуждать возбуждение выступать выступление гореть горение дозволять дозволение достигать достижение завершать завершение задымлять задымление засорять засорение изготовлять изготовление измельчать измельчение крушить крушение лечить лечение назначать назначение ознакомлять ознакомление осведомлять осведомление очищать очищение повреждать повреждение повышать повышение пополнять пополнение поручать поручение поселять поселение посещать посещение потрясать потрясение предвкушать предвкушение представлять представление преуменьшать преуменьшение примирять примирение разрушать разрушение располагать расположение рассуждать рассуждение свергать свержение сооружать сооружение сотрясать сотрясение стареть старение удалять удаление удобрять удобрение укреплять укрепление упрощать упрощение устранять устранение'"
      ]
     },
     "execution_count": 169,
     "metadata": {},
     "output_type": "execute_result"
    },
    {
     "name": "stdout",
     "output_type": "stream",
     "text": [
      "time: 47 ms (started: 2021-05-20 05:29:36 +03:00)\n"
     ]
    }
   ],
   "source": [
    "file7 = 'C:\\\\Users\\\\Asus\\\\Data analysis\\\\Учеба\\\\ДИПЛОМ\\\\Analogies\\\\Small\\\\verb-noun_3.txt'\n",
    "\n",
    "analogy_7 = get_analogy_words(file7)\n",
    "\n",
    "analogy_7"
   ]
  },
  {
   "cell_type": "code",
   "execution_count": 328,
   "metadata": {
    "scrolled": true
   },
   "outputs": [
    {
     "name": "stdout",
     "output_type": "stream",
     "text": [
      "time: 578 ms (started: 2021-05-20 16:50:23 +03:00)\n"
     ]
    }
   ],
   "source": [
    "analogy_7_embeddings = get_embeddings(tokenizer_3,model_3,analogy_7)"
   ]
  },
  {
   "cell_type": "code",
   "execution_count": 171,
   "metadata": {},
   "outputs": [
    {
     "name": "stdout",
     "output_type": "stream",
     "text": [
      "Accuracy score = 0.7064462809917356\n",
      "2137\n",
      "3025\n",
      "time: 4min 16s (started: 2021-05-20 05:29:38 +03:00)\n"
     ]
    }
   ],
   "source": [
    "analogy_7_score = solve_analogy_3CosAdd(analogy_7,analogy_7_embeddings)"
   ]
  },
  {
   "cell_type": "code",
   "execution_count": 329,
   "metadata": {
    "scrolled": true
   },
   "outputs": [
    {
     "name": "stdout",
     "output_type": "stream",
     "text": [
      "Accuracy score = 0.7818181818181819\n",
      "43\n",
      "55\n",
      "time: 3.11 s (started: 2021-05-20 16:50:24 +03:00)\n"
     ]
    }
   ],
   "source": [
    "analogy_7_score_3CosAvg = solve_analogy_3CosAvg(analogy_7,analogy_7_embeddings)"
   ]
  },
  {
   "cell_type": "markdown",
   "metadata": {},
   "source": [
    "### 2.3.8 Глагол - существительное с -ация"
   ]
  },
  {
   "cell_type": "code",
   "execution_count": 172,
   "metadata": {},
   "outputs": [
    {
     "data": {
      "text/plain": [
       "'колонизировать колонизация компилировать компиляция конфигурировать конфигурация консультировать консультация персонализировать персонализация глобализировать глобализация импровизировать импровизация максимизировать маскимизация минимизировать минимизация модернизировать модернизация оптимизировать оптимизация организовывать организация приватизировать приватизация рандомизировать рандомизация стабилизировать стабилизация стандартизировать стандартизация утилизировать утилизация визуализировать визуализация декларировать декларация монетизировать монетизация аппроксимировать аппроксимация интегрировать интеграция концентрировать концентрация урбанизировать урбанизация автоматизировать автоматизация авторизировать авторизация агитировать агитация адаптировать адаптация актуализировать актуализация ассоциировать ассоциация гиперболизировать гиперболизация деградировать деградация дегустировать дегустация дезинформировать дезинформация дезориентировать дезориентация декорировать декорация индексировать индексация иллюстрировать иллюстрация иммигрировать иммиграция идентифицировать идентификация конфисковать конфискация компрометировать компроментация комплектовать комплектация капитализировать капитализация канонизировать канонизация ориентировать ориентация оперировать операция нумеровать нумерация нормализовать нормализация мутировать мутация мотивировать мотивация модифицировать модификация мигрировать миграция медитировать медитация регламентировать регламентация'"
      ]
     },
     "execution_count": 172,
     "metadata": {},
     "output_type": "execute_result"
    },
    {
     "name": "stdout",
     "output_type": "stream",
     "text": [
      "time: 360 ms (started: 2021-05-20 05:33:54 +03:00)\n"
     ]
    }
   ],
   "source": [
    "file8 = 'C:\\\\Users\\\\Asus\\\\Data analysis\\\\Учеба\\\\ДИПЛОМ\\\\Analogies\\\\Small\\\\verb_noun_2.txt'\n",
    "\n",
    "analogy_8 = get_analogy_words(file8)\n",
    "\n",
    "analogy_8"
   ]
  },
  {
   "cell_type": "code",
   "execution_count": 330,
   "metadata": {
    "scrolled": true
   },
   "outputs": [
    {
     "name": "stdout",
     "output_type": "stream",
     "text": [
      "time: 734 ms (started: 2021-05-20 16:50:42 +03:00)\n"
     ]
    }
   ],
   "source": [
    "analogy_8_embeddings = get_embeddings(tokenizer_3,model_3,analogy_8)"
   ]
  },
  {
   "cell_type": "code",
   "execution_count": 174,
   "metadata": {},
   "outputs": [
    {
     "name": "stdout",
     "output_type": "stream",
     "text": [
      "Accuracy score = 0.6218181818181818\n",
      "1881\n",
      "3025\n",
      "time: 4min 18s (started: 2021-05-20 05:33:57 +03:00)\n"
     ]
    }
   ],
   "source": [
    "analogy_8_score = solve_analogy_3CosAdd(analogy_8,analogy_8_embeddings)"
   ]
  },
  {
   "cell_type": "code",
   "execution_count": 331,
   "metadata": {},
   "outputs": [
    {
     "name": "stdout",
     "output_type": "stream",
     "text": [
      "Accuracy score = 0.7090909090909091\n",
      "39\n",
      "55\n",
      "time: 3.16 s (started: 2021-05-20 16:50:45 +03:00)\n"
     ]
    }
   ],
   "source": [
    "analogy_8_score_3CosAvg = solve_analogy_3CosAvg(analogy_8,analogy_8_embeddings)"
   ]
  },
  {
   "cell_type": "markdown",
   "metadata": {},
   "source": [
    "### 2.3.9 Мужской род - женский род"
   ]
  },
  {
   "cell_type": "code",
   "execution_count": 175,
   "metadata": {},
   "outputs": [
    {
     "data": {
      "text/plain": [
       "'актер актриса мальчик девочка брат сестра бык корова бизнесмен бизнесвумен председатель председательница папа мама герцог герцогиня император императрица лис лисица бог богиня дедушка бабушка внук внучка жених невеста руководитель руководительница наследник наследница герои героиня муж жена король королева лев львица мужчина женщина директор директриса племянник племянница поэт поэтесса полицеискии полицеиская принц принцесса баран овца петух курица сын дочь жеребец кобыла тигр тигрица дядя тетя официант официантка вор воровка конь лошадь юноша девушка старик старуха супруг супруга красавец красавица певец певица тесть теща отчим мачеха работник работница школьник школьница виновник виновница учитель учительница писатель писательница ткач ткачиха артист артистка студент студентка чемпион чемпионка колдун колдунья журналист журналистка тракторист трактористка разведчик разведчица воспитатель воспитательница гимнаст гимнастка рекордсмен рекордсменка теннисист теннисистка бегун бегунья волк волчица продавец продавщица кот кошка барон баронесса библиотекарь библиотекарша секретарь секретарша гусь гусыня'"
      ]
     },
     "execution_count": 175,
     "metadata": {},
     "output_type": "execute_result"
    },
    {
     "name": "stdout",
     "output_type": "stream",
     "text": [
      "time: 47 ms (started: 2021-05-20 05:38:15 +03:00)\n"
     ]
    }
   ],
   "source": [
    "file9 = 'C:\\\\Users\\\\Asus\\\\Data analysis\\\\Учеба\\\\ДИПЛОМ\\\\Analogies\\\\Small\\\\мужской род - женский род.txt'\n",
    "\n",
    "analogy_9 = get_analogy_words(file9)\n",
    "\n",
    "analogy_9"
   ]
  },
  {
   "cell_type": "code",
   "execution_count": 332,
   "metadata": {
    "scrolled": true
   },
   "outputs": [
    {
     "name": "stdout",
     "output_type": "stream",
     "text": [
      "time: 672 ms (started: 2021-05-20 16:51:04 +03:00)\n"
     ]
    }
   ],
   "source": [
    "analogy_9_embeddings = get_embeddings(tokenizer_3,model_3,analogy_9)"
   ]
  },
  {
   "cell_type": "code",
   "execution_count": 177,
   "metadata": {},
   "outputs": [
    {
     "name": "stdout",
     "output_type": "stream",
     "text": [
      "Accuracy score = 0.8832702160837603\n",
      "3965\n",
      "4489\n",
      "time: 7min 50s (started: 2021-05-20 05:38:18 +03:00)\n"
     ]
    }
   ],
   "source": [
    "analogy_9_score = solve_analogy_3CosAdd(analogy_9,analogy_9_embeddings)"
   ]
  },
  {
   "cell_type": "code",
   "execution_count": 333,
   "metadata": {},
   "outputs": [
    {
     "name": "stdout",
     "output_type": "stream",
     "text": [
      "Accuracy score = 0.9701492537313433\n",
      "65\n",
      "67\n",
      "time: 4.95 s (started: 2021-05-20 16:51:06 +03:00)\n"
     ]
    }
   ],
   "source": [
    "analogy_9_score_3CosAvg = solve_analogy_3CosAvg(analogy_9,analogy_9_embeddings)"
   ]
  },
  {
   "cell_type": "markdown",
   "metadata": {},
   "source": [
    "### 2.3.10 Прилагательное - наречие"
   ]
  },
  {
   "cell_type": "code",
   "execution_count": 178,
   "metadata": {},
   "outputs": [
    {
     "data": {
      "text/plain": [
       "'удивительныи удивительно очевидныи очевидно спокоиныи спокоино веселыи весело страшныи страшно эффективныи эффективно красивыи красиво свободныи свободно яростныи яростно счастливыи счастливо непосредственныи непосредственно нечастыи нечасто удачныи удачно полезныи полезно случаиныи случаино возможныи возможно точныи точно профессиональныи профессионально быстрыи быстро тихии тихо редкии редко неохотныи неохотно безопасныи безопасно серьезныи серьезно медленныи медленно внезапныи внезапно стремительныи стремительно типичныи типично несчастныи несчастно обычныи обычно'"
      ]
     },
     "execution_count": 178,
     "metadata": {},
     "output_type": "execute_result"
    },
    {
     "name": "stdout",
     "output_type": "stream",
     "text": [
      "time: 312 ms (started: 2021-05-20 05:46:08 +03:00)\n"
     ]
    }
   ],
   "source": [
    "file10 = 'C:\\\\Users\\\\Asus\\\\Data analysis\\\\Учеба\\\\ДИПЛОМ\\\\Analogies\\\\Small\\\\прилагательное-наречие_2.txt'\n",
    "\n",
    "analogy_10 = get_analogy_words(file10)\n",
    "\n",
    "analogy_10"
   ]
  },
  {
   "cell_type": "code",
   "execution_count": 334,
   "metadata": {
    "scrolled": true
   },
   "outputs": [
    {
     "name": "stdout",
     "output_type": "stream",
     "text": [
      "time: 687 ms (started: 2021-05-20 16:52:10 +03:00)\n"
     ]
    }
   ],
   "source": [
    "analogy_10_embeddings = get_embeddings(tokenizer_3,model_3,analogy_10)"
   ]
  },
  {
   "cell_type": "code",
   "execution_count": 180,
   "metadata": {},
   "outputs": [
    {
     "name": "stdout",
     "output_type": "stream",
     "text": [
      "Accuracy score = 0.3988888888888889\n",
      "359\n",
      "900\n",
      "time: 40.8 s (started: 2021-05-20 05:46:09 +03:00)\n"
     ]
    }
   ],
   "source": [
    "analogy_10_score = solve_analogy_3CosAdd(analogy_10,analogy_10_embeddings)"
   ]
  },
  {
   "cell_type": "code",
   "execution_count": 335,
   "metadata": {},
   "outputs": [
    {
     "name": "stdout",
     "output_type": "stream",
     "text": [
      "Accuracy score = 0.6333333333333333\n",
      "19\n",
      "30\n",
      "time: 875 ms (started: 2021-05-20 16:52:11 +03:00)\n"
     ]
    }
   ],
   "source": [
    "analogy_10_score_3CosAvg = solve_analogy_3CosAvg(analogy_10,analogy_10_embeddings)"
   ]
  },
  {
   "cell_type": "markdown",
   "metadata": {},
   "source": [
    "### 2.3.11 Прилагательное - сравнительная степень"
   ]
  },
  {
   "cell_type": "code",
   "execution_count": 181,
   "metadata": {},
   "outputs": [
    {
     "data": {
      "text/plain": [
       "'яркии ярче дешевыи дешевле холодныи холоднее крутои круче глубокии глубже легкии легче быстрыи быстрее тяжелыи тяжелее высокии выше жаркии жарче длинныи длиннее громкии громче низкии ниже безопасныи безопаснее острыи острее короткии короче простои проще медленныи медленнее умныи умнее сильныи сильнее крепкии крепче теплыи теплее слабыи слабее широкии шире молодои моложе'"
      ]
     },
     "execution_count": 181,
     "metadata": {},
     "output_type": "execute_result"
    },
    {
     "name": "stdout",
     "output_type": "stream",
     "text": [
      "time: 0 ns (started: 2021-05-20 05:46:50 +03:00)\n"
     ]
    }
   ],
   "source": [
    "file11 = 'C:\\\\Users\\\\Asus\\\\Data analysis\\\\Учеба\\\\ДИПЛОМ\\\\Analogies\\\\Small\\\\прилагательное-сравнительная степень.txt'\n",
    "\n",
    "analogy_11 = get_analogy_words(file11)\n",
    "\n",
    "analogy_11"
   ]
  },
  {
   "cell_type": "code",
   "execution_count": 336,
   "metadata": {
    "scrolled": true
   },
   "outputs": [
    {
     "name": "stdout",
     "output_type": "stream",
     "text": [
      "time: 312 ms (started: 2021-05-20 16:52:33 +03:00)\n"
     ]
    }
   ],
   "source": [
    "analogy_11_embeddings = get_embeddings(tokenizer_3,model_3,analogy_11)"
   ]
  },
  {
   "cell_type": "code",
   "execution_count": 183,
   "metadata": {},
   "outputs": [
    {
     "name": "stdout",
     "output_type": "stream",
     "text": [
      "Accuracy score = 0.264\n",
      "165\n",
      "625\n",
      "time: 23.4 s (started: 2021-05-20 05:46:50 +03:00)\n"
     ]
    }
   ],
   "source": [
    "analogy_11_score = solve_analogy_3CosAdd(analogy_11,analogy_11_embeddings)"
   ]
  },
  {
   "cell_type": "code",
   "execution_count": 337,
   "metadata": {},
   "outputs": [
    {
     "name": "stdout",
     "output_type": "stream",
     "text": [
      "Accuracy score = 0.28\n",
      "7\n",
      "25\n",
      "time: 688 ms (started: 2021-05-20 16:52:35 +03:00)\n"
     ]
    }
   ],
   "source": [
    "analogy_11_score_3CosAvg = solve_analogy_3CosAvg(analogy_11,analogy_11_embeddings)"
   ]
  },
  {
   "cell_type": "markdown",
   "metadata": {},
   "source": [
    "### 2.3.12 Известная столица - страна"
   ]
  },
  {
   "cell_type": "code",
   "execution_count": 184,
   "metadata": {},
   "outputs": [
    {
     "data": {
      "text/plain": [
       "'афины греция багдад ирак бангкок таиланд пекин китаи берлин германия берн швеицария каир египет канберра австралия ханои вьетнам гавана куба хельсинки финляндия исламабад пакистан кабул афганистан лондон англия мадрид испания москва россия осло норвегия оттава канада париж франция рим италия стокгольм швеция тегеран иран токио япония'"
      ]
     },
     "execution_count": 184,
     "metadata": {},
     "output_type": "execute_result"
    },
    {
     "name": "stdout",
     "output_type": "stream",
     "text": [
      "time: 16 ms (started: 2021-05-20 05:47:14 +03:00)\n"
     ]
    }
   ],
   "source": [
    "file12 = 'C:\\\\Users\\\\Asus\\\\Data analysis\\\\Учеба\\\\ДИПЛОМ\\\\Analogies\\\\Small\\\\столица-страна.txt'\n",
    "\n",
    "analogy_12 = get_analogy_words(file12)\n",
    "\n",
    "analogy_12"
   ]
  },
  {
   "cell_type": "code",
   "execution_count": 338,
   "metadata": {},
   "outputs": [
    {
     "name": "stdout",
     "output_type": "stream",
     "text": [
      "time: 297 ms (started: 2021-05-20 16:53:25 +03:00)\n"
     ]
    }
   ],
   "source": [
    "analogy_12_embeddings = get_embeddings(tokenizer_3,model_3,analogy_12)"
   ]
  },
  {
   "cell_type": "code",
   "execution_count": 186,
   "metadata": {},
   "outputs": [
    {
     "name": "stdout",
     "output_type": "stream",
     "text": [
      "Accuracy score = 0.16257088846880907\n",
      "86\n",
      "529\n",
      "time: 18 s (started: 2021-05-20 05:47:14 +03:00)\n"
     ]
    }
   ],
   "source": [
    "analogy_12_score = solve_analogy_3CosAdd(analogy_12,analogy_12_embeddings)"
   ]
  },
  {
   "cell_type": "code",
   "execution_count": 339,
   "metadata": {},
   "outputs": [
    {
     "name": "stdout",
     "output_type": "stream",
     "text": [
      "Accuracy score = 0.2608695652173913\n",
      "6\n",
      "23\n",
      "time: 656 ms (started: 2021-05-20 16:53:28 +03:00)\n"
     ]
    }
   ],
   "source": [
    "analogy_12_score_3CosAvg = solve_analogy_3CosAvg(analogy_12,analogy_12_embeddings)"
   ]
  },
  {
   "cell_type": "markdown",
   "metadata": {},
   "source": [
    "### 2.3.13 Любая столица - страна"
   ]
  },
  {
   "cell_type": "code",
   "execution_count": 187,
   "metadata": {
    "scrolled": true
   },
   "outputs": [
    {
     "data": {
      "text/plain": [
       "'абуджа нигерия аккра гана алжир амман иордания анкара турция антананариву мадагаскар апиа самоа ашхабад туркменистан асмэра эритрея астана казахстан афины греция багдад ирак баку азербаиджан бамако мали бангкок таиланд банжул гамбия пекин китаи беирут ливан белград сербия бельмопан белиз берлин германия берн швеицария бишкек кыргызстан братислава словакия брюссель бельгия бухарест румыния будапешт венгрия бужумбура бурунди каир египет канберра австралия каракас венесуэла кишинев молдова конакри гвинея копенгаген дания дакар сенегал дамаск сирия дакка бангладеш доха катар дублин ирландия душанбе таджикистан фунафути тувалу габороне ботсвана джорджтаун гаиана ханои вьетнам хараре зимбабве гавана куба хельсинки финляндия исламабад пакистан джакарта индонезия кабул афганистан кампала уганда катманду непал хартум судан киев украина кигали руанда кингстон ямаика либревиль габон лилонгве малави лима перу лиссабон португалия любляна словения лондон англия луанда ангола лусака замбия мадрид испания манагуа никарагуа манама бахреин манила филиппины мапуту мозамбик минск беларусь могадишо сомали монровия либерия монтевидео уругваи москва россия мускат оман наироби кения нассау багамски ниамеи нигер никосия кипр нуакшот мавритания нуук гренландия осло норвегия оттава канада парамарибо суринам париж франция подгорица черногория кито эквадор рабат марокко рига латвия рим италия розо доминика сантьяго чили скопье македония софия болгария стокгольм швеция сува фиджи таибэи таивань таллинн эстония ташкент узбекистан тбилиси грузия тегусигальпа гондурас тегеран иран тхимпху бутан тирана албания токио япония триполи ливия тунис вадуц лихтенштеин валлетта мальта вена австрия вьентьян лаос вильнюс литва варшава польша виндхук намибия ереван армения загреб хорватия'"
      ]
     },
     "execution_count": 187,
     "metadata": {},
     "output_type": "execute_result"
    },
    {
     "name": "stdout",
     "output_type": "stream",
     "text": [
      "time: 47 ms (started: 2021-05-20 05:47:32 +03:00)\n"
     ]
    }
   ],
   "source": [
    "file13 = 'C:\\\\Users\\\\Asus\\\\Data analysis\\\\Учеба\\\\ДИПЛОМ\\\\Analogies\\\\Small\\\\столица-страна_2.txt'\n",
    "\n",
    "analogy_13 = get_analogy_words(file13)\n",
    "\n",
    "analogy_13"
   ]
  },
  {
   "cell_type": "code",
   "execution_count": 340,
   "metadata": {
    "collapsed": true
   },
   "outputs": [
    {
     "ename": "RuntimeError",
     "evalue": "The size of tensor a (536) must match the size of tensor b (512) at non-singleton dimension 1",
     "output_type": "error",
     "traceback": [
      "\u001b[1;31m---------------------------------------------------------------------------\u001b[0m",
      "\u001b[1;31mRuntimeError\u001b[0m                              Traceback (most recent call last)",
      "\u001b[1;32m<ipython-input-340-b4b9a3f5c5c0>\u001b[0m in \u001b[0;36m<module>\u001b[1;34m\u001b[0m\n\u001b[1;32m----> 1\u001b[1;33m \u001b[0manalogy_13_embeddings\u001b[0m \u001b[1;33m=\u001b[0m \u001b[0mget_embeddings\u001b[0m\u001b[1;33m(\u001b[0m\u001b[0mtokenizer_3\u001b[0m\u001b[1;33m,\u001b[0m\u001b[0mmodel_3\u001b[0m\u001b[1;33m,\u001b[0m\u001b[0manalogy_13\u001b[0m\u001b[1;33m)\u001b[0m\u001b[1;33m\u001b[0m\u001b[1;33m\u001b[0m\u001b[0m\n\u001b[0m",
      "\u001b[1;32m<ipython-input-228-8ee17b3fe371>\u001b[0m in \u001b[0;36mget_embeddings\u001b[1;34m(tokenizer, model, words_to_embed)\u001b[0m\n\u001b[0;32m     40\u001b[0m     \u001b[1;32mwith\u001b[0m \u001b[0mtorch\u001b[0m\u001b[1;33m.\u001b[0m\u001b[0mno_grad\u001b[0m\u001b[1;33m(\u001b[0m\u001b[1;33m)\u001b[0m\u001b[1;33m:\u001b[0m\u001b[1;33m\u001b[0m\u001b[1;33m\u001b[0m\u001b[0m\n\u001b[0;32m     41\u001b[0m \u001b[1;33m\u001b[0m\u001b[0m\n\u001b[1;32m---> 42\u001b[1;33m         \u001b[0moutputs\u001b[0m \u001b[1;33m=\u001b[0m \u001b[0mmodel\u001b[0m\u001b[1;33m(\u001b[0m\u001b[0mtokens_tensor\u001b[0m\u001b[1;33m,\u001b[0m \u001b[0msegments_tensors\u001b[0m\u001b[1;33m)\u001b[0m\u001b[1;33m\u001b[0m\u001b[1;33m\u001b[0m\u001b[0m\n\u001b[0m\u001b[0;32m     43\u001b[0m \u001b[1;33m\u001b[0m\u001b[0m\n\u001b[0;32m     44\u001b[0m         \u001b[1;31m# Evaluating the model will return a different number of objects based on\u001b[0m\u001b[1;33m\u001b[0m\u001b[1;33m\u001b[0m\u001b[1;33m\u001b[0m\u001b[0m\n",
      "\u001b[1;32m~\\anaconda3\\lib\\site-packages\\torch\\nn\\modules\\module.py\u001b[0m in \u001b[0;36m_call_impl\u001b[1;34m(self, *input, **kwargs)\u001b[0m\n\u001b[0;32m    725\u001b[0m             \u001b[0mresult\u001b[0m \u001b[1;33m=\u001b[0m \u001b[0mself\u001b[0m\u001b[1;33m.\u001b[0m\u001b[0m_slow_forward\u001b[0m\u001b[1;33m(\u001b[0m\u001b[1;33m*\u001b[0m\u001b[0minput\u001b[0m\u001b[1;33m,\u001b[0m \u001b[1;33m**\u001b[0m\u001b[0mkwargs\u001b[0m\u001b[1;33m)\u001b[0m\u001b[1;33m\u001b[0m\u001b[1;33m\u001b[0m\u001b[0m\n\u001b[0;32m    726\u001b[0m         \u001b[1;32melse\u001b[0m\u001b[1;33m:\u001b[0m\u001b[1;33m\u001b[0m\u001b[1;33m\u001b[0m\u001b[0m\n\u001b[1;32m--> 727\u001b[1;33m             \u001b[0mresult\u001b[0m \u001b[1;33m=\u001b[0m \u001b[0mself\u001b[0m\u001b[1;33m.\u001b[0m\u001b[0mforward\u001b[0m\u001b[1;33m(\u001b[0m\u001b[1;33m*\u001b[0m\u001b[0minput\u001b[0m\u001b[1;33m,\u001b[0m \u001b[1;33m**\u001b[0m\u001b[0mkwargs\u001b[0m\u001b[1;33m)\u001b[0m\u001b[1;33m\u001b[0m\u001b[1;33m\u001b[0m\u001b[0m\n\u001b[0m\u001b[0;32m    728\u001b[0m         for hook in itertools.chain(\n\u001b[0;32m    729\u001b[0m                 \u001b[0m_global_forward_hooks\u001b[0m\u001b[1;33m.\u001b[0m\u001b[0mvalues\u001b[0m\u001b[1;33m(\u001b[0m\u001b[1;33m)\u001b[0m\u001b[1;33m,\u001b[0m\u001b[1;33m\u001b[0m\u001b[1;33m\u001b[0m\u001b[0m\n",
      "\u001b[1;32m~\\anaconda3\\lib\\site-packages\\transformers\\models\\bert\\modeling_bert.py\u001b[0m in \u001b[0;36mforward\u001b[1;34m(self, input_ids, attention_mask, token_type_ids, position_ids, head_mask, inputs_embeds, encoder_hidden_states, encoder_attention_mask, past_key_values, use_cache, output_attentions, output_hidden_states, return_dict)\u001b[0m\n\u001b[0;32m    962\u001b[0m         \u001b[0mhead_mask\u001b[0m \u001b[1;33m=\u001b[0m \u001b[0mself\u001b[0m\u001b[1;33m.\u001b[0m\u001b[0mget_head_mask\u001b[0m\u001b[1;33m(\u001b[0m\u001b[0mhead_mask\u001b[0m\u001b[1;33m,\u001b[0m \u001b[0mself\u001b[0m\u001b[1;33m.\u001b[0m\u001b[0mconfig\u001b[0m\u001b[1;33m.\u001b[0m\u001b[0mnum_hidden_layers\u001b[0m\u001b[1;33m)\u001b[0m\u001b[1;33m\u001b[0m\u001b[1;33m\u001b[0m\u001b[0m\n\u001b[0;32m    963\u001b[0m \u001b[1;33m\u001b[0m\u001b[0m\n\u001b[1;32m--> 964\u001b[1;33m         embedding_output = self.embeddings(\n\u001b[0m\u001b[0;32m    965\u001b[0m             \u001b[0minput_ids\u001b[0m\u001b[1;33m=\u001b[0m\u001b[0minput_ids\u001b[0m\u001b[1;33m,\u001b[0m\u001b[1;33m\u001b[0m\u001b[1;33m\u001b[0m\u001b[0m\n\u001b[0;32m    966\u001b[0m             \u001b[0mposition_ids\u001b[0m\u001b[1;33m=\u001b[0m\u001b[0mposition_ids\u001b[0m\u001b[1;33m,\u001b[0m\u001b[1;33m\u001b[0m\u001b[1;33m\u001b[0m\u001b[0m\n",
      "\u001b[1;32m~\\anaconda3\\lib\\site-packages\\torch\\nn\\modules\\module.py\u001b[0m in \u001b[0;36m_call_impl\u001b[1;34m(self, *input, **kwargs)\u001b[0m\n\u001b[0;32m    725\u001b[0m             \u001b[0mresult\u001b[0m \u001b[1;33m=\u001b[0m \u001b[0mself\u001b[0m\u001b[1;33m.\u001b[0m\u001b[0m_slow_forward\u001b[0m\u001b[1;33m(\u001b[0m\u001b[1;33m*\u001b[0m\u001b[0minput\u001b[0m\u001b[1;33m,\u001b[0m \u001b[1;33m**\u001b[0m\u001b[0mkwargs\u001b[0m\u001b[1;33m)\u001b[0m\u001b[1;33m\u001b[0m\u001b[1;33m\u001b[0m\u001b[0m\n\u001b[0;32m    726\u001b[0m         \u001b[1;32melse\u001b[0m\u001b[1;33m:\u001b[0m\u001b[1;33m\u001b[0m\u001b[1;33m\u001b[0m\u001b[0m\n\u001b[1;32m--> 727\u001b[1;33m             \u001b[0mresult\u001b[0m \u001b[1;33m=\u001b[0m \u001b[0mself\u001b[0m\u001b[1;33m.\u001b[0m\u001b[0mforward\u001b[0m\u001b[1;33m(\u001b[0m\u001b[1;33m*\u001b[0m\u001b[0minput\u001b[0m\u001b[1;33m,\u001b[0m \u001b[1;33m**\u001b[0m\u001b[0mkwargs\u001b[0m\u001b[1;33m)\u001b[0m\u001b[1;33m\u001b[0m\u001b[1;33m\u001b[0m\u001b[0m\n\u001b[0m\u001b[0;32m    728\u001b[0m         for hook in itertools.chain(\n\u001b[0;32m    729\u001b[0m                 \u001b[0m_global_forward_hooks\u001b[0m\u001b[1;33m.\u001b[0m\u001b[0mvalues\u001b[0m\u001b[1;33m(\u001b[0m\u001b[1;33m)\u001b[0m\u001b[1;33m,\u001b[0m\u001b[1;33m\u001b[0m\u001b[1;33m\u001b[0m\u001b[0m\n",
      "\u001b[1;32m~\\anaconda3\\lib\\site-packages\\transformers\\models\\bert\\modeling_bert.py\u001b[0m in \u001b[0;36mforward\u001b[1;34m(self, input_ids, token_type_ids, position_ids, inputs_embeds, past_key_values_length)\u001b[0m\n\u001b[0;32m    205\u001b[0m         \u001b[1;32mif\u001b[0m \u001b[0mself\u001b[0m\u001b[1;33m.\u001b[0m\u001b[0mposition_embedding_type\u001b[0m \u001b[1;33m==\u001b[0m \u001b[1;34m\"absolute\"\u001b[0m\u001b[1;33m:\u001b[0m\u001b[1;33m\u001b[0m\u001b[1;33m\u001b[0m\u001b[0m\n\u001b[0;32m    206\u001b[0m             \u001b[0mposition_embeddings\u001b[0m \u001b[1;33m=\u001b[0m \u001b[0mself\u001b[0m\u001b[1;33m.\u001b[0m\u001b[0mposition_embeddings\u001b[0m\u001b[1;33m(\u001b[0m\u001b[0mposition_ids\u001b[0m\u001b[1;33m)\u001b[0m\u001b[1;33m\u001b[0m\u001b[1;33m\u001b[0m\u001b[0m\n\u001b[1;32m--> 207\u001b[1;33m             \u001b[0membeddings\u001b[0m \u001b[1;33m+=\u001b[0m \u001b[0mposition_embeddings\u001b[0m\u001b[1;33m\u001b[0m\u001b[1;33m\u001b[0m\u001b[0m\n\u001b[0m\u001b[0;32m    208\u001b[0m         \u001b[0membeddings\u001b[0m \u001b[1;33m=\u001b[0m \u001b[0mself\u001b[0m\u001b[1;33m.\u001b[0m\u001b[0mLayerNorm\u001b[0m\u001b[1;33m(\u001b[0m\u001b[0membeddings\u001b[0m\u001b[1;33m)\u001b[0m\u001b[1;33m\u001b[0m\u001b[1;33m\u001b[0m\u001b[0m\n\u001b[0;32m    209\u001b[0m         \u001b[0membeddings\u001b[0m \u001b[1;33m=\u001b[0m \u001b[0mself\u001b[0m\u001b[1;33m.\u001b[0m\u001b[0mdropout\u001b[0m\u001b[1;33m(\u001b[0m\u001b[0membeddings\u001b[0m\u001b[1;33m)\u001b[0m\u001b[1;33m\u001b[0m\u001b[1;33m\u001b[0m\u001b[0m\n",
      "\u001b[1;31mRuntimeError\u001b[0m: The size of tensor a (536) must match the size of tensor b (512) at non-singleton dimension 1"
     ]
    },
    {
     "name": "stdout",
     "output_type": "stream",
     "text": [
      "time: 375 ms (started: 2021-05-20 16:53:42 +03:00)\n"
     ]
    }
   ],
   "source": [
    "analogy_13_embeddings = get_embeddings(tokenizer_3,model_3,analogy_13)"
   ]
  },
  {
   "cell_type": "code",
   "execution_count": 342,
   "metadata": {
    "collapsed": true
   },
   "outputs": [
    {
     "ename": "KeyboardInterrupt",
     "evalue": "",
     "output_type": "error",
     "traceback": [
      "\u001b[1;31m---------------------------------------------------------------------------\u001b[0m",
      "\u001b[1;31mKeyboardInterrupt\u001b[0m                         Traceback (most recent call last)",
      "\u001b[1;32m<ipython-input-342-b7816482b784>\u001b[0m in \u001b[0;36m<module>\u001b[1;34m\u001b[0m\n\u001b[1;32m----> 1\u001b[1;33m \u001b[0manalogy_13_score\u001b[0m \u001b[1;33m=\u001b[0m \u001b[0msolve_analogy_3CosAdd\u001b[0m\u001b[1;33m(\u001b[0m\u001b[0manalogy_13\u001b[0m\u001b[1;33m,\u001b[0m\u001b[0manalogy_13_embeddings\u001b[0m\u001b[1;33m)\u001b[0m\u001b[1;33m\u001b[0m\u001b[1;33m\u001b[0m\u001b[0m\n\u001b[0m",
      "\u001b[1;32m<ipython-input-23-03593c31c17d>\u001b[0m in \u001b[0;36msolve_analogy_3CosAdd\u001b[1;34m(words_to_embed, words_embeddings)\u001b[0m\n\u001b[0;32m     29\u001b[0m                 \u001b[1;32mif\u001b[0m \u001b[1;33m(\u001b[0m\u001b[1;33m(\u001b[0m\u001b[0mword_vector\u001b[0m \u001b[1;32mnot\u001b[0m \u001b[1;32min\u001b[0m \u001b[0mvecs_to_exclude\u001b[0m\u001b[1;33m)\u001b[0m \u001b[1;33m&\u001b[0m \u001b[1;33m(\u001b[0m\u001b[0mword_1_index\u001b[0m \u001b[1;33m!=\u001b[0m \u001b[0mpair_id\u001b[0m\u001b[1;33m)\u001b[0m\u001b[1;33m)\u001b[0m\u001b[1;33m:\u001b[0m\u001b[1;33m\u001b[0m\u001b[1;33m\u001b[0m\u001b[0m\n\u001b[0;32m     30\u001b[0m \u001b[1;33m\u001b[0m\u001b[0m\n\u001b[1;32m---> 31\u001b[1;33m                     \u001b[0mres\u001b[0m \u001b[1;33m=\u001b[0m \u001b[1;36m1\u001b[0m \u001b[1;33m-\u001b[0m \u001b[0mcosine\u001b[0m\u001b[1;33m(\u001b[0m\u001b[0mwords_embeddings\u001b[0m\u001b[1;33m.\u001b[0m\u001b[0mloc\u001b[0m\u001b[1;33m[\u001b[0m\u001b[0mword_vector\u001b[0m\u001b[1;33m]\u001b[0m\u001b[1;33m,\u001b[0m \u001b[1;33m(\u001b[0m\u001b[0mwords_embeddings\u001b[0m\u001b[1;33m.\u001b[0m\u001b[0mloc\u001b[0m\u001b[1;33m[\u001b[0m\u001b[0mword_1\u001b[0m\u001b[1;33m[\u001b[0m\u001b[0mpair_id\u001b[0m\u001b[1;33m]\u001b[0m\u001b[1;33m]\u001b[0m \u001b[1;33m-\u001b[0m \u001b[0mwords_embeddings\u001b[0m\u001b[1;33m.\u001b[0m\u001b[0mloc\u001b[0m\u001b[1;33m[\u001b[0m\u001b[0mword_2\u001b[0m\u001b[1;33m[\u001b[0m\u001b[0mpair_id\u001b[0m\u001b[1;33m]\u001b[0m\u001b[1;33m]\u001b[0m \u001b[1;33m+\u001b[0m \u001b[0mwords_embeddings\u001b[0m\u001b[1;33m.\u001b[0m\u001b[0mloc\u001b[0m\u001b[1;33m[\u001b[0m\u001b[0mword_2\u001b[0m\u001b[1;33m[\u001b[0m\u001b[0mword_1_index\u001b[0m\u001b[1;33m]\u001b[0m\u001b[1;33m]\u001b[0m\u001b[1;33m)\u001b[0m\u001b[1;33m)\u001b[0m\u001b[1;33m\u001b[0m\u001b[1;33m\u001b[0m\u001b[0m\n\u001b[0m\u001b[0;32m     32\u001b[0m \u001b[1;33m\u001b[0m\u001b[0m\n\u001b[0;32m     33\u001b[0m                     \u001b[1;31m#print(capitals[pair_id], '-', countries[pair_id], '+', countries[capital_id])\u001b[0m\u001b[1;33m\u001b[0m\u001b[1;33m\u001b[0m\u001b[1;33m\u001b[0m\u001b[0m\n",
      "\u001b[1;32m~\\anaconda3\\lib\\site-packages\\scipy\\spatial\\distance.py\u001b[0m in \u001b[0;36mcosine\u001b[1;34m(u, v, w)\u001b[0m\n\u001b[0;32m    758\u001b[0m     \u001b[1;31m# cosine distance is also referred to as 'uncentered correlation',\u001b[0m\u001b[1;33m\u001b[0m\u001b[1;33m\u001b[0m\u001b[1;33m\u001b[0m\u001b[0m\n\u001b[0;32m    759\u001b[0m     \u001b[1;31m#   or 'reflective correlation'\u001b[0m\u001b[1;33m\u001b[0m\u001b[1;33m\u001b[0m\u001b[1;33m\u001b[0m\u001b[0m\n\u001b[1;32m--> 760\u001b[1;33m     \u001b[1;32mreturn\u001b[0m \u001b[0mcorrelation\u001b[0m\u001b[1;33m(\u001b[0m\u001b[0mu\u001b[0m\u001b[1;33m,\u001b[0m \u001b[0mv\u001b[0m\u001b[1;33m,\u001b[0m \u001b[0mw\u001b[0m\u001b[1;33m=\u001b[0m\u001b[0mw\u001b[0m\u001b[1;33m,\u001b[0m \u001b[0mcentered\u001b[0m\u001b[1;33m=\u001b[0m\u001b[1;32mFalse\u001b[0m\u001b[1;33m)\u001b[0m\u001b[1;33m\u001b[0m\u001b[1;33m\u001b[0m\u001b[0m\n\u001b[0m\u001b[0;32m    761\u001b[0m \u001b[1;33m\u001b[0m\u001b[0m\n\u001b[0;32m    762\u001b[0m \u001b[1;33m\u001b[0m\u001b[0m\n",
      "\u001b[1;32m~\\anaconda3\\lib\\site-packages\\scipy\\spatial\\distance.py\u001b[0m in \u001b[0;36mcorrelation\u001b[1;34m(u, v, w, centered)\u001b[0m\n\u001b[0;32m    711\u001b[0m     \u001b[0muv\u001b[0m \u001b[1;33m=\u001b[0m \u001b[0mnp\u001b[0m\u001b[1;33m.\u001b[0m\u001b[0maverage\u001b[0m\u001b[1;33m(\u001b[0m\u001b[0mu\u001b[0m \u001b[1;33m*\u001b[0m \u001b[0mv\u001b[0m\u001b[1;33m,\u001b[0m \u001b[0mweights\u001b[0m\u001b[1;33m=\u001b[0m\u001b[0mw\u001b[0m\u001b[1;33m)\u001b[0m\u001b[1;33m\u001b[0m\u001b[1;33m\u001b[0m\u001b[0m\n\u001b[0;32m    712\u001b[0m     \u001b[0muu\u001b[0m \u001b[1;33m=\u001b[0m \u001b[0mnp\u001b[0m\u001b[1;33m.\u001b[0m\u001b[0maverage\u001b[0m\u001b[1;33m(\u001b[0m\u001b[0mnp\u001b[0m\u001b[1;33m.\u001b[0m\u001b[0msquare\u001b[0m\u001b[1;33m(\u001b[0m\u001b[0mu\u001b[0m\u001b[1;33m)\u001b[0m\u001b[1;33m,\u001b[0m \u001b[0mweights\u001b[0m\u001b[1;33m=\u001b[0m\u001b[0mw\u001b[0m\u001b[1;33m)\u001b[0m\u001b[1;33m\u001b[0m\u001b[1;33m\u001b[0m\u001b[0m\n\u001b[1;32m--> 713\u001b[1;33m     \u001b[0mvv\u001b[0m \u001b[1;33m=\u001b[0m \u001b[0mnp\u001b[0m\u001b[1;33m.\u001b[0m\u001b[0maverage\u001b[0m\u001b[1;33m(\u001b[0m\u001b[0mnp\u001b[0m\u001b[1;33m.\u001b[0m\u001b[0msquare\u001b[0m\u001b[1;33m(\u001b[0m\u001b[0mv\u001b[0m\u001b[1;33m)\u001b[0m\u001b[1;33m,\u001b[0m \u001b[0mweights\u001b[0m\u001b[1;33m=\u001b[0m\u001b[0mw\u001b[0m\u001b[1;33m)\u001b[0m\u001b[1;33m\u001b[0m\u001b[1;33m\u001b[0m\u001b[0m\n\u001b[0m\u001b[0;32m    714\u001b[0m     \u001b[0mdist\u001b[0m \u001b[1;33m=\u001b[0m \u001b[1;36m1.0\u001b[0m \u001b[1;33m-\u001b[0m \u001b[0muv\u001b[0m \u001b[1;33m/\u001b[0m \u001b[0mnp\u001b[0m\u001b[1;33m.\u001b[0m\u001b[0msqrt\u001b[0m\u001b[1;33m(\u001b[0m\u001b[0muu\u001b[0m \u001b[1;33m*\u001b[0m \u001b[0mvv\u001b[0m\u001b[1;33m)\u001b[0m\u001b[1;33m\u001b[0m\u001b[1;33m\u001b[0m\u001b[0m\n\u001b[0;32m    715\u001b[0m     \u001b[1;32mreturn\u001b[0m \u001b[0mdist\u001b[0m\u001b[1;33m\u001b[0m\u001b[1;33m\u001b[0m\u001b[0m\n",
      "\u001b[1;31mKeyboardInterrupt\u001b[0m: "
     ]
    },
    {
     "name": "stdout",
     "output_type": "stream",
     "text": [
      "time: 18.6 s (started: 2021-05-20 16:54:27 +03:00)\n"
     ]
    }
   ],
   "source": [
    "analogy_13_score = solve_analogy_3CosAdd(analogy_13,analogy_13_embeddings)"
   ]
  },
  {
   "cell_type": "code",
   "execution_count": 341,
   "metadata": {},
   "outputs": [
    {
     "name": "stdout",
     "output_type": "stream",
     "text": [
      "Accuracy score = 0.043478260869565216\n",
      "5\n",
      "115\n",
      "time: 12.9 s (started: 2021-05-20 16:54:09 +03:00)\n"
     ]
    }
   ],
   "source": [
    "analogy_13_score_3CosAvg = solve_analogy_3CosAvg(analogy_13,analogy_13_embeddings)"
   ]
  },
  {
   "cell_type": "code",
   "execution_count": null,
   "metadata": {},
   "outputs": [],
   "source": []
  },
  {
   "cell_type": "markdown",
   "metadata": {},
   "source": [
    "### Сохраним результаты по RuBERT Conversational"
   ]
  },
  {
   "cell_type": "code",
   "execution_count": 208,
   "metadata": {},
   "outputs": [
    {
     "name": "stdout",
     "output_type": "stream",
     "text": [
      "time: 15 ms (started: 2021-05-20 12:39:53 +03:00)\n"
     ]
    }
   ],
   "source": [
    "RuBERT_Conversational_scores = [analogy_1_score,analogy_2_score,analogy_3_score,analogy_4_score,\n",
    "                analogy_5_score,analogy_6_score,analogy_7_score,analogy_8_score,\n",
    "                analogy_9_score,analogy_10_score,analogy_11_score,analogy_12_score,\n",
    "                analogy_13_score]"
   ]
  },
  {
   "cell_type": "code",
   "execution_count": 209,
   "metadata": {},
   "outputs": [
    {
     "data": {
      "text/plain": [
       "[0.5651577503429356,\n",
       " 0.6323616894705533,\n",
       " 0.09911242603550297,\n",
       " 0.18244170096021947,\n",
       " 0.9839,\n",
       " 0.795280612244898,\n",
       " 0.7064462809917356,\n",
       " 0.6218181818181818,\n",
       " 0.8832702160837603,\n",
       " 0.3988888888888889,\n",
       " 0.264,\n",
       " 0.16257088846880907,\n",
       " 0.04]"
      ]
     },
     "execution_count": 209,
     "metadata": {},
     "output_type": "execute_result"
    },
    {
     "name": "stdout",
     "output_type": "stream",
     "text": [
      "time: 16 ms (started: 2021-05-20 12:39:53 +03:00)\n"
     ]
    }
   ],
   "source": [
    "RuBERT_Conversational_scores"
   ]
  },
  {
   "cell_type": "code",
   "execution_count": 343,
   "metadata": {},
   "outputs": [
    {
     "name": "stdout",
     "output_type": "stream",
     "text": [
      "time: 0 ns (started: 2021-05-20 16:58:24 +03:00)\n"
     ]
    }
   ],
   "source": [
    "RuBERT_Conversational_scores_3CosAvg = [analogy_1_score_3CosAvg,analogy_2_score_3CosAvg,analogy_3_score_3CosAvg,\n",
    "                         analogy_4_score_3CosAvg,analogy_5_score_3CosAvg,analogy_6_score_3CosAvg,\n",
    "                         analogy_7_score_3CosAvg,analogy_8_score_3CosAvg,analogy_9_score_3CosAvg,\n",
    "                         analogy_10_score_3CosAvg,analogy_11_score_3CosAvg,analogy_12_score_3CosAvg,\n",
    "                         analogy_13_score_3CosAvg]"
   ]
  },
  {
   "cell_type": "code",
   "execution_count": 344,
   "metadata": {},
   "outputs": [
    {
     "data": {
      "text/plain": [
       "[0.9259259259259259,\n",
       " 0.7804878048780488,\n",
       " 0.15384615384615385,\n",
       " 0.3333333333333333,\n",
       " 1.0,\n",
       " 0.9285714285714286,\n",
       " 0.7818181818181819,\n",
       " 0.7090909090909091,\n",
       " 0.9701492537313433,\n",
       " 0.6333333333333333,\n",
       " 0.28,\n",
       " 0.2608695652173913,\n",
       " 0.043478260869565216]"
      ]
     },
     "execution_count": 344,
     "metadata": {},
     "output_type": "execute_result"
    },
    {
     "name": "stdout",
     "output_type": "stream",
     "text": [
      "time: 0 ns (started: 2021-05-20 16:58:25 +03:00)\n"
     ]
    }
   ],
   "source": [
    "RuBERT_Conversational_scores_3CosAvg"
   ]
  },
  {
   "cell_type": "code",
   "execution_count": null,
   "metadata": {},
   "outputs": [],
   "source": []
  },
  {
   "cell_type": "code",
   "execution_count": null,
   "metadata": {},
   "outputs": [],
   "source": []
  },
  {
   "cell_type": "markdown",
   "metadata": {},
   "source": [
    "# Результаты"
   ]
  },
  {
   "cell_type": "markdown",
   "metadata": {},
   "source": [
    "## 3CosAdd"
   ]
  },
  {
   "cell_type": "code",
   "execution_count": 210,
   "metadata": {
    "collapsed": true
   },
   "outputs": [
    {
     "data": {
      "text/plain": [
       "[0.654320987654321,\n",
       " 0.7638310529446758,\n",
       " 0.19822485207100593,\n",
       " 0.3319615912208505,\n",
       " 0.9724,\n",
       " 0.7767857142857143,\n",
       " 0.8105785123966942,\n",
       " 0.6882644628099174,\n",
       " 0.890844286032524,\n",
       " 0.42444444444444446,\n",
       " 0.5216,\n",
       " 0.1285444234404537,\n",
       " 0.04241965973534972]"
      ]
     },
     "execution_count": 210,
     "metadata": {},
     "output_type": "execute_result"
    },
    {
     "name": "stdout",
     "output_type": "stream",
     "text": [
      "time: 0 ns (started: 2021-05-20 12:39:54 +03:00)\n"
     ]
    }
   ],
   "source": [
    "RuBERT_scores"
   ]
  },
  {
   "cell_type": "code",
   "execution_count": 212,
   "metadata": {
    "collapsed": true
   },
   "outputs": [
    {
     "data": {
      "text/plain": [
       "[0.6611796982167353,\n",
       " 0.8649613325401546,\n",
       " 0.28550295857988167,\n",
       " 0.43209876543209874,\n",
       " 0.9884,\n",
       " 0.9052933673469388,\n",
       " 0.9705785123966942,\n",
       " 0.8284297520661157,\n",
       " 0.9610158164401871,\n",
       " 0.7288888888888889,\n",
       " 0.6048,\n",
       " 0.2684310018903592,\n",
       " 0.046275992438563326]"
      ]
     },
     "execution_count": 212,
     "metadata": {},
     "output_type": "execute_result"
    },
    {
     "name": "stdout",
     "output_type": "stream",
     "text": [
      "time: 46 ms (started: 2021-05-20 12:39:55 +03:00)\n"
     ]
    }
   ],
   "source": [
    "RuBERT_sentence_scores"
   ]
  },
  {
   "cell_type": "code",
   "execution_count": 213,
   "metadata": {
    "collapsed": true
   },
   "outputs": [
    {
     "data": {
      "text/plain": [
       "[0.5651577503429356,\n",
       " 0.6323616894705533,\n",
       " 0.09911242603550297,\n",
       " 0.18244170096021947,\n",
       " 0.9839,\n",
       " 0.795280612244898,\n",
       " 0.7064462809917356,\n",
       " 0.6218181818181818,\n",
       " 0.8832702160837603,\n",
       " 0.3988888888888889,\n",
       " 0.264,\n",
       " 0.16257088846880907,\n",
       " 0.04]"
      ]
     },
     "execution_count": 213,
     "metadata": {},
     "output_type": "execute_result"
    },
    {
     "name": "stdout",
     "output_type": "stream",
     "text": [
      "time: 0 ns (started: 2021-05-20 12:40:13 +03:00)\n"
     ]
    }
   ],
   "source": [
    "RuBERT_Conversational_scores"
   ]
  },
  {
   "cell_type": "code",
   "execution_count": 214,
   "metadata": {},
   "outputs": [
    {
     "name": "stdout",
     "output_type": "stream",
     "text": [
      "time: 31 ms (started: 2021-05-20 12:42:09 +03:00)\n"
     ]
    }
   ],
   "source": [
    "RuBERT_scores_rouned = [ round(elem, 2) for elem in RuBERT_scores ]\n",
    "RuBERT_sentence_scores_rouned = [ round(elem, 2) for elem in RuBERT_sentence_scores ]\n",
    "RuBERT_Conversational_scores_rouned = [ round(elem, 2) for elem in RuBERT_Conversational_scores ]"
   ]
  },
  {
   "cell_type": "code",
   "execution_count": 220,
   "metadata": {},
   "outputs": [
    {
     "name": "stdout",
     "output_type": "stream",
     "text": [
      "time: 15 ms (started: 2021-05-20 14:21:01 +03:00)\n"
     ]
    }
   ],
   "source": [
    "results_df = pd.DataFrame()\n",
    "\n",
    "results_df = results_df.append(pd.Series(RuBERT_scores_rouned),ignore_index=True)\n",
    "results_df = results_df.append(pd.Series(RuBERT_sentence_scores_rouned),ignore_index=True)\n",
    "results_df = results_df.append(pd.Series(RuBERT_Conversational_scores_rouned),ignore_index=True)\n",
    "\n",
    "results_df.index = ['RuBERT', 'RuBERT Sentence', 'RuBERT Conversational']"
   ]
  },
  {
   "cell_type": "code",
   "execution_count": 221,
   "metadata": {},
   "outputs": [
    {
     "data": {
      "text/html": [
       "<div>\n",
       "<style scoped>\n",
       "    .dataframe tbody tr th:only-of-type {\n",
       "        vertical-align: middle;\n",
       "    }\n",
       "\n",
       "    .dataframe tbody tr th {\n",
       "        vertical-align: top;\n",
       "    }\n",
       "\n",
       "    .dataframe thead th {\n",
       "        text-align: right;\n",
       "    }\n",
       "</style>\n",
       "<table border=\"1\" class=\"dataframe\">\n",
       "  <thead>\n",
       "    <tr style=\"text-align: right;\">\n",
       "      <th></th>\n",
       "      <th>0</th>\n",
       "      <th>1</th>\n",
       "      <th>2</th>\n",
       "      <th>3</th>\n",
       "      <th>4</th>\n",
       "      <th>5</th>\n",
       "      <th>6</th>\n",
       "      <th>7</th>\n",
       "      <th>8</th>\n",
       "      <th>9</th>\n",
       "      <th>10</th>\n",
       "      <th>11</th>\n",
       "      <th>12</th>\n",
       "    </tr>\n",
       "  </thead>\n",
       "  <tbody>\n",
       "    <tr>\n",
       "      <th>RuBERT</th>\n",
       "      <td>0.65</td>\n",
       "      <td>0.76</td>\n",
       "      <td>0.20</td>\n",
       "      <td>0.33</td>\n",
       "      <td>0.97</td>\n",
       "      <td>0.78</td>\n",
       "      <td>0.81</td>\n",
       "      <td>0.69</td>\n",
       "      <td>0.89</td>\n",
       "      <td>0.42</td>\n",
       "      <td>0.52</td>\n",
       "      <td>0.13</td>\n",
       "      <td>0.04</td>\n",
       "    </tr>\n",
       "    <tr>\n",
       "      <th>RuBERT Sentence</th>\n",
       "      <td>0.66</td>\n",
       "      <td>0.86</td>\n",
       "      <td>0.29</td>\n",
       "      <td>0.43</td>\n",
       "      <td>0.99</td>\n",
       "      <td>0.91</td>\n",
       "      <td>0.97</td>\n",
       "      <td>0.83</td>\n",
       "      <td>0.96</td>\n",
       "      <td>0.73</td>\n",
       "      <td>0.60</td>\n",
       "      <td>0.27</td>\n",
       "      <td>0.05</td>\n",
       "    </tr>\n",
       "    <tr>\n",
       "      <th>RuBERT Conversational</th>\n",
       "      <td>0.57</td>\n",
       "      <td>0.63</td>\n",
       "      <td>0.10</td>\n",
       "      <td>0.18</td>\n",
       "      <td>0.98</td>\n",
       "      <td>0.80</td>\n",
       "      <td>0.71</td>\n",
       "      <td>0.62</td>\n",
       "      <td>0.88</td>\n",
       "      <td>0.40</td>\n",
       "      <td>0.26</td>\n",
       "      <td>0.16</td>\n",
       "      <td>0.04</td>\n",
       "    </tr>\n",
       "  </tbody>\n",
       "</table>\n",
       "</div>"
      ],
      "text/plain": [
       "                         0     1     2     3     4     5     6     7     8   \\\n",
       "RuBERT                 0.65  0.76  0.20  0.33  0.97  0.78  0.81  0.69  0.89   \n",
       "RuBERT Sentence        0.66  0.86  0.29  0.43  0.99  0.91  0.97  0.83  0.96   \n",
       "RuBERT Conversational  0.57  0.63  0.10  0.18  0.98  0.80  0.71  0.62  0.88   \n",
       "\n",
       "                         9     10    11    12  \n",
       "RuBERT                 0.42  0.52  0.13  0.04  \n",
       "RuBERT Sentence        0.73  0.60  0.27  0.05  \n",
       "RuBERT Conversational  0.40  0.26  0.16  0.04  "
      ]
     },
     "execution_count": 221,
     "metadata": {},
     "output_type": "execute_result"
    },
    {
     "name": "stdout",
     "output_type": "stream",
     "text": [
      "time: 313 ms (started: 2021-05-20 14:21:02 +03:00)\n"
     ]
    }
   ],
   "source": [
    "results_df"
   ]
  },
  {
   "cell_type": "code",
   "execution_count": null,
   "metadata": {},
   "outputs": [],
   "source": [
    "axes = sns.heatmap(df, annot=True, cmap='Blues', cbar=False)"
   ]
  },
  {
   "cell_type": "code",
   "execution_count": 223,
   "metadata": {},
   "outputs": [
    {
     "data": {
      "image/png": "[encoded data removed]",
      "text/plain": [
       "<Figure size 1080x504 with 1 Axes>"
      ]
     },
     "metadata": {
      "needs_background": "light"
     },
     "output_type": "display_data"
    },
    {
     "name": "stdout",
     "output_type": "stream",
     "text": [
      "time: 2.45 s (started: 2021-05-20 14:22:43 +03:00)\n"
     ]
    }
   ],
   "source": [
    "f, axes = plt.subplots(1, 1, figsize=(15, 7))\n",
    "axes = sns.heatmap(results_df, annot=True, cmap='Blues', cbar=False)"
   ]
  },
  {
   "cell_type": "code",
   "execution_count": null,
   "metadata": {},
   "outputs": [],
   "source": []
  },
  {
   "cell_type": "code",
   "execution_count": null,
   "metadata": {},
   "outputs": [],
   "source": []
  },
  {
   "cell_type": "markdown",
   "metadata": {},
   "source": [
    "## 3CosAvg"
   ]
  },
  {
   "cell_type": "code",
   "execution_count": 345,
   "metadata": {
    "collapsed": true
   },
   "outputs": [
    {
     "data": {
      "text/plain": [
       "[0.8148148148148148,\n",
       " 0.8292682926829268,\n",
       " 0.3076923076923077,\n",
       " 0.4444444444444444,\n",
       " 0.99,\n",
       " 0.9464285714285714,\n",
       " 0.9818181818181818,\n",
       " 0.8,\n",
       " 0.9701492537313433,\n",
       " 0.6333333333333333,\n",
       " 0.8,\n",
       " 0.08695652173913043,\n",
       " 0.043478260869565216]"
      ]
     },
     "execution_count": 345,
     "metadata": {},
     "output_type": "execute_result"
    },
    {
     "name": "stdout",
     "output_type": "stream",
     "text": [
      "time: 16 ms (started: 2021-05-20 16:59:38 +03:00)\n"
     ]
    }
   ],
   "source": [
    "RuBERT_scores_3CosAvg"
   ]
  },
  {
   "cell_type": "code",
   "execution_count": 346,
   "metadata": {
    "collapsed": true
   },
   "outputs": [
    {
     "data": {
      "text/plain": [
       "[0.8518518518518519,\n",
       " 0.975609756097561,\n",
       " 0.3076923076923077,\n",
       " 0.5185185185185185,\n",
       " 1.0,\n",
       " 0.9821428571428571,\n",
       " 1.0,\n",
       " 0.8909090909090909,\n",
       " 1.0,\n",
       " 0.8333333333333334,\n",
       " 0.84,\n",
       " 0.391304347826087,\n",
       " 0.043478260869565216]"
      ]
     },
     "execution_count": 346,
     "metadata": {},
     "output_type": "execute_result"
    },
    {
     "name": "stdout",
     "output_type": "stream",
     "text": [
      "time: 0 ns (started: 2021-05-20 16:59:38 +03:00)\n"
     ]
    }
   ],
   "source": [
    "RuBERT_sentence_scores_3CosAvg"
   ]
  },
  {
   "cell_type": "code",
   "execution_count": 347,
   "metadata": {
    "collapsed": true
   },
   "outputs": [
    {
     "data": {
      "text/plain": [
       "[0.9259259259259259,\n",
       " 0.7804878048780488,\n",
       " 0.15384615384615385,\n",
       " 0.3333333333333333,\n",
       " 1.0,\n",
       " 0.9285714285714286,\n",
       " 0.7818181818181819,\n",
       " 0.7090909090909091,\n",
       " 0.9701492537313433,\n",
       " 0.6333333333333333,\n",
       " 0.28,\n",
       " 0.2608695652173913,\n",
       " 0.043478260869565216]"
      ]
     },
     "execution_count": 347,
     "metadata": {},
     "output_type": "execute_result"
    },
    {
     "name": "stdout",
     "output_type": "stream",
     "text": [
      "time: 0 ns (started: 2021-05-20 16:59:39 +03:00)\n"
     ]
    }
   ],
   "source": [
    "RuBERT_Conversational_scores_3CosAvg"
   ]
  },
  {
   "cell_type": "code",
   "execution_count": 348,
   "metadata": {},
   "outputs": [
    {
     "name": "stdout",
     "output_type": "stream",
     "text": [
      "time: 0 ns (started: 2021-05-20 17:01:01 +03:00)\n"
     ]
    }
   ],
   "source": [
    "RuBERT_scores_rouned = [ round(elem, 2) for elem in RuBERT_scores_3CosAvg ]\n",
    "RuBERT_sentence_scores_rouned = [ round(elem, 2) for elem in RuBERT_sentence_scores_3CosAvg ]\n",
    "RuBERT_Conversational_scores_rouned = [ round(elem, 2) for elem in RuBERT_Conversational_scores_3CosAvg ]"
   ]
  },
  {
   "cell_type": "code",
   "execution_count": 349,
   "metadata": {},
   "outputs": [
    {
     "name": "stdout",
     "output_type": "stream",
     "text": [
      "time: 47 ms (started: 2021-05-20 17:01:02 +03:00)\n"
     ]
    }
   ],
   "source": [
    "results_df_3CosAvg = pd.DataFrame()\n",
    "\n",
    "results_df_3CosAvg = results_df_3CosAvg.append(pd.Series(RuBERT_scores_rouned),ignore_index=True)\n",
    "results_df_3CosAvg = results_df_3CosAvg.append(pd.Series(RuBERT_sentence_scores_rouned),ignore_index=True)\n",
    "results_df_3CosAvg = results_df_3CosAvg.append(pd.Series(RuBERT_Conversational_scores_rouned),ignore_index=True)\n",
    "\n",
    "results_df_3CosAvg.index = ['RuBERT', 'RuBERT Sentence', 'RuBERT Conversational']"
   ]
  },
  {
   "cell_type": "code",
   "execution_count": 352,
   "metadata": {},
   "outputs": [
    {
     "data": {
      "text/html": [
       "<div>\n",
       "<style scoped>\n",
       "    .dataframe tbody tr th:only-of-type {\n",
       "        vertical-align: middle;\n",
       "    }\n",
       "\n",
       "    .dataframe tbody tr th {\n",
       "        vertical-align: top;\n",
       "    }\n",
       "\n",
       "    .dataframe thead th {\n",
       "        text-align: right;\n",
       "    }\n",
       "</style>\n",
       "<table border=\"1\" class=\"dataframe\">\n",
       "  <thead>\n",
       "    <tr style=\"text-align: right;\">\n",
       "      <th></th>\n",
       "      <th>0</th>\n",
       "      <th>1</th>\n",
       "      <th>2</th>\n",
       "      <th>3</th>\n",
       "      <th>4</th>\n",
       "      <th>5</th>\n",
       "      <th>6</th>\n",
       "      <th>7</th>\n",
       "      <th>8</th>\n",
       "      <th>9</th>\n",
       "      <th>10</th>\n",
       "      <th>11</th>\n",
       "      <th>12</th>\n",
       "    </tr>\n",
       "  </thead>\n",
       "  <tbody>\n",
       "    <tr>\n",
       "      <th>RuBERT</th>\n",
       "      <td>0.81</td>\n",
       "      <td>0.83</td>\n",
       "      <td>0.31</td>\n",
       "      <td>0.44</td>\n",
       "      <td>0.99</td>\n",
       "      <td>0.95</td>\n",
       "      <td>0.98</td>\n",
       "      <td>0.80</td>\n",
       "      <td>0.97</td>\n",
       "      <td>0.63</td>\n",
       "      <td>0.80</td>\n",
       "      <td>0.09</td>\n",
       "      <td>0.04</td>\n",
       "    </tr>\n",
       "    <tr>\n",
       "      <th>RuBERT Sentence</th>\n",
       "      <td>0.85</td>\n",
       "      <td>0.98</td>\n",
       "      <td>0.31</td>\n",
       "      <td>0.52</td>\n",
       "      <td>1.00</td>\n",
       "      <td>0.98</td>\n",
       "      <td>1.00</td>\n",
       "      <td>0.89</td>\n",
       "      <td>1.00</td>\n",
       "      <td>0.83</td>\n",
       "      <td>0.84</td>\n",
       "      <td>0.39</td>\n",
       "      <td>0.04</td>\n",
       "    </tr>\n",
       "    <tr>\n",
       "      <th>RuBERT Conversational</th>\n",
       "      <td>0.93</td>\n",
       "      <td>0.78</td>\n",
       "      <td>0.15</td>\n",
       "      <td>0.33</td>\n",
       "      <td>1.00</td>\n",
       "      <td>0.93</td>\n",
       "      <td>0.78</td>\n",
       "      <td>0.71</td>\n",
       "      <td>0.97</td>\n",
       "      <td>0.63</td>\n",
       "      <td>0.28</td>\n",
       "      <td>0.26</td>\n",
       "      <td>0.04</td>\n",
       "    </tr>\n",
       "  </tbody>\n",
       "</table>\n",
       "</div>"
      ],
      "text/plain": [
       "                         0     1     2     3     4     5     6     7     8   \\\n",
       "RuBERT                 0.81  0.83  0.31  0.44  0.99  0.95  0.98  0.80  0.97   \n",
       "RuBERT Sentence        0.85  0.98  0.31  0.52  1.00  0.98  1.00  0.89  1.00   \n",
       "RuBERT Conversational  0.93  0.78  0.15  0.33  1.00  0.93  0.78  0.71  0.97   \n",
       "\n",
       "                         9     10    11    12  \n",
       "RuBERT                 0.63  0.80  0.09  0.04  \n",
       "RuBERT Sentence        0.83  0.84  0.39  0.04  \n",
       "RuBERT Conversational  0.63  0.28  0.26  0.04  "
      ]
     },
     "execution_count": 352,
     "metadata": {},
     "output_type": "execute_result"
    },
    {
     "name": "stdout",
     "output_type": "stream",
     "text": [
      "time: 47 ms (started: 2021-05-20 17:01:13 +03:00)\n"
     ]
    }
   ],
   "source": [
    "results_df_3CosAvg"
   ]
  },
  {
   "cell_type": "code",
   "execution_count": 353,
   "metadata": {},
   "outputs": [
    {
     "data": {
      "image/png": "[encoded data removed]",
      "text/plain": [
       "<Figure size 1080x504 with 1 Axes>"
      ]
     },
     "metadata": {
      "needs_background": "light"
     },
     "output_type": "display_data"
    },
    {
     "name": "stdout",
     "output_type": "stream",
     "text": [
      "time: 328 ms (started: 2021-05-20 17:01:14 +03:00)\n"
     ]
    }
   ],
   "source": [
    "f, axes = plt.subplots(1, 1, figsize=(15, 7))\n",
    "axes = sns.heatmap(results_df_3CosAvg, annot=True, cmap='Blues', cbar=False)"
   ]
  },
  {
   "cell_type": "code",
   "execution_count": null,
   "metadata": {},
   "outputs": [],
   "source": []
  },
  {
   "cell_type": "markdown",
   "metadata": {},
   "source": [
    "# Сохраним результаты"
   ]
  },
  {
   "cell_type": "code",
   "execution_count": 354,
   "metadata": {},
   "outputs": [
    {
     "name": "stdout",
     "output_type": "stream",
     "text": [
      "time: 687 ms (started: 2021-05-20 17:09:31 +03:00)\n"
     ]
    }
   ],
   "source": [
    "results_df.to_csv('bert_results_3CosAdd', sep='\\t')"
   ]
  },
  {
   "cell_type": "code",
   "execution_count": 355,
   "metadata": {},
   "outputs": [
    {
     "name": "stdout",
     "output_type": "stream",
     "text": [
      "time: 31 ms (started: 2021-05-20 17:09:32 +03:00)\n"
     ]
    }
   ],
   "source": [
    "results_df_3CosAvg.to_csv('bert_results_3CosAvg', sep='\\t')"
   ]
  },
  {
   "cell_type": "code",
   "execution_count": null,
   "metadata": {},
   "outputs": [],
   "source": []
  },
  {
   "cell_type": "code",
   "execution_count": null,
   "metadata": {},
   "outputs": [],
   "source": []
  },
  {
   "cell_type": "code",
   "execution_count": null,
   "metadata": {},
   "outputs": [],
   "source": []
  },
  {
   "cell_type": "code",
   "execution_count": null,
   "metadata": {},
   "outputs": [],
   "source": []
  },
  {
   "cell_type": "code",
   "execution_count": null,
   "metadata": {},
   "outputs": [],
   "source": [
    "adj-NOTadj.txt\n",
    "country-adjective.txt\n",
    "country-language.txt\n",
    "country-money.txt\n",
    "singular-plural.txt\n",
    "verb-noun.txt\n",
    "verb-noun_3.txt\n",
    "verb_noun_2.txt\n",
    "мужской род - женский род.txt\n",
    "прилагательное-наречие_2.txt\n",
    "прилагательное-сравнительная степень.txt\n",
    "столица-страна.txt\n",
    "столица-страна_2.txt"
   ]
  },
  {
   "cell_type": "code",
   "execution_count": null,
   "metadata": {},
   "outputs": [],
   "source": []
  },
  {
   "cell_type": "code",
   "execution_count": null,
   "metadata": {},
   "outputs": [],
   "source": []
  },
  {
   "cell_type": "code",
   "execution_count": null,
   "metadata": {},
   "outputs": [],
   "source": []
  },
  {
   "cell_type": "code",
   "execution_count": null,
   "metadata": {},
   "outputs": [],
   "source": []
  },
  {
   "cell_type": "code",
   "execution_count": null,
   "metadata": {},
   "outputs": [],
   "source": []
  },
  {
   "cell_type": "code",
   "execution_count": null,
   "metadata": {},
   "outputs": [],
   "source": []
  },
  {
   "cell_type": "code",
   "execution_count": null,
   "metadata": {},
   "outputs": [],
   "source": []
  }
 ],
 "metadata": {
  "kernelspec": {
   "display_name": "Python 3",
   "language": "python",
   "name": "python3"
  },
  "language_info": {
   "codemirror_mode": {
    "name": "ipython",
    "version": 3
   },
   "file_extension": ".py",
   "mimetype": "text/x-python",
   "name": "python",
   "nbconvert_exporter": "python",
   "pygments_lexer": "ipython3",
   "version": "3.8.3"
  }
 },
 "nbformat": 4,
 "nbformat_minor": 4
}
