{
 "cells": [
  {
   "cell_type": "code",
   "execution_count": 1,
   "metadata": {},
   "outputs": [
    {
     "name": "stdout",
     "output_type": "stream",
     "text": [
      "time: 0 ns (started: 2021-05-19 14:53:46 +03:00)\n"
     ]
    }
   ],
   "source": [
    "import tensorflow as tf\n",
    "import tensorflow_hub as hub\n",
    "import pandas as pd\n",
    "import matplotlib.pyplot as plt\n",
    "\n",
    "from sklearn.decomposition import PCA\n",
    "from scipy.spatial.distance import cosine\n",
    "\n",
    "%load_ext autotime"
   ]
  },
  {
   "cell_type": "code",
   "execution_count": 9,
   "metadata": {},
   "outputs": [
    {
     "name": "stdout",
     "output_type": "stream",
     "text": [
      "INFO:tensorflow:Saver not created because there are no variables in the graph to restore\n"
     ]
    },
    {
     "name": "stderr",
     "output_type": "stream",
     "text": [
      "INFO:tensorflow:Saver not created because there are no variables in the graph to restore\n"
     ]
    },
    {
     "data": {
      "text/plain": [
       "array([[[ 0.0581738 ,  0.22493353, -0.19202927, ..., -0.14448935,\n",
       "         -0.12425558,  1.0148408 ],\n",
       "        [ 0.53596294,  0.28685364,  0.28028548, ..., -0.08028373,\n",
       "          0.49089068,  0.75939953]],\n",
       "\n",
       "       [[ 0.34336382,  1.0031188 , -0.15972555, ...,  1.2442508 ,\n",
       "          0.61029303,  0.43388307],\n",
       "        [ 0.0537075 ,  0.0226092 ,  0.01074906, ...,  0.08748816,\n",
       "         -0.00664151, -0.01344293]]], dtype=float32)"
      ]
     },
     "execution_count": 9,
     "metadata": {},
     "output_type": "execute_result"
    }
   ],
   "source": [
    "elmo = hub.Module(\"http://files.deeppavlov.ai/deeppavlov_data/elmo_ru-news_wmt11-16_1.5M_steps.tar.gz\",trainable=True)\n",
    "sess = tf.Session()\n",
    "sess.run(tf.global_variables_initializer())\n",
    "embeddings = elmo([\"это предложение\", \"word\"], signature=\"default\", as_dict=True)[\"elmo\"]\n",
    "sess.run(embeddings)"
   ]
  },
  {
   "cell_type": "code",
   "execution_count": null,
   "metadata": {},
   "outputs": [],
   "source": []
  },
  {
   "cell_type": "code",
   "execution_count": null,
   "metadata": {},
   "outputs": [],
   "source": []
  },
  {
   "cell_type": "code",
   "execution_count": null,
   "metadata": {},
   "outputs": [
    {
     "name": "stdout",
     "output_type": "stream",
     "text": [
      "INFO:tensorflow:Saver not created because there are no variables in the graph to restore\n"
     ]
    },
    {
     "name": "stderr",
     "output_type": "stream",
     "text": [
      "INFO:tensorflow:Saver not created because there are no variables in the graph to restore\n"
     ]
    },
    {
     "name": "stdout",
     "output_type": "stream",
     "text": [
      "time: 9min 24s (started: 2021-05-18 16:40:27 +03:00)\n"
     ]
    }
   ],
   "source": [
    "elmo = hub.Module(\"http://files.deeppavlov.ai/deeppavlov_data/elmo_ru-wiki_600k_steps.tar.gz\",trainable=True)\n",
    "sess = tf.Session()\n",
    "sess.run(tf.global_variables_initializer())\n",
    "embeddings = elmo(['Франция', 'Париж', \n",
    "                   'Москва', 'Россия',\n",
    "                   'Берлин', 'Германия',\n",
    "                   'Мадрид', 'Испания'], signature=\"default\", as_dict=True)[\"elmo\"]\n",
    "sess.run(embeddings)"
   ]
  },
  {
   "cell_type": "code",
   "execution_count": 5,
   "metadata": {},
   "outputs": [
    {
     "name": "stdout",
     "output_type": "stream",
     "text": [
      "time: 172 ms (started: 2021-05-18 17:07:14 +03:00)\n"
     ]
    }
   ],
   "source": [
    "country_capital = sess.run(embeddings)"
   ]
  },
  {
   "cell_type": "code",
   "execution_count": 9,
   "metadata": {},
   "outputs": [
    {
     "data": {
      "text/plain": [
       "array([[[-0.84621024,  0.05867158, -1.5914366 , ..., -0.31921527,\n",
       "          1.3926604 ,  0.355668  ]],\n",
       "\n",
       "       [[-0.4513362 ,  0.6690434 , -1.7019466 , ..., -0.3039302 ,\n",
       "          0.6622373 , -0.24026863]],\n",
       "\n",
       "       [[-0.1989099 ,  0.74541754, -1.2091999 , ..., -1.0831275 ,\n",
       "          0.34136212,  0.6883013 ]],\n",
       "\n",
       "       ...,\n",
       "\n",
       "       [[-0.35017276,  0.2765883 , -1.5402951 , ..., -0.78940684,\n",
       "          0.8426382 , -0.10734597]],\n",
       "\n",
       "       [[-0.11254781,  1.009404  , -2.1166263 , ..., -0.32722464,\n",
       "         -0.10330276, -0.33387935]],\n",
       "\n",
       "       [[-0.55032325,  0.4304999 , -1.352938  , ...,  0.01578309,\n",
       "          0.4204201 , -0.27744353]]], dtype=float32)"
      ]
     },
     "execution_count": 9,
     "metadata": {},
     "output_type": "execute_result"
    },
    {
     "name": "stdout",
     "output_type": "stream",
     "text": [
      "time: 0 ns (started: 2021-05-18 17:08:46 +03:00)\n"
     ]
    }
   ],
   "source": [
    "country_capital"
   ]
  },
  {
   "cell_type": "code",
   "execution_count": 10,
   "metadata": {},
   "outputs": [
    {
     "name": "stdout",
     "output_type": "stream",
     "text": [
      "time: 0 ns (started: 2021-05-18 17:09:06 +03:00)\n"
     ]
    }
   ],
   "source": [
    "france_emb = country_capital[0][0]\n",
    "paris_emb = country_capital[1][0]\n",
    "moscow_emb = country_capital[2][0]\n",
    "russia_emb = country_capital[3][0]\n",
    "berlin_emb = country_capital[4][0]\n",
    "germany_emb = country_capital[5][0]\n",
    "madrid_emb = country_capital[6][0]\n",
    "spain_emb = country_capital[7][0]"
   ]
  },
  {
   "cell_type": "code",
   "execution_count": 15,
   "metadata": {},
   "outputs": [
    {
     "data": {
      "text/html": [
       "<div>\n",
       "<style scoped>\n",
       "    .dataframe tbody tr th:only-of-type {\n",
       "        vertical-align: middle;\n",
       "    }\n",
       "\n",
       "    .dataframe tbody tr th {\n",
       "        vertical-align: top;\n",
       "    }\n",
       "\n",
       "    .dataframe thead th {\n",
       "        text-align: right;\n",
       "    }\n",
       "</style>\n",
       "<table border=\"1\" class=\"dataframe\">\n",
       "  <thead>\n",
       "    <tr style=\"text-align: right;\">\n",
       "      <th></th>\n",
       "      <th>0</th>\n",
       "      <th>1</th>\n",
       "      <th>2</th>\n",
       "      <th>3</th>\n",
       "      <th>4</th>\n",
       "      <th>5</th>\n",
       "      <th>6</th>\n",
       "      <th>7</th>\n",
       "      <th>8</th>\n",
       "      <th>9</th>\n",
       "      <th>...</th>\n",
       "      <th>1014</th>\n",
       "      <th>1015</th>\n",
       "      <th>1016</th>\n",
       "      <th>1017</th>\n",
       "      <th>1018</th>\n",
       "      <th>1019</th>\n",
       "      <th>1020</th>\n",
       "      <th>1021</th>\n",
       "      <th>1022</th>\n",
       "      <th>1023</th>\n",
       "    </tr>\n",
       "  </thead>\n",
       "  <tbody>\n",
       "    <tr>\n",
       "      <th>0</th>\n",
       "      <td>-0.451336</td>\n",
       "      <td>0.669043</td>\n",
       "      <td>-1.701947</td>\n",
       "      <td>-0.345939</td>\n",
       "      <td>-0.580567</td>\n",
       "      <td>0.782407</td>\n",
       "      <td>0.643206</td>\n",
       "      <td>0.799172</td>\n",
       "      <td>-0.397707</td>\n",
       "      <td>-0.122498</td>\n",
       "      <td>...</td>\n",
       "      <td>-0.101353</td>\n",
       "      <td>0.737369</td>\n",
       "      <td>0.786005</td>\n",
       "      <td>-0.731178</td>\n",
       "      <td>-0.280438</td>\n",
       "      <td>-0.439771</td>\n",
       "      <td>0.494726</td>\n",
       "      <td>-0.303930</td>\n",
       "      <td>0.662237</td>\n",
       "      <td>-0.240269</td>\n",
       "    </tr>\n",
       "    <tr>\n",
       "      <th>1</th>\n",
       "      <td>-0.846210</td>\n",
       "      <td>0.058672</td>\n",
       "      <td>-1.591437</td>\n",
       "      <td>0.154714</td>\n",
       "      <td>0.224115</td>\n",
       "      <td>0.778218</td>\n",
       "      <td>0.030351</td>\n",
       "      <td>0.850035</td>\n",
       "      <td>-0.858431</td>\n",
       "      <td>-0.535816</td>\n",
       "      <td>...</td>\n",
       "      <td>-0.527185</td>\n",
       "      <td>1.222249</td>\n",
       "      <td>1.284313</td>\n",
       "      <td>-1.229501</td>\n",
       "      <td>-0.286853</td>\n",
       "      <td>-0.637282</td>\n",
       "      <td>1.299012</td>\n",
       "      <td>-0.319215</td>\n",
       "      <td>1.392660</td>\n",
       "      <td>0.355668</td>\n",
       "    </tr>\n",
       "    <tr>\n",
       "      <th>2</th>\n",
       "      <td>-0.198910</td>\n",
       "      <td>0.745418</td>\n",
       "      <td>-1.209200</td>\n",
       "      <td>0.016930</td>\n",
       "      <td>-0.552040</td>\n",
       "      <td>0.278143</td>\n",
       "      <td>0.752962</td>\n",
       "      <td>1.304312</td>\n",
       "      <td>0.021309</td>\n",
       "      <td>-0.762618</td>\n",
       "      <td>...</td>\n",
       "      <td>-0.552827</td>\n",
       "      <td>1.105210</td>\n",
       "      <td>1.080418</td>\n",
       "      <td>-1.383070</td>\n",
       "      <td>-0.003723</td>\n",
       "      <td>-0.116183</td>\n",
       "      <td>0.891633</td>\n",
       "      <td>-1.083127</td>\n",
       "      <td>0.341362</td>\n",
       "      <td>0.688301</td>\n",
       "    </tr>\n",
       "    <tr>\n",
       "      <th>3</th>\n",
       "      <td>-0.655900</td>\n",
       "      <td>0.695442</td>\n",
       "      <td>-1.112282</td>\n",
       "      <td>0.275990</td>\n",
       "      <td>0.500730</td>\n",
       "      <td>0.867387</td>\n",
       "      <td>0.047354</td>\n",
       "      <td>0.720893</td>\n",
       "      <td>-0.380769</td>\n",
       "      <td>-0.809144</td>\n",
       "      <td>...</td>\n",
       "      <td>-0.631850</td>\n",
       "      <td>0.858966</td>\n",
       "      <td>1.392764</td>\n",
       "      <td>-1.081263</td>\n",
       "      <td>-0.428472</td>\n",
       "      <td>-0.244847</td>\n",
       "      <td>0.870651</td>\n",
       "      <td>-0.113517</td>\n",
       "      <td>0.797233</td>\n",
       "      <td>0.129259</td>\n",
       "    </tr>\n",
       "    <tr>\n",
       "      <th>4</th>\n",
       "      <td>-0.178571</td>\n",
       "      <td>0.357160</td>\n",
       "      <td>-1.615419</td>\n",
       "      <td>0.040427</td>\n",
       "      <td>0.242609</td>\n",
       "      <td>1.076097</td>\n",
       "      <td>0.599570</td>\n",
       "      <td>0.563330</td>\n",
       "      <td>-0.316711</td>\n",
       "      <td>-0.833079</td>\n",
       "      <td>...</td>\n",
       "      <td>-0.295605</td>\n",
       "      <td>0.790747</td>\n",
       "      <td>0.412304</td>\n",
       "      <td>-1.056693</td>\n",
       "      <td>0.011285</td>\n",
       "      <td>-0.375684</td>\n",
       "      <td>0.362035</td>\n",
       "      <td>-1.499198</td>\n",
       "      <td>1.060966</td>\n",
       "      <td>-0.171475</td>\n",
       "    </tr>\n",
       "    <tr>\n",
       "      <th>5</th>\n",
       "      <td>-0.350173</td>\n",
       "      <td>0.276588</td>\n",
       "      <td>-1.540295</td>\n",
       "      <td>-0.053664</td>\n",
       "      <td>0.113315</td>\n",
       "      <td>0.877835</td>\n",
       "      <td>0.468535</td>\n",
       "      <td>1.073846</td>\n",
       "      <td>-0.243518</td>\n",
       "      <td>-0.856439</td>\n",
       "      <td>...</td>\n",
       "      <td>-0.745622</td>\n",
       "      <td>1.798705</td>\n",
       "      <td>0.832459</td>\n",
       "      <td>-1.049453</td>\n",
       "      <td>-0.189293</td>\n",
       "      <td>0.008857</td>\n",
       "      <td>0.841048</td>\n",
       "      <td>-0.789407</td>\n",
       "      <td>0.842638</td>\n",
       "      <td>-0.107346</td>\n",
       "    </tr>\n",
       "  </tbody>\n",
       "</table>\n",
       "<p>6 rows × 1024 columns</p>\n",
       "</div>"
      ],
      "text/plain": [
       "       0         1         2         3         4         5         6     \\\n",
       "0 -0.451336  0.669043 -1.701947 -0.345939 -0.580567  0.782407  0.643206   \n",
       "1 -0.846210  0.058672 -1.591437  0.154714  0.224115  0.778218  0.030351   \n",
       "2 -0.198910  0.745418 -1.209200  0.016930 -0.552040  0.278143  0.752962   \n",
       "3 -0.655900  0.695442 -1.112282  0.275990  0.500730  0.867387  0.047354   \n",
       "4 -0.178571  0.357160 -1.615419  0.040427  0.242609  1.076097  0.599570   \n",
       "5 -0.350173  0.276588 -1.540295 -0.053664  0.113315  0.877835  0.468535   \n",
       "\n",
       "       7         8         9     ...      1014      1015      1016      1017  \\\n",
       "0  0.799172 -0.397707 -0.122498  ... -0.101353  0.737369  0.786005 -0.731178   \n",
       "1  0.850035 -0.858431 -0.535816  ... -0.527185  1.222249  1.284313 -1.229501   \n",
       "2  1.304312  0.021309 -0.762618  ... -0.552827  1.105210  1.080418 -1.383070   \n",
       "3  0.720893 -0.380769 -0.809144  ... -0.631850  0.858966  1.392764 -1.081263   \n",
       "4  0.563330 -0.316711 -0.833079  ... -0.295605  0.790747  0.412304 -1.056693   \n",
       "5  1.073846 -0.243518 -0.856439  ... -0.745622  1.798705  0.832459 -1.049453   \n",
       "\n",
       "       1018      1019      1020      1021      1022      1023  \n",
       "0 -0.280438 -0.439771  0.494726 -0.303930  0.662237 -0.240269  \n",
       "1 -0.286853 -0.637282  1.299012 -0.319215  1.392660  0.355668  \n",
       "2 -0.003723 -0.116183  0.891633 -1.083127  0.341362  0.688301  \n",
       "3 -0.428472 -0.244847  0.870651 -0.113517  0.797233  0.129259  \n",
       "4  0.011285 -0.375684  0.362035 -1.499198  1.060966 -0.171475  \n",
       "5 -0.189293  0.008857  0.841048 -0.789407  0.842638 -0.107346  \n",
       "\n",
       "[6 rows x 1024 columns]"
      ]
     },
     "execution_count": 15,
     "metadata": {},
     "output_type": "execute_result"
    },
    {
     "name": "stdout",
     "output_type": "stream",
     "text": [
      "time: 32 ms (started: 2021-05-18 17:11:34 +03:00)\n"
     ]
    }
   ],
   "source": [
    "test = pd.DataFrame()\n",
    "\n",
    "test = test.append(pd.Series(paris_emb),ignore_index=True)\n",
    "test = test.append(pd.Series(france_emb),ignore_index=True)\n",
    "test = test.append(pd.Series(moscow_emb),ignore_index=True)\n",
    "test = test.append(pd.Series(russia_emb),ignore_index=True)\n",
    "test = test.append(pd.Series(berlin_emb),ignore_index=True)\n",
    "test = test.append(pd.Series(germany_emb),ignore_index=True)\n",
    "\n",
    "test"
   ]
  },
  {
   "cell_type": "code",
   "execution_count": 18,
   "metadata": {},
   "outputs": [
    {
     "data": {
      "text/plain": [
       "array([[ 8.4957695 , -0.86018646],\n",
       "       [-7.17585   , -5.3037663 ],\n",
       "       [ 2.1555364 ,  9.565234  ],\n",
       "       [-9.262798  ,  5.216065  ],\n",
       "       [11.236277  , -2.9972246 ],\n",
       "       [-5.448938  , -5.6201262 ]], dtype=float32)"
      ]
     },
     "execution_count": 18,
     "metadata": {},
     "output_type": "execute_result"
    },
    {
     "name": "stdout",
     "output_type": "stream",
     "text": [
      "time: 31 ms (started: 2021-05-18 17:13:55 +03:00)\n"
     ]
    }
   ],
   "source": [
    "pca = PCA(n_components=2)\n",
    "pca.fit_transform(test)"
   ]
  },
  {
   "cell_type": "code",
   "execution_count": 19,
   "metadata": {},
   "outputs": [
    {
     "name": "stdout",
     "output_type": "stream",
     "text": [
      "time: 15 ms (started: 2021-05-18 17:14:01 +03:00)\n"
     ]
    }
   ],
   "source": [
    "test = pca.fit_transform(test)"
   ]
  },
  {
   "cell_type": "code",
   "execution_count": 20,
   "metadata": {},
   "outputs": [
    {
     "name": "stdout",
     "output_type": "stream",
     "text": [
      "time: 0 ns (started: 2021-05-18 17:14:02 +03:00)\n"
     ]
    }
   ],
   "source": [
    "x = [row[0] for row in test]\n",
    "y = [row[1] for row in test]\n",
    "names = ['Париж', 'Франция', 'Москва', 'Россия', 'Берлин','Германия']"
   ]
  },
  {
   "cell_type": "code",
   "execution_count": 24,
   "metadata": {},
   "outputs": [
    {
     "data": {
      "text/plain": [
       "<matplotlib.legend.Legend at 0x1ec89e441c8>"
      ]
     },
     "execution_count": 24,
     "metadata": {},
     "output_type": "execute_result"
    },
    {
     "data": {
      "image/png": "[encoded data removed]",
      "text/plain": [
       "<Figure size 432x288 with 1 Axes>"
      ]
     },
     "metadata": {
      "needs_background": "light"
     },
     "output_type": "display_data"
    },
    {
     "name": "stdout",
     "output_type": "stream",
     "text": [
      "time: 172 ms (started: 2021-05-18 17:17:10 +03:00)\n"
     ]
    }
   ],
   "source": [
    "plt.scatter(x,y)\n",
    "plt.plot([ 8.4957695 , -7.17585 ],[ -0.86018646  , -5.3037663 ],label='Париж-Франция')\n",
    "plt.plot([ 2.1555364 , -9.262798 ],[ 9.565234    , 5.216065 ],label='Москва-Россия')\n",
    "plt.plot([  11.236277 , -5.448938 ],[ -2.9972246  , -5.6201262 ],label='Берлин-Германия')\n",
    "plt.text(-7.17585   , -5.3037663, 'Париж', fontsize=10)\n",
    "plt.text(-9.262798  ,  5.216065, 'Москва', fontsize=10)\n",
    "plt.text(-5.448938  , -5.6201262, 'Берлин', fontsize=10)\n",
    "plt.title('Elmo - все слова передавались по отдельности')\n",
    "plt.grid()\n",
    "plt.legend()"
   ]
  },
  {
   "cell_type": "code",
   "execution_count": null,
   "metadata": {},
   "outputs": [],
   "source": []
  },
  {
   "cell_type": "code",
   "execution_count": null,
   "metadata": {},
   "outputs": [],
   "source": []
  },
  {
   "cell_type": "markdown",
   "metadata": {},
   "source": [
    "# Передадим как одно предложение, просто через пробел"
   ]
  },
  {
   "cell_type": "code",
   "execution_count": 40,
   "metadata": {},
   "outputs": [
    {
     "name": "stdout",
     "output_type": "stream",
     "text": [
      "INFO:tensorflow:Saver not created because there are no variables in the graph to restore\n"
     ]
    },
    {
     "name": "stderr",
     "output_type": "stream",
     "text": [
      "INFO:tensorflow:Saver not created because there are no variables in the graph to restore\n"
     ]
    },
    {
     "name": "stdout",
     "output_type": "stream",
     "text": [
      "time: 8min 26s (started: 2021-05-18 18:07:25 +03:00)\n"
     ]
    }
   ],
   "source": [
    "#elmo = hub.Module(\"http://files.deeppavlov.ai/deeppavlov_data/elmo_ru-wiki_600k_steps.tar.gz\",trainable=True)\n",
    "#sess = tf.Session()\n",
    "#sess.run(tf.global_variables_initializer())\n",
    "embeddings_2 = elmo(['Франция Париж Москва Россия Берлин Германия Мадрид Испания Афины Греция Англия Лондон'],\n",
    "                    signature=\"default\", as_dict=True)[\"elmo\"]\n",
    "#sess.run(embeddings_2)"
   ]
  },
  {
   "cell_type": "code",
   "execution_count": 41,
   "metadata": {},
   "outputs": [
    {
     "name": "stdout",
     "output_type": "stream",
     "text": [
      "time: 5min 42s (started: 2021-05-18 18:17:51 +03:00)\n"
     ]
    }
   ],
   "source": [
    "country_capital_2 = sess.run(embeddings_2)"
   ]
  },
  {
   "cell_type": "code",
   "execution_count": 42,
   "metadata": {
    "collapsed": true
   },
   "outputs": [
    {
     "data": {
      "text/plain": [
       "array([[[-0.8209678 ,  0.06079474, -1.5398022 , ..., -1.0810125 ,\n",
       "          1.1852272 , -0.14916009],\n",
       "        [-0.47113982,  0.6114712 , -1.7944279 , ..., -1.0420837 ,\n",
       "          0.8093645 , -0.29572052],\n",
       "        [-0.44955003,  0.91642284, -1.6860081 , ..., -1.1949089 ,\n",
       "          0.36263555,  0.06104904],\n",
       "        ...,\n",
       "        [-0.20683481,  0.7862381 , -1.9825557 , ..., -0.8585356 ,\n",
       "          0.16969454,  0.09840816],\n",
       "        [ 0.01180139,  0.47311494, -1.8872075 , ..., -0.6095713 ,\n",
       "          1.0308154 , -0.86047375],\n",
       "        [-0.49352467,  0.9730308 , -1.7642155 , ..., -0.9279891 ,\n",
       "          0.8858391 , -0.8526436 ]]], dtype=float32)"
      ]
     },
     "execution_count": 42,
     "metadata": {},
     "output_type": "execute_result"
    },
    {
     "name": "stdout",
     "output_type": "stream",
     "text": [
      "time: 1.28 s (started: 2021-05-18 18:23:35 +03:00)\n"
     ]
    }
   ],
   "source": [
    "country_capital_2"
   ]
  },
  {
   "cell_type": "code",
   "execution_count": 43,
   "metadata": {},
   "outputs": [
    {
     "data": {
      "text/plain": [
       "(1, 12, 1024)"
      ]
     },
     "execution_count": 43,
     "metadata": {},
     "output_type": "execute_result"
    },
    {
     "name": "stdout",
     "output_type": "stream",
     "text": [
      "time: 0 ns (started: 2021-05-18 18:23:37 +03:00)\n"
     ]
    }
   ],
   "source": [
    "country_capital_2.shape"
   ]
  },
  {
   "cell_type": "code",
   "execution_count": 44,
   "metadata": {},
   "outputs": [
    {
     "name": "stdout",
     "output_type": "stream",
     "text": [
      "time: 0 ns (started: 2021-05-18 18:33:53 +03:00)\n"
     ]
    }
   ],
   "source": [
    "france_emb_2 = country_capital_2[0][0]\n",
    "paris_emb_2 = country_capital_2[0][1]\n",
    "moscow_emb_2 = country_capital_2[0][2]\n",
    "russia_emb_2 = country_capital_2[0][3]\n",
    "berlin_emb_2 = country_capital_2[0][4]\n",
    "germany_emb_2 = country_capital_2[0][5]\n",
    "madrid_emb_2 = country_capital_2[0][6]\n",
    "spain_emb_2 = country_capital_2[0][7]\n",
    "athens_emb_2 = country_capital_2[0][8]\n",
    "greece_emb_2 = country_capital_2[0][9]\n",
    "england_emb_2 = country_capital_2[0][10]\n",
    "london_emb_2 = country_capital_2[0][11]"
   ]
  },
  {
   "cell_type": "code",
   "execution_count": 45,
   "metadata": {},
   "outputs": [
    {
     "data": {
      "text/html": [
       "<div>\n",
       "<style scoped>\n",
       "    .dataframe tbody tr th:only-of-type {\n",
       "        vertical-align: middle;\n",
       "    }\n",
       "\n",
       "    .dataframe tbody tr th {\n",
       "        vertical-align: top;\n",
       "    }\n",
       "\n",
       "    .dataframe thead th {\n",
       "        text-align: right;\n",
       "    }\n",
       "</style>\n",
       "<table border=\"1\" class=\"dataframe\">\n",
       "  <thead>\n",
       "    <tr style=\"text-align: right;\">\n",
       "      <th></th>\n",
       "      <th>0</th>\n",
       "      <th>1</th>\n",
       "      <th>2</th>\n",
       "      <th>3</th>\n",
       "      <th>4</th>\n",
       "      <th>5</th>\n",
       "      <th>6</th>\n",
       "      <th>7</th>\n",
       "      <th>8</th>\n",
       "      <th>9</th>\n",
       "      <th>...</th>\n",
       "      <th>1014</th>\n",
       "      <th>1015</th>\n",
       "      <th>1016</th>\n",
       "      <th>1017</th>\n",
       "      <th>1018</th>\n",
       "      <th>1019</th>\n",
       "      <th>1020</th>\n",
       "      <th>1021</th>\n",
       "      <th>1022</th>\n",
       "      <th>1023</th>\n",
       "    </tr>\n",
       "  </thead>\n",
       "  <tbody>\n",
       "    <tr>\n",
       "      <th>0</th>\n",
       "      <td>-0.820968</td>\n",
       "      <td>0.060795</td>\n",
       "      <td>-1.539802</td>\n",
       "      <td>0.176028</td>\n",
       "      <td>0.211425</td>\n",
       "      <td>0.810981</td>\n",
       "      <td>-0.001384</td>\n",
       "      <td>0.862445</td>\n",
       "      <td>-0.843567</td>\n",
       "      <td>-0.515390</td>\n",
       "      <td>...</td>\n",
       "      <td>-0.704396</td>\n",
       "      <td>1.545870</td>\n",
       "      <td>1.258988</td>\n",
       "      <td>-0.964008</td>\n",
       "      <td>-1.182917</td>\n",
       "      <td>-0.634947</td>\n",
       "      <td>1.155217</td>\n",
       "      <td>-1.081012</td>\n",
       "      <td>1.185227</td>\n",
       "      <td>-0.149160</td>\n",
       "    </tr>\n",
       "    <tr>\n",
       "      <th>1</th>\n",
       "      <td>-0.471140</td>\n",
       "      <td>0.611471</td>\n",
       "      <td>-1.794428</td>\n",
       "      <td>-0.544351</td>\n",
       "      <td>-0.119692</td>\n",
       "      <td>1.004103</td>\n",
       "      <td>0.316778</td>\n",
       "      <td>1.052133</td>\n",
       "      <td>-0.114818</td>\n",
       "      <td>-0.560174</td>\n",
       "      <td>...</td>\n",
       "      <td>-0.475194</td>\n",
       "      <td>0.775543</td>\n",
       "      <td>0.915033</td>\n",
       "      <td>-0.780658</td>\n",
       "      <td>-1.126018</td>\n",
       "      <td>-0.314887</td>\n",
       "      <td>0.527933</td>\n",
       "      <td>-1.042084</td>\n",
       "      <td>0.809364</td>\n",
       "      <td>-0.295721</td>\n",
       "    </tr>\n",
       "    <tr>\n",
       "      <th>2</th>\n",
       "      <td>-0.521770</td>\n",
       "      <td>0.945795</td>\n",
       "      <td>-1.424965</td>\n",
       "      <td>0.047692</td>\n",
       "      <td>0.573540</td>\n",
       "      <td>1.213748</td>\n",
       "      <td>0.526160</td>\n",
       "      <td>0.792189</td>\n",
       "      <td>0.118450</td>\n",
       "      <td>-0.693245</td>\n",
       "      <td>...</td>\n",
       "      <td>-0.539780</td>\n",
       "      <td>1.280705</td>\n",
       "      <td>1.401844</td>\n",
       "      <td>-1.176582</td>\n",
       "      <td>-1.160310</td>\n",
       "      <td>-0.213088</td>\n",
       "      <td>0.791024</td>\n",
       "      <td>-0.853498</td>\n",
       "      <td>1.038127</td>\n",
       "      <td>-0.461396</td>\n",
       "    </tr>\n",
       "    <tr>\n",
       "      <th>3</th>\n",
       "      <td>-0.449550</td>\n",
       "      <td>0.916423</td>\n",
       "      <td>-1.686008</td>\n",
       "      <td>-0.477981</td>\n",
       "      <td>-0.192912</td>\n",
       "      <td>0.929800</td>\n",
       "      <td>0.482491</td>\n",
       "      <td>1.270627</td>\n",
       "      <td>0.323568</td>\n",
       "      <td>-0.770956</td>\n",
       "      <td>...</td>\n",
       "      <td>-0.595546</td>\n",
       "      <td>0.940872</td>\n",
       "      <td>1.113014</td>\n",
       "      <td>-1.290422</td>\n",
       "      <td>-0.678936</td>\n",
       "      <td>-0.143056</td>\n",
       "      <td>0.875888</td>\n",
       "      <td>-1.194909</td>\n",
       "      <td>0.362636</td>\n",
       "      <td>0.061049</td>\n",
       "    </tr>\n",
       "    <tr>\n",
       "      <th>4</th>\n",
       "      <td>0.112963</td>\n",
       "      <td>0.803626</td>\n",
       "      <td>-1.690853</td>\n",
       "      <td>-0.370400</td>\n",
       "      <td>0.740284</td>\n",
       "      <td>1.398682</td>\n",
       "      <td>0.699999</td>\n",
       "      <td>1.014056</td>\n",
       "      <td>0.195586</td>\n",
       "      <td>-0.537176</td>\n",
       "      <td>...</td>\n",
       "      <td>-1.068152</td>\n",
       "      <td>1.860946</td>\n",
       "      <td>0.868189</td>\n",
       "      <td>-1.195680</td>\n",
       "      <td>-1.109120</td>\n",
       "      <td>-0.193833</td>\n",
       "      <td>0.664333</td>\n",
       "      <td>-0.851061</td>\n",
       "      <td>1.073135</td>\n",
       "      <td>-0.186252</td>\n",
       "    </tr>\n",
       "    <tr>\n",
       "      <th>5</th>\n",
       "      <td>-0.350212</td>\n",
       "      <td>0.976314</td>\n",
       "      <td>-1.744122</td>\n",
       "      <td>-0.454370</td>\n",
       "      <td>0.802397</td>\n",
       "      <td>1.499513</td>\n",
       "      <td>0.569951</td>\n",
       "      <td>0.741200</td>\n",
       "      <td>0.208356</td>\n",
       "      <td>-0.690642</td>\n",
       "      <td>...</td>\n",
       "      <td>-0.459810</td>\n",
       "      <td>1.038118</td>\n",
       "      <td>0.753167</td>\n",
       "      <td>-0.927236</td>\n",
       "      <td>-0.741077</td>\n",
       "      <td>-0.153804</td>\n",
       "      <td>0.450181</td>\n",
       "      <td>-1.533858</td>\n",
       "      <td>0.929985</td>\n",
       "      <td>-0.289580</td>\n",
       "    </tr>\n",
       "    <tr>\n",
       "      <th>6</th>\n",
       "      <td>-0.377289</td>\n",
       "      <td>1.084153</td>\n",
       "      <td>-1.583863</td>\n",
       "      <td>-0.404722</td>\n",
       "      <td>1.024482</td>\n",
       "      <td>1.245689</td>\n",
       "      <td>0.390394</td>\n",
       "      <td>0.866060</td>\n",
       "      <td>-0.101960</td>\n",
       "      <td>0.042692</td>\n",
       "      <td>...</td>\n",
       "      <td>-0.908023</td>\n",
       "      <td>1.661420</td>\n",
       "      <td>1.755324</td>\n",
       "      <td>-1.619875</td>\n",
       "      <td>-0.791977</td>\n",
       "      <td>-0.416815</td>\n",
       "      <td>0.667536</td>\n",
       "      <td>-0.341233</td>\n",
       "      <td>0.852107</td>\n",
       "      <td>-0.548110</td>\n",
       "    </tr>\n",
       "    <tr>\n",
       "      <th>7</th>\n",
       "      <td>-0.181815</td>\n",
       "      <td>1.543174</td>\n",
       "      <td>-2.123579</td>\n",
       "      <td>-0.550402</td>\n",
       "      <td>0.997108</td>\n",
       "      <td>0.952249</td>\n",
       "      <td>0.549399</td>\n",
       "      <td>1.110563</td>\n",
       "      <td>-0.057016</td>\n",
       "      <td>-0.213482</td>\n",
       "      <td>...</td>\n",
       "      <td>-0.126079</td>\n",
       "      <td>0.892871</td>\n",
       "      <td>1.637901</td>\n",
       "      <td>-1.794367</td>\n",
       "      <td>-0.769453</td>\n",
       "      <td>-0.286203</td>\n",
       "      <td>0.447170</td>\n",
       "      <td>-0.594504</td>\n",
       "      <td>-0.079406</td>\n",
       "      <td>-0.631670</td>\n",
       "    </tr>\n",
       "    <tr>\n",
       "      <th>8</th>\n",
       "      <td>-0.206835</td>\n",
       "      <td>0.786238</td>\n",
       "      <td>-1.982556</td>\n",
       "      <td>-0.633965</td>\n",
       "      <td>1.103974</td>\n",
       "      <td>0.942674</td>\n",
       "      <td>0.851936</td>\n",
       "      <td>1.135313</td>\n",
       "      <td>-0.144097</td>\n",
       "      <td>-0.464671</td>\n",
       "      <td>...</td>\n",
       "      <td>-0.732929</td>\n",
       "      <td>1.536211</td>\n",
       "      <td>1.269928</td>\n",
       "      <td>-1.318441</td>\n",
       "      <td>-0.382622</td>\n",
       "      <td>-0.742121</td>\n",
       "      <td>0.471839</td>\n",
       "      <td>-0.858536</td>\n",
       "      <td>0.169695</td>\n",
       "      <td>0.098408</td>\n",
       "    </tr>\n",
       "    <tr>\n",
       "      <th>9</th>\n",
       "      <td>-0.109946</td>\n",
       "      <td>0.704296</td>\n",
       "      <td>-1.540600</td>\n",
       "      <td>-0.920988</td>\n",
       "      <td>1.128279</td>\n",
       "      <td>1.053330</td>\n",
       "      <td>0.628767</td>\n",
       "      <td>1.097699</td>\n",
       "      <td>-0.508678</td>\n",
       "      <td>-0.097664</td>\n",
       "      <td>...</td>\n",
       "      <td>-0.004597</td>\n",
       "      <td>0.395124</td>\n",
       "      <td>0.669791</td>\n",
       "      <td>-1.110670</td>\n",
       "      <td>-0.421580</td>\n",
       "      <td>-0.513375</td>\n",
       "      <td>0.759398</td>\n",
       "      <td>-0.644726</td>\n",
       "      <td>0.121034</td>\n",
       "      <td>0.694100</td>\n",
       "    </tr>\n",
       "    <tr>\n",
       "      <th>10</th>\n",
       "      <td>0.011801</td>\n",
       "      <td>0.473115</td>\n",
       "      <td>-1.887208</td>\n",
       "      <td>-0.534734</td>\n",
       "      <td>0.900805</td>\n",
       "      <td>1.157096</td>\n",
       "      <td>0.502685</td>\n",
       "      <td>0.975876</td>\n",
       "      <td>0.365759</td>\n",
       "      <td>-0.444574</td>\n",
       "      <td>...</td>\n",
       "      <td>-0.322340</td>\n",
       "      <td>1.580591</td>\n",
       "      <td>1.732965</td>\n",
       "      <td>-1.969941</td>\n",
       "      <td>-0.625846</td>\n",
       "      <td>-0.259948</td>\n",
       "      <td>1.043149</td>\n",
       "      <td>-0.609571</td>\n",
       "      <td>1.030815</td>\n",
       "      <td>-0.860474</td>\n",
       "    </tr>\n",
       "    <tr>\n",
       "      <th>11</th>\n",
       "      <td>-0.493525</td>\n",
       "      <td>0.973031</td>\n",
       "      <td>-1.764215</td>\n",
       "      <td>-0.635133</td>\n",
       "      <td>0.890516</td>\n",
       "      <td>1.472103</td>\n",
       "      <td>0.227773</td>\n",
       "      <td>0.528338</td>\n",
       "      <td>0.249142</td>\n",
       "      <td>-0.151066</td>\n",
       "      <td>...</td>\n",
       "      <td>-0.173881</td>\n",
       "      <td>1.056689</td>\n",
       "      <td>1.282741</td>\n",
       "      <td>-0.938842</td>\n",
       "      <td>-0.664406</td>\n",
       "      <td>0.156053</td>\n",
       "      <td>0.757943</td>\n",
       "      <td>-0.927989</td>\n",
       "      <td>0.885839</td>\n",
       "      <td>-0.852644</td>\n",
       "    </tr>\n",
       "  </tbody>\n",
       "</table>\n",
       "<p>12 rows × 1024 columns</p>\n",
       "</div>"
      ],
      "text/plain": [
       "        0         1         2         3         4         5         6     \\\n",
       "0  -0.820968  0.060795 -1.539802  0.176028  0.211425  0.810981 -0.001384   \n",
       "1  -0.471140  0.611471 -1.794428 -0.544351 -0.119692  1.004103  0.316778   \n",
       "2  -0.521770  0.945795 -1.424965  0.047692  0.573540  1.213748  0.526160   \n",
       "3  -0.449550  0.916423 -1.686008 -0.477981 -0.192912  0.929800  0.482491   \n",
       "4   0.112963  0.803626 -1.690853 -0.370400  0.740284  1.398682  0.699999   \n",
       "5  -0.350212  0.976314 -1.744122 -0.454370  0.802397  1.499513  0.569951   \n",
       "6  -0.377289  1.084153 -1.583863 -0.404722  1.024482  1.245689  0.390394   \n",
       "7  -0.181815  1.543174 -2.123579 -0.550402  0.997108  0.952249  0.549399   \n",
       "8  -0.206835  0.786238 -1.982556 -0.633965  1.103974  0.942674  0.851936   \n",
       "9  -0.109946  0.704296 -1.540600 -0.920988  1.128279  1.053330  0.628767   \n",
       "10  0.011801  0.473115 -1.887208 -0.534734  0.900805  1.157096  0.502685   \n",
       "11 -0.493525  0.973031 -1.764215 -0.635133  0.890516  1.472103  0.227773   \n",
       "\n",
       "        7         8         9     ...      1014      1015      1016      1017  \\\n",
       "0   0.862445 -0.843567 -0.515390  ... -0.704396  1.545870  1.258988 -0.964008   \n",
       "1   1.052133 -0.114818 -0.560174  ... -0.475194  0.775543  0.915033 -0.780658   \n",
       "2   0.792189  0.118450 -0.693245  ... -0.539780  1.280705  1.401844 -1.176582   \n",
       "3   1.270627  0.323568 -0.770956  ... -0.595546  0.940872  1.113014 -1.290422   \n",
       "4   1.014056  0.195586 -0.537176  ... -1.068152  1.860946  0.868189 -1.195680   \n",
       "5   0.741200  0.208356 -0.690642  ... -0.459810  1.038118  0.753167 -0.927236   \n",
       "6   0.866060 -0.101960  0.042692  ... -0.908023  1.661420  1.755324 -1.619875   \n",
       "7   1.110563 -0.057016 -0.213482  ... -0.126079  0.892871  1.637901 -1.794367   \n",
       "8   1.135313 -0.144097 -0.464671  ... -0.732929  1.536211  1.269928 -1.318441   \n",
       "9   1.097699 -0.508678 -0.097664  ... -0.004597  0.395124  0.669791 -1.110670   \n",
       "10  0.975876  0.365759 -0.444574  ... -0.322340  1.580591  1.732965 -1.969941   \n",
       "11  0.528338  0.249142 -0.151066  ... -0.173881  1.056689  1.282741 -0.938842   \n",
       "\n",
       "        1018      1019      1020      1021      1022      1023  \n",
       "0  -1.182917 -0.634947  1.155217 -1.081012  1.185227 -0.149160  \n",
       "1  -1.126018 -0.314887  0.527933 -1.042084  0.809364 -0.295721  \n",
       "2  -1.160310 -0.213088  0.791024 -0.853498  1.038127 -0.461396  \n",
       "3  -0.678936 -0.143056  0.875888 -1.194909  0.362636  0.061049  \n",
       "4  -1.109120 -0.193833  0.664333 -0.851061  1.073135 -0.186252  \n",
       "5  -0.741077 -0.153804  0.450181 -1.533858  0.929985 -0.289580  \n",
       "6  -0.791977 -0.416815  0.667536 -0.341233  0.852107 -0.548110  \n",
       "7  -0.769453 -0.286203  0.447170 -0.594504 -0.079406 -0.631670  \n",
       "8  -0.382622 -0.742121  0.471839 -0.858536  0.169695  0.098408  \n",
       "9  -0.421580 -0.513375  0.759398 -0.644726  0.121034  0.694100  \n",
       "10 -0.625846 -0.259948  1.043149 -0.609571  1.030815 -0.860474  \n",
       "11 -0.664406  0.156053  0.757943 -0.927989  0.885839 -0.852644  \n",
       "\n",
       "[12 rows x 1024 columns]"
      ]
     },
     "execution_count": 45,
     "metadata": {},
     "output_type": "execute_result"
    },
    {
     "name": "stdout",
     "output_type": "stream",
     "text": [
      "time: 2.73 s (started: 2021-05-18 18:33:53 +03:00)\n"
     ]
    }
   ],
   "source": [
    "test = pd.DataFrame()\n",
    "\n",
    "test = test.append(pd.Series(france_emb_2),ignore_index=True)\n",
    "test = test.append(pd.Series(paris_emb_2),ignore_index=True)\n",
    "test = test.append(pd.Series(russia_emb_2),ignore_index=True)\n",
    "test = test.append(pd.Series(moscow_emb_2),ignore_index=True)\n",
    "test = test.append(pd.Series(germany_emb_2),ignore_index=True)\n",
    "test = test.append(pd.Series(berlin_emb_2),ignore_index=True)\n",
    "test = test.append(pd.Series(spain_emb_2),ignore_index=True)\n",
    "test = test.append(pd.Series(madrid_emb_2),ignore_index=True)\n",
    "test = test.append(pd.Series(greece_emb_2),ignore_index=True)\n",
    "test = test.append(pd.Series(athens_emb_2),ignore_index=True)\n",
    "test = test.append(pd.Series(england_emb_2),ignore_index=True)\n",
    "test = test.append(pd.Series(london_emb_2),ignore_index=True)\n",
    "\n",
    "test"
   ]
  },
  {
   "cell_type": "code",
   "execution_count": 46,
   "metadata": {},
   "outputs": [
    {
     "data": {
      "text/plain": [
       "array([[-7.9052763 ,  5.812577  ],\n",
       "       [ 2.300471  ,  8.586756  ],\n",
       "       [-4.8596287 ,  1.9666462 ],\n",
       "       [ 0.47385508,  5.825759  ],\n",
       "       [-3.8226213 , -0.4695723 ],\n",
       "       [ 5.4707723 ,  3.3892717 ],\n",
       "       [-3.1112297 , -3.6879723 ],\n",
       "       [ 6.112267  ,  0.24979307],\n",
       "       [-3.6640763 , -6.4998927 ],\n",
       "       [ 3.944341  , -4.718514  ],\n",
       "       [-4.020461  , -6.8231454 ],\n",
       "       [ 9.081581  , -3.6317143 ]], dtype=float32)"
      ]
     },
     "execution_count": 46,
     "metadata": {},
     "output_type": "execute_result"
    },
    {
     "name": "stdout",
     "output_type": "stream",
     "text": [
      "time: 734 ms (started: 2021-05-18 18:33:56 +03:00)\n"
     ]
    }
   ],
   "source": [
    "pca = PCA(n_components=2)\n",
    "pca.fit_transform(test)"
   ]
  },
  {
   "cell_type": "code",
   "execution_count": 47,
   "metadata": {},
   "outputs": [
    {
     "name": "stdout",
     "output_type": "stream",
     "text": [
      "time: 47 ms (started: 2021-05-18 18:34:16 +03:00)\n"
     ]
    }
   ],
   "source": [
    "test = pca.fit_transform(test)"
   ]
  },
  {
   "cell_type": "code",
   "execution_count": 48,
   "metadata": {},
   "outputs": [
    {
     "name": "stdout",
     "output_type": "stream",
     "text": [
      "time: 15 ms (started: 2021-05-18 18:34:17 +03:00)\n"
     ]
    }
   ],
   "source": [
    "x = [row[0] for row in test]\n",
    "y = [row[1] for row in test]\n",
    "names = ['Париж', 'Франция', 'Москва', 'Россия', 'Берлин','Германия']"
   ]
  },
  {
   "cell_type": "code",
   "execution_count": 62,
   "metadata": {},
   "outputs": [
    {
     "data": {
      "text/plain": [
       "Text(0, 0.5, 'Координата y (ELMo)')"
      ]
     },
     "execution_count": 62,
     "metadata": {},
     "output_type": "execute_result"
    },
    {
     "data": {
      "image/png": "[encoded data removed]",
      "text/plain": [
       "<Figure size 576x432 with 1 Axes>"
      ]
     },
     "metadata": {
      "needs_background": "light"
     },
     "output_type": "display_data"
    },
    {
     "name": "stdout",
     "output_type": "stream",
     "text": [
      "time: 187 ms (started: 2021-05-18 18:50:14 +03:00)\n"
     ]
    }
   ],
   "source": [
    "plt.figure(figsize=(8,6))\n",
    "plt.scatter(x,y)\n",
    "plt.plot([ -7.9052763 , 2.300471 ],[ 5.812577   , 8.586756 ],label='Париж-Франция')\n",
    "plt.plot([ -4.8596287 , 0.47385508 ],[ 1.9666462      , 5.825759 ],label='Москва-Россия')\n",
    "plt.plot([  -3.8226213 , 5.4707723  ],[ -0.4695723  , 3.3892717 ],label='Берлин-Германия')\n",
    "plt.plot([  -3.1112297 , 6.112267 ],[ -3.6879723  , 0.24979307 ],label='Мадрид-Испания')\n",
    "plt.plot([  -3.6640763 , 3.944341 ],[ -6.4998927  , -4.718514 ],label='Афины-Греция')\n",
    "plt.plot([  -4.020461 , 9.081581 ],[ -6.8231454  , -3.6317143 ],label='Лондон-Англия')\n",
    "plt.text(-7.9052763 ,  5.812577, 'Франция', fontsize=10)\n",
    "plt.text(2.300471  ,  8.586756, 'Париж', fontsize=10)\n",
    "plt.text(-4.8596287 ,  1.9666462, 'Россия', fontsize=10)\n",
    "plt.text(0.47385508,  5.825759, 'Москва', fontsize=10)\n",
    "plt.text(-3.8226213 , -0.4695723, 'Германия', fontsize=10)\n",
    "plt.text(5.4707723 ,  3.3892717, 'Берлин', fontsize=10)\n",
    "plt.text(-3.1112297 , -3.6879723, 'Испания', fontsize=10)\n",
    "plt.text(6.112267  ,  0.24979307, 'Мадрид', fontsize=10)\n",
    "plt.text(-3.6640763 , -6.4998927, 'Греция', fontsize=10)\n",
    "plt.text(3.944341  , -4.718514, 'Афины', fontsize=10)\n",
    "plt.text(-4.020461  , -6.8231454, 'Англия', fontsize=10)\n",
    "plt.text(9.081581  , -3.6317143, 'Лондон', fontsize=10)\n",
    "plt.title('Проекция категории \"Известная столица мира - страна\"')\n",
    "#plt.grid()\n",
    "plt.xlabel('Координата х (ELMo)')\n",
    "plt.ylabel('Координата y (ELMo)')\n",
    "#plt.legend()"
   ]
  },
  {
   "cell_type": "code",
   "execution_count": null,
   "metadata": {},
   "outputs": [],
   "source": []
  },
  {
   "cell_type": "code",
   "execution_count": null,
   "metadata": {},
   "outputs": [],
   "source": []
  },
  {
   "cell_type": "code",
   "execution_count": null,
   "metadata": {},
   "outputs": [],
   "source": []
  },
  {
   "cell_type": "code",
   "execution_count": null,
   "metadata": {},
   "outputs": [],
   "source": []
  },
  {
   "cell_type": "markdown",
   "metadata": {},
   "source": [
    "# Аналогия \"Антонимы с приставкой не-\""
   ]
  },
  {
   "cell_type": "code",
   "execution_count": 7,
   "metadata": {},
   "outputs": [
    {
     "name": "stdout",
     "output_type": "stream",
     "text": [
      "time: 0 ns (started: 2021-05-19 17:14:34 +03:00)\n"
     ]
    }
   ],
   "source": [
    "words_adj = 'убедительный неубедительный удобный неудобный эффективный неэффективный простой непростой приятный неприятный известный неизвестный'"
   ]
  },
  {
   "cell_type": "code",
   "execution_count": 3,
   "metadata": {},
   "outputs": [
    {
     "name": "stdout",
     "output_type": "stream",
     "text": [
      "INFO:tensorflow:Saver not created because there are no variables in the graph to restore\n"
     ]
    },
    {
     "name": "stderr",
     "output_type": "stream",
     "text": [
      "INFO:tensorflow:Saver not created because there are no variables in the graph to restore\n"
     ]
    },
    {
     "name": "stdout",
     "output_type": "stream",
     "text": [
      "time: 10.4 s (started: 2021-05-19 14:54:55 +03:00)\n"
     ]
    }
   ],
   "source": [
    "elmo = hub.Module(\"http://files.deeppavlov.ai/deeppavlov_data/elmo_ru-wiki_600k_steps.tar.gz\",trainable=True)\n",
    "sess = tf.Session()\n",
    "sess.run(tf.global_variables_initializer())\n",
    "embeddings_adj = elmo([words_adj], signature=\"default\", as_dict=True)[\"elmo\"]\n",
    "#sess.run(embeddings_2)"
   ]
  },
  {
   "cell_type": "code",
   "execution_count": 4,
   "metadata": {},
   "outputs": [
    {
     "name": "stdout",
     "output_type": "stream",
     "text": [
      "time: 1min 24s (started: 2021-05-19 14:55:05 +03:00)\n"
     ]
    }
   ],
   "source": [
    "adj_embs = sess.run(embeddings_adj)"
   ]
  },
  {
   "cell_type": "code",
   "execution_count": 5,
   "metadata": {},
   "outputs": [
    {
     "data": {
      "text/plain": [
       "(1, 12, 1024)"
      ]
     },
     "execution_count": 5,
     "metadata": {},
     "output_type": "execute_result"
    },
    {
     "name": "stdout",
     "output_type": "stream",
     "text": [
      "time: 266 ms (started: 2021-05-19 14:56:31 +03:00)\n"
     ]
    }
   ],
   "source": [
    "adj_embs.shape"
   ]
  },
  {
   "cell_type": "code",
   "execution_count": 8,
   "metadata": {},
   "outputs": [
    {
     "data": {
      "text/plain": [
       "['убедительный',\n",
       " 'неубедительный',\n",
       " 'удобный',\n",
       " 'неудобный',\n",
       " 'эффективный',\n",
       " 'неэффективный',\n",
       " 'простой',\n",
       " 'непростой',\n",
       " 'приятный',\n",
       " 'неприятный',\n",
       " 'известный',\n",
       " 'неизвестный']"
      ]
     },
     "execution_count": 8,
     "metadata": {},
     "output_type": "execute_result"
    },
    {
     "name": "stdout",
     "output_type": "stream",
     "text": [
      "time: 0 ns (started: 2021-05-19 17:14:35 +03:00)\n"
     ]
    }
   ],
   "source": [
    "words_adj.split()"
   ]
  },
  {
   "cell_type": "code",
   "execution_count": 9,
   "metadata": {},
   "outputs": [
    {
     "name": "stdout",
     "output_type": "stream",
     "text": [
      "time: 93 ms (started: 2021-05-19 17:22:14 +03:00)\n"
     ]
    }
   ],
   "source": [
    "test = pd.DataFrame()\n",
    "for word_id in range(len(words_adj.split())):\n",
    "    test = test.append(pd.Series(adj_embs[0][word_id]),ignore_index=True)\n",
    "\n",
    "test.index = words_adj.split()"
   ]
  },
  {
   "cell_type": "code",
   "execution_count": 10,
   "metadata": {},
   "outputs": [
    {
     "data": {
      "text/html": [
       "<div>\n",
       "<style scoped>\n",
       "    .dataframe tbody tr th:only-of-type {\n",
       "        vertical-align: middle;\n",
       "    }\n",
       "\n",
       "    .dataframe tbody tr th {\n",
       "        vertical-align: top;\n",
       "    }\n",
       "\n",
       "    .dataframe thead th {\n",
       "        text-align: right;\n",
       "    }\n",
       "</style>\n",
       "<table border=\"1\" class=\"dataframe\">\n",
       "  <thead>\n",
       "    <tr style=\"text-align: right;\">\n",
       "      <th></th>\n",
       "      <th>0</th>\n",
       "      <th>1</th>\n",
       "      <th>2</th>\n",
       "      <th>3</th>\n",
       "      <th>4</th>\n",
       "      <th>5</th>\n",
       "      <th>6</th>\n",
       "      <th>7</th>\n",
       "      <th>8</th>\n",
       "      <th>9</th>\n",
       "      <th>...</th>\n",
       "      <th>1014</th>\n",
       "      <th>1015</th>\n",
       "      <th>1016</th>\n",
       "      <th>1017</th>\n",
       "      <th>1018</th>\n",
       "      <th>1019</th>\n",
       "      <th>1020</th>\n",
       "      <th>1021</th>\n",
       "      <th>1022</th>\n",
       "      <th>1023</th>\n",
       "    </tr>\n",
       "  </thead>\n",
       "  <tbody>\n",
       "    <tr>\n",
       "      <th>убедительный</th>\n",
       "      <td>0.192006</td>\n",
       "      <td>1.016074</td>\n",
       "      <td>0.168550</td>\n",
       "      <td>-0.312295</td>\n",
       "      <td>-0.162199</td>\n",
       "      <td>-0.574115</td>\n",
       "      <td>1.277917</td>\n",
       "      <td>-0.625941</td>\n",
       "      <td>-0.179113</td>\n",
       "      <td>0.499662</td>\n",
       "      <td>...</td>\n",
       "      <td>-0.399987</td>\n",
       "      <td>-0.786302</td>\n",
       "      <td>-0.266793</td>\n",
       "      <td>-0.426922</td>\n",
       "      <td>0.055397</td>\n",
       "      <td>-0.086139</td>\n",
       "      <td>-0.646259</td>\n",
       "      <td>0.165887</td>\n",
       "      <td>-0.156055</td>\n",
       "      <td>0.780924</td>\n",
       "    </tr>\n",
       "    <tr>\n",
       "      <th>неубедительный</th>\n",
       "      <td>0.401637</td>\n",
       "      <td>1.232249</td>\n",
       "      <td>-0.392377</td>\n",
       "      <td>0.116698</td>\n",
       "      <td>-0.574135</td>\n",
       "      <td>-0.403547</td>\n",
       "      <td>0.943240</td>\n",
       "      <td>0.107940</td>\n",
       "      <td>-0.100440</td>\n",
       "      <td>-0.015194</td>\n",
       "      <td>...</td>\n",
       "      <td>0.059035</td>\n",
       "      <td>-0.630500</td>\n",
       "      <td>-0.301560</td>\n",
       "      <td>-0.670511</td>\n",
       "      <td>-0.191204</td>\n",
       "      <td>-0.142156</td>\n",
       "      <td>-0.424219</td>\n",
       "      <td>0.078307</td>\n",
       "      <td>0.375112</td>\n",
       "      <td>0.887779</td>\n",
       "    </tr>\n",
       "    <tr>\n",
       "      <th>удобный</th>\n",
       "      <td>0.989993</td>\n",
       "      <td>0.745916</td>\n",
       "      <td>0.183563</td>\n",
       "      <td>0.239311</td>\n",
       "      <td>-0.893524</td>\n",
       "      <td>-0.278466</td>\n",
       "      <td>0.288426</td>\n",
       "      <td>0.515151</td>\n",
       "      <td>0.673639</td>\n",
       "      <td>-0.875693</td>\n",
       "      <td>...</td>\n",
       "      <td>-0.063357</td>\n",
       "      <td>-0.691543</td>\n",
       "      <td>-0.024559</td>\n",
       "      <td>-0.811020</td>\n",
       "      <td>-0.314333</td>\n",
       "      <td>-0.127235</td>\n",
       "      <td>-0.238780</td>\n",
       "      <td>-0.220349</td>\n",
       "      <td>-0.385990</td>\n",
       "      <td>0.627421</td>\n",
       "    </tr>\n",
       "    <tr>\n",
       "      <th>неудобный</th>\n",
       "      <td>0.651700</td>\n",
       "      <td>0.988677</td>\n",
       "      <td>0.045829</td>\n",
       "      <td>0.327098</td>\n",
       "      <td>-0.871085</td>\n",
       "      <td>-0.247328</td>\n",
       "      <td>0.623349</td>\n",
       "      <td>0.090247</td>\n",
       "      <td>1.076740</td>\n",
       "      <td>-1.127741</td>\n",
       "      <td>...</td>\n",
       "      <td>0.019126</td>\n",
       "      <td>-0.727508</td>\n",
       "      <td>0.195066</td>\n",
       "      <td>-0.956528</td>\n",
       "      <td>-0.352212</td>\n",
       "      <td>-0.078855</td>\n",
       "      <td>0.140145</td>\n",
       "      <td>-0.283619</td>\n",
       "      <td>-0.122688</td>\n",
       "      <td>0.738525</td>\n",
       "    </tr>\n",
       "    <tr>\n",
       "      <th>эффективный</th>\n",
       "      <td>0.626000</td>\n",
       "      <td>1.089692</td>\n",
       "      <td>0.107236</td>\n",
       "      <td>-0.078103</td>\n",
       "      <td>-1.041044</td>\n",
       "      <td>-0.387742</td>\n",
       "      <td>0.639338</td>\n",
       "      <td>-0.409522</td>\n",
       "      <td>0.805916</td>\n",
       "      <td>0.068312</td>\n",
       "      <td>...</td>\n",
       "      <td>0.231385</td>\n",
       "      <td>-0.462823</td>\n",
       "      <td>-0.553886</td>\n",
       "      <td>-0.977573</td>\n",
       "      <td>-0.140522</td>\n",
       "      <td>0.078632</td>\n",
       "      <td>-0.422420</td>\n",
       "      <td>-0.189227</td>\n",
       "      <td>-0.403984</td>\n",
       "      <td>1.001140</td>\n",
       "    </tr>\n",
       "    <tr>\n",
       "      <th>неэффективный</th>\n",
       "      <td>0.483159</td>\n",
       "      <td>1.078231</td>\n",
       "      <td>0.075333</td>\n",
       "      <td>-0.025022</td>\n",
       "      <td>-0.962496</td>\n",
       "      <td>-0.506400</td>\n",
       "      <td>0.880895</td>\n",
       "      <td>-0.696319</td>\n",
       "      <td>1.007520</td>\n",
       "      <td>0.099852</td>\n",
       "      <td>...</td>\n",
       "      <td>0.230563</td>\n",
       "      <td>-0.185895</td>\n",
       "      <td>-0.443310</td>\n",
       "      <td>-1.035418</td>\n",
       "      <td>-0.080767</td>\n",
       "      <td>-0.169250</td>\n",
       "      <td>-0.348790</td>\n",
       "      <td>-0.155384</td>\n",
       "      <td>-0.063598</td>\n",
       "      <td>0.943451</td>\n",
       "    </tr>\n",
       "    <tr>\n",
       "      <th>простой</th>\n",
       "      <td>-0.232658</td>\n",
       "      <td>1.042483</td>\n",
       "      <td>-0.246089</td>\n",
       "      <td>0.773209</td>\n",
       "      <td>-1.025661</td>\n",
       "      <td>-1.137653</td>\n",
       "      <td>1.507453</td>\n",
       "      <td>-0.533747</td>\n",
       "      <td>1.067799</td>\n",
       "      <td>-0.787688</td>\n",
       "      <td>...</td>\n",
       "      <td>-0.092109</td>\n",
       "      <td>-0.075220</td>\n",
       "      <td>0.084870</td>\n",
       "      <td>-0.282575</td>\n",
       "      <td>0.582444</td>\n",
       "      <td>-0.346931</td>\n",
       "      <td>-0.658691</td>\n",
       "      <td>0.104172</td>\n",
       "      <td>-0.109998</td>\n",
       "      <td>0.784378</td>\n",
       "    </tr>\n",
       "    <tr>\n",
       "      <th>непростой</th>\n",
       "      <td>-0.069328</td>\n",
       "      <td>0.853522</td>\n",
       "      <td>-0.248129</td>\n",
       "      <td>0.379015</td>\n",
       "      <td>-1.040625</td>\n",
       "      <td>-1.044262</td>\n",
       "      <td>1.674891</td>\n",
       "      <td>0.208489</td>\n",
       "      <td>1.644157</td>\n",
       "      <td>-1.819151</td>\n",
       "      <td>...</td>\n",
       "      <td>0.007453</td>\n",
       "      <td>-0.040163</td>\n",
       "      <td>-0.104223</td>\n",
       "      <td>-0.845586</td>\n",
       "      <td>0.453786</td>\n",
       "      <td>-0.763100</td>\n",
       "      <td>-0.436080</td>\n",
       "      <td>-0.005817</td>\n",
       "      <td>0.058260</td>\n",
       "      <td>0.915809</td>\n",
       "    </tr>\n",
       "    <tr>\n",
       "      <th>приятный</th>\n",
       "      <td>0.068836</td>\n",
       "      <td>1.321591</td>\n",
       "      <td>-0.424385</td>\n",
       "      <td>0.670439</td>\n",
       "      <td>-1.310657</td>\n",
       "      <td>-0.329485</td>\n",
       "      <td>1.052181</td>\n",
       "      <td>0.634957</td>\n",
       "      <td>0.746182</td>\n",
       "      <td>-1.075968</td>\n",
       "      <td>...</td>\n",
       "      <td>-0.178166</td>\n",
       "      <td>-0.293604</td>\n",
       "      <td>0.026528</td>\n",
       "      <td>-0.691697</td>\n",
       "      <td>-0.006565</td>\n",
       "      <td>-0.833835</td>\n",
       "      <td>-0.230388</td>\n",
       "      <td>-0.044521</td>\n",
       "      <td>-0.203499</td>\n",
       "      <td>0.898814</td>\n",
       "    </tr>\n",
       "    <tr>\n",
       "      <th>неприятный</th>\n",
       "      <td>0.455683</td>\n",
       "      <td>1.752419</td>\n",
       "      <td>-0.031268</td>\n",
       "      <td>0.951046</td>\n",
       "      <td>-1.053755</td>\n",
       "      <td>-0.246119</td>\n",
       "      <td>1.377915</td>\n",
       "      <td>1.144682</td>\n",
       "      <td>0.385215</td>\n",
       "      <td>-0.866642</td>\n",
       "      <td>...</td>\n",
       "      <td>-0.171161</td>\n",
       "      <td>-0.070194</td>\n",
       "      <td>0.114302</td>\n",
       "      <td>-0.754866</td>\n",
       "      <td>0.408405</td>\n",
       "      <td>-0.679127</td>\n",
       "      <td>-0.162262</td>\n",
       "      <td>-0.505247</td>\n",
       "      <td>-0.162170</td>\n",
       "      <td>0.475325</td>\n",
       "    </tr>\n",
       "    <tr>\n",
       "      <th>известный</th>\n",
       "      <td>0.666127</td>\n",
       "      <td>0.981266</td>\n",
       "      <td>0.564006</td>\n",
       "      <td>0.315919</td>\n",
       "      <td>-0.639246</td>\n",
       "      <td>-0.194226</td>\n",
       "      <td>1.666268</td>\n",
       "      <td>0.370418</td>\n",
       "      <td>0.799655</td>\n",
       "      <td>-0.929390</td>\n",
       "      <td>...</td>\n",
       "      <td>-0.799241</td>\n",
       "      <td>-0.438132</td>\n",
       "      <td>-0.331388</td>\n",
       "      <td>0.035920</td>\n",
       "      <td>1.100950</td>\n",
       "      <td>-0.372573</td>\n",
       "      <td>-0.492175</td>\n",
       "      <td>-0.429817</td>\n",
       "      <td>-0.777354</td>\n",
       "      <td>-0.342874</td>\n",
       "    </tr>\n",
       "    <tr>\n",
       "      <th>неизвестный</th>\n",
       "      <td>0.256585</td>\n",
       "      <td>0.952632</td>\n",
       "      <td>-0.535680</td>\n",
       "      <td>0.982509</td>\n",
       "      <td>-1.321421</td>\n",
       "      <td>-0.438832</td>\n",
       "      <td>1.363848</td>\n",
       "      <td>0.226346</td>\n",
       "      <td>1.249948</td>\n",
       "      <td>-1.169508</td>\n",
       "      <td>...</td>\n",
       "      <td>-0.208739</td>\n",
       "      <td>-0.005831</td>\n",
       "      <td>-0.444642</td>\n",
       "      <td>0.011286</td>\n",
       "      <td>0.432527</td>\n",
       "      <td>-0.431100</td>\n",
       "      <td>-0.256648</td>\n",
       "      <td>-0.096005</td>\n",
       "      <td>-0.529170</td>\n",
       "      <td>-0.480083</td>\n",
       "    </tr>\n",
       "  </tbody>\n",
       "</table>\n",
       "<p>12 rows × 1024 columns</p>\n",
       "</div>"
      ],
      "text/plain": [
       "                    0         1         2         3         4         5     \\\n",
       "убедительный    0.192006  1.016074  0.168550 -0.312295 -0.162199 -0.574115   \n",
       "неубедительный  0.401637  1.232249 -0.392377  0.116698 -0.574135 -0.403547   \n",
       "удобный         0.989993  0.745916  0.183563  0.239311 -0.893524 -0.278466   \n",
       "неудобный       0.651700  0.988677  0.045829  0.327098 -0.871085 -0.247328   \n",
       "эффективный     0.626000  1.089692  0.107236 -0.078103 -1.041044 -0.387742   \n",
       "неэффективный   0.483159  1.078231  0.075333 -0.025022 -0.962496 -0.506400   \n",
       "простой        -0.232658  1.042483 -0.246089  0.773209 -1.025661 -1.137653   \n",
       "непростой      -0.069328  0.853522 -0.248129  0.379015 -1.040625 -1.044262   \n",
       "приятный        0.068836  1.321591 -0.424385  0.670439 -1.310657 -0.329485   \n",
       "неприятный      0.455683  1.752419 -0.031268  0.951046 -1.053755 -0.246119   \n",
       "известный       0.666127  0.981266  0.564006  0.315919 -0.639246 -0.194226   \n",
       "неизвестный     0.256585  0.952632 -0.535680  0.982509 -1.321421 -0.438832   \n",
       "\n",
       "                    6         7         8         9     ...      1014  \\\n",
       "убедительный    1.277917 -0.625941 -0.179113  0.499662  ... -0.399987   \n",
       "неубедительный  0.943240  0.107940 -0.100440 -0.015194  ...  0.059035   \n",
       "удобный         0.288426  0.515151  0.673639 -0.875693  ... -0.063357   \n",
       "неудобный       0.623349  0.090247  1.076740 -1.127741  ...  0.019126   \n",
       "эффективный     0.639338 -0.409522  0.805916  0.068312  ...  0.231385   \n",
       "неэффективный   0.880895 -0.696319  1.007520  0.099852  ...  0.230563   \n",
       "простой         1.507453 -0.533747  1.067799 -0.787688  ... -0.092109   \n",
       "непростой       1.674891  0.208489  1.644157 -1.819151  ...  0.007453   \n",
       "приятный        1.052181  0.634957  0.746182 -1.075968  ... -0.178166   \n",
       "неприятный      1.377915  1.144682  0.385215 -0.866642  ... -0.171161   \n",
       "известный       1.666268  0.370418  0.799655 -0.929390  ... -0.799241   \n",
       "неизвестный     1.363848  0.226346  1.249948 -1.169508  ... -0.208739   \n",
       "\n",
       "                    1015      1016      1017      1018      1019      1020  \\\n",
       "убедительный   -0.786302 -0.266793 -0.426922  0.055397 -0.086139 -0.646259   \n",
       "неубедительный -0.630500 -0.301560 -0.670511 -0.191204 -0.142156 -0.424219   \n",
       "удобный        -0.691543 -0.024559 -0.811020 -0.314333 -0.127235 -0.238780   \n",
       "неудобный      -0.727508  0.195066 -0.956528 -0.352212 -0.078855  0.140145   \n",
       "эффективный    -0.462823 -0.553886 -0.977573 -0.140522  0.078632 -0.422420   \n",
       "неэффективный  -0.185895 -0.443310 -1.035418 -0.080767 -0.169250 -0.348790   \n",
       "простой        -0.075220  0.084870 -0.282575  0.582444 -0.346931 -0.658691   \n",
       "непростой      -0.040163 -0.104223 -0.845586  0.453786 -0.763100 -0.436080   \n",
       "приятный       -0.293604  0.026528 -0.691697 -0.006565 -0.833835 -0.230388   \n",
       "неприятный     -0.070194  0.114302 -0.754866  0.408405 -0.679127 -0.162262   \n",
       "известный      -0.438132 -0.331388  0.035920  1.100950 -0.372573 -0.492175   \n",
       "неизвестный    -0.005831 -0.444642  0.011286  0.432527 -0.431100 -0.256648   \n",
       "\n",
       "                    1021      1022      1023  \n",
       "убедительный    0.165887 -0.156055  0.780924  \n",
       "неубедительный  0.078307  0.375112  0.887779  \n",
       "удобный        -0.220349 -0.385990  0.627421  \n",
       "неудобный      -0.283619 -0.122688  0.738525  \n",
       "эффективный    -0.189227 -0.403984  1.001140  \n",
       "неэффективный  -0.155384 -0.063598  0.943451  \n",
       "простой         0.104172 -0.109998  0.784378  \n",
       "непростой      -0.005817  0.058260  0.915809  \n",
       "приятный       -0.044521 -0.203499  0.898814  \n",
       "неприятный     -0.505247 -0.162170  0.475325  \n",
       "известный      -0.429817 -0.777354 -0.342874  \n",
       "неизвестный    -0.096005 -0.529170 -0.480083  \n",
       "\n",
       "[12 rows x 1024 columns]"
      ]
     },
     "execution_count": 10,
     "metadata": {},
     "output_type": "execute_result"
    },
    {
     "name": "stdout",
     "output_type": "stream",
     "text": [
      "time: 63 ms (started: 2021-05-19 17:22:16 +03:00)\n"
     ]
    }
   ],
   "source": [
    "test"
   ]
  },
  {
   "cell_type": "code",
   "execution_count": null,
   "metadata": {},
   "outputs": [],
   "source": []
  },
  {
   "cell_type": "code",
   "execution_count": 11,
   "metadata": {},
   "outputs": [
    {
     "data": {
      "text/plain": [
       "array([[-7.9997406, -7.6993217],\n",
       "       [-6.576246 , -4.963604 ],\n",
       "       [-5.856479 , -1.1570737],\n",
       "       [-4.1848397,  1.0754032],\n",
       "       [-4.9058557,  1.0590101],\n",
       "       [-3.2067356,  3.3486712],\n",
       "       [ 0.5875462,  6.490009 ],\n",
       "       [ 1.7876263,  8.548211 ],\n",
       "       [ 3.109837 ,  2.9531367],\n",
       "       [ 5.7029533,  1.0530361],\n",
       "       [ 9.463768 , -5.533396 ],\n",
       "       [12.078163 , -5.174083 ]], dtype=float32)"
      ]
     },
     "execution_count": 11,
     "metadata": {},
     "output_type": "execute_result"
    },
    {
     "name": "stdout",
     "output_type": "stream",
     "text": [
      "time: 125 ms (started: 2021-05-19 17:23:10 +03:00)\n"
     ]
    }
   ],
   "source": [
    "pca = PCA(n_components=2)\n",
    "pca.fit_transform(test)"
   ]
  },
  {
   "cell_type": "code",
   "execution_count": 12,
   "metadata": {},
   "outputs": [
    {
     "name": "stdout",
     "output_type": "stream",
     "text": [
      "time: 15 ms (started: 2021-05-19 17:23:11 +03:00)\n"
     ]
    }
   ],
   "source": [
    "test = pca.fit_transform(test)"
   ]
  },
  {
   "cell_type": "code",
   "execution_count": 14,
   "metadata": {},
   "outputs": [
    {
     "name": "stdout",
     "output_type": "stream",
     "text": [
      "time: 15 ms (started: 2021-05-19 17:23:16 +03:00)\n"
     ]
    }
   ],
   "source": [
    "x = [row[0] for row in test]\n",
    "y = [row[1] for row in test]"
   ]
  },
  {
   "cell_type": "code",
   "execution_count": 15,
   "metadata": {},
   "outputs": [
    {
     "name": "stdout",
     "output_type": "stream",
     "text": [
      "time: 0 ns (started: 2021-05-19 17:23:19 +03:00)\n"
     ]
    }
   ],
   "source": [
    "idxes = (0,2,4,6,8,10)"
   ]
  },
  {
   "cell_type": "code",
   "execution_count": 22,
   "metadata": {},
   "outputs": [
    {
     "data": {
      "text/plain": [
       "Text(0, 0.5, 'Координата y (ELMo)')"
      ]
     },
     "execution_count": 22,
     "metadata": {},
     "output_type": "execute_result"
    },
    {
     "data": {
      "image/png": "[encoded data removed]",
      "text/plain": [
       "<Figure size 576x432 with 1 Axes>"
      ]
     },
     "metadata": {
      "needs_background": "light"
     },
     "output_type": "display_data"
    },
    {
     "name": "stdout",
     "output_type": "stream",
     "text": [
      "time: 531 ms (started: 2021-05-19 17:27:15 +03:00)\n"
     ]
    }
   ],
   "source": [
    "plt.figure(figsize=(8,6))\n",
    "\n",
    "plt.scatter(x,y)\n",
    "for i in idxes:\n",
    "    plt.plot([test[i][0],test[i+1][0]], [test[i][1], test[i+1][1]])\n",
    "    \n",
    "for i in range(len(pca.fit_transform(test))):\n",
    "    plt.text(pca.fit_transform(test)[i][0]+0.2,pca.fit_transform(test)[i][1]-0.2,words_adj.split()[i])\n",
    "    \n",
    "plt.title('Проекция категории \"Антонимы с приставкой не-\"')\n",
    "#plt.grid()\n",
    "plt.xlabel('Координата х (ELMo)')\n",
    "plt.ylabel('Координата y (ELMo)')"
   ]
  },
  {
   "cell_type": "code",
   "execution_count": null,
   "metadata": {},
   "outputs": [],
   "source": []
  },
  {
   "cell_type": "code",
   "execution_count": null,
   "metadata": {},
   "outputs": [],
   "source": []
  },
  {
   "cell_type": "code",
   "execution_count": null,
   "metadata": {},
   "outputs": [],
   "source": []
  },
  {
   "cell_type": "code",
   "execution_count": null,
   "metadata": {},
   "outputs": [],
   "source": []
  },
  {
   "cell_type": "code",
   "execution_count": null,
   "metadata": {},
   "outputs": [],
   "source": []
  },
  {
   "cell_type": "code",
   "execution_count": null,
   "metadata": {},
   "outputs": [],
   "source": []
  },
  {
   "cell_type": "code",
   "execution_count": null,
   "metadata": {},
   "outputs": [],
   "source": []
  },
  {
   "cell_type": "code",
   "execution_count": null,
   "metadata": {},
   "outputs": [],
   "source": []
  },
  {
   "cell_type": "code",
   "execution_count": 46,
   "metadata": {},
   "outputs": [
    {
     "data": {
      "text/plain": [
       "array([[-7.9052763 ,  5.812577  ],\n",
       "       [ 2.300471  ,  8.586756  ],\n",
       "       [-4.8596287 ,  1.9666462 ],\n",
       "       [ 0.47385508,  5.825759  ],\n",
       "       [-3.8226213 , -0.4695723 ],\n",
       "       [ 5.4707723 ,  3.3892717 ],\n",
       "       [-3.1112297 , -3.6879723 ],\n",
       "       [ 6.112267  ,  0.24979307],\n",
       "       [-3.6640763 , -6.4998927 ],\n",
       "       [ 3.944341  , -4.718514  ],\n",
       "       [-4.020461  , -6.8231454 ],\n",
       "       [ 9.081581  , -3.6317143 ]], dtype=float32)"
      ]
     },
     "execution_count": 46,
     "metadata": {},
     "output_type": "execute_result"
    },
    {
     "name": "stdout",
     "output_type": "stream",
     "text": [
      "time: 734 ms (started: 2021-05-18 18:33:56 +03:00)\n"
     ]
    }
   ],
   "source": [
    "pca = PCA(n_components=2)\n",
    "pca.fit_transform(test)"
   ]
  },
  {
   "cell_type": "code",
   "execution_count": 47,
   "metadata": {},
   "outputs": [
    {
     "name": "stdout",
     "output_type": "stream",
     "text": [
      "time: 47 ms (started: 2021-05-18 18:34:16 +03:00)\n"
     ]
    }
   ],
   "source": [
    "test = pca.fit_transform(test)"
   ]
  },
  {
   "cell_type": "code",
   "execution_count": 48,
   "metadata": {},
   "outputs": [
    {
     "name": "stdout",
     "output_type": "stream",
     "text": [
      "time: 15 ms (started: 2021-05-18 18:34:17 +03:00)\n"
     ]
    }
   ],
   "source": [
    "x = [row[0] for row in test]\n",
    "y = [row[1] for row in test]\n",
    "names = ['Париж', 'Франция', 'Москва', 'Россия', 'Берлин','Германия']"
   ]
  },
  {
   "cell_type": "code",
   "execution_count": 62,
   "metadata": {},
   "outputs": [
    {
     "data": {
      "text/plain": [
       "Text(0, 0.5, 'Координата y (ELMo)')"
      ]
     },
     "execution_count": 62,
     "metadata": {},
     "output_type": "execute_result"
    },
    {
     "data": {
      "image/png": "[encoded data removed]",
      "text/plain": [
       "<Figure size 576x432 with 1 Axes>"
      ]
     },
     "metadata": {
      "needs_background": "light"
     },
     "output_type": "display_data"
    },
    {
     "name": "stdout",
     "output_type": "stream",
     "text": [
      "time: 187 ms (started: 2021-05-18 18:50:14 +03:00)\n"
     ]
    }
   ],
   "source": [
    "plt.figure(figsize=(8,6))\n",
    "plt.scatter(x,y)\n",
    "plt.plot([ -7.9052763 , 2.300471 ],[ 5.812577   , 8.586756 ],label='Париж-Франция')\n",
    "plt.plot([ -4.8596287 , 0.47385508 ],[ 1.9666462      , 5.825759 ],label='Москва-Россия')\n",
    "plt.plot([  -3.8226213 , 5.4707723  ],[ -0.4695723  , 3.3892717 ],label='Берлин-Германия')\n",
    "plt.plot([  -3.1112297 , 6.112267 ],[ -3.6879723  , 0.24979307 ],label='Мадрид-Испания')\n",
    "plt.plot([  -3.6640763 , 3.944341 ],[ -6.4998927  , -4.718514 ],label='Афины-Греция')\n",
    "plt.plot([  -4.020461 , 9.081581 ],[ -6.8231454  , -3.6317143 ],label='Лондон-Англия')\n",
    "plt.text(-7.9052763 ,  5.812577, 'Франция', fontsize=10)\n",
    "plt.text(2.300471  ,  8.586756, 'Париж', fontsize=10)\n",
    "plt.text(-4.8596287 ,  1.9666462, 'Россия', fontsize=10)\n",
    "plt.text(0.47385508,  5.825759, 'Москва', fontsize=10)\n",
    "plt.text(-3.8226213 , -0.4695723, 'Германия', fontsize=10)\n",
    "plt.text(5.4707723 ,  3.3892717, 'Берлин', fontsize=10)\n",
    "plt.text(-3.1112297 , -3.6879723, 'Испания', fontsize=10)\n",
    "plt.text(6.112267  ,  0.24979307, 'Мадрид', fontsize=10)\n",
    "plt.text(-3.6640763 , -6.4998927, 'Греция', fontsize=10)\n",
    "plt.text(3.944341  , -4.718514, 'Афины', fontsize=10)\n",
    "plt.text(-4.020461  , -6.8231454, 'Англия', fontsize=10)\n",
    "plt.text(9.081581  , -3.6317143, 'Лондон', fontsize=10)\n",
    "plt.title('Проекция категории \"Известная столица мира - страна\"')\n",
    "#plt.grid()\n",
    "plt.xlabel('Координата х (ELMo)')\n",
    "plt.ylabel('Координата y (ELMo)')\n",
    "#plt.legend()"
   ]
  },
  {
   "cell_type": "code",
   "execution_count": null,
   "metadata": {},
   "outputs": [],
   "source": []
  },
  {
   "cell_type": "code",
   "execution_count": null,
   "metadata": {},
   "outputs": [],
   "source": []
  },
  {
   "cell_type": "code",
   "execution_count": null,
   "metadata": {},
   "outputs": [],
   "source": []
  },
  {
   "cell_type": "code",
   "execution_count": null,
   "metadata": {},
   "outputs": [],
   "source": []
  },
  {
   "cell_type": "code",
   "execution_count": null,
   "metadata": {},
   "outputs": [],
   "source": []
  }
 ],
 "metadata": {
  "kernelspec": {
   "display_name": "tf",
   "language": "python",
   "name": "tf"
  },
  "language_info": {
   "codemirror_mode": {
    "name": "ipython",
    "version": 3
   },
   "file_extension": ".py",
   "mimetype": "text/x-python",
   "name": "python",
   "nbconvert_exporter": "python",
   "pygments_lexer": "ipython3",
   "version": "3.7.10"
  }
 },
 "nbformat": 4,
 "nbformat_minor": 4
}
