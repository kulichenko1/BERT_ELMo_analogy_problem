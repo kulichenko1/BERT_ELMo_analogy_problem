{
 "cells": [
  {
   "cell_type": "code",
   "execution_count": 1,
   "metadata": {},
   "outputs": [
    {
     "name": "stdout",
     "output_type": "stream",
     "text": [
      "time: 0 ns (started: 2021-05-22 04:19:49 +03:00)\n"
     ]
    }
   ],
   "source": [
    "import tensorflow as tf\n",
    "import tensorflow_hub as hub\n",
    "import pandas as pd\n",
    "import numpy as np\n",
    "import matplotlib.pyplot as plt\n",
    "from tqdm import tqdm\n",
    "\n",
    "from sklearn.decomposition import PCA\n",
    "from scipy.spatial.distance import cosine\n",
    "\n",
    "%load_ext autotime"
   ]
  },
  {
   "cell_type": "markdown",
   "metadata": {},
   "source": [
    "# 1. Кастомные функции"
   ]
  },
  {
   "cell_type": "markdown",
   "metadata": {},
   "source": [
    "## 1.1 Получить слова из текста в нужном формате\n",
    "\n",
    "Берется файл с аналогиями, переводится в нужный вид, с которым будут работать в дальнейшем функции"
   ]
  },
  {
   "cell_type": "code",
   "execution_count": 2,
   "metadata": {},
   "outputs": [
    {
     "name": "stdout",
     "output_type": "stream",
     "text": [
      "time: 0 ns (started: 2021-05-22 04:19:49 +03:00)\n"
     ]
    }
   ],
   "source": [
    "def unique_list(l):\n",
    "    ulist = []\n",
    "    [ulist.append(x) for x in l if x not in ulist]\n",
    "    return ulist"
   ]
  },
  {
   "cell_type": "code",
   "execution_count": 3,
   "metadata": {},
   "outputs": [
    {
     "name": "stdout",
     "output_type": "stream",
     "text": [
      "time: 0 ns (started: 2021-05-22 04:19:49 +03:00)\n"
     ]
    }
   ],
   "source": [
    "def get_analogy_words(filename):\n",
    "    \n",
    "    with open(filename, encoding='utf-8') as f:\n",
    "        content = f.readlines()\n",
    "    \n",
    "    words_to_agg = [x.strip() for x in content] \n",
    "    \n",
    "    words_to_agg = \" \".join(words_to_agg)\n",
    "    words_to_agg = \" \".join(words_to_agg.split('_'))\n",
    "    \n",
    "    stop_words = ['PROPN', 'ADJ', 'VERB','ADV', 'NOUN']\n",
    "    \n",
    "    for i in stop_words:\n",
    "        words_to_agg = words_to_agg.replace(i, '')\n",
    "    \n",
    "    words_to_agg = words_to_agg.replace('й','и')\n",
    "    \n",
    "    words_to_agg = ' '.join(unique_list(words_to_agg.split()))\n",
    "    \n",
    "    return words_to_agg"
   ]
  },
  {
   "cell_type": "code",
   "execution_count": 4,
   "metadata": {},
   "outputs": [
    {
     "data": {
      "text/plain": [
       "'афины греция багдад ирак бангкок таиланд пекин китаи берлин германия берн швеицария каир египет канберра австралия ханои вьетнам гавана куба хельсинки финляндия исламабад пакистан кабул афганистан лондон англия мадрид испания москва россия осло норвегия оттава канада париж франция рим италия стокгольм швеция тегеран иран токио япония'"
      ]
     },
     "execution_count": 4,
     "metadata": {},
     "output_type": "execute_result"
    },
    {
     "name": "stdout",
     "output_type": "stream",
     "text": [
      "time: 15 ms (started: 2021-05-22 04:19:49 +03:00)\n"
     ]
    }
   ],
   "source": [
    "file1 = 'C:\\\\Users\\\\Asus\\\\Data analysis\\\\Учеба\\\\ДИПЛОМ\\\\Analogies\\\\Small\\\\столица-страна.txt'\n",
    "\n",
    "anal1 = get_analogy_words(file1)\n",
    "\n",
    "anal1"
   ]
  },
  {
   "cell_type": "markdown",
   "metadata": {},
   "source": [
    "## 1.2 Получить эмбеддинги ELMo"
   ]
  },
  {
   "cell_type": "code",
   "execution_count": 5,
   "metadata": {},
   "outputs": [
    {
     "name": "stdout",
     "output_type": "stream",
     "text": [
      "time: 0 ns (started: 2021-05-22 04:19:49 +03:00)\n"
     ]
    }
   ],
   "source": [
    "def get_embeddings_ELMo(model, sess, words_to_embed):\n",
    "    \n",
    "    embeddings = elmo([words_to_embed], signature=\"default\", as_dict=True)[\"elmo\"]\n",
    "    \n",
    "    words_embeddings = sess.run(embeddings)\n",
    "    \n",
    "    \n",
    "    table_embedding = pd.DataFrame()\n",
    "    for word_id in range(len(words_to_embed.lower().split())):\n",
    "        table_embedding = table_embedding.append(pd.Series(words_embeddings[0][word_id]),ignore_index=True)\n",
    "\n",
    "    table_embedding.index = words_to_embed.lower().split()\n",
    "    \n",
    "    return table_embedding\n",
    "    "
   ]
  },
  {
   "cell_type": "markdown",
   "metadata": {},
   "source": [
    "## 1.3 Решить задачу аналогии методом 3CosAdd"
   ]
  },
  {
   "cell_type": "code",
   "execution_count": 6,
   "metadata": {},
   "outputs": [
    {
     "name": "stdout",
     "output_type": "stream",
     "text": [
      "time: 0 ns (started: 2021-05-22 04:19:49 +03:00)\n"
     ]
    }
   ],
   "source": [
    "def solve_analogy_3CosAdd(words_to_embed, words_embeddings):\n",
    "    \n",
    "    index_list = np.arange(0,len(words_to_embed.split()))\n",
    "    evensList = [x for x in index_list if x % 2 == 0]\n",
    "    index_list =  np.arange(0,len(evensList))\n",
    "    \n",
    "    word_1 = [words_to_embed.lower().split()[i] for i in evensList]\n",
    "    word_2 = [words_to_embed.lower().split()[i+1] for i in evensList]\n",
    "    \n",
    "    N_tasks = 0\n",
    "    N_correct = 0\n",
    "    \n",
    "    for word_1_index in range(len(word_1)):\n",
    "    \n",
    "        #print('Looking for ', word_1[word_1_index])\n",
    "    \n",
    "        for pair_id in index_list:\n",
    "            \n",
    "            argmax = 0\n",
    "            i_max = 0\n",
    "            \n",
    "            for word_vector in words_to_embed.lower().split():\n",
    "            \n",
    "                vecs_to_exclude = [word_2[word_1_index], word_1[pair_id], word_2[pair_id]]\n",
    "                #print(vecs_to_exclude)\n",
    "                #print(word_vector)\n",
    "            \n",
    "                #print(capital_id, pair_id)\n",
    "                if ((word_vector not in vecs_to_exclude) & (word_1_index != pair_id)):\n",
    "                \n",
    "                    res = 1 - cosine(words_embeddings.loc[word_vector], (words_embeddings.loc[word_1[pair_id]] - words_embeddings.loc[word_2[pair_id]] + words_embeddings.loc[word_2[word_1_index]]))\n",
    "                \n",
    "                    #print(capitals[pair_id], '-', countries[pair_id], '+', countries[capital_id])\n",
    "                    #print(res)\n",
    "                    if (res > argmax):\n",
    "                        argmax = res\n",
    "                        i_max = word_vector\n",
    "            N_tasks += 1\n",
    "            \n",
    "            #print(argmax)\n",
    "        \n",
    "            #print(word_1[pair_id], '-', word_2[pair_id], '+', word_2[word_1_index], '=', i_max)\n",
    "        \n",
    "        \n",
    "            if (i_max == word_1[word_1_index]):\n",
    "                N_correct += 1\n",
    "        #print('')\n",
    "\n",
    "    print('Accuracy score =', N_correct/N_tasks)\n",
    "    print(N_correct)\n",
    "    print(N_tasks)\n",
    "    \n",
    "    score = N_correct/N_tasks\n",
    "    \n",
    "    return score"
   ]
  },
  {
   "cell_type": "markdown",
   "metadata": {},
   "source": [
    "## 1.4 Решить задачу аналогии методом 3CosAvg"
   ]
  },
  {
   "cell_type": "code",
   "execution_count": 7,
   "metadata": {},
   "outputs": [
    {
     "name": "stdout",
     "output_type": "stream",
     "text": [
      "time: 0 ns (started: 2021-05-22 04:19:49 +03:00)\n"
     ]
    }
   ],
   "source": [
    "def solve_analogy_3CosAvg(words_to_embed, words_embeddings):\n",
    "    \n",
    "    index_list = np.arange(0,len(words_to_embed.split()))\n",
    "    evensList = [x for x in index_list if x % 2 == 0]\n",
    "    index_list =  np.arange(0,len(evensList))\n",
    "    \n",
    "    word_1 = [words_to_embed.lower().split()[i] for i in evensList]\n",
    "    word_2 = [words_to_embed.lower().split()[i+1] for i in evensList]\n",
    "    \n",
    "    N_tasks = 0\n",
    "    N_correct = 0\n",
    "    \n",
    "    v_1 = 0\n",
    "    v_2 = 0\n",
    "\n",
    "    for pair_id in index_list:\n",
    "        v_1 += words_embeddings.loc[word_1[pair_id]]\n",
    "        v_2 += words_embeddings.loc[word_2[pair_id]]\n",
    "\n",
    "    d = (v_1 - v_2)/len(index_list)\n",
    "    \n",
    "    N_tasks = 0\n",
    "    N_correct = 0\n",
    "\n",
    "    for word_2_index in range(len(word_2)):\n",
    "        #print('looking for ', word_1[word_2_index])\n",
    "        \n",
    "        argmax = 0\n",
    "        i_max = 0\n",
    "        \n",
    "        for word_vector in words_to_embed.lower().split():\n",
    "            \n",
    "            vecs_to_exclude = [word_2[word_2_index]]\n",
    "            \n",
    "            if (word_vector not in vecs_to_exclude):\n",
    "                \n",
    "                res = 1 - cosine(words_embeddings.loc[word_vector], (words_embeddings.loc[word_2[word_2_index]] + d))\n",
    "                \n",
    "                if (res > argmax):\n",
    "                    argmax = res\n",
    "                    i_max = word_vector\n",
    "                    \n",
    "            \n",
    "            \n",
    "        #print(word_2[word_2_index], '- d = ', i_max)\n",
    "        N_tasks +=1\n",
    "    \n",
    "        if (i_max == word_1[word_2_index]):\n",
    "            N_correct += 1\n",
    "    \n",
    "    print('Accuracy score =', N_correct/N_tasks)\n",
    "    print(N_correct)\n",
    "    print(N_tasks)\n",
    "    \n",
    "    score = N_correct/N_tasks\n",
    "    \n",
    "    return score"
   ]
  },
  {
   "cell_type": "code",
   "execution_count": null,
   "metadata": {},
   "outputs": [],
   "source": []
  },
  {
   "cell_type": "code",
   "execution_count": null,
   "metadata": {},
   "outputs": [],
   "source": []
  },
  {
   "cell_type": "markdown",
   "metadata": {},
   "source": [
    "# 2. Решим задачи аналогий"
   ]
  },
  {
   "cell_type": "markdown",
   "metadata": {},
   "source": [
    "## 2.1 Модель Elmo Ru News"
   ]
  },
  {
   "cell_type": "code",
   "execution_count": 8,
   "metadata": {},
   "outputs": [
    {
     "name": "stdout",
     "output_type": "stream",
     "text": [
      "time: 6.66 s (started: 2021-05-21 13:40:20 +03:00)\n"
     ]
    }
   ],
   "source": [
    "elmo = hub.Module(\"http://files.deeppavlov.ai/deeppavlov_data/elmo_ru-news_wmt11-16_1.5M_steps.tar.gz\",trainable=True)\n",
    "sess = tf.Session()\n",
    "sess.run(tf.global_variables_initializer())"
   ]
  },
  {
   "cell_type": "markdown",
   "metadata": {},
   "source": [
    "### 2.1.1 Прилагательные - антонимы с приставкой не-"
   ]
  },
  {
   "cell_type": "code",
   "execution_count": 16,
   "metadata": {},
   "outputs": [
    {
     "data": {
      "text/plain": [
       "'приемлемыи неприемлемыи простои непростои определенныи неопределенныи ясныи неясныи удобныи неудобныи конкурентноспособныи неконкурентноспособныи последовательныи непоследовательныи убедительныи неубедительныи решенныи нерешенныи эффективныи неэффективныи этичныи неэтичныи удачныи неудачныи честныи нечестныи уместныи неуместныи информативныи неинформативныи осведомленныи неосведомленныи известныи неизвестныи вероятныи невероятныи логичныи нелогичныи приятныи неприятныи возможныи невозможныи продуктивныи непродуктивныи рациональныи иррациональныи разумныи неразумныи ответственныи безответственныи уверенныи неуверенныи благодарныи неблагодарныи'"
      ]
     },
     "execution_count": 16,
     "metadata": {},
     "output_type": "execute_result"
    },
    {
     "name": "stdout",
     "output_type": "stream",
     "text": [
      "time: 16 ms (started: 2021-05-21 15:18:59 +03:00)\n"
     ]
    }
   ],
   "source": [
    "file1 = 'C:\\\\Users\\\\Asus\\\\Data analysis\\\\Учеба\\\\ДИПЛОМ\\\\Analogies\\\\Small\\\\adj-NOTadj.txt'\n",
    "\n",
    "analogy_1 = get_analogy_words(file1)\n",
    "\n",
    "analogy_1"
   ]
  },
  {
   "cell_type": "code",
   "execution_count": 10,
   "metadata": {},
   "outputs": [
    {
     "name": "stdout",
     "output_type": "stream",
     "text": [
      "INFO:tensorflow:Saver not created because there are no variables in the graph to restore\n"
     ]
    },
    {
     "name": "stderr",
     "output_type": "stream",
     "text": [
      "INFO:tensorflow:Saver not created because there are no variables in the graph to restore\n"
     ]
    },
    {
     "name": "stdout",
     "output_type": "stream",
     "text": [
      "time: 1min 12s (started: 2021-05-20 22:23:31 +03:00)\n"
     ]
    }
   ],
   "source": [
    "analogy_1_embeddings = get_embeddings_ELMo(elmo,sess,analogy_1)"
   ]
  },
  {
   "cell_type": "code",
   "execution_count": 11,
   "metadata": {},
   "outputs": [
    {
     "name": "stdout",
     "output_type": "stream",
     "text": [
      "time: 50.5 s (started: 2021-05-20 22:24:47 +03:00)\n"
     ]
    }
   ],
   "source": [
    "analogy_1_embeddings.to_csv('elmo_ru_news_analogy1_emb', sep='\\t')"
   ]
  },
  {
   "cell_type": "code",
   "execution_count": 12,
   "metadata": {},
   "outputs": [
    {
     "name": "stdout",
     "output_type": "stream",
     "text": [
      "Accuracy score = 0.9053497942386831\n",
      "660\n",
      "729\n",
      "time: 52.2 s (started: 2021-05-20 22:25:37 +03:00)\n"
     ]
    }
   ],
   "source": [
    "analogy_1_score = solve_analogy_3CosAdd(analogy_1,analogy_1_embeddings)"
   ]
  },
  {
   "cell_type": "code",
   "execution_count": 13,
   "metadata": {},
   "outputs": [
    {
     "name": "stdout",
     "output_type": "stream",
     "text": [
      "Accuracy score = 0.9629629629629629\n",
      "26\n",
      "27\n",
      "time: 688 ms (started: 2021-05-20 22:26:29 +03:00)\n"
     ]
    }
   ],
   "source": [
    "analogy_1_score_3CosAvg = solve_analogy_3CosAvg(analogy_1,analogy_1_embeddings)"
   ]
  },
  {
   "cell_type": "markdown",
   "metadata": {},
   "source": [
    "### 2.1.2 Страна - прилагательное"
   ]
  },
  {
   "cell_type": "code",
   "execution_count": 17,
   "metadata": {},
   "outputs": [
    {
     "data": {
      "text/plain": [
       "'албания албанскии аргентина аргентинскии австралия австралиискии австрия австриискии беларусь белорусскии бразилия бразильскии болгария болгарскии камбоджа камбоджиискии чили чилиискии китаи китаискии колумбия колумбиискии хорватия хорватскии дания датскии египет египетскии англия англиискии франция французскии германия немецкии греция греческии исландия исландскии индия индиискии ирландия ирландскии израиль израильскии италия итальянскии япония японскии корея кореискии македония македонскии мальта мальтиискии мексика мексиканскии молдова молдавскии нидерланды голландскии норвегия норвежскии перу перуанскии польша польскии португалия португальскии россия русскии словакия словацкии испания испанскии швеция шведскии швеицария швеицарскии таиланд таискии украина украинскии'"
      ]
     },
     "execution_count": 17,
     "metadata": {},
     "output_type": "execute_result"
    },
    {
     "name": "stdout",
     "output_type": "stream",
     "text": [
      "time: 31 ms (started: 2021-05-21 15:19:02 +03:00)\n"
     ]
    }
   ],
   "source": [
    "file2 = 'C:\\\\Users\\\\Asus\\\\Data analysis\\\\Учеба\\\\ДИПЛОМ\\\\Analogies\\\\Small\\\\country-adjective.txt'\n",
    "\n",
    "analogy_2 = get_analogy_words(file2)\n",
    "\n",
    "analogy_2"
   ]
  },
  {
   "cell_type": "code",
   "execution_count": 15,
   "metadata": {},
   "outputs": [
    {
     "name": "stdout",
     "output_type": "stream",
     "text": [
      "INFO:tensorflow:Saver not created because there are no variables in the graph to restore\n"
     ]
    },
    {
     "name": "stderr",
     "output_type": "stream",
     "text": [
      "INFO:tensorflow:Saver not created because there are no variables in the graph to restore\n"
     ]
    },
    {
     "name": "stdout",
     "output_type": "stream",
     "text": [
      "time: 5min 44s (started: 2021-05-20 22:26:30 +03:00)\n"
     ]
    }
   ],
   "source": [
    "analogy_2_embeddings = get_embeddings_ELMo(elmo,sess,analogy_2)"
   ]
  },
  {
   "cell_type": "code",
   "execution_count": 16,
   "metadata": {},
   "outputs": [
    {
     "name": "stdout",
     "output_type": "stream",
     "text": [
      "time: 4.78 s (started: 2021-05-20 22:32:26 +03:00)\n"
     ]
    }
   ],
   "source": [
    "analogy_2_embeddings.to_csv('elmo_ru_news_analogy2_emb', sep='\\t')"
   ]
  },
  {
   "cell_type": "code",
   "execution_count": 17,
   "metadata": {},
   "outputs": [
    {
     "name": "stdout",
     "output_type": "stream",
     "text": [
      "Accuracy score = 0.594883997620464\n",
      "1000\n",
      "1681\n",
      "time: 1min 50s (started: 2021-05-20 22:32:31 +03:00)\n"
     ]
    }
   ],
   "source": [
    "analogy_2_score = solve_analogy_3CosAdd(analogy_2,analogy_2_embeddings)"
   ]
  },
  {
   "cell_type": "code",
   "execution_count": 18,
   "metadata": {},
   "outputs": [
    {
     "name": "stdout",
     "output_type": "stream",
     "text": [
      "Accuracy score = 0.6829268292682927\n",
      "28\n",
      "41\n",
      "time: 1.59 s (started: 2021-05-20 22:34:21 +03:00)\n"
     ]
    }
   ],
   "source": [
    "analogy_2_score_3CosAvg = solve_analogy_3CosAvg(analogy_2,analogy_2_embeddings)"
   ]
  },
  {
   "cell_type": "markdown",
   "metadata": {},
   "source": [
    "### 2.1.3 Страна - язык"
   ]
  },
  {
   "cell_type": "code",
   "execution_count": 18,
   "metadata": {},
   "outputs": [
    {
     "data": {
      "text/plain": [
       "'андорра каталанскии аргентина испанскии австралия англиискии австрия немецкии багамы бангладеш бенгальскии барбадос белиз боливия бразилия португальскии камбоджа кхмерскии канада чили колумбия куба кипр греческии дания датскии египет арабскии эфиопия амхарскии фиджи гваделупа французскии гватемала гаиана иран персидскии иордания кувеит мозамбик никарагуа норвегия норвежскии палестина перу сирия таивань китаискии сша венесуэла россия русскии'"
      ]
     },
     "execution_count": 18,
     "metadata": {},
     "output_type": "execute_result"
    },
    {
     "name": "stdout",
     "output_type": "stream",
     "text": [
      "time: 15 ms (started: 2021-05-21 15:19:05 +03:00)\n"
     ]
    }
   ],
   "source": [
    "file3 = 'C:\\\\Users\\\\Asus\\\\Data analysis\\\\Учеба\\\\ДИПЛОМ\\\\Analogies\\\\Small\\\\country-language.txt'\n",
    "\n",
    "analogy_3 = get_analogy_words(file3)\n",
    "\n",
    "analogy_3"
   ]
  },
  {
   "cell_type": "code",
   "execution_count": 20,
   "metadata": {},
   "outputs": [
    {
     "name": "stdout",
     "output_type": "stream",
     "text": [
      "INFO:tensorflow:Saver not created because there are no variables in the graph to restore\n"
     ]
    },
    {
     "name": "stderr",
     "output_type": "stream",
     "text": [
      "INFO:tensorflow:Saver not created because there are no variables in the graph to restore\n"
     ]
    },
    {
     "name": "stdout",
     "output_type": "stream",
     "text": [
      "time: 7min 36s (started: 2021-05-20 22:34:23 +03:00)\n"
     ]
    }
   ],
   "source": [
    "analogy_3_embeddings = get_embeddings_ELMo(elmo,sess,analogy_3)"
   ]
  },
  {
   "cell_type": "code",
   "execution_count": 21,
   "metadata": {},
   "outputs": [
    {
     "name": "stdout",
     "output_type": "stream",
     "text": [
      "time: 4.41 s (started: 2021-05-20 22:42:06 +03:00)\n"
     ]
    }
   ],
   "source": [
    "analogy_3_embeddings.to_csv('elmo_ru_news_analogy3_emb', sep='\\t')"
   ]
  },
  {
   "cell_type": "code",
   "execution_count": 22,
   "metadata": {},
   "outputs": [
    {
     "name": "stdout",
     "output_type": "stream",
     "text": [
      "Accuracy score = 0.17455621301775148\n",
      "118\n",
      "676\n",
      "time: 27 s (started: 2021-05-20 22:42:12 +03:00)\n"
     ]
    }
   ],
   "source": [
    "analogy_3_score = solve_analogy_3CosAdd(analogy_3,analogy_3_embeddings)"
   ]
  },
  {
   "cell_type": "code",
   "execution_count": 23,
   "metadata": {},
   "outputs": [
    {
     "name": "stdout",
     "output_type": "stream",
     "text": [
      "Accuracy score = 0.19230769230769232\n",
      "5\n",
      "26\n",
      "time: 688 ms (started: 2021-05-20 22:42:39 +03:00)\n"
     ]
    }
   ],
   "source": [
    "analogy_3_score_3CosAvg = solve_analogy_3CosAvg(analogy_3,analogy_3_embeddings)"
   ]
  },
  {
   "cell_type": "markdown",
   "metadata": {},
   "source": [
    "### 2.1.4 Страна - валюта"
   ]
  },
  {
   "cell_type": "code",
   "execution_count": 19,
   "metadata": {},
   "outputs": [
    {
     "data": {
      "text/plain": [
       "'алжир динар ангола кванза аргентина песо армения драм бразилия реал болгария лев камбоджа риель канада доллар хорватия куна дания крона европа евро венгрия форинт индия рупия иран риал япония иена корея вона латвия лат литва лит македония денар малаизия ринггит мексика нигерия наира польша злотыи румыния леи россия рубль швеция таиланд бат украина гривна сша вьетнам донг'"
      ]
     },
     "execution_count": 19,
     "metadata": {},
     "output_type": "execute_result"
    },
    {
     "name": "stdout",
     "output_type": "stream",
     "text": [
      "time: 16 ms (started: 2021-05-21 15:19:07 +03:00)\n"
     ]
    }
   ],
   "source": [
    "file4 = 'C:\\\\Users\\\\Asus\\\\Data analysis\\\\Учеба\\\\ДИПЛОМ\\\\Analogies\\\\Small\\\\country-money.txt'\n",
    "\n",
    "analogy_4 = get_analogy_words(file4)\n",
    "\n",
    "analogy_4"
   ]
  },
  {
   "cell_type": "code",
   "execution_count": 20,
   "metadata": {},
   "outputs": [
    {
     "name": "stdout",
     "output_type": "stream",
     "text": [
      "time: 0 ns (started: 2021-05-21 15:19:20 +03:00)\n"
     ]
    }
   ],
   "source": [
    "analogy_4 = analogy_4.replace('сша','')\n",
    "analogy_4 = analogy_4.replace('мексика','')\n",
    "analogy_4 = analogy_4.replace('швеция','')"
   ]
  },
  {
   "cell_type": "code",
   "execution_count": 26,
   "metadata": {
    "scrolled": true
   },
   "outputs": [
    {
     "name": "stdout",
     "output_type": "stream",
     "text": [
      "INFO:tensorflow:Saver not created because there are no variables in the graph to restore\n"
     ]
    },
    {
     "name": "stderr",
     "output_type": "stream",
     "text": [
      "INFO:tensorflow:Saver not created because there are no variables in the graph to restore\n"
     ]
    },
    {
     "name": "stdout",
     "output_type": "stream",
     "text": [
      "time: 20min 39s (started: 2021-05-20 22:42:40 +03:00)\n"
     ]
    }
   ],
   "source": [
    "analogy_4_embeddings = get_embeddings_ELMo(elmo,sess,analogy_4)"
   ]
  },
  {
   "cell_type": "code",
   "execution_count": 27,
   "metadata": {},
   "outputs": [
    {
     "name": "stdout",
     "output_type": "stream",
     "text": [
      "time: 3.38 s (started: 2021-05-20 23:03:26 +03:00)\n"
     ]
    }
   ],
   "source": [
    "analogy_4_embeddings.to_csv('elmo_ru_news_analogy4_emb', sep='\\t')"
   ]
  },
  {
   "cell_type": "code",
   "execution_count": 28,
   "metadata": {},
   "outputs": [
    {
     "name": "stdout",
     "output_type": "stream",
     "text": [
      "Accuracy score = 0.4513031550068587\n",
      "329\n",
      "729\n",
      "time: 30.2 s (started: 2021-05-21 01:53:38 +03:00)\n"
     ]
    }
   ],
   "source": [
    "analogy_4_score = solve_analogy_3CosAdd(analogy_4,analogy_4_embeddings)"
   ]
  },
  {
   "cell_type": "code",
   "execution_count": 29,
   "metadata": {},
   "outputs": [
    {
     "name": "stdout",
     "output_type": "stream",
     "text": [
      "Accuracy score = 0.7037037037037037\n",
      "19\n",
      "27\n",
      "time: 781 ms (started: 2021-05-21 01:54:08 +03:00)\n"
     ]
    }
   ],
   "source": [
    "analogy_4_score_3CosAvg = solve_analogy_3CosAvg(analogy_4,analogy_4_embeddings)"
   ]
  },
  {
   "cell_type": "markdown",
   "metadata": {},
   "source": [
    "### 2.1.5 Сущ. единственное число - множественное число"
   ]
  },
  {
   "cell_type": "code",
   "execution_count": 21,
   "metadata": {},
   "outputs": [
    {
     "data": {
      "text/plain": [
       "'улыбка улыбки число числа завод заводы ящик ящики дисковод дисководы период периоды день дни песня песни вебсаит вебсаиты бог боги принцип принципы автомобиль автомобили правительство правительства бумага бумаги препарат препараты эксперт эксперты факт факты дорога дороги событие события офис офисы наука науки альбом альбомы задача задачи игрок игроки контакт контакты штат штаты плакат плакаты государство государства нагреватель нагреватели кружка кружки вещь вещи сезон сезоны друг друзья ягодица ягодицы налог налоги студент студенты система системы книга книги рыба рыбы операция операции ночь ночи понятие понятия запас запасы желание желания билет билеты приказ приказы коллега коллеги артист артисты преступление преступления покупатель покупатели закон законы популяция популяции пользователь пользователи жертва жертвы инженер инженеры версия версии мольберт мольберты пример примеры механизм механизмы цена цены язык языки академия академии водоем водоемы предмет предметы неделя недели смерть смерти год годы час часы роль роли список списки улица улицы месяц месяцы гость гости дерево деревья область области департамент департаменты отличие отличия источник источники деревня деревни город города площадь площади решение решения река реки лицо лица враг враги территория территории средство средства сцена сцены технология технологии специалист специалисты угол углы звук звуки идея идеи запись записи товар товары рука руки нога ноги синдром синдромы начальник начальники участник участники'"
      ]
     },
     "execution_count": 21,
     "metadata": {},
     "output_type": "execute_result"
    },
    {
     "name": "stdout",
     "output_type": "stream",
     "text": [
      "time: 94 ms (started: 2021-05-21 15:19:23 +03:00)\n"
     ]
    }
   ],
   "source": [
    "file5 = 'C:\\\\Users\\\\Asus\\\\Data analysis\\\\Учеба\\\\ДИПЛОМ\\\\Analogies\\\\Small\\\\singular-plural.txt'\n",
    "\n",
    "analogy_5 = get_analogy_words(file5)\n",
    "\n",
    "analogy_5"
   ]
  },
  {
   "cell_type": "code",
   "execution_count": 31,
   "metadata": {
    "scrolled": true
   },
   "outputs": [
    {
     "name": "stdout",
     "output_type": "stream",
     "text": [
      "INFO:tensorflow:Saver not created because there are no variables in the graph to restore\n"
     ]
    },
    {
     "name": "stderr",
     "output_type": "stream",
     "text": [
      "INFO:tensorflow:Saver not created because there are no variables in the graph to restore\n"
     ]
    },
    {
     "name": "stdout",
     "output_type": "stream",
     "text": [
      "time: 9min 1s (started: 2021-05-21 01:54:09 +03:00)\n"
     ]
    }
   ],
   "source": [
    "analogy_5_embeddings = get_embeddings_ELMo(elmo,sess,analogy_5)"
   ]
  },
  {
   "cell_type": "code",
   "execution_count": 32,
   "metadata": {},
   "outputs": [
    {
     "name": "stdout",
     "output_type": "stream",
     "text": [
      "time: 906 ms (started: 2021-05-21 02:03:12 +03:00)\n"
     ]
    }
   ],
   "source": [
    "analogy_5_embeddings.to_csv('elmo_ru_news_analogy5_emb', sep='\\t')"
   ]
  },
  {
   "cell_type": "code",
   "execution_count": 33,
   "metadata": {},
   "outputs": [
    {
     "name": "stdout",
     "output_type": "stream",
     "text": [
      "Accuracy score = 0.9879\n",
      "9879\n",
      "10000\n",
      "time: 26min 23s (started: 2021-05-21 02:03:13 +03:00)\n"
     ]
    }
   ],
   "source": [
    "analogy_5_score = solve_analogy_3CosAdd(analogy_5,analogy_5_embeddings)"
   ]
  },
  {
   "cell_type": "code",
   "execution_count": 34,
   "metadata": {},
   "outputs": [
    {
     "name": "stdout",
     "output_type": "stream",
     "text": [
      "Accuracy score = 1.0\n",
      "100\n",
      "100\n",
      "time: 9.48 s (started: 2021-05-21 02:29:37 +03:00)\n"
     ]
    }
   ],
   "source": [
    "analogy_5_score_3CosAvg = solve_analogy_3CosAvg(analogy_5,analogy_5_embeddings)"
   ]
  },
  {
   "cell_type": "markdown",
   "metadata": {},
   "source": [
    "### 2.1.6 Глагол - существительное с -тель"
   ]
  },
  {
   "cell_type": "code",
   "execution_count": 22,
   "metadata": {},
   "outputs": [
    {
     "data": {
      "text/plain": [
       "'исследовать исследователь слушать слушатель водить водитель нанимать наниматель крушить крушитель мучить мучитель грабить грабитель спасать спасатель карать каратель читать читатель строить строитель искать искатель мыслить мыслитель угнетать угнетатель почитать почитатель заклинать заклинатель предпринимать предприниматель получать получатель отправлять отправитель истязать истязатель держать держатель воздыхать воздыхатель учить учитель вершить вершитель глотать глотатель разжигать разжигатель воспевать воспеватель потакать потакатель писать писатель деять деятель созидать созидатель преподавать преподаватель покрывать покрыватель душить душитель ваять ваятель кормить кормитель служить служитель открывать открыватель надзирать надзиратель следовать следователь владеть владетель добывать добыватель вымогать вымогатель завещать завещатель изобретать изобретатель крестить креститель носить носитель содержать содержатель копать копатель обитать обитатель обладать обладатель поджигать поджигатель покупать покупатель преследовать преследователь избирать избиратель хранить хранитель'"
      ]
     },
     "execution_count": 22,
     "metadata": {},
     "output_type": "execute_result"
    },
    {
     "name": "stdout",
     "output_type": "stream",
     "text": [
      "time: 31 ms (started: 2021-05-21 15:19:25 +03:00)\n"
     ]
    }
   ],
   "source": [
    "file6 = 'C:\\\\Users\\\\Asus\\\\Data analysis\\\\Учеба\\\\ДИПЛОМ\\\\Analogies\\\\Small\\\\verb-noun.txt'\n",
    "\n",
    "analogy_6 = get_analogy_words(file6)\n",
    "\n",
    "analogy_6"
   ]
  },
  {
   "cell_type": "code",
   "execution_count": 10,
   "metadata": {
    "scrolled": true
   },
   "outputs": [
    {
     "name": "stdout",
     "output_type": "stream",
     "text": [
      "INFO:tensorflow:Saver not created because there are no variables in the graph to restore\n"
     ]
    },
    {
     "name": "stderr",
     "output_type": "stream",
     "text": [
      "INFO:tensorflow:Saver not created because there are no variables in the graph to restore\n"
     ]
    },
    {
     "name": "stdout",
     "output_type": "stream",
     "text": [
      "time: 2min 38s (started: 2021-05-21 10:05:57 +03:00)\n"
     ]
    }
   ],
   "source": [
    "analogy_6_embeddings = get_embeddings_ELMo(elmo,sess,analogy_6)"
   ]
  },
  {
   "cell_type": "code",
   "execution_count": 11,
   "metadata": {},
   "outputs": [
    {
     "name": "stdout",
     "output_type": "stream",
     "text": [
      "time: 328 ms (started: 2021-05-21 10:08:35 +03:00)\n"
     ]
    }
   ],
   "source": [
    "analogy_6_embeddings.to_csv('elmo_ru_news_analogy6_emb', sep='\\t')"
   ]
  },
  {
   "cell_type": "code",
   "execution_count": 12,
   "metadata": {},
   "outputs": [
    {
     "name": "stdout",
     "output_type": "stream",
     "text": [
      "Accuracy score = 0.9036989795918368\n",
      "2834\n",
      "3136\n",
      "time: 4min 58s (started: 2021-05-21 10:08:36 +03:00)\n"
     ]
    }
   ],
   "source": [
    "analogy_6_score = solve_analogy_3CosAdd(analogy_6,analogy_6_embeddings)"
   ]
  },
  {
   "cell_type": "code",
   "execution_count": 13,
   "metadata": {},
   "outputs": [
    {
     "name": "stdout",
     "output_type": "stream",
     "text": [
      "Accuracy score = 0.9464285714285714\n",
      "53\n",
      "56\n",
      "time: 3.23 s (started: 2021-05-21 10:13:35 +03:00)\n"
     ]
    }
   ],
   "source": [
    "analogy_6_score_3CosAvg = solve_analogy_3CosAvg(analogy_6,analogy_6_embeddings)"
   ]
  },
  {
   "cell_type": "markdown",
   "metadata": {},
   "source": [
    "### 2.1.7 Глагол - существительное с -ение"
   ]
  },
  {
   "cell_type": "code",
   "execution_count": 23,
   "metadata": {},
   "outputs": [
    {
     "data": {
      "text/plain": [
       "'обвинять обвинение восхищать восхищение утверждать утверждение вычислять вычисление продолжить продолжение объявлять объявление лишать лишение наблюдать наблюдение вдохновлять вдохновление освещать освещение воображать воображение определять определение восстановить восстановление истекать истечение приложить приложение истреблять истребление возбуждать возбуждение выступать выступление гореть горение дозволять дозволение достигать достижение завершать завершение задымлять задымление засорять засорение изготовлять изготовление измельчать измельчение крушить крушение лечить лечение назначать назначение ознакомлять ознакомление осведомлять осведомление очищать очищение повреждать повреждение повышать повышение пополнять пополнение поручать поручение поселять поселение посещать посещение потрясать потрясение предвкушать предвкушение представлять представление преуменьшать преуменьшение примирять примирение разрушать разрушение располагать расположение рассуждать рассуждение свергать свержение сооружать сооружение сотрясать сотрясение стареть старение удалять удаление удобрять удобрение укреплять укрепление упрощать упрощение устранять устранение'"
      ]
     },
     "execution_count": 23,
     "metadata": {},
     "output_type": "execute_result"
    },
    {
     "name": "stdout",
     "output_type": "stream",
     "text": [
      "time: 32 ms (started: 2021-05-21 15:19:27 +03:00)\n"
     ]
    }
   ],
   "source": [
    "file7 = 'C:\\\\Users\\\\Asus\\\\Data analysis\\\\Учеба\\\\ДИПЛОМ\\\\Analogies\\\\Small\\\\verb-noun_3.txt'\n",
    "\n",
    "analogy_7 = get_analogy_words(file7)\n",
    "\n",
    "analogy_7"
   ]
  },
  {
   "cell_type": "code",
   "execution_count": 15,
   "metadata": {
    "scrolled": true
   },
   "outputs": [
    {
     "name": "stdout",
     "output_type": "stream",
     "text": [
      "INFO:tensorflow:Saver not created because there are no variables in the graph to restore\n"
     ]
    },
    {
     "name": "stderr",
     "output_type": "stream",
     "text": [
      "INFO:tensorflow:Saver not created because there are no variables in the graph to restore\n"
     ]
    },
    {
     "name": "stdout",
     "output_type": "stream",
     "text": [
      "time: 11min 48s (started: 2021-05-21 10:13:38 +03:00)\n"
     ]
    }
   ],
   "source": [
    "analogy_7_embeddings = get_embeddings_ELMo(elmo,sess,analogy_7)"
   ]
  },
  {
   "cell_type": "code",
   "execution_count": 16,
   "metadata": {},
   "outputs": [
    {
     "name": "stdout",
     "output_type": "stream",
     "text": [
      "time: 10.2 s (started: 2021-05-21 10:25:35 +03:00)\n"
     ]
    }
   ],
   "source": [
    "analogy_7_embeddings.to_csv('elmo_ru_news_analogy7_emb', sep='\\t')"
   ]
  },
  {
   "cell_type": "code",
   "execution_count": 17,
   "metadata": {},
   "outputs": [
    {
     "name": "stdout",
     "output_type": "stream",
     "text": [
      "Accuracy score = 0.9808264462809917\n",
      "2967\n",
      "3025\n",
      "time: 4min 47s (started: 2021-05-21 10:25:49 +03:00)\n"
     ]
    }
   ],
   "source": [
    "analogy_7_score = solve_analogy_3CosAdd(analogy_7,analogy_7_embeddings)"
   ]
  },
  {
   "cell_type": "code",
   "execution_count": 18,
   "metadata": {},
   "outputs": [
    {
     "name": "stdout",
     "output_type": "stream",
     "text": [
      "Accuracy score = 1.0\n",
      "55\n",
      "55\n",
      "time: 3.11 s (started: 2021-05-21 10:30:36 +03:00)\n"
     ]
    }
   ],
   "source": [
    "analogy_7_score_3CosAvg = solve_analogy_3CosAvg(analogy_7,analogy_7_embeddings)"
   ]
  },
  {
   "cell_type": "markdown",
   "metadata": {},
   "source": [
    "### 2.1.8 Глагол - существительное с -ация"
   ]
  },
  {
   "cell_type": "code",
   "execution_count": 24,
   "metadata": {},
   "outputs": [
    {
     "data": {
      "text/plain": [
       "'колонизировать колонизация компилировать компиляция конфигурировать конфигурация консультировать консультация персонализировать персонализация глобализировать глобализация импровизировать импровизация максимизировать маскимизация минимизировать минимизация модернизировать модернизация оптимизировать оптимизация организовывать организация приватизировать приватизация рандомизировать рандомизация стабилизировать стабилизация стандартизировать стандартизация утилизировать утилизация визуализировать визуализация декларировать декларация монетизировать монетизация аппроксимировать аппроксимация интегрировать интеграция концентрировать концентрация урбанизировать урбанизация автоматизировать автоматизация авторизировать авторизация агитировать агитация адаптировать адаптация актуализировать актуализация ассоциировать ассоциация гиперболизировать гиперболизация деградировать деградация дегустировать дегустация дезинформировать дезинформация дезориентировать дезориентация декорировать декорация индексировать индексация иллюстрировать иллюстрация иммигрировать иммиграция идентифицировать идентификация конфисковать конфискация компрометировать компроментация комплектовать комплектация капитализировать капитализация канонизировать канонизация ориентировать ориентация оперировать операция нумеровать нумерация нормализовать нормализация мутировать мутация мотивировать мотивация модифицировать модификация мигрировать миграция медитировать медитация регламентировать регламентация'"
      ]
     },
     "execution_count": 24,
     "metadata": {},
     "output_type": "execute_result"
    },
    {
     "name": "stdout",
     "output_type": "stream",
     "text": [
      "time: 31 ms (started: 2021-05-21 15:19:30 +03:00)\n"
     ]
    }
   ],
   "source": [
    "file8 = 'C:\\\\Users\\\\Asus\\\\Data analysis\\\\Учеба\\\\ДИПЛОМ\\\\Analogies\\\\Small\\\\verb_noun_2.txt'\n",
    "\n",
    "analogy_8 = get_analogy_words(file8)\n",
    "\n",
    "analogy_8"
   ]
  },
  {
   "cell_type": "code",
   "execution_count": 20,
   "metadata": {
    "scrolled": true
   },
   "outputs": [
    {
     "name": "stdout",
     "output_type": "stream",
     "text": [
      "INFO:tensorflow:Saver not created because there are no variables in the graph to restore\n"
     ]
    },
    {
     "name": "stderr",
     "output_type": "stream",
     "text": [
      "INFO:tensorflow:Saver not created because there are no variables in the graph to restore\n"
     ]
    },
    {
     "name": "stdout",
     "output_type": "stream",
     "text": [
      "time: 5min 14s (started: 2021-05-21 10:30:40 +03:00)\n"
     ]
    }
   ],
   "source": [
    "analogy_8_embeddings = get_embeddings_ELMo(elmo,sess,analogy_8)"
   ]
  },
  {
   "cell_type": "code",
   "execution_count": 21,
   "metadata": {},
   "outputs": [
    {
     "name": "stdout",
     "output_type": "stream",
     "text": [
      "time: 4.73 s (started: 2021-05-21 10:36:01 +03:00)\n"
     ]
    }
   ],
   "source": [
    "analogy_8_embeddings.to_csv('elmo_ru_news_analogy8_emb', sep='\\t')"
   ]
  },
  {
   "cell_type": "code",
   "execution_count": 22,
   "metadata": {},
   "outputs": [
    {
     "name": "stdout",
     "output_type": "stream",
     "text": [
      "Accuracy score = 0.9421487603305785\n",
      "2850\n",
      "3025\n",
      "time: 4min 43s (started: 2021-05-21 10:36:07 +03:00)\n"
     ]
    }
   ],
   "source": [
    "analogy_8_score = solve_analogy_3CosAdd(analogy_8,analogy_8_embeddings)"
   ]
  },
  {
   "cell_type": "code",
   "execution_count": 23,
   "metadata": {},
   "outputs": [
    {
     "name": "stdout",
     "output_type": "stream",
     "text": [
      "Accuracy score = 1.0\n",
      "55\n",
      "55\n",
      "time: 3.17 s (started: 2021-05-21 10:40:50 +03:00)\n"
     ]
    }
   ],
   "source": [
    "analogy_8_score_3CosAvg = solve_analogy_3CosAvg(analogy_8,analogy_8_embeddings)"
   ]
  },
  {
   "cell_type": "markdown",
   "metadata": {},
   "source": [
    "### 2.1.9 Мужской род - женский род"
   ]
  },
  {
   "cell_type": "code",
   "execution_count": 25,
   "metadata": {},
   "outputs": [
    {
     "data": {
      "text/plain": [
       "'актер актриса мальчик девочка брат сестра бык корова бизнесмен бизнесвумен председатель председательница папа мама герцог герцогиня император императрица лис лисица бог богиня дедушка бабушка внук внучка жених невеста руководитель руководительница наследник наследница герои героиня муж жена король королева лев львица мужчина женщина директор директриса племянник племянница поэт поэтесса полицеискии полицеиская принц принцесса баран овца петух курица сын дочь жеребец кобыла тигр тигрица дядя тетя официант официантка вор воровка конь лошадь юноша девушка старик старуха супруг супруга красавец красавица певец певица тесть теща отчим мачеха работник работница школьник школьница виновник виновница учитель учительница писатель писательница ткач ткачиха артист артистка студент студентка чемпион чемпионка колдун колдунья журналист журналистка тракторист трактористка разведчик разведчица воспитатель воспитательница гимнаст гимнастка рекордсмен рекордсменка теннисист теннисистка бегун бегунья волк волчица продавец продавщица кот кошка барон баронесса библиотекарь библиотекарша секретарь секретарша гусь гусыня'"
      ]
     },
     "execution_count": 25,
     "metadata": {},
     "output_type": "execute_result"
    },
    {
     "name": "stdout",
     "output_type": "stream",
     "text": [
      "time: 32 ms (started: 2021-05-21 15:19:32 +03:00)\n"
     ]
    }
   ],
   "source": [
    "file9 = 'C:\\\\Users\\\\Asus\\\\Data analysis\\\\Учеба\\\\ДИПЛОМ\\\\Analogies\\\\Small\\\\мужской род - женский род.txt'\n",
    "\n",
    "analogy_9 = get_analogy_words(file9)\n",
    "\n",
    "analogy_9"
   ]
  },
  {
   "cell_type": "code",
   "execution_count": 25,
   "metadata": {
    "scrolled": true
   },
   "outputs": [
    {
     "name": "stdout",
     "output_type": "stream",
     "text": [
      "INFO:tensorflow:Saver not created because there are no variables in the graph to restore\n"
     ]
    },
    {
     "name": "stderr",
     "output_type": "stream",
     "text": [
      "INFO:tensorflow:Saver not created because there are no variables in the graph to restore\n"
     ]
    },
    {
     "name": "stdout",
     "output_type": "stream",
     "text": [
      "time: 18min 36s (started: 2021-05-21 10:40:53 +03:00)\n"
     ]
    }
   ],
   "source": [
    "analogy_9_embeddings = get_embeddings_ELMo(elmo,sess,analogy_9)"
   ]
  },
  {
   "cell_type": "code",
   "execution_count": 26,
   "metadata": {},
   "outputs": [
    {
     "name": "stdout",
     "output_type": "stream",
     "text": [
      "time: 8.25 s (started: 2021-05-21 10:59:56 +03:00)\n"
     ]
    }
   ],
   "source": [
    "analogy_9_embeddings.to_csv('elmo_ru_news_analogy9_emb', sep='\\t')"
   ]
  },
  {
   "cell_type": "code",
   "execution_count": 27,
   "metadata": {},
   "outputs": [
    {
     "name": "stdout",
     "output_type": "stream",
     "text": [
      "Accuracy score = 0.9402985074626866\n",
      "4221\n",
      "4489\n",
      "time: 8min 31s (started: 2021-05-21 11:00:04 +03:00)\n"
     ]
    }
   ],
   "source": [
    "analogy_9_score = solve_analogy_3CosAdd(analogy_9,analogy_9_embeddings)"
   ]
  },
  {
   "cell_type": "code",
   "execution_count": 28,
   "metadata": {},
   "outputs": [
    {
     "name": "stdout",
     "output_type": "stream",
     "text": [
      "Accuracy score = 0.9552238805970149\n",
      "64\n",
      "67\n",
      "time: 4.97 s (started: 2021-05-21 11:08:36 +03:00)\n"
     ]
    }
   ],
   "source": [
    "analogy_9_score_3CosAvg = solve_analogy_3CosAvg(analogy_9,analogy_9_embeddings)"
   ]
  },
  {
   "cell_type": "markdown",
   "metadata": {},
   "source": [
    "### 2.1.10 Прилагательное - наречие"
   ]
  },
  {
   "cell_type": "code",
   "execution_count": 26,
   "metadata": {},
   "outputs": [
    {
     "data": {
      "text/plain": [
       "'удивительныи удивительно очевидныи очевидно спокоиныи спокоино веселыи весело страшныи страшно эффективныи эффективно красивыи красиво свободныи свободно яростныи яростно счастливыи счастливо непосредственныи непосредственно нечастыи нечасто удачныи удачно полезныи полезно случаиныи случаино возможныи возможно точныи точно профессиональныи профессионально быстрыи быстро тихии тихо редкии редко неохотныи неохотно безопасныи безопасно серьезныи серьезно медленныи медленно внезапныи внезапно стремительныи стремительно типичныи типично несчастныи несчастно обычныи обычно'"
      ]
     },
     "execution_count": 26,
     "metadata": {},
     "output_type": "execute_result"
    },
    {
     "name": "stdout",
     "output_type": "stream",
     "text": [
      "time: 16 ms (started: 2021-05-21 15:19:35 +03:00)\n"
     ]
    }
   ],
   "source": [
    "file10 = 'C:\\\\Users\\\\Asus\\\\Data analysis\\\\Учеба\\\\ДИПЛОМ\\\\Analogies\\\\Small\\\\прилагательное-наречие_2.txt'\n",
    "\n",
    "analogy_10 = get_analogy_words(file10)\n",
    "\n",
    "analogy_10"
   ]
  },
  {
   "cell_type": "code",
   "execution_count": 30,
   "metadata": {
    "scrolled": true
   },
   "outputs": [
    {
     "name": "stdout",
     "output_type": "stream",
     "text": [
      "INFO:tensorflow:Saver not created because there are no variables in the graph to restore\n"
     ]
    },
    {
     "name": "stderr",
     "output_type": "stream",
     "text": [
      "INFO:tensorflow:Saver not created because there are no variables in the graph to restore\n"
     ]
    },
    {
     "name": "stdout",
     "output_type": "stream",
     "text": [
      "time: 16min 24s (started: 2021-05-21 11:08:42 +03:00)\n"
     ]
    }
   ],
   "source": [
    "analogy_10_embeddings = get_embeddings_ELMo(elmo,sess,analogy_10)"
   ]
  },
  {
   "cell_type": "code",
   "execution_count": 31,
   "metadata": {},
   "outputs": [
    {
     "name": "stdout",
     "output_type": "stream",
     "text": [
      "time: 5.36 s (started: 2021-05-21 11:25:45 +03:00)\n"
     ]
    }
   ],
   "source": [
    "analogy_10_embeddings.to_csv('elmo_ru_news_analogy10_emb', sep='\\t')"
   ]
  },
  {
   "cell_type": "code",
   "execution_count": 32,
   "metadata": {},
   "outputs": [
    {
     "name": "stdout",
     "output_type": "stream",
     "text": [
      "Accuracy score = 0.9655555555555555\n",
      "869\n",
      "900\n",
      "time: 46.3 s (started: 2021-05-21 11:25:55 +03:00)\n"
     ]
    }
   ],
   "source": [
    "analogy_10_score = solve_analogy_3CosAdd(analogy_10,analogy_10_embeddings)"
   ]
  },
  {
   "cell_type": "code",
   "execution_count": null,
   "metadata": {},
   "outputs": [],
   "source": [
    "analogy_10_score_3CosAvg = solve_analogy_3CosAvg(analogy_10,analogy_10_embeddings)"
   ]
  },
  {
   "cell_type": "markdown",
   "metadata": {},
   "source": [
    "### 2.1.11 Прилагательное - сравнительная степень"
   ]
  },
  {
   "cell_type": "code",
   "execution_count": 27,
   "metadata": {},
   "outputs": [
    {
     "data": {
      "text/plain": [
       "'яркии ярче дешевыи дешевле холодныи холоднее крутои круче глубокии глубже легкии легче быстрыи быстрее тяжелыи тяжелее высокии выше жаркии жарче длинныи длиннее громкии громче низкии ниже безопасныи безопаснее острыи острее короткии короче простои проще медленныи медленнее умныи умнее сильныи сильнее крепкии крепче теплыи теплее слабыи слабее широкии шире молодои моложе'"
      ]
     },
     "execution_count": 27,
     "metadata": {},
     "output_type": "execute_result"
    },
    {
     "name": "stdout",
     "output_type": "stream",
     "text": [
      "time: 16 ms (started: 2021-05-21 15:19:38 +03:00)\n"
     ]
    }
   ],
   "source": [
    "file11 = 'C:\\\\Users\\\\Asus\\\\Data analysis\\\\Учеба\\\\ДИПЛОМ\\\\Analogies\\\\Small\\\\прилагательное-сравнительная степень.txt'\n",
    "\n",
    "analogy_11 = get_analogy_words(file11)\n",
    "\n",
    "analogy_11"
   ]
  },
  {
   "cell_type": "code",
   "execution_count": 34,
   "metadata": {
    "scrolled": true
   },
   "outputs": [
    {
     "name": "stdout",
     "output_type": "stream",
     "text": [
      "INFO:tensorflow:Saver not created because there are no variables in the graph to restore\n"
     ]
    },
    {
     "name": "stderr",
     "output_type": "stream",
     "text": [
      "INFO:tensorflow:Saver not created because there are no variables in the graph to restore\n"
     ]
    },
    {
     "name": "stdout",
     "output_type": "stream",
     "text": [
      "time: 19min 52s (started: 2021-05-21 11:26:43 +03:00)\n"
     ]
    }
   ],
   "source": [
    "analogy_11_embeddings = get_embeddings_ELMo(elmo,sess,analogy_11)"
   ]
  },
  {
   "cell_type": "code",
   "execution_count": 35,
   "metadata": {},
   "outputs": [
    {
     "name": "stdout",
     "output_type": "stream",
     "text": [
      "time: 2.47 s (started: 2021-05-21 11:46:38 +03:00)\n"
     ]
    }
   ],
   "source": [
    "analogy_11_embeddings.to_csv('elmo_ru_news_analogy11_emb', sep='\\t')"
   ]
  },
  {
   "cell_type": "code",
   "execution_count": 36,
   "metadata": {},
   "outputs": [
    {
     "name": "stdout",
     "output_type": "stream",
     "text": [
      "Accuracy score = 0.8784\n",
      "549\n",
      "625\n",
      "time: 32.5 s (started: 2021-05-21 11:46:41 +03:00)\n"
     ]
    }
   ],
   "source": [
    "analogy_11_score = solve_analogy_3CosAdd(analogy_11,analogy_11_embeddings)"
   ]
  },
  {
   "cell_type": "code",
   "execution_count": 37,
   "metadata": {},
   "outputs": [
    {
     "name": "stdout",
     "output_type": "stream",
     "text": [
      "Accuracy score = 0.92\n",
      "23\n",
      "25\n",
      "time: 703 ms (started: 2021-05-21 11:47:14 +03:00)\n"
     ]
    }
   ],
   "source": [
    "analogy_11_score_3CosAvg = solve_analogy_3CosAvg(analogy_11,analogy_11_embeddings)"
   ]
  },
  {
   "cell_type": "markdown",
   "metadata": {},
   "source": [
    "### 2.1.12 Известная столица - страна"
   ]
  },
  {
   "cell_type": "code",
   "execution_count": 28,
   "metadata": {},
   "outputs": [
    {
     "data": {
      "text/plain": [
       "'афины греция багдад ирак бангкок таиланд пекин китаи берлин германия берн швеицария каир египет канберра австралия ханои вьетнам гавана куба хельсинки финляндия исламабад пакистан кабул афганистан лондон англия мадрид испания москва россия осло норвегия оттава канада париж франция рим италия стокгольм швеция тегеран иран токио япония'"
      ]
     },
     "execution_count": 28,
     "metadata": {},
     "output_type": "execute_result"
    },
    {
     "name": "stdout",
     "output_type": "stream",
     "text": [
      "time: 0 ns (started: 2021-05-21 15:19:40 +03:00)\n"
     ]
    }
   ],
   "source": [
    "file12 = 'C:\\\\Users\\\\Asus\\\\Data analysis\\\\Учеба\\\\ДИПЛОМ\\\\Analogies\\\\Small\\\\столица-страна.txt'\n",
    "\n",
    "analogy_12 = get_analogy_words(file12)\n",
    "\n",
    "analogy_12"
   ]
  },
  {
   "cell_type": "code",
   "execution_count": 39,
   "metadata": {},
   "outputs": [
    {
     "name": "stdout",
     "output_type": "stream",
     "text": [
      "INFO:tensorflow:Saver not created because there are no variables in the graph to restore\n"
     ]
    },
    {
     "name": "stderr",
     "output_type": "stream",
     "text": [
      "INFO:tensorflow:Saver not created because there are no variables in the graph to restore\n"
     ]
    },
    {
     "name": "stdout",
     "output_type": "stream",
     "text": [
      "time: 26min 35s (started: 2021-05-21 11:47:15 +03:00)\n"
     ]
    }
   ],
   "source": [
    "analogy_12_embeddings = get_embeddings_ELMo(elmo,sess,analogy_12)"
   ]
  },
  {
   "cell_type": "code",
   "execution_count": 40,
   "metadata": {},
   "outputs": [
    {
     "name": "stdout",
     "output_type": "stream",
     "text": [
      "time: 1.55 s (started: 2021-05-21 12:13:51 +03:00)\n"
     ]
    }
   ],
   "source": [
    "analogy_12_embeddings.to_csv('elmo_ru_news_analogy12_emb', sep='\\t')"
   ]
  },
  {
   "cell_type": "code",
   "execution_count": 41,
   "metadata": {},
   "outputs": [
    {
     "name": "stdout",
     "output_type": "stream",
     "text": [
      "Accuracy score = 0.3799621928166352\n",
      "201\n",
      "529\n",
      "time: 19.4 s (started: 2021-05-21 12:13:53 +03:00)\n"
     ]
    }
   ],
   "source": [
    "analogy_12_score = solve_analogy_3CosAdd(analogy_12,analogy_12_embeddings)"
   ]
  },
  {
   "cell_type": "code",
   "execution_count": 42,
   "metadata": {},
   "outputs": [
    {
     "name": "stdout",
     "output_type": "stream",
     "text": [
      "Accuracy score = 0.5652173913043478\n",
      "13\n",
      "23\n",
      "time: 594 ms (started: 2021-05-21 12:14:13 +03:00)\n"
     ]
    }
   ],
   "source": [
    "analogy_12_score_3CosAvg = solve_analogy_3CosAvg(analogy_12,analogy_12_embeddings)"
   ]
  },
  {
   "cell_type": "markdown",
   "metadata": {},
   "source": [
    "### 2.1.13 Любая столица - страна"
   ]
  },
  {
   "cell_type": "code",
   "execution_count": 9,
   "metadata": {},
   "outputs": [
    {
     "data": {
      "text/plain": [
       "'абуджа нигерия аккра гана алжир амман иордания анкара турция антананариву мадагаскар апиа самоа ашхабад туркменистан асмэра эритрея астана казахстан афины греция багдад ирак баку азербаиджан бамако мали бангкок таиланд банжул гамбия пекин китаи беирут ливан белград сербия бельмопан белиз берлин германия берн швеицария бишкек кыргызстан братислава словакия брюссель бельгия бухарест румыния будапешт венгрия бужумбура бурунди каир египет канберра австралия каракас венесуэла кишинев молдова конакри гвинея копенгаген дания дакар сенегал дамаск сирия дакка бангладеш доха катар дублин ирландия душанбе таджикистан фунафути тувалу габороне ботсвана джорджтаун гаиана ханои вьетнам хараре зимбабве гавана куба хельсинки финляндия исламабад пакистан джакарта индонезия кабул афганистан кампала уганда катманду непал хартум судан киев украина кигали руанда кингстон ямаика либревиль габон лилонгве малави лима перу лиссабон португалия любляна словения лондон англия луанда ангола лусака замбия мадрид испания манагуа никарагуа манама бахреин манила филиппины мапуту мозамбик минск беларусь могадишо сомали монровия либерия монтевидео уругваи москва россия мускат оман наироби кения нассау багамски ниамеи нигер никосия кипр нуакшот мавритания нуук гренландия осло норвегия оттава канада парамарибо суринам париж франция подгорица черногория кито эквадор рабат марокко рига латвия рим италия розо доминика сантьяго чили скопье македония софия болгария стокгольм швеция сува фиджи таибэи таивань таллинн эстония ташкент узбекистан тбилиси грузия тегусигальпа гондурас тегеран иран тхимпху бутан тирана албания токио япония триполи ливия тунис вадуц лихтенштеин валлетта мальта вена австрия вьентьян лаос вильнюс литва варшава польша виндхук намибия ереван армения загреб хорватия'"
      ]
     },
     "execution_count": 9,
     "metadata": {},
     "output_type": "execute_result"
    },
    {
     "name": "stdout",
     "output_type": "stream",
     "text": [
      "time: 47 ms (started: 2021-05-21 13:40:49 +03:00)\n"
     ]
    }
   ],
   "source": [
    "file13 = 'C:\\\\Users\\\\Asus\\\\Data analysis\\\\Учеба\\\\ДИПЛОМ\\\\Analogies\\\\Small\\\\столица-страна_2.txt'\n",
    "\n",
    "analogy_13 = get_analogy_words(file13)\n",
    "\n",
    "analogy_13"
   ]
  },
  {
   "cell_type": "code",
   "execution_count": 10,
   "metadata": {},
   "outputs": [
    {
     "name": "stdout",
     "output_type": "stream",
     "text": [
      "INFO:tensorflow:Saver not created because there are no variables in the graph to restore\n"
     ]
    },
    {
     "name": "stderr",
     "output_type": "stream",
     "text": [
      "INFO:tensorflow:Saver not created because there are no variables in the graph to restore\n"
     ]
    },
    {
     "name": "stdout",
     "output_type": "stream",
     "text": [
      "time: 2min 34s (started: 2021-05-21 13:40:58 +03:00)\n"
     ]
    }
   ],
   "source": [
    "analogy_13_embeddings = get_embeddings_ELMo(elmo,sess,analogy_13)"
   ]
  },
  {
   "cell_type": "code",
   "execution_count": 11,
   "metadata": {},
   "outputs": [
    {
     "name": "stdout",
     "output_type": "stream",
     "text": [
      "time: 39 s (started: 2021-05-21 13:43:32 +03:00)\n"
     ]
    }
   ],
   "source": [
    "analogy_13_embeddings.to_csv('elmo_ru_news_analogy13_emb', sep='\\t')"
   ]
  },
  {
   "cell_type": "code",
   "execution_count": 12,
   "metadata": {},
   "outputs": [
    {
     "name": "stdout",
     "output_type": "stream",
     "text": [
      "Accuracy score = 0.14268431001890358\n",
      "1887\n",
      "13225\n",
      "time: 44min 5s (started: 2021-05-21 13:44:11 +03:00)\n"
     ]
    }
   ],
   "source": [
    "analogy_13_score = solve_analogy_3CosAdd(analogy_13,analogy_13_embeddings)"
   ]
  },
  {
   "cell_type": "code",
   "execution_count": 13,
   "metadata": {},
   "outputs": [
    {
     "name": "stdout",
     "output_type": "stream",
     "text": [
      "Accuracy score = 0.24347826086956523\n",
      "28\n",
      "115\n",
      "time: 13.4 s (started: 2021-05-21 14:28:17 +03:00)\n"
     ]
    }
   ],
   "source": [
    "analogy_13_score_3CosAvg = solve_analogy_3CosAvg(analogy_13,analogy_13_embeddings)"
   ]
  },
  {
   "cell_type": "markdown",
   "metadata": {},
   "source": [
    "### Сохраним результаты по Elmo Ru News"
   ]
  },
  {
   "cell_type": "markdown",
   "metadata": {},
   "source": [
    "#### Пересчетаем те, которые модель \"забыла\" "
   ]
  },
  {
   "cell_type": "markdown",
   "metadata": {},
   "source": [
    "Последний раз, она считала только по 13 аналогии, поэтому остальные нужно будет пересчитать"
   ]
  },
  {
   "cell_type": "code",
   "execution_count": 45,
   "metadata": {},
   "outputs": [
    {
     "name": "stdout",
     "output_type": "stream",
     "text": [
      "time: 0 ns (started: 2021-05-21 15:31:56 +03:00)\n"
     ]
    }
   ],
   "source": [
    "from os import listdir\n",
    "from os.path import isfile, join\n",
    "\n",
    "mypath = 'C:\\\\Users\\\\Asus\\\\Data analysis\\\\Учеба\\\\ДИПЛОМ\\\\Analogies\\\\Small\\\\'\n",
    "onlyfiles = [f for f in listdir(mypath) if isfile(join(mypath, f))]\n",
    "onlyfiles = onlyfiles"
   ]
  },
  {
   "cell_type": "code",
   "execution_count": 60,
   "metadata": {
    "scrolled": true
   },
   "outputs": [
    {
     "name": "stderr",
     "output_type": "stream",
     "text": [
      "\r",
      "  0%|                                                                                           | 0/12 [00:00<?, ?it/s]"
     ]
    },
    {
     "name": "stdout",
     "output_type": "stream",
     "text": [
      "Accuracy score = 0.9053497942386831\n",
      "660\n",
      "729\n"
     ]
    },
    {
     "name": "stderr",
     "output_type": "stream",
     "text": [
      "\r",
      "  8%|██████▉                                                                            | 1/12 [00:30<05:32, 30.22s/it]"
     ]
    },
    {
     "name": "stdout",
     "output_type": "stream",
     "text": [
      "Accuracy score = 0.9629629629629629\n",
      "26\n",
      "27\n",
      "3CosAdd:\n",
      "[0.9053497942386831]\n",
      "3CosAvg:\n",
      "[0.9629629629629629]\n",
      "Accuracy score = 0.594883997620464\n",
      "1000\n",
      "1681\n"
     ]
    },
    {
     "name": "stderr",
     "output_type": "stream",
     "text": [
      "\r",
      " 17%|█████████████▊                                                                     | 2/12 [02:19<12:48, 76.84s/it]"
     ]
    },
    {
     "name": "stdout",
     "output_type": "stream",
     "text": [
      "Accuracy score = 0.6829268292682927\n",
      "28\n",
      "41\n",
      "3CosAdd:\n",
      "[0.9053497942386831, 0.594883997620464]\n",
      "3CosAvg:\n",
      "[0.9629629629629629, 0.6829268292682927]\n",
      "Accuracy score = 0.17455621301775148\n",
      "118\n",
      "676\n"
     ]
    },
    {
     "name": "stderr",
     "output_type": "stream",
     "text": [
      "\r",
      " 25%|████████████████████▊                                                              | 3/12 [02:46<08:07, 54.17s/it]"
     ]
    },
    {
     "name": "stdout",
     "output_type": "stream",
     "text": [
      "Accuracy score = 0.19230769230769232\n",
      "5\n",
      "26\n",
      "3CosAdd:\n",
      "[0.9053497942386831, 0.594883997620464, 0.17455621301775148]\n",
      "3CosAvg:\n",
      "[0.9629629629629629, 0.6829268292682927, 0.19230769230769232]\n",
      "Accuracy score = 0.4513031550068587\n",
      "329\n",
      "729\n"
     ]
    },
    {
     "name": "stderr",
     "output_type": "stream",
     "text": [
      "\r",
      " 33%|███████████████████████████▋                                                       | 4/12 [03:17<05:57, 44.71s/it]"
     ]
    },
    {
     "name": "stdout",
     "output_type": "stream",
     "text": [
      "Accuracy score = 0.7037037037037037\n",
      "19\n",
      "27\n",
      "3CosAdd:\n",
      "[0.9053497942386831, 0.594883997620464, 0.17455621301775148, 0.4513031550068587]\n",
      "3CosAvg:\n",
      "[0.9629629629629629, 0.6829268292682927, 0.19230769230769232, 0.7037037037037037]\n",
      "Accuracy score = 0.9879\n",
      "9879\n",
      "10000\n"
     ]
    },
    {
     "name": "stderr",
     "output_type": "stream",
     "text": [
      "\r",
      " 42%|█████████████████████████████████▎                                              | 5/12 [30:34<1:12:12, 618.89s/it]"
     ]
    },
    {
     "name": "stdout",
     "output_type": "stream",
     "text": [
      "Accuracy score = 1.0\n",
      "100\n",
      "100\n",
      "3CosAdd:\n",
      "[0.9053497942386831, 0.594883997620464, 0.17455621301775148, 0.4513031550068587, 0.9879]\n",
      "3CosAvg:\n",
      "[0.9629629629629629, 0.6829268292682927, 0.19230769230769232, 0.7037037037037037, 1.0]\n",
      "Accuracy score = 0.9036989795918368\n",
      "2834\n",
      "3136\n"
     ]
    },
    {
     "name": "stderr",
     "output_type": "stream",
     "text": [
      "\r",
      " 50%|█████████████████████████████████████████                                         | 6/12 [35:17<50:28, 504.78s/it]"
     ]
    },
    {
     "name": "stdout",
     "output_type": "stream",
     "text": [
      "Accuracy score = 0.9464285714285714\n",
      "53\n",
      "56\n",
      "3CosAdd:\n",
      "[0.9053497942386831, 0.594883997620464, 0.17455621301775148, 0.4513031550068587, 0.9879, 0.9036989795918368]\n",
      "3CosAvg:\n",
      "[0.9629629629629629, 0.6829268292682927, 0.19230769230769232, 0.7037037037037037, 1.0, 0.9464285714285714]\n",
      "Accuracy score = 0.9808264462809917\n",
      "2967\n",
      "3025\n"
     ]
    },
    {
     "name": "stderr",
     "output_type": "stream",
     "text": [
      "\r",
      " 58%|███████████████████████████████████████████████▊                                  | 7/12 [39:47<35:39, 427.97s/it]"
     ]
    },
    {
     "name": "stdout",
     "output_type": "stream",
     "text": [
      "Accuracy score = 1.0\n",
      "55\n",
      "55\n",
      "3CosAdd:\n",
      "[0.9053497942386831, 0.594883997620464, 0.17455621301775148, 0.4513031550068587, 0.9879, 0.9036989795918368, 0.9808264462809917]\n",
      "3CosAvg:\n",
      "[0.9629629629629629, 0.6829268292682927, 0.19230769230769232, 0.7037037037037037, 1.0, 0.9464285714285714, 1.0]\n",
      "Accuracy score = 0.9421487603305785\n",
      "2850\n",
      "3025\n"
     ]
    },
    {
     "name": "stderr",
     "output_type": "stream",
     "text": [
      "\r",
      " 67%|██████████████████████████████████████████████████████▋                           | 8/12 [44:20<25:15, 378.76s/it]"
     ]
    },
    {
     "name": "stdout",
     "output_type": "stream",
     "text": [
      "Accuracy score = 1.0\n",
      "55\n",
      "55\n",
      "3CosAdd:\n",
      "[0.9053497942386831, 0.594883997620464, 0.17455621301775148, 0.4513031550068587, 0.9879, 0.9036989795918368, 0.9808264462809917, 0.9421487603305785]\n",
      "3CosAvg:\n",
      "[0.9629629629629629, 0.6829268292682927, 0.19230769230769232, 0.7037037037037037, 1.0, 0.9464285714285714, 1.0, 1.0]\n",
      "Accuracy score = 0.9402985074626866\n",
      "4221\n",
      "4489\n"
     ]
    },
    {
     "name": "stderr",
     "output_type": "stream",
     "text": [
      "\r",
      " 75%|█████████████████████████████████████████████████████████████▌                    | 9/12 [52:03<20:15, 405.22s/it]"
     ]
    },
    {
     "name": "stdout",
     "output_type": "stream",
     "text": [
      "Accuracy score = 0.9552238805970149\n",
      "64\n",
      "67\n",
      "3CosAdd:\n",
      "[0.9053497942386831, 0.594883997620464, 0.17455621301775148, 0.4513031550068587, 0.9879, 0.9036989795918368, 0.9808264462809917, 0.9421487603305785, 0.9402985074626866]\n",
      "3CosAvg:\n",
      "[0.9629629629629629, 0.6829268292682927, 0.19230769230769232, 0.7037037037037037, 1.0, 0.9464285714285714, 1.0, 1.0, 0.9552238805970149]\n",
      "Accuracy score = 0.9655555555555555\n",
      "869\n",
      "900\n"
     ]
    },
    {
     "name": "stderr",
     "output_type": "stream",
     "text": [
      "\r",
      " 83%|███████████████████████████████████████████████████████████████████▌             | 10/12 [52:43<09:44, 292.23s/it]"
     ]
    },
    {
     "name": "stdout",
     "output_type": "stream",
     "text": [
      "Accuracy score = 1.0\n",
      "30\n",
      "30\n",
      "3CosAdd:\n",
      "[0.9053497942386831, 0.594883997620464, 0.17455621301775148, 0.4513031550068587, 0.9879, 0.9036989795918368, 0.9808264462809917, 0.9421487603305785, 0.9402985074626866, 0.9655555555555555]\n",
      "3CosAvg:\n",
      "[0.9629629629629629, 0.6829268292682927, 0.19230769230769232, 0.7037037037037037, 1.0, 0.9464285714285714, 1.0, 1.0, 0.9552238805970149, 1.0]\n",
      "Accuracy score = 0.8784\n",
      "549\n",
      "625\n"
     ]
    },
    {
     "name": "stderr",
     "output_type": "stream",
     "text": [
      "\r",
      " 92%|██████████████████████████████████████████████████████████████████████████▎      | 11/12 [53:05<03:29, 209.64s/it]"
     ]
    },
    {
     "name": "stdout",
     "output_type": "stream",
     "text": [
      "Accuracy score = 0.92\n",
      "23\n",
      "25\n",
      "3CosAdd:\n",
      "[0.9053497942386831, 0.594883997620464, 0.17455621301775148, 0.4513031550068587, 0.9879, 0.9036989795918368, 0.9808264462809917, 0.9421487603305785, 0.9402985074626866, 0.9655555555555555, 0.8784]\n",
      "3CosAvg:\n",
      "[0.9629629629629629, 0.6829268292682927, 0.19230769230769232, 0.7037037037037037, 1.0, 0.9464285714285714, 1.0, 1.0, 0.9552238805970149, 1.0, 0.92]\n",
      "Accuracy score = 0.3799621928166352\n",
      "201\n",
      "529\n"
     ]
    },
    {
     "name": "stderr",
     "output_type": "stream",
     "text": [
      "100%|█████████████████████████████████████████████████████████████████████████████████| 12/12 [53:22<00:00, 266.91s/it]"
     ]
    },
    {
     "name": "stdout",
     "output_type": "stream",
     "text": [
      "Accuracy score = 0.5652173913043478\n",
      "13\n",
      "23\n",
      "3CosAdd:\n",
      "[0.9053497942386831, 0.594883997620464, 0.17455621301775148, 0.4513031550068587, 0.9879, 0.9036989795918368, 0.9808264462809917, 0.9421487603305785, 0.9402985074626866, 0.9655555555555555, 0.8784, 0.3799621928166352]\n",
      "3CosAvg:\n",
      "[0.9629629629629629, 0.6829268292682927, 0.19230769230769232, 0.7037037037037037, 1.0, 0.9464285714285714, 1.0, 1.0, 0.9552238805970149, 1.0, 0.92, 0.5652173913043478]\n",
      "time: 53min 22s (started: 2021-05-21 16:22:19 +03:00)\n"
     ]
    },
    {
     "name": "stderr",
     "output_type": "stream",
     "text": [
      "\n"
     ]
    }
   ],
   "source": [
    "elmo_ru_news_scores_3CosAdd = []\n",
    "elmo_ru_news_scores_3CosAvg = []\n",
    "\n",
    "for i in tqdm(range(1,13)):\n",
    "    file_name = 'elmo_ru_news_analogy'+str(i)+'_emb'\n",
    "    file_words = 'C:\\\\Users\\\\Asus\\\\Data analysis\\\\Учеба\\\\ДИПЛОМ\\\\Analogies\\\\Small\\\\'+onlyfiles[i]\n",
    "\n",
    "    analogy_words = get_analogy_words(file_words)\n",
    "    \n",
    "    if (i==4):\n",
    "        analogy_words = analogy_words.replace('сша','')\n",
    "        analogy_words = analogy_words.replace('мексика','')\n",
    "        analogy_words = analogy_words.replace('швеция','')\n",
    "    \n",
    "    analogy_embeddings = pd.read_csv(file_name, sep='\\t')\n",
    "    analogy_embeddings.index = analogy_embeddings['Unnamed: 0']\n",
    "    analogy_embeddings = analogy_embeddings.drop(columns=['Unnamed: 0'])\n",
    "    \n",
    "    analogy_score_3CosAdd = solve_analogy_3CosAdd(analogy_words,analogy_embeddings)\n",
    "    analogy_score_3CosAvg = solve_analogy_3CosAvg(analogy_words,analogy_embeddings)\n",
    "    \n",
    "    elmo_ru_news_scores_3CosAdd.append(analogy_score_3CosAdd)\n",
    "    elmo_ru_news_scores_3CosAvg.append(analogy_score_3CosAvg)\n",
    "    \n",
    "    print('3CosAdd:')\n",
    "    print(elmo_ru_news_scores_3CosAdd)\n",
    "    \n",
    "    print('3CosAvg:')\n",
    "    print(elmo_ru_news_scores_3CosAvg)\n",
    "    \n",
    "elmo_ru_news_scores_3CosAdd.append(analogy_13_score)\n",
    "elmo_ru_news_scores_3CosAvg.append(analogy_13_score_3CosAvg)\n"
   ]
  },
  {
   "cell_type": "code",
   "execution_count": 65,
   "metadata": {},
   "outputs": [
    {
     "data": {
      "text/plain": [
       "[0.9053497942386831,\n",
       " 0.594883997620464,\n",
       " 0.17455621301775148,\n",
       " 0.4513031550068587,\n",
       " 0.9879,\n",
       " 0.9036989795918368,\n",
       " 0.9808264462809917,\n",
       " 0.9421487603305785,\n",
       " 0.9402985074626866,\n",
       " 0.9655555555555555,\n",
       " 0.8784,\n",
       " 0.3799621928166352,\n",
       " 0.14268431001890358]"
      ]
     },
     "execution_count": 65,
     "metadata": {},
     "output_type": "execute_result"
    },
    {
     "name": "stdout",
     "output_type": "stream",
     "text": [
      "time: 500 ms (started: 2021-05-21 17:38:10 +03:00)\n"
     ]
    }
   ],
   "source": [
    "elmo_ru_news_scores_3CosAdd = [0.9053497942386831, 0.594883997620464, \n",
    "                               0.17455621301775148, 0.4513031550068587, \n",
    "                               0.9879, 0.9036989795918368, \n",
    "                               0.9808264462809917, 0.9421487603305785, \n",
    "                               0.9402985074626866, 0.9655555555555555, \n",
    "                               0.8784, 0.3799621928166352]\n",
    "\n",
    "elmo_ru_news_scores_3CosAdd.append(analogy_13_score)\n",
    "\n",
    "elmo_ru_news_scores_3CosAdd"
   ]
  },
  {
   "cell_type": "code",
   "execution_count": 69,
   "metadata": {},
   "outputs": [
    {
     "name": "stdout",
     "output_type": "stream",
     "text": [
      "time: 94 ms (started: 2021-05-21 17:44:57 +03:00)\n"
     ]
    }
   ],
   "source": [
    "pd.Series(elmo_ru_news_scores_3CosAdd).to_csv('elmo_ru_news_3CosAdd_results', sep='\\t')"
   ]
  },
  {
   "cell_type": "code",
   "execution_count": 70,
   "metadata": {},
   "outputs": [
    {
     "data": {
      "text/plain": [
       "[0.9629629629629629,\n",
       " 0.6829268292682927,\n",
       " 0.19230769230769232,\n",
       " 0.7037037037037037,\n",
       " 1.0,\n",
       " 0.9464285714285714,\n",
       " 1.0,\n",
       " 1.0,\n",
       " 0.9552238805970149,\n",
       " 1.0,\n",
       " 0.92,\n",
       " 0.5652173913043478,\n",
       " 0.24347826086956523]"
      ]
     },
     "execution_count": 70,
     "metadata": {},
     "output_type": "execute_result"
    },
    {
     "name": "stdout",
     "output_type": "stream",
     "text": [
      "time: 15 ms (started: 2021-05-21 17:44:57 +03:00)\n"
     ]
    }
   ],
   "source": [
    "elmo_ru_news_scores_3CosAvg = [0.9629629629629629, 0.6829268292682927, \n",
    "                               0.19230769230769232, 0.7037037037037037, \n",
    "                               1.0, 0.9464285714285714, \n",
    "                               1.0, 1.0, \n",
    "                               0.9552238805970149, 1.0, \n",
    "                               0.92, 0.5652173913043478]\n",
    "\n",
    "elmo_ru_news_scores_3CosAvg.append(analogy_13_score_3CosAvg)\n",
    "\n",
    "elmo_ru_news_scores_3CosAvg"
   ]
  },
  {
   "cell_type": "code",
   "execution_count": 19,
   "metadata": {},
   "outputs": [
    {
     "name": "stdout",
     "output_type": "stream",
     "text": [
      "time: 0 ns (started: 2021-05-22 15:08:18 +03:00)\n"
     ]
    }
   ],
   "source": [
    "elmo_ru_news_scores_3CosAvg = [0.9629629629629629,\n",
    " 0.6829268292682927,\n",
    " 0.19230769230769232,\n",
    " 0.7037037037037037,\n",
    " 1.0,\n",
    " 0.9464285714285714,\n",
    " 1.0,\n",
    " 1.0,\n",
    " 0.9552238805970149,\n",
    " 1.0,\n",
    " 0.92,\n",
    " 0.5652173913043478,\n",
    " 0.24347826086956523]"
   ]
  },
  {
   "cell_type": "code",
   "execution_count": 20,
   "metadata": {},
   "outputs": [
    {
     "name": "stdout",
     "output_type": "stream",
     "text": [
      "time: 0 ns (started: 2021-05-22 15:08:23 +03:00)\n"
     ]
    }
   ],
   "source": [
    "pd.Series(elmo_ru_news_scores_3CosAvg).to_csv('elmo_ru_news_3CosAvg_results', sep='\\t')"
   ]
  },
  {
   "cell_type": "code",
   "execution_count": null,
   "metadata": {},
   "outputs": [],
   "source": []
  },
  {
   "cell_type": "markdown",
   "metadata": {},
   "source": [
    "## 2.2 Модель Elmo Ru Wiki"
   ]
  },
  {
   "cell_type": "code",
   "execution_count": 8,
   "metadata": {},
   "outputs": [
    {
     "name": "stdout",
     "output_type": "stream",
     "text": [
      "time: 8.47 s (started: 2021-05-21 23:46:32 +03:00)\n"
     ]
    }
   ],
   "source": [
    "elmo = hub.Module(\"http://files.deeppavlov.ai/deeppavlov_data/elmo_ru-wiki_600k_steps.tar.gz\",trainable=True)\n",
    "sess = tf.Session()\n",
    "sess.run(tf.global_variables_initializer())"
   ]
  },
  {
   "cell_type": "markdown",
   "metadata": {},
   "source": [
    "### Напишем цикл, который идет по всем аналогиям сам"
   ]
  },
  {
   "cell_type": "code",
   "execution_count": 8,
   "metadata": {},
   "outputs": [
    {
     "name": "stdout",
     "output_type": "stream",
     "text": [
      "time: 31 ms (started: 2021-05-22 04:27:01 +03:00)\n"
     ]
    }
   ],
   "source": [
    "from os import listdir\n",
    "from os.path import isfile, join\n",
    "\n",
    "mypath = 'C:\\\\Users\\\\Asus\\\\Data analysis\\\\Учеба\\\\ДИПЛОМ\\\\Analogies\\\\Small\\\\'\n",
    "onlyfiles = [f for f in listdir(mypath) if isfile(join(mypath, f))]\n",
    "onlyfiles = onlyfiles"
   ]
  },
  {
   "cell_type": "code",
   "execution_count": 10,
   "metadata": {},
   "outputs": [
    {
     "name": "stderr",
     "output_type": "stream",
     "text": [
      "\r",
      "  0%|                                                                                            | 0/4 [00:00<?, ?it/s]"
     ]
    },
    {
     "name": "stdout",
     "output_type": "stream",
     "text": [
      "INFO:tensorflow:Saver not created because there are no variables in the graph to restore\n"
     ]
    },
    {
     "name": "stderr",
     "output_type": "stream",
     "text": [
      "INFO:tensorflow:Saver not created because there are no variables in the graph to restore\n",
      " 25%|█████████████████████                                                               | 1/4 [00:15<00:47, 15.92s/it]"
     ]
    },
    {
     "name": "stdout",
     "output_type": "stream",
     "text": [
      "INFO:tensorflow:Saver not created because there are no variables in the graph to restore\n"
     ]
    },
    {
     "name": "stderr",
     "output_type": "stream",
     "text": [
      "INFO:tensorflow:Saver not created because there are no variables in the graph to restore\n",
      " 50%|█████████████████████████████████████████▌                                         | 2/4 [08:59<10:27, 313.79s/it]"
     ]
    },
    {
     "name": "stdout",
     "output_type": "stream",
     "text": [
      "INFO:tensorflow:Saver not created because there are no variables in the graph to restore\n"
     ]
    },
    {
     "name": "stderr",
     "output_type": "stream",
     "text": [
      "INFO:tensorflow:Saver not created because there are no variables in the graph to restore\n",
      " 75%|██████████████████████████████████████████████████████████████▎                    | 3/4 [19:51<07:48, 468.66s/it]"
     ]
    },
    {
     "name": "stdout",
     "output_type": "stream",
     "text": [
      "INFO:tensorflow:Saver not created because there are no variables in the graph to restore\n"
     ]
    },
    {
     "name": "stderr",
     "output_type": "stream",
     "text": [
      "INFO:tensorflow:Saver not created because there are no variables in the graph to restore\n",
      "100%|███████████████████████████████████████████████████████████████████████████████████| 4/4 [35:32<00:00, 533.24s/it]\n"
     ]
    },
    {
     "name": "stdout",
     "output_type": "stream",
     "text": [
      "time: 35min 35s (started: 2021-05-21 23:46:40 +03:00)\n"
     ]
    }
   ],
   "source": [
    "for analogy_number in tqdm(range(10,14)):\n",
    "    \n",
    "    file_words = 'C:\\\\Users\\\\Asus\\\\Data analysis\\\\Учеба\\\\ДИПЛОМ\\\\Analogies\\\\Small\\\\'+onlyfiles[analogy_number]\n",
    "    \n",
    "    analogy_words = get_analogy_words(file_words)\n",
    "    \n",
    "    if (analogy_number==4):\n",
    "        analogy_words = analogy_words.replace('сша','')\n",
    "        analogy_words = analogy_words.replace('мексика','')\n",
    "        analogy_words = analogy_words.replace('швеция','')\n",
    "        \n",
    "    analogy_embeddings = get_embeddings_ELMo(elmo,sess,analogy_words)\n",
    "    \n",
    "    file_name = 'elmo_ru_wiki_analogy'+str(analogy_number)+'_emb'\n",
    "    analogy_embeddings.to_csv(file_name, sep='\\t')"
   ]
  },
  {
   "cell_type": "code",
   "execution_count": null,
   "metadata": {},
   "outputs": [],
   "source": []
  },
  {
   "cell_type": "markdown",
   "metadata": {},
   "source": [
    "### Решим проблему аналогий"
   ]
  },
  {
   "cell_type": "code",
   "execution_count": 9,
   "metadata": {
    "scrolled": true
   },
   "outputs": [
    {
     "name": "stderr",
     "output_type": "stream",
     "text": [
      "\r",
      "  0%|                                                                                           | 0/13 [00:00<?, ?it/s]"
     ]
    },
    {
     "name": "stdout",
     "output_type": "stream",
     "text": [
      "Accuracy score = 0.8916323731138546\n",
      "650\n",
      "729\n"
     ]
    },
    {
     "name": "stderr",
     "output_type": "stream",
     "text": [
      "\r",
      "  8%|██████▍                                                                            | 1/13 [00:31<06:12, 31.06s/it]"
     ]
    },
    {
     "name": "stdout",
     "output_type": "stream",
     "text": [
      "Accuracy score = 0.9259259259259259\n",
      "25\n",
      "27\n",
      "3CosAdd:\n",
      "[0.8916323731138546]\n",
      "3CosAvg:\n",
      "[0.9259259259259259]\n",
      "Accuracy score = 0.6686496133254015\n",
      "1124\n",
      "1681\n"
     ]
    },
    {
     "name": "stderr",
     "output_type": "stream",
     "text": [
      "\r",
      " 15%|████████████▊                                                                      | 2/13 [02:20<14:08, 77.15s/it]"
     ]
    },
    {
     "name": "stdout",
     "output_type": "stream",
     "text": [
      "Accuracy score = 0.7560975609756098\n",
      "31\n",
      "41\n",
      "3CosAdd:\n",
      "[0.8916323731138546, 0.6686496133254015]\n",
      "3CosAvg:\n",
      "[0.9259259259259259, 0.7560975609756098]\n",
      "Accuracy score = 0.21301775147928995\n",
      "144\n",
      "676\n"
     ]
    },
    {
     "name": "stderr",
     "output_type": "stream",
     "text": [
      "\r",
      " 23%|███████████████████▏                                                               | 3/13 [02:47<09:02, 54.22s/it]"
     ]
    },
    {
     "name": "stdout",
     "output_type": "stream",
     "text": [
      "Accuracy score = 0.2692307692307692\n",
      "7\n",
      "26\n",
      "3CosAdd:\n",
      "[0.8916323731138546, 0.6686496133254015, 0.21301775147928995]\n",
      "3CosAvg:\n",
      "[0.9259259259259259, 0.7560975609756098, 0.2692307692307692]\n",
      "Accuracy score = 0.5171467764060357\n",
      "377\n",
      "729\n"
     ]
    },
    {
     "name": "stderr",
     "output_type": "stream",
     "text": [
      "\r",
      " 31%|█████████████████████████▌                                                         | 4/13 [03:17<06:42, 44.68s/it]"
     ]
    },
    {
     "name": "stdout",
     "output_type": "stream",
     "text": [
      "Accuracy score = 0.5925925925925926\n",
      "16\n",
      "27\n",
      "3CosAdd:\n",
      "[0.8916323731138546, 0.6686496133254015, 0.21301775147928995, 0.5171467764060357]\n",
      "3CosAvg:\n",
      "[0.9259259259259259, 0.7560975609756098, 0.2692307692307692, 0.5925925925925926]\n",
      "Accuracy score = 0.9835\n",
      "9835\n",
      "10000\n"
     ]
    },
    {
     "name": "stderr",
     "output_type": "stream",
     "text": [
      "\r",
      " 38%|██████████████████████████████▊                                                 | 5/13 [30:21<1:21:54, 614.28s/it]"
     ]
    },
    {
     "name": "stdout",
     "output_type": "stream",
     "text": [
      "Accuracy score = 0.99\n",
      "99\n",
      "100\n",
      "3CosAdd:\n",
      "[0.8916323731138546, 0.6686496133254015, 0.21301775147928995, 0.5171467764060357, 0.9835]\n",
      "3CosAvg:\n",
      "[0.9259259259259259, 0.7560975609756098, 0.2692307692307692, 0.5925925925925926, 0.99]\n",
      "Accuracy score = 0.9655612244897959\n",
      "3028\n",
      "3136\n"
     ]
    },
    {
     "name": "stderr",
     "output_type": "stream",
     "text": [
      "\r",
      " 46%|█████████████████████████████████████▊                                            | 6/13 [35:04<58:30, 501.43s/it]"
     ]
    },
    {
     "name": "stdout",
     "output_type": "stream",
     "text": [
      "Accuracy score = 1.0\n",
      "56\n",
      "56\n",
      "3CosAdd:\n",
      "[0.8916323731138546, 0.6686496133254015, 0.21301775147928995, 0.5171467764060357, 0.9835, 0.9655612244897959]\n",
      "3CosAvg:\n",
      "[0.9259259259259259, 0.7560975609756098, 0.2692307692307692, 0.5925925925925926, 0.99, 1.0]\n",
      "Accuracy score = 0.9735537190082645\n",
      "2945\n",
      "3025\n"
     ]
    },
    {
     "name": "stderr",
     "output_type": "stream",
     "text": [
      "\r",
      " 54%|████████████████████████████████████████████▏                                     | 7/13 [39:29<42:25, 424.25s/it]"
     ]
    },
    {
     "name": "stdout",
     "output_type": "stream",
     "text": [
      "Accuracy score = 1.0\n",
      "55\n",
      "55\n",
      "3CosAdd:\n",
      "[0.8916323731138546, 0.6686496133254015, 0.21301775147928995, 0.5171467764060357, 0.9835, 0.9655612244897959, 0.9735537190082645]\n",
      "3CosAvg:\n",
      "[0.9259259259259259, 0.7560975609756098, 0.2692307692307692, 0.5925925925925926, 0.99, 1.0, 1.0]\n",
      "Accuracy score = 0.9629752066115702\n",
      "2913\n",
      "3025\n"
     ]
    },
    {
     "name": "stderr",
     "output_type": "stream",
     "text": [
      "\r",
      " 62%|██████████████████████████████████████████████████▍                               | 8/13 [43:56<31:10, 374.12s/it]"
     ]
    },
    {
     "name": "stdout",
     "output_type": "stream",
     "text": [
      "Accuracy score = 0.9818181818181818\n",
      "54\n",
      "55\n",
      "3CosAdd:\n",
      "[0.8916323731138546, 0.6686496133254015, 0.21301775147928995, 0.5171467764060357, 0.9835, 0.9655612244897959, 0.9735537190082645, 0.9629752066115702]\n",
      "3CosAvg:\n",
      "[0.9259259259259259, 0.7560975609756098, 0.2692307692307692, 0.5925925925925926, 0.99, 1.0, 1.0, 0.9818181818181818]\n",
      "Accuracy score = 0.9376253063042994\n",
      "4209\n",
      "4489\n"
     ]
    },
    {
     "name": "stderr",
     "output_type": "stream",
     "text": [
      "\r",
      " 69%|████████████████████████████████████████████████████████▊                         | 9/13 [51:57<27:10, 407.57s/it]"
     ]
    },
    {
     "name": "stdout",
     "output_type": "stream",
     "text": [
      "Accuracy score = 0.9552238805970149\n",
      "64\n",
      "67\n",
      "3CosAdd:\n",
      "[0.8916323731138546, 0.6686496133254015, 0.21301775147928995, 0.5171467764060357, 0.9835, 0.9655612244897959, 0.9735537190082645, 0.9629752066115702, 0.9376253063042994]\n",
      "3CosAvg:\n",
      "[0.9259259259259259, 0.7560975609756098, 0.2692307692307692, 0.5925925925925926, 0.99, 1.0, 1.0, 0.9818181818181818, 0.9552238805970149]\n",
      "Accuracy score = 0.9666666666666667\n",
      "870\n",
      "900\n"
     ]
    },
    {
     "name": "stderr",
     "output_type": "stream",
     "text": [
      "\r",
      " 77%|██████████████████████████████████████████████████████████████▎                  | 10/13 [52:39<14:43, 294.63s/it]"
     ]
    },
    {
     "name": "stdout",
     "output_type": "stream",
     "text": [
      "Accuracy score = 1.0\n",
      "30\n",
      "30\n",
      "3CosAdd:\n",
      "[0.8916323731138546, 0.6686496133254015, 0.21301775147928995, 0.5171467764060357, 0.9835, 0.9655612244897959, 0.9735537190082645, 0.9629752066115702, 0.9376253063042994, 0.9666666666666667]\n",
      "3CosAvg:\n",
      "[0.9259259259259259, 0.7560975609756098, 0.2692307692307692, 0.5925925925925926, 0.99, 1.0, 1.0, 0.9818181818181818, 0.9552238805970149, 1.0]\n",
      "Accuracy score = 0.8464\n",
      "529\n",
      "625\n"
     ]
    },
    {
     "name": "stderr",
     "output_type": "stream",
     "text": [
      "\r",
      " 85%|████████████████████████████████████████████████████████████████████▌            | 11/13 [53:02<07:03, 211.73s/it]"
     ]
    },
    {
     "name": "stdout",
     "output_type": "stream",
     "text": [
      "Accuracy score = 0.92\n",
      "23\n",
      "25\n",
      "3CosAdd:\n",
      "[0.8916323731138546, 0.6686496133254015, 0.21301775147928995, 0.5171467764060357, 0.9835, 0.9655612244897959, 0.9735537190082645, 0.9629752066115702, 0.9376253063042994, 0.9666666666666667, 0.8464]\n",
      "3CosAvg:\n",
      "[0.9259259259259259, 0.7560975609756098, 0.2692307692307692, 0.5925925925925926, 0.99, 1.0, 1.0, 0.9818181818181818, 0.9552238805970149, 1.0, 0.92]\n",
      "Accuracy score = 0.5614366729678639\n",
      "297\n",
      "529\n"
     ]
    },
    {
     "name": "stderr",
     "output_type": "stream",
     "text": [
      "\r",
      " 92%|██████████████████████████████████████████████████████████████████████████▊      | 12/13 [53:21<02:33, 153.01s/it]"
     ]
    },
    {
     "name": "stdout",
     "output_type": "stream",
     "text": [
      "Accuracy score = 0.6956521739130435\n",
      "16\n",
      "23\n",
      "3CosAdd:\n",
      "[0.8916323731138546, 0.6686496133254015, 0.21301775147928995, 0.5171467764060357, 0.9835, 0.9655612244897959, 0.9735537190082645, 0.9629752066115702, 0.9376253063042994, 0.9666666666666667, 0.8464, 0.5614366729678639]\n",
      "3CosAvg:\n",
      "[0.9259259259259259, 0.7560975609756098, 0.2692307692307692, 0.5925925925925926, 0.99, 1.0, 1.0, 0.9818181818181818, 0.9552238805970149, 1.0, 0.92, 0.6956521739130435]\n",
      "Accuracy score = 0.16763705103969753\n",
      "2217\n",
      "13225\n"
     ]
    },
    {
     "name": "stderr",
     "output_type": "stream",
     "text": [
      "100%|███████████████████████████████████████████████████████████████████████████████| 13/13 [1:34:40<00:00, 436.97s/it]"
     ]
    },
    {
     "name": "stdout",
     "output_type": "stream",
     "text": [
      "Accuracy score = 0.21739130434782608\n",
      "25\n",
      "115\n",
      "3CosAdd:\n",
      "[0.8916323731138546, 0.6686496133254015, 0.21301775147928995, 0.5171467764060357, 0.9835, 0.9655612244897959, 0.9735537190082645, 0.9629752066115702, 0.9376253063042994, 0.9666666666666667, 0.8464, 0.5614366729678639, 0.16763705103969753]\n",
      "3CosAvg:\n",
      "[0.9259259259259259, 0.7560975609756098, 0.2692307692307692, 0.5925925925925926, 0.99, 1.0, 1.0, 0.9818181818181818, 0.9552238805970149, 1.0, 0.92, 0.6956521739130435, 0.21739130434782608]\n",
      "time: 1h 34min 40s (started: 2021-05-22 04:27:15 +03:00)\n"
     ]
    },
    {
     "name": "stderr",
     "output_type": "stream",
     "text": [
      "\n"
     ]
    }
   ],
   "source": [
    "elmo_ru_wiki_scores_3CosAdd = []\n",
    "elmo_ru_wiki_scores_3CosAvg = []\n",
    "\n",
    "for i in tqdm(range(1,14)):\n",
    "    file_name = 'elmo_ru_wiki_analogy'+str(i)+'_emb'\n",
    "    file_words = 'C:\\\\Users\\\\Asus\\\\Data analysis\\\\Учеба\\\\ДИПЛОМ\\\\Analogies\\\\Small\\\\'+onlyfiles[i]\n",
    "\n",
    "    analogy_words = get_analogy_words(file_words)\n",
    "    \n",
    "    if (i==4):\n",
    "        analogy_words = analogy_words.replace('сша','')\n",
    "        analogy_words = analogy_words.replace('мексика','')\n",
    "        analogy_words = analogy_words.replace('швеция','')\n",
    "    \n",
    "    analogy_embeddings = pd.read_csv(file_name, sep='\\t')\n",
    "    analogy_embeddings.index = analogy_embeddings['Unnamed: 0']\n",
    "    analogy_embeddings = analogy_embeddings.drop(columns=['Unnamed: 0'])\n",
    "    \n",
    "    analogy_score_3CosAdd = solve_analogy_3CosAdd(analogy_words,analogy_embeddings)\n",
    "    analogy_score_3CosAvg = solve_analogy_3CosAvg(analogy_words,analogy_embeddings)\n",
    "    \n",
    "    elmo_ru_wiki_scores_3CosAdd.append(analogy_score_3CosAdd)\n",
    "    elmo_ru_wiki_scores_3CosAvg.append(analogy_score_3CosAvg)\n",
    "    \n",
    "    print('3CosAdd:')\n",
    "    print(elmo_ru_wiki_scores_3CosAdd)\n",
    "    \n",
    "    print('3CosAvg:')\n",
    "    print(elmo_ru_wiki_scores_3CosAvg)\n",
    "    "
   ]
  },
  {
   "cell_type": "code",
   "execution_count": 10,
   "metadata": {},
   "outputs": [
    {
     "name": "stdout",
     "output_type": "stream",
     "text": [
      "time: 16 ms (started: 2021-05-22 06:01:56 +03:00)\n"
     ]
    }
   ],
   "source": [
    "pd.Series(elmo_ru_wiki_scores_3CosAdd).to_csv('elmo_ru_wiki_3CosAdd_results', sep='\\t')"
   ]
  },
  {
   "cell_type": "code",
   "execution_count": 18,
   "metadata": {},
   "outputs": [
    {
     "name": "stdout",
     "output_type": "stream",
     "text": [
      "time: 15 ms (started: 2021-05-22 15:07:11 +03:00)\n"
     ]
    }
   ],
   "source": [
    "pd.Series(elmo_ru_wiki_scores_3CosAvg).to_csv('elmo_ru_wiki_3CosAvg_results', sep='\\t')"
   ]
  },
  {
   "cell_type": "code",
   "execution_count": null,
   "metadata": {},
   "outputs": [],
   "source": []
  },
  {
   "cell_type": "code",
   "execution_count": null,
   "metadata": {},
   "outputs": [],
   "source": []
  },
  {
   "cell_type": "code",
   "execution_count": null,
   "metadata": {},
   "outputs": [],
   "source": []
  },
  {
   "cell_type": "markdown",
   "metadata": {},
   "source": [
    "## 2.3 Модель Elmo Ru Twitter"
   ]
  },
  {
   "cell_type": "code",
   "execution_count": 8,
   "metadata": {},
   "outputs": [
    {
     "name": "stdout",
     "output_type": "stream",
     "text": [
      "time: 6.81 s (started: 2021-05-22 04:11:09 +03:00)\n"
     ]
    }
   ],
   "source": [
    "elmo = hub.Module(\"http://files.deeppavlov.ai/deeppavlov_data/elmo_ru-twitter_2013-01_2018-04_600k_steps.tar.gz\",trainable=True)\n",
    "sess = tf.Session()\n",
    "sess.run(tf.global_variables_initializer())"
   ]
  },
  {
   "cell_type": "markdown",
   "metadata": {},
   "source": [
    "### Напишем цикл, который идет по всем аналогиям сам"
   ]
  },
  {
   "cell_type": "code",
   "execution_count": 9,
   "metadata": {},
   "outputs": [
    {
     "name": "stdout",
     "output_type": "stream",
     "text": [
      "time: 0 ns (started: 2021-05-22 04:11:16 +03:00)\n"
     ]
    }
   ],
   "source": [
    "from os import listdir\n",
    "from os.path import isfile, join\n",
    "\n",
    "mypath = 'C:\\\\Users\\\\Asus\\\\Data analysis\\\\Учеба\\\\ДИПЛОМ\\\\Analogies\\\\Small\\\\'\n",
    "onlyfiles = [f for f in listdir(mypath) if isfile(join(mypath, f))]\n",
    "onlyfiles = onlyfiles"
   ]
  },
  {
   "cell_type": "code",
   "execution_count": 10,
   "metadata": {},
   "outputs": [
    {
     "name": "stderr",
     "output_type": "stream",
     "text": [
      "\r",
      "  0%|                                                                                            | 0/2 [00:00<?, ?it/s]"
     ]
    },
    {
     "name": "stdout",
     "output_type": "stream",
     "text": [
      "INFO:tensorflow:Saver not created because there are no variables in the graph to restore\n"
     ]
    },
    {
     "name": "stderr",
     "output_type": "stream",
     "text": [
      "INFO:tensorflow:Saver not created because there are no variables in the graph to restore\n",
      " 50%|██████████████████████████████████████████                                          | 1/2 [00:23<00:23, 23.55s/it]"
     ]
    },
    {
     "name": "stdout",
     "output_type": "stream",
     "text": [
      "INFO:tensorflow:Saver not created because there are no variables in the graph to restore\n"
     ]
    },
    {
     "name": "stderr",
     "output_type": "stream",
     "text": [
      "INFO:tensorflow:Saver not created because there are no variables in the graph to restore\n",
      "100%|███████████████████████████████████████████████████████████████████████████████████| 2/2 [06:37<00:00, 198.90s/it]"
     ]
    },
    {
     "name": "stdout",
     "output_type": "stream",
     "text": [
      "time: 6min 37s (started: 2021-05-22 04:11:19 +03:00)\n"
     ]
    },
    {
     "name": "stderr",
     "output_type": "stream",
     "text": [
      "\n"
     ]
    }
   ],
   "source": [
    "for analogy_number in tqdm(range(12,14)):\n",
    "    \n",
    "    file_words = 'C:\\\\Users\\\\Asus\\\\Data analysis\\\\Учеба\\\\ДИПЛОМ\\\\Analogies\\\\Small\\\\'+onlyfiles[analogy_number]\n",
    "    \n",
    "    analogy_words = get_analogy_words(file_words)\n",
    "    \n",
    "    if (analogy_number==4):\n",
    "        analogy_words = analogy_words.replace('сша','')\n",
    "        analogy_words = analogy_words.replace('мексика','')\n",
    "        analogy_words = analogy_words.replace('швеция','')\n",
    "        \n",
    "    analogy_embeddings = get_embeddings_ELMo(elmo,sess,analogy_words)\n",
    "    \n",
    "    file_name = 'elmo_ru_twitter_analogy'+str(analogy_number)+'_emb'\n",
    "    analogy_embeddings.to_csv(file_name, sep='\\t')"
   ]
  },
  {
   "cell_type": "code",
   "execution_count": null,
   "metadata": {},
   "outputs": [],
   "source": []
  },
  {
   "cell_type": "markdown",
   "metadata": {},
   "source": [
    "### Решим проблему аналогий"
   ]
  },
  {
   "cell_type": "code",
   "execution_count": 12,
   "metadata": {
    "scrolled": true
   },
   "outputs": [
    {
     "name": "stderr",
     "output_type": "stream",
     "text": [
      "\r",
      "  0%|                                                                                           | 0/13 [00:00<?, ?it/s]"
     ]
    },
    {
     "name": "stdout",
     "output_type": "stream",
     "text": [
      "Accuracy score = 0.9465020576131687\n",
      "690\n",
      "729\n"
     ]
    },
    {
     "name": "stderr",
     "output_type": "stream",
     "text": [
      "\r",
      "  8%|██████▍                                                                            | 1/13 [00:30<06:09, 30.77s/it]"
     ]
    },
    {
     "name": "stdout",
     "output_type": "stream",
     "text": [
      "Accuracy score = 1.0\n",
      "27\n",
      "27\n",
      "3CosAdd:\n",
      "[0.9465020576131687]\n",
      "3CosAvg:\n",
      "[1.0]\n",
      "Accuracy score = 0.711481261154075\n",
      "1196\n",
      "1681\n"
     ]
    },
    {
     "name": "stderr",
     "output_type": "stream",
     "text": [
      "\r",
      " 15%|████████████▊                                                                      | 2/13 [02:20<14:09, 77.20s/it]"
     ]
    },
    {
     "name": "stdout",
     "output_type": "stream",
     "text": [
      "Accuracy score = 0.8536585365853658\n",
      "35\n",
      "41\n",
      "3CosAdd:\n",
      "[0.9465020576131687, 0.711481261154075]\n",
      "3CosAvg:\n",
      "[1.0, 0.8536585365853658]\n",
      "Accuracy score = 0.14644970414201183\n",
      "99\n",
      "676\n"
     ]
    },
    {
     "name": "stderr",
     "output_type": "stream",
     "text": [
      "\r",
      " 23%|███████████████████▏                                                               | 3/13 [02:47<09:02, 54.30s/it]"
     ]
    },
    {
     "name": "stdout",
     "output_type": "stream",
     "text": [
      "Accuracy score = 0.11538461538461539\n",
      "3\n",
      "26\n",
      "3CosAdd:\n",
      "[0.9465020576131687, 0.711481261154075, 0.14644970414201183]\n",
      "3CosAvg:\n",
      "[1.0, 0.8536585365853658, 0.11538461538461539]\n",
      "Accuracy score = 0.41838134430727025\n",
      "305\n",
      "729\n"
     ]
    },
    {
     "name": "stderr",
     "output_type": "stream",
     "text": [
      "\r",
      " 31%|█████████████████████████▌                                                         | 4/13 [03:17<06:42, 44.78s/it]"
     ]
    },
    {
     "name": "stdout",
     "output_type": "stream",
     "text": [
      "Accuracy score = 0.4444444444444444\n",
      "12\n",
      "27\n",
      "3CosAdd:\n",
      "[0.9465020576131687, 0.711481261154075, 0.14644970414201183, 0.41838134430727025]\n",
      "3CosAvg:\n",
      "[1.0, 0.8536585365853658, 0.11538461538461539, 0.4444444444444444]\n",
      "Accuracy score = 0.9895\n",
      "9895\n",
      "10000\n"
     ]
    },
    {
     "name": "stderr",
     "output_type": "stream",
     "text": [
      "\r",
      " 38%|██████████████████████████████▊                                                 | 5/13 [30:28<1:22:12, 616.57s/it]"
     ]
    },
    {
     "name": "stdout",
     "output_type": "stream",
     "text": [
      "Accuracy score = 1.0\n",
      "100\n",
      "100\n",
      "3CosAdd:\n",
      "[0.9465020576131687, 0.711481261154075, 0.14644970414201183, 0.41838134430727025, 0.9895]\n",
      "3CosAvg:\n",
      "[1.0, 0.8536585365853658, 0.11538461538461539, 0.4444444444444444, 1.0]\n",
      "Accuracy score = 0.9534438775510204\n",
      "2990\n",
      "3136\n"
     ]
    },
    {
     "name": "stderr",
     "output_type": "stream",
     "text": [
      "\r",
      " 46%|█████████████████████████████████████▊                                            | 6/13 [35:11<58:43, 503.36s/it]"
     ]
    },
    {
     "name": "stdout",
     "output_type": "stream",
     "text": [
      "Accuracy score = 1.0\n",
      "56\n",
      "56\n",
      "3CosAdd:\n",
      "[0.9465020576131687, 0.711481261154075, 0.14644970414201183, 0.41838134430727025, 0.9895, 0.9534438775510204]\n",
      "3CosAvg:\n",
      "[1.0, 0.8536585365853658, 0.11538461538461539, 0.4444444444444444, 1.0, 1.0]\n",
      "Accuracy score = 0.9626446280991735\n",
      "2912\n",
      "3025\n"
     ]
    },
    {
     "name": "stderr",
     "output_type": "stream",
     "text": [
      "\r",
      " 54%|████████████████████████████████████████████▏                                     | 7/13 [39:36<42:32, 425.49s/it]"
     ]
    },
    {
     "name": "stdout",
     "output_type": "stream",
     "text": [
      "Accuracy score = 1.0\n",
      "55\n",
      "55\n",
      "3CosAdd:\n",
      "[0.9465020576131687, 0.711481261154075, 0.14644970414201183, 0.41838134430727025, 0.9895, 0.9534438775510204, 0.9626446280991735]\n",
      "3CosAvg:\n",
      "[1.0, 0.8536585365853658, 0.11538461538461539, 0.4444444444444444, 1.0, 1.0, 1.0]\n",
      "Accuracy score = 0.9312396694214876\n",
      "2817\n",
      "3025\n"
     ]
    },
    {
     "name": "stderr",
     "output_type": "stream",
     "text": [
      "\r",
      " 62%|██████████████████████████████████████████████████▍                               | 8/13 [44:02<31:13, 374.73s/it]"
     ]
    },
    {
     "name": "stdout",
     "output_type": "stream",
     "text": [
      "Accuracy score = 0.9818181818181818\n",
      "54\n",
      "55\n",
      "3CosAdd:\n",
      "[0.9465020576131687, 0.711481261154075, 0.14644970414201183, 0.41838134430727025, 0.9895, 0.9534438775510204, 0.9626446280991735, 0.9312396694214876]\n",
      "3CosAvg:\n",
      "[1.0, 0.8536585365853658, 0.11538461538461539, 0.4444444444444444, 1.0, 1.0, 1.0, 0.9818181818181818]\n",
      "Accuracy score = 0.9501002450434395\n",
      "4265\n",
      "4489\n"
     ]
    },
    {
     "name": "stderr",
     "output_type": "stream",
     "text": [
      "\r",
      " 69%|████████████████████████████████████████████████████████▊                         | 9/13 [52:04<27:12, 408.20s/it]"
     ]
    },
    {
     "name": "stdout",
     "output_type": "stream",
     "text": [
      "Accuracy score = 0.9850746268656716\n",
      "66\n",
      "67\n",
      "3CosAdd:\n",
      "[0.9465020576131687, 0.711481261154075, 0.14644970414201183, 0.41838134430727025, 0.9895, 0.9534438775510204, 0.9626446280991735, 0.9312396694214876, 0.9501002450434395]\n",
      "3CosAvg:\n",
      "[1.0, 0.8536585365853658, 0.11538461538461539, 0.4444444444444444, 1.0, 1.0, 1.0, 0.9818181818181818, 0.9850746268656716]\n",
      "Accuracy score = 0.9666666666666667\n",
      "870\n",
      "900\n"
     ]
    },
    {
     "name": "stderr",
     "output_type": "stream",
     "text": [
      "\r",
      " 77%|██████████████████████████████████████████████████████████████▎                  | 10/13 [52:46<14:45, 295.18s/it]"
     ]
    },
    {
     "name": "stdout",
     "output_type": "stream",
     "text": [
      "Accuracy score = 1.0\n",
      "30\n",
      "30\n",
      "3CosAdd:\n",
      "[0.9465020576131687, 0.711481261154075, 0.14644970414201183, 0.41838134430727025, 0.9895, 0.9534438775510204, 0.9626446280991735, 0.9312396694214876, 0.9501002450434395, 0.9666666666666667]\n",
      "3CosAvg:\n",
      "[1.0, 0.8536585365853658, 0.11538461538461539, 0.4444444444444444, 1.0, 1.0, 1.0, 0.9818181818181818, 0.9850746268656716, 1.0]\n",
      "Accuracy score = 0.9584\n",
      "599\n",
      "625\n"
     ]
    },
    {
     "name": "stderr",
     "output_type": "stream",
     "text": [
      "\r",
      " 85%|████████████████████████████████████████████████████████████████████▌            | 11/13 [53:10<07:04, 212.18s/it]"
     ]
    },
    {
     "name": "stdout",
     "output_type": "stream",
     "text": [
      "Accuracy score = 1.0\n",
      "25\n",
      "25\n",
      "3CosAdd:\n",
      "[0.9465020576131687, 0.711481261154075, 0.14644970414201183, 0.41838134430727025, 0.9895, 0.9534438775510204, 0.9626446280991735, 0.9312396694214876, 0.9501002450434395, 0.9666666666666667, 0.9584]\n",
      "3CosAvg:\n",
      "[1.0, 0.8536585365853658, 0.11538461538461539, 0.4444444444444444, 1.0, 1.0, 1.0, 0.9818181818181818, 0.9850746268656716, 1.0, 1.0]\n",
      "Accuracy score = 0.3931947069943289\n",
      "208\n",
      "529\n"
     ]
    },
    {
     "name": "stderr",
     "output_type": "stream",
     "text": [
      "\r",
      " 92%|██████████████████████████████████████████████████████████████████████████▊      | 12/13 [53:29<02:33, 153.23s/it]"
     ]
    },
    {
     "name": "stdout",
     "output_type": "stream",
     "text": [
      "Accuracy score = 0.5217391304347826\n",
      "12\n",
      "23\n",
      "3CosAdd:\n",
      "[0.9465020576131687, 0.711481261154075, 0.14644970414201183, 0.41838134430727025, 0.9895, 0.9534438775510204, 0.9626446280991735, 0.9312396694214876, 0.9501002450434395, 0.9666666666666667, 0.9584, 0.3931947069943289]\n",
      "3CosAvg:\n",
      "[1.0, 0.8536585365853658, 0.11538461538461539, 0.4444444444444444, 1.0, 1.0, 1.0, 0.9818181818181818, 0.9850746268656716, 1.0, 1.0, 0.5217391304347826]\n",
      "Accuracy score = 0.07742911153119092\n",
      "1024\n",
      "13225\n"
     ]
    },
    {
     "name": "stderr",
     "output_type": "stream",
     "text": [
      "100%|███████████████████████████████████████████████████████████████████████████████| 13/13 [1:35:12<00:00, 439.40s/it]"
     ]
    },
    {
     "name": "stdout",
     "output_type": "stream",
     "text": [
      "Accuracy score = 0.12173913043478261\n",
      "14\n",
      "115\n",
      "3CosAdd:\n",
      "[0.9465020576131687, 0.711481261154075, 0.14644970414201183, 0.41838134430727025, 0.9895, 0.9534438775510204, 0.9626446280991735, 0.9312396694214876, 0.9501002450434395, 0.9666666666666667, 0.9584, 0.3931947069943289, 0.07742911153119092]\n",
      "3CosAvg:\n",
      "[1.0, 0.8536585365853658, 0.11538461538461539, 0.4444444444444444, 1.0, 1.0, 1.0, 0.9818181818181818, 0.9850746268656716, 1.0, 1.0, 0.5217391304347826, 0.12173913043478261]\n",
      "time: 1h 35min 12s (started: 2021-05-22 06:01:56 +03:00)\n"
     ]
    },
    {
     "name": "stderr",
     "output_type": "stream",
     "text": [
      "\n"
     ]
    }
   ],
   "source": [
    "elmo_ru_twitter_scores_3CosAdd = []\n",
    "elmo_ru_twitter_scores_3CosAvg = []\n",
    "\n",
    "for i in tqdm(range(1,14)):\n",
    "    file_name = 'elmo_ru_twitter_analogy'+str(i)+'_emb'\n",
    "    file_words = 'C:\\\\Users\\\\Asus\\\\Data analysis\\\\Учеба\\\\ДИПЛОМ\\\\Analogies\\\\Small\\\\'+onlyfiles[i]\n",
    "\n",
    "    analogy_words = get_analogy_words(file_words)\n",
    "    \n",
    "    if (i==4):\n",
    "        analogy_words = analogy_words.replace('сша','')\n",
    "        analogy_words = analogy_words.replace('мексика','')\n",
    "        analogy_words = analogy_words.replace('швеция','')\n",
    "    \n",
    "    analogy_embeddings = pd.read_csv(file_name, sep='\\t')\n",
    "    analogy_embeddings.index = analogy_embeddings['Unnamed: 0']\n",
    "    analogy_embeddings = analogy_embeddings.drop(columns=['Unnamed: 0'])\n",
    "    \n",
    "    analogy_score_3CosAdd = solve_analogy_3CosAdd(analogy_words,analogy_embeddings)\n",
    "    analogy_score_3CosAvg = solve_analogy_3CosAvg(analogy_words,analogy_embeddings)\n",
    "    \n",
    "    elmo_ru_twitter_scores_3CosAdd.append(analogy_score_3CosAdd)\n",
    "    elmo_ru_twitter_scores_3CosAvg.append(analogy_score_3CosAvg)\n",
    "    \n",
    "    print('3CosAdd:')\n",
    "    print(elmo_ru_twitter_scores_3CosAdd)\n",
    "    \n",
    "    print('3CosAvg:')\n",
    "    print(elmo_ru_twitter_scores_3CosAvg)\n",
    "    "
   ]
  },
  {
   "cell_type": "code",
   "execution_count": 13,
   "metadata": {},
   "outputs": [
    {
     "name": "stdout",
     "output_type": "stream",
     "text": [
      "time: 16 ms (started: 2021-05-22 07:37:08 +03:00)\n"
     ]
    }
   ],
   "source": [
    "pd.Series(elmo_ru_twitter_scores_3CosAdd).to_csv('elmo_ru_twitter_3CosAdd_results', sep='\\t')"
   ]
  },
  {
   "cell_type": "code",
   "execution_count": 14,
   "metadata": {},
   "outputs": [
    {
     "name": "stdout",
     "output_type": "stream",
     "text": [
      "time: 16 ms (started: 2021-05-22 07:37:08 +03:00)\n"
     ]
    }
   ],
   "source": [
    "pd.Series(elmo_ru_twitter_scores_3CosAvg).to_csv('elmo_ru_twitter_3CosAvg_results', sep='\\t')"
   ]
  },
  {
   "cell_type": "code",
   "execution_count": null,
   "metadata": {},
   "outputs": [],
   "source": []
  },
  {
   "cell_type": "code",
   "execution_count": null,
   "metadata": {},
   "outputs": [],
   "source": []
  },
  {
   "cell_type": "code",
   "execution_count": null,
   "metadata": {},
   "outputs": [],
   "source": []
  }
 ],
 "metadata": {
  "kernelspec": {
   "display_name": "tf",
   "language": "python",
   "name": "tf"
  },
  "language_info": {
   "codemirror_mode": {
    "name": "ipython",
    "version": 3
   },
   "file_extension": ".py",
   "mimetype": "text/x-python",
   "name": "python",
   "nbconvert_exporter": "python",
   "pygments_lexer": "ipython3",
   "version": "3.7.10"
  }
 },
 "nbformat": 4,
 "nbformat_minor": 4
}
