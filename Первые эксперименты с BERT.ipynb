{
 "cells": [
  {
   "cell_type": "code",
   "execution_count": 18,
   "metadata": {},
   "outputs": [
    {
     "name": "stdout",
     "output_type": "stream",
     "text": [
      "The autotime extension is already loaded. To reload it, use:\n",
      "  %reload_ext autotime\n",
      "time: 250 ms (started: 2021-05-19 00:26:08 +03:00)\n"
     ]
    }
   ],
   "source": [
    "from flair.embeddings import TransformerWordEmbeddings\n",
    "from flair.data import Sentence\n",
    "\n",
    "from transformers import AutoTokenizer, AutoModel\n",
    "\n",
    "from sklearn.decomposition import PCA\n",
    "\n",
    "import torch\n",
    "\n",
    "import matplotlib.pyplot as plt\n",
    "from scipy.spatial.distance import cosine\n",
    "import pandas as pd\n",
    "\n",
    "%load_ext autotime"
   ]
  },
  {
   "cell_type": "markdown",
   "metadata": {},
   "source": [
    "# RuBERT"
   ]
  },
  {
   "cell_type": "code",
   "execution_count": 4,
   "metadata": {},
   "outputs": [
    {
     "name": "stdout",
     "output_type": "stream",
     "text": [
      "time: 8.42 s (started: 2021-05-17 23:35:36 +03:00)\n"
     ]
    }
   ],
   "source": [
    "tokenizer = AutoTokenizer.from_pretrained(\"DeepPavlov/rubert-base-cased\")\n",
    "\n",
    "model = AutoModel.from_pretrained(\"DeepPavlov/rubert-base-cased\",output_hidden_states = True)"
   ]
  },
  {
   "cell_type": "code",
   "execution_count": null,
   "metadata": {},
   "outputs": [],
   "source": []
  },
  {
   "cell_type": "code",
   "execution_count": 55,
   "metadata": {
    "scrolled": false
   },
   "outputs": [
    {
     "name": "stdout",
     "output_type": "stream",
     "text": [
      "[CLS]           101\n",
      "париж        25,095\n",
      "франци       53,481\n",
      "##я             878\n",
      "москв        60,718\n",
      "##а             626\n",
      "россия       13,813\n",
      "берлин       41,548\n",
      "герман       42,517\n",
      "##ия          1,577\n",
      "афин         44,113\n",
      "##ы             880\n",
      "гре          103,831\n",
      "##ция         3,364\n",
      "[SEP]           102\n",
      "time: 15 ms (started: 2021-05-18 00:06:02 +03:00)\n"
     ]
    }
   ],
   "source": [
    "# Предложение с двумя понятиями слова \"замок\"\n",
    "#text1 = \"Париж, Франция, Москва, Россия, Берлин, Германия - что-то из этого страны, что-то - их столицы.\"\n",
    "\n",
    "text1 = \"Париж Франция Москва Россия Берлин Германия Афины Греция\"\n",
    "\n",
    "text2 = \"Когда я был в Париже, я забирался на Эйфелеву башню.\"\n",
    "\n",
    "text3 = \"Оттуда очень красивый вид на ночной Париж.\"\n",
    "\n",
    "# Add the special tokens.\n",
    "marked_text = \"[CLS] \" + text1 + \" [SEP]\"\n",
    "\n",
    "# Split the sentence into tokens.\n",
    "tokenized_text = tokenizer.tokenize(marked_text)\n",
    "\n",
    "# Map the token strings to their vocabulary indeces.\n",
    "indexed_tokens = tokenizer.convert_tokens_to_ids(tokenized_text)\n",
    "\n",
    "# Display the words with their indeces.\n",
    "for tup in zip(tokenized_text, indexed_tokens):\n",
    "    print('{:<12} {:>6,}'.format(tup[0], tup[1]))"
   ]
  },
  {
   "cell_type": "code",
   "execution_count": 56,
   "metadata": {},
   "outputs": [
    {
     "name": "stdout",
     "output_type": "stream",
     "text": [
      "[1, 1, 1, 1, 1, 1, 1, 1, 1, 1, 1, 1, 1, 1, 1]\n",
      "time: 0 ns (started: 2021-05-18 00:06:02 +03:00)\n"
     ]
    }
   ],
   "source": [
    "# Mark each of the 22 tokens as belonging to sentence \"1\".\n",
    "segments_ids = [1] * len(tokenized_text)\n",
    "\n",
    "print (segments_ids)"
   ]
  },
  {
   "cell_type": "code",
   "execution_count": 57,
   "metadata": {},
   "outputs": [
    {
     "name": "stdout",
     "output_type": "stream",
     "text": [
      "time: 0 ns (started: 2021-05-18 00:06:02 +03:00)\n"
     ]
    }
   ],
   "source": [
    "# Convert inputs to PyTorch tensors\n",
    "tokens_tensor = torch.tensor([indexed_tokens])\n",
    "segments_tensors = torch.tensor([segments_ids])"
   ]
  },
  {
   "cell_type": "code",
   "execution_count": 58,
   "metadata": {},
   "outputs": [
    {
     "data": {
      "text/plain": [
       "tensor([[   101,  25095,  53481,    878,  60718,    626,  13813,  41548,  42517,\n",
       "           1577,  44113,    880, 103831,   3364,    102]])"
      ]
     },
     "execution_count": 58,
     "metadata": {},
     "output_type": "execute_result"
    },
    {
     "name": "stdout",
     "output_type": "stream",
     "text": [
      "time: 15 ms (started: 2021-05-18 00:06:03 +03:00)\n"
     ]
    }
   ],
   "source": [
    "tokens_tensor"
   ]
  },
  {
   "cell_type": "code",
   "execution_count": 59,
   "metadata": {},
   "outputs": [
    {
     "data": {
      "text/plain": [
       "tensor([[1, 1, 1, 1, 1, 1, 1, 1, 1, 1, 1, 1, 1, 1, 1]])"
      ]
     },
     "execution_count": 59,
     "metadata": {},
     "output_type": "execute_result"
    },
    {
     "name": "stdout",
     "output_type": "stream",
     "text": [
      "time: 0 ns (started: 2021-05-18 00:06:03 +03:00)\n"
     ]
    }
   ],
   "source": [
    "segments_tensors"
   ]
  },
  {
   "cell_type": "code",
   "execution_count": 60,
   "metadata": {},
   "outputs": [
    {
     "name": "stdout",
     "output_type": "stream",
     "text": [
      "time: 78 ms (started: 2021-05-18 00:06:03 +03:00)\n"
     ]
    }
   ],
   "source": [
    "# Run the text through BERT, and collect all of the hidden states produced\n",
    "# from all 12 layers. \n",
    "with torch.no_grad():\n",
    "\n",
    "    outputs = model(tokens_tensor, segments_tensors)\n",
    "\n",
    "    # Evaluating the model will return a different number of objects based on \n",
    "    # how it's  configured in the `from_pretrained` call earlier. In this case, \n",
    "    # becase we set `output_hidden_states = True`, the third item will be the \n",
    "    # hidden states from all layers. See the documentation for more details:\n",
    "    # https://huggingface.co/transformers/model_doc/bert.html#bertmodel\n",
    "    hidden_states = outputs[2]"
   ]
  },
  {
   "cell_type": "code",
   "execution_count": 61,
   "metadata": {},
   "outputs": [
    {
     "data": {
      "text/plain": [
       "13"
      ]
     },
     "execution_count": 61,
     "metadata": {},
     "output_type": "execute_result"
    },
    {
     "name": "stdout",
     "output_type": "stream",
     "text": [
      "time: 0 ns (started: 2021-05-18 00:06:03 +03:00)\n"
     ]
    }
   ],
   "source": [
    "len(hidden_states)"
   ]
  },
  {
   "cell_type": "code",
   "execution_count": 62,
   "metadata": {},
   "outputs": [
    {
     "name": "stdout",
     "output_type": "stream",
     "text": [
      "Number of layers: 13   (initial embeddings + 12 BERT layers)\n",
      "Number of batches: 1\n",
      "Number of tokens: 15\n",
      "Number of hidden units: 768\n",
      "time: 0 ns (started: 2021-05-18 00:06:04 +03:00)\n"
     ]
    }
   ],
   "source": [
    "print (\"Number of layers:\", len(hidden_states), \"  (initial embeddings + 12 BERT layers)\")\n",
    "layer_i = 0\n",
    "\n",
    "print (\"Number of batches:\", len(hidden_states[layer_i]))\n",
    "batch_i = 0\n",
    "\n",
    "print (\"Number of tokens:\", len(hidden_states[layer_i][batch_i]))\n",
    "token_i = 0\n",
    "\n",
    "print (\"Number of hidden units:\", len(hidden_states[layer_i][batch_i][token_i]))"
   ]
  },
  {
   "cell_type": "code",
   "execution_count": 63,
   "metadata": {},
   "outputs": [
    {
     "data": {
      "image/png": "[encoded data removed]",
      "text/plain": [
       "<Figure size 360x360 with 1 Axes>"
      ]
     },
     "metadata": {
      "needs_background": "light"
     },
     "output_type": "display_data"
    },
    {
     "name": "stdout",
     "output_type": "stream",
     "text": [
      "time: 406 ms (started: 2021-05-18 00:06:04 +03:00)\n"
     ]
    }
   ],
   "source": [
    "# For the 5th token in our sentence, select its feature values from layer 5.\n",
    "token_i = 5\n",
    "layer_i = 5\n",
    "vec = hidden_states[layer_i][batch_i][token_i]\n",
    "\n",
    "# Plot the values as a histogram to show their distribution.\n",
    "plt.figure(figsize=(5,5))\n",
    "plt.hist(vec, bins=200)\n",
    "plt.show()"
   ]
  },
  {
   "cell_type": "code",
   "execution_count": 64,
   "metadata": {},
   "outputs": [
    {
     "name": "stdout",
     "output_type": "stream",
     "text": [
      "      Type of hidden_states:  <class 'tuple'>\n",
      "Tensor shape for each layer:  torch.Size([1, 15, 768])\n",
      "time: 0 ns (started: 2021-05-18 00:06:05 +03:00)\n"
     ]
    }
   ],
   "source": [
    "# `hidden_states` is a Python list.\n",
    "print('      Type of hidden_states: ', type(hidden_states))\n",
    "\n",
    "# Each layer in the list is a torch tensor.\n",
    "print('Tensor shape for each layer: ', hidden_states[0].size())"
   ]
  },
  {
   "cell_type": "code",
   "execution_count": 65,
   "metadata": {},
   "outputs": [
    {
     "data": {
      "text/plain": [
       "torch.Size([13, 1, 15, 768])"
      ]
     },
     "execution_count": 65,
     "metadata": {},
     "output_type": "execute_result"
    },
    {
     "name": "stdout",
     "output_type": "stream",
     "text": [
      "time: 0 ns (started: 2021-05-18 00:06:05 +03:00)\n"
     ]
    }
   ],
   "source": [
    "# Concatenate the tensors for all layers. We use `stack` here to\n",
    "# create a new dimension in the tensor.\n",
    "token_embeddings = torch.stack(hidden_states, dim=0)\n",
    "\n",
    "token_embeddings.size()"
   ]
  },
  {
   "cell_type": "code",
   "execution_count": 66,
   "metadata": {},
   "outputs": [
    {
     "data": {
      "text/plain": [
       "torch.Size([13, 15, 768])"
      ]
     },
     "execution_count": 66,
     "metadata": {},
     "output_type": "execute_result"
    },
    {
     "name": "stdout",
     "output_type": "stream",
     "text": [
      "time: 0 ns (started: 2021-05-18 00:06:05 +03:00)\n"
     ]
    }
   ],
   "source": [
    "# Remove dimension 1, the \"batches\".\n",
    "token_embeddings = torch.squeeze(token_embeddings, dim=1)\n",
    "\n",
    "token_embeddings.size()"
   ]
  },
  {
   "cell_type": "code",
   "execution_count": 67,
   "metadata": {},
   "outputs": [
    {
     "data": {
      "text/plain": [
       "torch.Size([15, 13, 768])"
      ]
     },
     "execution_count": 67,
     "metadata": {},
     "output_type": "execute_result"
    },
    {
     "name": "stdout",
     "output_type": "stream",
     "text": [
      "time: 0 ns (started: 2021-05-18 00:06:06 +03:00)\n"
     ]
    }
   ],
   "source": [
    "# Swap dimensions 0 and 1.\n",
    "token_embeddings = token_embeddings.permute(1,0,2)\n",
    "\n",
    "token_embeddings.size()"
   ]
  },
  {
   "cell_type": "markdown",
   "metadata": {},
   "source": [
    "## Word vectors"
   ]
  },
  {
   "cell_type": "markdown",
   "metadata": {},
   "source": [
    "To give you some examples, let’s create word vectors two ways.\n",
    "\n",
    "\n",
    "First, let’s <b>concatenate</b> the last four layers, giving us a single word vector per token. Each vector will have length `4 x 768 = 3,072`."
   ]
  },
  {
   "cell_type": "code",
   "execution_count": 68,
   "metadata": {},
   "outputs": [
    {
     "name": "stdout",
     "output_type": "stream",
     "text": [
      "Shape is: 15 x 3072\n",
      "time: 0 ns (started: 2021-05-18 00:06:07 +03:00)\n"
     ]
    }
   ],
   "source": [
    "# Stores the token vectors, with shape [22 x 3,072]\n",
    "token_vecs_cat = []\n",
    "\n",
    "# `token_embeddings` is a [22 x 12 x 768] tensor.\n",
    "\n",
    "# For each token in the sentence...\n",
    "for token in token_embeddings:\n",
    "    \n",
    "    # `token` is a [12 x 768] tensor\n",
    "\n",
    "    # Concatenate the vectors (that is, append them together) from the last \n",
    "    # four layers.\n",
    "    # Each layer vector is 768 values, so `cat_vec` is length 3,072.\n",
    "    cat_vec = torch.cat((token[-1], token[-2], token[-3], token[-4]), dim=0)\n",
    "    \n",
    "    # Use `cat_vec` to represent `token`.\n",
    "    token_vecs_cat.append(cat_vec)\n",
    "\n",
    "print ('Shape is: %d x %d' % (len(token_vecs_cat), len(token_vecs_cat[0])))"
   ]
  },
  {
   "cell_type": "code",
   "execution_count": null,
   "metadata": {},
   "outputs": [],
   "source": []
  },
  {
   "cell_type": "markdown",
   "metadata": {},
   "source": [
    "As an alternative method, let’s try creating the word vectors by <b>summing</b> together the last four layers."
   ]
  },
  {
   "cell_type": "code",
   "execution_count": 69,
   "metadata": {},
   "outputs": [
    {
     "name": "stdout",
     "output_type": "stream",
     "text": [
      "Shape is: 15 x 768\n",
      "time: 0 ns (started: 2021-05-18 00:06:08 +03:00)\n"
     ]
    }
   ],
   "source": [
    "# Stores the token vectors, with shape [22 x 768]\n",
    "token_vecs_sum = []\n",
    "\n",
    "# `token_embeddings` is a [22 x 12 x 768] tensor.\n",
    "\n",
    "# For each token in the sentence...\n",
    "for token in token_embeddings:\n",
    "\n",
    "    # `token` is a [12 x 768] tensor\n",
    "\n",
    "    # Sum the vectors from the last four layers.\n",
    "    sum_vec = torch.sum(token[-4:], dim=0)\n",
    "    \n",
    "    # Use `sum_vec` to represent `token`.\n",
    "    token_vecs_sum.append(sum_vec)\n",
    "\n",
    "print ('Shape is: %d x %d' % (len(token_vecs_sum), len(token_vecs_sum[0])))"
   ]
  },
  {
   "cell_type": "markdown",
   "metadata": {},
   "source": [
    "Посмотрим на вектора слова `замок`"
   ]
  },
  {
   "cell_type": "code",
   "execution_count": 70,
   "metadata": {},
   "outputs": [
    {
     "name": "stdout",
     "output_type": "stream",
     "text": [
      "0 [CLS]\n",
      "1 париж\n",
      "2 франци\n",
      "3 ##я\n",
      "4 москв\n",
      "5 ##а\n",
      "6 россия\n",
      "7 берлин\n",
      "8 герман\n",
      "9 ##ия\n",
      "10 афин\n",
      "11 ##ы\n",
      "12 гре\n",
      "13 ##ция\n",
      "14 [SEP]\n",
      "time: 0 ns (started: 2021-05-18 00:06:09 +03:00)\n"
     ]
    }
   ],
   "source": [
    "for i, token_str in enumerate(tokenized_text):\n",
    "  print (i, token_str)"
   ]
  },
  {
   "cell_type": "markdown",
   "metadata": {},
   "source": [
    "Айдишники пар: 1-3, 6-9, 11-13."
   ]
  },
  {
   "cell_type": "code",
   "execution_count": 21,
   "metadata": {
    "collapsed": true
   },
   "outputs": [
    {
     "ename": "IndexError",
     "evalue": "list index out of range",
     "output_type": "error",
     "traceback": [
      "\u001b[1;31m---------------------------------------------------------------------------\u001b[0m",
      "\u001b[1;31mIndexError\u001b[0m                                Traceback (most recent call last)",
      "\u001b[1;32m<ipython-input-21-8e241f01e676>\u001b[0m in \u001b[0;36m<module>\u001b[1;34m\u001b[0m\n\u001b[0;32m      7\u001b[0m \u001b[1;31m# Calculate the cosine similarity between the word bank\u001b[0m\u001b[1;33m\u001b[0m\u001b[1;33m\u001b[0m\u001b[1;33m\u001b[0m\u001b[0m\n\u001b[0;32m      8\u001b[0m \u001b[1;31m# in \"bank robber\" vs \"bank vault\" (same meaning).\u001b[0m\u001b[1;33m\u001b[0m\u001b[1;33m\u001b[0m\u001b[1;33m\u001b[0m\u001b[0m\n\u001b[1;32m----> 9\u001b[1;33m \u001b[0msame_bank\u001b[0m \u001b[1;33m=\u001b[0m \u001b[1;36m1\u001b[0m \u001b[1;33m-\u001b[0m \u001b[0mcosine\u001b[0m\u001b[1;33m(\u001b[0m\u001b[0mtoken_vecs_sum\u001b[0m\u001b[1;33m[\u001b[0m\u001b[1;36m10\u001b[0m\u001b[1;33m]\u001b[0m\u001b[1;33m,\u001b[0m \u001b[0mtoken_vecs_sum\u001b[0m\u001b[1;33m[\u001b[0m\u001b[1;36m42\u001b[0m\u001b[1;33m]\u001b[0m\u001b[1;33m)\u001b[0m\u001b[1;33m\u001b[0m\u001b[1;33m\u001b[0m\u001b[0m\n\u001b[0m\u001b[0;32m     10\u001b[0m \u001b[1;33m\u001b[0m\u001b[0m\n\u001b[0;32m     11\u001b[0m \u001b[0mdiff_bank2\u001b[0m \u001b[1;33m=\u001b[0m \u001b[1;36m1\u001b[0m \u001b[1;33m-\u001b[0m \u001b[0mcosine\u001b[0m\u001b[1;33m(\u001b[0m\u001b[0mtoken_vecs_sum\u001b[0m\u001b[1;33m[\u001b[0m\u001b[1;36m42\u001b[0m\u001b[1;33m]\u001b[0m\u001b[1;33m,\u001b[0m \u001b[0mtoken_vecs_sum\u001b[0m\u001b[1;33m[\u001b[0m\u001b[1;36m18\u001b[0m\u001b[1;33m]\u001b[0m\u001b[1;33m)\u001b[0m\u001b[1;33m\u001b[0m\u001b[1;33m\u001b[0m\u001b[0m\n",
      "\u001b[1;31mIndexError\u001b[0m: list index out of range"
     ]
    },
    {
     "name": "stdout",
     "output_type": "stream",
     "text": [
      "time: 906 ms (started: 2021-05-17 23:35:56 +03:00)\n"
     ]
    }
   ],
   "source": [
    "from scipy.spatial.distance import cosine\n",
    "\n",
    "# Calculate the cosine similarity between the word bank \n",
    "# in \"bank robber\" vs \"river bank\" (different meanings).\n",
    "diff_bank = 1 - cosine(token_vecs_sum[10], token_vecs_sum[18])\n",
    "\n",
    "# Calculate the cosine similarity between the word bank\n",
    "# in \"bank robber\" vs \"bank vault\" (same meaning).\n",
    "same_bank = 1 - cosine(token_vecs_sum[10], token_vecs_sum[42])\n",
    "\n",
    "diff_bank2 = 1 - cosine(token_vecs_sum[42], token_vecs_sum[18])\n",
    "\n",
    "print('Vector similarity for  *similar*  meanings:  %.2f' % same_bank)\n",
    "print('Vector similarity for *different* meanings:  %.2f' % diff_bank)\n",
    "print('Vector similarity for *different* meanings:  %.2f' % diff_bank2)"
   ]
  },
  {
   "cell_type": "code",
   "execution_count": null,
   "metadata": {},
   "outputs": [],
   "source": []
  },
  {
   "cell_type": "code",
   "execution_count": 22,
   "metadata": {},
   "outputs": [
    {
     "name": "stdout",
     "output_type": "stream",
     "text": [
      "time: 0 ns (started: 2021-05-17 23:36:03 +03:00)\n"
     ]
    }
   ],
   "source": [
    "paris_emb = token_embeddings[1][-1].numpy()\n",
    "france_emb = token_embeddings[3][-1].numpy()\n",
    "moscow_emb = token_embeddings[6][-1].numpy()\n",
    "russia_emb = token_embeddings[9][-1].numpy()\n",
    "berlin_emb = token_embeddings[11][-1].numpy()\n",
    "germany_emb = token_embeddings[13][-1].numpy()"
   ]
  },
  {
   "cell_type": "code",
   "execution_count": 23,
   "metadata": {},
   "outputs": [
    {
     "name": "stdout",
     "output_type": "stream",
     "text": [
      "time: 0 ns (started: 2021-05-17 23:36:06 +03:00)\n"
     ]
    }
   ],
   "source": [
    "paris_emb = token_vecs_sum[1].numpy()\n",
    "france_emb = token_vecs_sum[3].numpy()\n",
    "moscow_emb = token_vecs_sum[6].numpy()\n",
    "russia_emb = token_vecs_sum[9].numpy()\n",
    "berlin_emb = token_vecs_sum[11].numpy()\n",
    "germany_emb = token_vecs_sum[13].numpy()"
   ]
  },
  {
   "cell_type": "code",
   "execution_count": 24,
   "metadata": {},
   "outputs": [
    {
     "name": "stdout",
     "output_type": "stream",
     "text": [
      "time: 0 ns (started: 2021-05-17 23:36:13 +03:00)\n"
     ]
    }
   ],
   "source": [
    "test = pd.DataFrame()"
   ]
  },
  {
   "cell_type": "code",
   "execution_count": 25,
   "metadata": {
    "scrolled": true
   },
   "outputs": [
    {
     "name": "stdout",
     "output_type": "stream",
     "text": [
      "time: 31 ms (started: 2021-05-17 23:36:13 +03:00)\n"
     ]
    }
   ],
   "source": [
    "test = test.append(pd.Series(paris_emb),ignore_index=True)\n",
    "test = test.append(pd.Series(france_emb),ignore_index=True)\n",
    "test = test.append(pd.Series(moscow_emb),ignore_index=True)\n",
    "test = test.append(pd.Series(russia_emb),ignore_index=True)\n",
    "test = test.append(pd.Series(berlin_emb),ignore_index=True)\n",
    "test = test.append(pd.Series(germany_emb),ignore_index=True)"
   ]
  },
  {
   "cell_type": "code",
   "execution_count": 26,
   "metadata": {},
   "outputs": [
    {
     "data": {
      "text/html": [
       "<div>\n",
       "<style scoped>\n",
       "    .dataframe tbody tr th:only-of-type {\n",
       "        vertical-align: middle;\n",
       "    }\n",
       "\n",
       "    .dataframe tbody tr th {\n",
       "        vertical-align: top;\n",
       "    }\n",
       "\n",
       "    .dataframe thead th {\n",
       "        text-align: right;\n",
       "    }\n",
       "</style>\n",
       "<table border=\"1\" class=\"dataframe\">\n",
       "  <thead>\n",
       "    <tr style=\"text-align: right;\">\n",
       "      <th></th>\n",
       "      <th>0</th>\n",
       "      <th>1</th>\n",
       "      <th>2</th>\n",
       "      <th>3</th>\n",
       "      <th>4</th>\n",
       "      <th>5</th>\n",
       "      <th>6</th>\n",
       "      <th>7</th>\n",
       "      <th>8</th>\n",
       "      <th>9</th>\n",
       "      <th>...</th>\n",
       "      <th>758</th>\n",
       "      <th>759</th>\n",
       "      <th>760</th>\n",
       "      <th>761</th>\n",
       "      <th>762</th>\n",
       "      <th>763</th>\n",
       "      <th>764</th>\n",
       "      <th>765</th>\n",
       "      <th>766</th>\n",
       "      <th>767</th>\n",
       "    </tr>\n",
       "  </thead>\n",
       "  <tbody>\n",
       "    <tr>\n",
       "      <th>0</th>\n",
       "      <td>2.925426</td>\n",
       "      <td>-0.002606</td>\n",
       "      <td>0.257144</td>\n",
       "      <td>-0.918334</td>\n",
       "      <td>-1.226854</td>\n",
       "      <td>-1.323437</td>\n",
       "      <td>-2.341635</td>\n",
       "      <td>0.120667</td>\n",
       "      <td>3.695042</td>\n",
       "      <td>2.979430</td>\n",
       "      <td>...</td>\n",
       "      <td>2.048784</td>\n",
       "      <td>-1.854114</td>\n",
       "      <td>-0.839798</td>\n",
       "      <td>0.347925</td>\n",
       "      <td>0.526800</td>\n",
       "      <td>0.298551</td>\n",
       "      <td>0.532887</td>\n",
       "      <td>3.143254</td>\n",
       "      <td>2.136284</td>\n",
       "      <td>-0.850823</td>\n",
       "    </tr>\n",
       "    <tr>\n",
       "      <th>1</th>\n",
       "      <td>-3.632020</td>\n",
       "      <td>-0.292483</td>\n",
       "      <td>-3.434539</td>\n",
       "      <td>-0.488579</td>\n",
       "      <td>-3.161268</td>\n",
       "      <td>2.685164</td>\n",
       "      <td>3.160190</td>\n",
       "      <td>2.469864</td>\n",
       "      <td>0.184783</td>\n",
       "      <td>-4.445290</td>\n",
       "      <td>...</td>\n",
       "      <td>-1.580536</td>\n",
       "      <td>-3.723154</td>\n",
       "      <td>-2.356267</td>\n",
       "      <td>-2.446170</td>\n",
       "      <td>-4.773803</td>\n",
       "      <td>-0.115674</td>\n",
       "      <td>0.935889</td>\n",
       "      <td>2.759530</td>\n",
       "      <td>4.560506</td>\n",
       "      <td>0.553206</td>\n",
       "    </tr>\n",
       "    <tr>\n",
       "      <th>2</th>\n",
       "      <td>0.192118</td>\n",
       "      <td>-1.258762</td>\n",
       "      <td>-0.034926</td>\n",
       "      <td>-0.829414</td>\n",
       "      <td>0.965826</td>\n",
       "      <td>-1.846236</td>\n",
       "      <td>-3.569152</td>\n",
       "      <td>3.484209</td>\n",
       "      <td>5.934809</td>\n",
       "      <td>0.420880</td>\n",
       "      <td>...</td>\n",
       "      <td>-1.717127</td>\n",
       "      <td>-3.790481</td>\n",
       "      <td>-8.636160</td>\n",
       "      <td>-0.609554</td>\n",
       "      <td>-2.111256</td>\n",
       "      <td>-0.075144</td>\n",
       "      <td>-1.588392</td>\n",
       "      <td>2.339371</td>\n",
       "      <td>2.315036</td>\n",
       "      <td>2.791941</td>\n",
       "    </tr>\n",
       "    <tr>\n",
       "      <th>3</th>\n",
       "      <td>2.162953</td>\n",
       "      <td>-2.139005</td>\n",
       "      <td>0.729216</td>\n",
       "      <td>1.644079</td>\n",
       "      <td>-3.004846</td>\n",
       "      <td>-1.880883</td>\n",
       "      <td>-3.571829</td>\n",
       "      <td>2.122722</td>\n",
       "      <td>3.854790</td>\n",
       "      <td>4.685766</td>\n",
       "      <td>...</td>\n",
       "      <td>-2.334403</td>\n",
       "      <td>-1.577250</td>\n",
       "      <td>-1.690584</td>\n",
       "      <td>-0.422078</td>\n",
       "      <td>0.816165</td>\n",
       "      <td>0.027466</td>\n",
       "      <td>-3.026695</td>\n",
       "      <td>4.149204</td>\n",
       "      <td>1.945156</td>\n",
       "      <td>1.660638</td>\n",
       "    </tr>\n",
       "    <tr>\n",
       "      <th>4</th>\n",
       "      <td>2.838804</td>\n",
       "      <td>-0.619159</td>\n",
       "      <td>-0.583541</td>\n",
       "      <td>2.357701</td>\n",
       "      <td>-2.646415</td>\n",
       "      <td>-3.364686</td>\n",
       "      <td>-3.775199</td>\n",
       "      <td>3.184202</td>\n",
       "      <td>2.958174</td>\n",
       "      <td>1.742435</td>\n",
       "      <td>...</td>\n",
       "      <td>-1.998667</td>\n",
       "      <td>3.360175</td>\n",
       "      <td>-2.388501</td>\n",
       "      <td>-1.015291</td>\n",
       "      <td>0.462935</td>\n",
       "      <td>-2.815777</td>\n",
       "      <td>-3.372399</td>\n",
       "      <td>4.317580</td>\n",
       "      <td>3.731174</td>\n",
       "      <td>-0.431742</td>\n",
       "    </tr>\n",
       "    <tr>\n",
       "      <th>5</th>\n",
       "      <td>-0.060054</td>\n",
       "      <td>-2.802578</td>\n",
       "      <td>3.571707</td>\n",
       "      <td>0.707181</td>\n",
       "      <td>-3.271389</td>\n",
       "      <td>0.481395</td>\n",
       "      <td>-0.419576</td>\n",
       "      <td>1.030157</td>\n",
       "      <td>2.489732</td>\n",
       "      <td>6.633072</td>\n",
       "      <td>...</td>\n",
       "      <td>-3.909411</td>\n",
       "      <td>0.630305</td>\n",
       "      <td>-5.529424</td>\n",
       "      <td>-1.519608</td>\n",
       "      <td>1.847181</td>\n",
       "      <td>-2.900807</td>\n",
       "      <td>0.703231</td>\n",
       "      <td>4.039372</td>\n",
       "      <td>3.847372</td>\n",
       "      <td>-1.646594</td>\n",
       "    </tr>\n",
       "  </tbody>\n",
       "</table>\n",
       "<p>6 rows × 768 columns</p>\n",
       "</div>"
      ],
      "text/plain": [
       "        0         1         2         3         4         5         6    \\\n",
       "0  2.925426 -0.002606  0.257144 -0.918334 -1.226854 -1.323437 -2.341635   \n",
       "1 -3.632020 -0.292483 -3.434539 -0.488579 -3.161268  2.685164  3.160190   \n",
       "2  0.192118 -1.258762 -0.034926 -0.829414  0.965826 -1.846236 -3.569152   \n",
       "3  2.162953 -2.139005  0.729216  1.644079 -3.004846 -1.880883 -3.571829   \n",
       "4  2.838804 -0.619159 -0.583541  2.357701 -2.646415 -3.364686 -3.775199   \n",
       "5 -0.060054 -2.802578  3.571707  0.707181 -3.271389  0.481395 -0.419576   \n",
       "\n",
       "        7         8         9    ...       758       759       760       761  \\\n",
       "0  0.120667  3.695042  2.979430  ...  2.048784 -1.854114 -0.839798  0.347925   \n",
       "1  2.469864  0.184783 -4.445290  ... -1.580536 -3.723154 -2.356267 -2.446170   \n",
       "2  3.484209  5.934809  0.420880  ... -1.717127 -3.790481 -8.636160 -0.609554   \n",
       "3  2.122722  3.854790  4.685766  ... -2.334403 -1.577250 -1.690584 -0.422078   \n",
       "4  3.184202  2.958174  1.742435  ... -1.998667  3.360175 -2.388501 -1.015291   \n",
       "5  1.030157  2.489732  6.633072  ... -3.909411  0.630305 -5.529424 -1.519608   \n",
       "\n",
       "        762       763       764       765       766       767  \n",
       "0  0.526800  0.298551  0.532887  3.143254  2.136284 -0.850823  \n",
       "1 -4.773803 -0.115674  0.935889  2.759530  4.560506  0.553206  \n",
       "2 -2.111256 -0.075144 -1.588392  2.339371  2.315036  2.791941  \n",
       "3  0.816165  0.027466 -3.026695  4.149204  1.945156  1.660638  \n",
       "4  0.462935 -2.815777 -3.372399  4.317580  3.731174 -0.431742  \n",
       "5  1.847181 -2.900807  0.703231  4.039372  3.847372 -1.646594  \n",
       "\n",
       "[6 rows x 768 columns]"
      ]
     },
     "execution_count": 26,
     "metadata": {},
     "output_type": "execute_result"
    },
    {
     "name": "stdout",
     "output_type": "stream",
     "text": [
      "time: 31 ms (started: 2021-05-17 23:36:13 +03:00)\n"
     ]
    }
   ],
   "source": [
    "test"
   ]
  },
  {
   "cell_type": "code",
   "execution_count": 27,
   "metadata": {},
   "outputs": [
    {
     "data": {
      "text/plain": [
       "array([[ 30.879917 , -39.13547  ],\n",
       "       [ 38.65227  ,  39.73901  ],\n",
       "       [  8.95285  ,   6.313859 ],\n",
       "       [ -3.729065 , -18.64156  ],\n",
       "       [-36.91932  , -10.8382435],\n",
       "       [-37.83665  ,  22.562393 ]], dtype=float32)"
      ]
     },
     "execution_count": 27,
     "metadata": {},
     "output_type": "execute_result"
    },
    {
     "name": "stdout",
     "output_type": "stream",
     "text": [
      "time: 78 ms (started: 2021-05-17 23:36:14 +03:00)\n"
     ]
    }
   ],
   "source": [
    "pca = PCA(n_components=2)\n",
    "pca.fit_transform(test)"
   ]
  },
  {
   "cell_type": "code",
   "execution_count": 28,
   "metadata": {},
   "outputs": [
    {
     "name": "stdout",
     "output_type": "stream",
     "text": [
      "time: 15 ms (started: 2021-05-17 23:36:21 +03:00)\n"
     ]
    }
   ],
   "source": [
    "test = pca.fit_transform(test)"
   ]
  },
  {
   "cell_type": "code",
   "execution_count": 29,
   "metadata": {},
   "outputs": [
    {
     "name": "stdout",
     "output_type": "stream",
     "text": [
      "time: 0 ns (started: 2021-05-17 23:36:21 +03:00)\n"
     ]
    }
   ],
   "source": [
    "x = [row[0] for row in test]\n",
    "y = [row[1] for row in test]\n",
    "names = ['Париж', 'Франция', 'Москва', 'Россия', 'Берлин','Германия']"
   ]
  },
  {
   "cell_type": "code",
   "execution_count": null,
   "metadata": {},
   "outputs": [],
   "source": []
  },
  {
   "cell_type": "code",
   "execution_count": 30,
   "metadata": {},
   "outputs": [
    {
     "data": {
      "text/plain": [
       "<matplotlib.legend.Legend at 0x19ca952f3a0>"
      ]
     },
     "execution_count": 30,
     "metadata": {},
     "output_type": "execute_result"
    },
    {
     "data": {
      "image/png": "[encoded data removed]",
      "text/plain": [
       "<Figure size 432x288 with 1 Axes>"
      ]
     },
     "metadata": {
      "needs_background": "light"
     },
     "output_type": "display_data"
    },
    {
     "name": "stdout",
     "output_type": "stream",
     "text": [
      "time: 250 ms (started: 2021-05-17 23:36:21 +03:00)\n"
     ]
    }
   ],
   "source": [
    "plt.scatter(x,y)\n",
    "plt.plot([ 30.879972 , 38.652176 ],[ -39.135414  , 39.739037 ],label='Париж-Франция')\n",
    "plt.plot([ 8.952813 , -3.7290246 ],[ 6.3138723  , -18.641552 ],label='Москва-Россия')\n",
    "plt.plot([  -36.919296 , -37.836678 ],[ -10.8382845  , 22.562326 ],label='Берлин-Германия')\n",
    "plt.text(30.879972, -39.135414, 'Париж', fontsize=10)\n",
    "plt.text(8.952813, 6.3138723, 'Москва', fontsize=10)\n",
    "plt.text(-36.919296, -10.8382845, 'Берлин', fontsize=10)\n",
    "plt.title('Вектор - сумма последних 4 слоев эмбеддинга')\n",
    "plt.grid()\n",
    "plt.legend()"
   ]
  },
  {
   "cell_type": "code",
   "execution_count": 49,
   "metadata": {},
   "outputs": [
    {
     "data": {
      "image/png": "[encoded data removed]",
      "text/plain": [
       "<Figure size 432x288 with 1 Axes>"
      ]
     },
     "metadata": {
      "needs_background": "light"
     },
     "output_type": "display_data"
    },
    {
     "name": "stdout",
     "output_type": "stream",
     "text": [
      "time: 156 ms (started: 2021-05-17 21:52:47 +03:00)\n"
     ]
    }
   ],
   "source": [
    "plt.scatter(x,y)\n",
    "plt.plot([-19.364147 , -17.649271 ],[ -19.66722  , 22.915379 ])\n",
    "plt.plot([ -3.7027702 , 1.093362 ],[ 4.680455  , -9.721635 ])\n",
    "plt.plot([  18.819164 , 20.803669 ],[ -7.1852574  , 8.97827 ])\n",
    "plt.text(-19.364147, -19.66722, 'Париж', fontsize=10)\n",
    "plt.text(-3.7027702, 4.680455, 'Москва', fontsize=10)\n",
    "plt.text(18.819164, -7.1852574, 'Берлин', fontsize=10)\n",
    "plt.title('Вектор - concat последних 4 слоев эмбеддинга')\n",
    "plt.grid()"
   ]
  },
  {
   "cell_type": "code",
   "execution_count": null,
   "metadata": {},
   "outputs": [],
   "source": []
  },
  {
   "cell_type": "markdown",
   "metadata": {},
   "source": [
    "### Попробуем работает ли пропорциональная аналогия"
   ]
  },
  {
   "cell_type": "code",
   "execution_count": 31,
   "metadata": {},
   "outputs": [
    {
     "name": "stdout",
     "output_type": "stream",
     "text": [
      "time: 0 ns (started: 2021-05-17 23:36:26 +03:00)\n"
     ]
    }
   ],
   "source": [
    "paris_emb = token_vecs_sum[1].numpy()\n",
    "france_emb = token_vecs_sum[3].numpy()\n",
    "moscow_emb = token_vecs_sum[6].numpy()\n",
    "russia_emb = token_vecs_sum[9].numpy()\n",
    "berlin_emb = token_vecs_sum[11].numpy()\n",
    "germany_emb = token_vecs_sum[13].numpy()"
   ]
  },
  {
   "cell_type": "code",
   "execution_count": 32,
   "metadata": {},
   "outputs": [
    {
     "name": "stdout",
     "output_type": "stream",
     "text": [
      "герман\n",
      "Аналогия успешно найдена! Германия\n",
      "time: 0 ns (started: 2021-05-17 23:36:27 +03:00)\n"
     ]
    }
   ],
   "source": [
    "argmax = 0\n",
    "imax = 0\n",
    "\n",
    "for i in range(len(token_vecs_sum)):\n",
    "    \n",
    "    if (i not in [1,3,11,0,30]):\n",
    "        res = 1 - cosine(token_vecs_sum[i], (token_vecs_sum[3] - token_vecs_sum[1] + token_vecs_sum[11]))\n",
    "        \n",
    "        if (res > argmax):\n",
    "            argmax = res\n",
    "            imax = i\n",
    "            \n",
    "print(tokenized_text[imax])\n",
    "if (imax == 13):\n",
    "    print('Аналогия успешно найдена! Германия')"
   ]
  },
  {
   "cell_type": "code",
   "execution_count": 33,
   "metadata": {},
   "outputs": [
    {
     "name": "stdout",
     "output_type": "stream",
     "text": [
      "Правильный ответ - Париж\n",
      "россия\n",
      "time: 0 ns (started: 2021-05-17 23:36:28 +03:00)\n"
     ]
    }
   ],
   "source": [
    "argmax = 0\n",
    "imax = 0\n",
    "\n",
    "for i in range(len(token_vecs_sum)):\n",
    "    \n",
    "    if (i not in [3,11,13,0,30]):\n",
    "        res = 1 - cosine(token_vecs_sum[i], (token_vecs_sum[11] - token_vecs_sum[13] + token_vecs_sum[3]))\n",
    "        \n",
    "        if (res > argmax):\n",
    "            argmax = res\n",
    "            imax = i\n",
    "\n",
    "print('Правильный ответ - Париж')             \n",
    "print(tokenized_text[imax])"
   ]
  },
  {
   "cell_type": "code",
   "execution_count": 34,
   "metadata": {},
   "outputs": [
    {
     "name": "stdout",
     "output_type": "stream",
     "text": [
      "Правильный ответ - Москва\n",
      "париж\n",
      "time: 0 ns (started: 2021-05-17 23:36:29 +03:00)\n"
     ]
    }
   ],
   "source": [
    "argmax = 0\n",
    "imax = 0\n",
    "\n",
    "for i in range(len(token_vecs_sum)):\n",
    "    \n",
    "    if (i not in [9,11,13,0,30]):\n",
    "        res = 1 - cosine(token_vecs_sum[i], (token_vecs_sum[11] - token_vecs_sum[13] + token_vecs_sum[9]))\n",
    "        \n",
    "        if (res > argmax):\n",
    "            argmax = res\n",
    "            imax = i\n",
    "\n",
    "print('Правильный ответ - Москва')            \n",
    "print(tokenized_text[imax])"
   ]
  },
  {
   "cell_type": "code",
   "execution_count": 35,
   "metadata": {},
   "outputs": [
    {
     "name": "stdout",
     "output_type": "stream",
     "text": [
      "Правильный ответ - Париж\n",
      "париж\n",
      "time: 0 ns (started: 2021-05-17 23:36:32 +03:00)\n"
     ]
    }
   ],
   "source": [
    "argmax = 0\n",
    "imax = 0\n",
    "\n",
    "for i in range(len(token_vecs_sum)):\n",
    "    \n",
    "    if (i not in [9,6,3,0,30]):\n",
    "        res = 1 - cosine(token_vecs_sum[i], (token_vecs_sum[9] - token_vecs_sum[6] + token_vecs_sum[3]))\n",
    "        \n",
    "        if (res > argmax):\n",
    "            argmax = res\n",
    "            imax = i\n",
    "\n",
    "print('Правильный ответ - Париж')             \n",
    "print(tokenized_text[imax])"
   ]
  },
  {
   "cell_type": "code",
   "execution_count": null,
   "metadata": {},
   "outputs": [],
   "source": []
  },
  {
   "cell_type": "code",
   "execution_count": null,
   "metadata": {},
   "outputs": [],
   "source": []
  },
  {
   "cell_type": "code",
   "execution_count": null,
   "metadata": {},
   "outputs": [],
   "source": []
  },
  {
   "cell_type": "code",
   "execution_count": null,
   "metadata": {},
   "outputs": [],
   "source": []
  },
  {
   "cell_type": "code",
   "execution_count": null,
   "metadata": {},
   "outputs": [],
   "source": []
  },
  {
   "cell_type": "code",
   "execution_count": null,
   "metadata": {},
   "outputs": [],
   "source": []
  },
  {
   "cell_type": "code",
   "execution_count": null,
   "metadata": {},
   "outputs": [],
   "source": []
  },
  {
   "cell_type": "code",
   "execution_count": null,
   "metadata": {},
   "outputs": [],
   "source": []
  },
  {
   "cell_type": "code",
   "execution_count": null,
   "metadata": {},
   "outputs": [],
   "source": []
  },
  {
   "cell_type": "code",
   "execution_count": null,
   "metadata": {},
   "outputs": [],
   "source": []
  },
  {
   "cell_type": "code",
   "execution_count": null,
   "metadata": {},
   "outputs": [],
   "source": []
  },
  {
   "cell_type": "markdown",
   "metadata": {},
   "source": [
    "## Тестирую, что будет, если просто передать слова через пробел"
   ]
  },
  {
   "cell_type": "code",
   "execution_count": 19,
   "metadata": {},
   "outputs": [
    {
     "name": "stdout",
     "output_type": "stream",
     "text": [
      "time: 11.1 s (started: 2021-05-19 00:27:12 +03:00)\n"
     ]
    }
   ],
   "source": [
    "tokenizer = AutoTokenizer.from_pretrained(\"DeepPavlov/rubert-base-cased\")\n",
    "\n",
    "model = AutoModel.from_pretrained(\"DeepPavlov/rubert-base-cased\",output_hidden_states = True)"
   ]
  },
  {
   "cell_type": "code",
   "execution_count": 20,
   "metadata": {
    "scrolled": false
   },
   "outputs": [
    {
     "name": "stdout",
     "output_type": "stream",
     "text": [
      "[CLS]           101\n",
      "париж        25,095\n",
      "франци       53,481\n",
      "##я             878\n",
      "москв        60,718\n",
      "##а             626\n",
      "россия       13,813\n",
      "берлин       41,548\n",
      "герман       42,517\n",
      "##ия          1,577\n",
      "афин         44,113\n",
      "##ы             880\n",
      "гре          103,831\n",
      "##ция         3,364\n",
      "лонд         20,055\n",
      "##он          1,503\n",
      "англ          8,660\n",
      "##ия          1,577\n",
      "мадрид       35,512\n",
      "испан        14,805\n",
      "##ия          1,577\n",
      "[SEP]           102\n",
      "time: 593 ms (started: 2021-05-19 00:27:27 +03:00)\n"
     ]
    }
   ],
   "source": [
    "# Предложение с двумя понятиями слова \"замок\"\n",
    "#text1 = \"Париж, Франция, Москва, Россия, Берлин, Германия - что-то из этого страны, что-то - их столицы.\"\n",
    "\n",
    "text1 = \"Париж Франция Москва Россия Берлин Германия Афины Греция Лондон Англия Мадрид Испания\"\n",
    "\n",
    "text2 = \"Когда я был в Париже, я забирался на Эйфелеву башню.\"\n",
    "\n",
    "text3 = \"Оттуда очень красивый вид на ночной Париж.\"\n",
    "\n",
    "# Add the special tokens.\n",
    "marked_text = \"[CLS] \" + text1 + \" [SEP]\"\n",
    "\n",
    "# Split the sentence into tokens.\n",
    "tokenized_text = tokenizer.tokenize(marked_text)\n",
    "\n",
    "# Map the token strings to their vocabulary indeces.\n",
    "indexed_tokens = tokenizer.convert_tokens_to_ids(tokenized_text)\n",
    "\n",
    "# Display the words with their indeces.\n",
    "for tup in zip(tokenized_text, indexed_tokens):\n",
    "    print('{:<12} {:>6,}'.format(tup[0], tup[1]))"
   ]
  },
  {
   "cell_type": "code",
   "execution_count": 21,
   "metadata": {},
   "outputs": [
    {
     "name": "stdout",
     "output_type": "stream",
     "text": [
      "[1, 1, 1, 1, 1, 1, 1, 1, 1, 1, 1, 1, 1, 1, 1, 1, 1, 1, 1, 1, 1, 1]\n",
      "time: 0 ns (started: 2021-05-19 00:27:31 +03:00)\n"
     ]
    }
   ],
   "source": [
    "# Mark each of the 22 tokens as belonging to sentence \"1\".\n",
    "segments_ids = [1] * len(tokenized_text)\n",
    "\n",
    "print (segments_ids)"
   ]
  },
  {
   "cell_type": "code",
   "execution_count": 22,
   "metadata": {},
   "outputs": [
    {
     "name": "stdout",
     "output_type": "stream",
     "text": [
      "time: 0 ns (started: 2021-05-19 00:27:31 +03:00)\n"
     ]
    }
   ],
   "source": [
    "# Convert inputs to PyTorch tensors\n",
    "tokens_tensor = torch.tensor([indexed_tokens])\n",
    "segments_tensors = torch.tensor([segments_ids])"
   ]
  },
  {
   "cell_type": "code",
   "execution_count": 23,
   "metadata": {},
   "outputs": [
    {
     "data": {
      "text/plain": [
       "tensor([[   101,  25095,  53481,    878,  60718,    626,  13813,  41548,  42517,\n",
       "           1577,  44113,    880, 103831,   3364,  20055,   1503,   8660,   1577,\n",
       "          35512,  14805,   1577,    102]])"
      ]
     },
     "execution_count": 23,
     "metadata": {},
     "output_type": "execute_result"
    },
    {
     "name": "stdout",
     "output_type": "stream",
     "text": [
      "time: 563 ms (started: 2021-05-19 00:27:32 +03:00)\n"
     ]
    }
   ],
   "source": [
    "tokens_tensor"
   ]
  },
  {
   "cell_type": "code",
   "execution_count": 24,
   "metadata": {},
   "outputs": [
    {
     "data": {
      "text/plain": [
       "tensor([[1, 1, 1, 1, 1, 1, 1, 1, 1, 1, 1, 1, 1, 1, 1, 1, 1, 1, 1, 1, 1, 1]])"
      ]
     },
     "execution_count": 24,
     "metadata": {},
     "output_type": "execute_result"
    },
    {
     "name": "stdout",
     "output_type": "stream",
     "text": [
      "time: 0 ns (started: 2021-05-19 00:27:32 +03:00)\n"
     ]
    }
   ],
   "source": [
    "segments_tensors"
   ]
  },
  {
   "cell_type": "code",
   "execution_count": 25,
   "metadata": {},
   "outputs": [
    {
     "name": "stdout",
     "output_type": "stream",
     "text": [
      "time: 3.22 s (started: 2021-05-19 00:27:34 +03:00)\n"
     ]
    }
   ],
   "source": [
    "# Run the text through BERT, and collect all of the hidden states produced\n",
    "# from all 12 layers. \n",
    "with torch.no_grad():\n",
    "\n",
    "    outputs = model(tokens_tensor, segments_tensors)\n",
    "\n",
    "    # Evaluating the model will return a different number of objects based on \n",
    "    # how it's  configured in the `from_pretrained` call earlier. In this case, \n",
    "    # becase we set `output_hidden_states = True`, the third item will be the \n",
    "    # hidden states from all layers. See the documentation for more details:\n",
    "    # https://huggingface.co/transformers/model_doc/bert.html#bertmodel\n",
    "    hidden_states = outputs[2]"
   ]
  },
  {
   "cell_type": "code",
   "execution_count": 26,
   "metadata": {},
   "outputs": [
    {
     "data": {
      "text/plain": [
       "13"
      ]
     },
     "execution_count": 26,
     "metadata": {},
     "output_type": "execute_result"
    },
    {
     "name": "stdout",
     "output_type": "stream",
     "text": [
      "time: 0 ns (started: 2021-05-19 00:27:37 +03:00)\n"
     ]
    }
   ],
   "source": [
    "len(hidden_states)"
   ]
  },
  {
   "cell_type": "code",
   "execution_count": 27,
   "metadata": {},
   "outputs": [
    {
     "name": "stdout",
     "output_type": "stream",
     "text": [
      "Number of layers: 13   (initial embeddings + 12 BERT layers)\n",
      "Number of batches: 1\n",
      "Number of tokens: 22\n",
      "Number of hidden units: 768\n",
      "time: 0 ns (started: 2021-05-19 00:27:38 +03:00)\n"
     ]
    }
   ],
   "source": [
    "print (\"Number of layers:\", len(hidden_states), \"  (initial embeddings + 12 BERT layers)\")\n",
    "layer_i = 0\n",
    "\n",
    "print (\"Number of batches:\", len(hidden_states[layer_i]))\n",
    "batch_i = 0\n",
    "\n",
    "print (\"Number of tokens:\", len(hidden_states[layer_i][batch_i]))\n",
    "token_i = 0\n",
    "\n",
    "print (\"Number of hidden units:\", len(hidden_states[layer_i][batch_i][token_i]))"
   ]
  },
  {
   "cell_type": "code",
   "execution_count": 28,
   "metadata": {},
   "outputs": [
    {
     "data": {
      "image/png": "[encoded data removed]",
      "text/plain": [
       "<Figure size 360x360 with 1 Axes>"
      ]
     },
     "metadata": {
      "needs_background": "light"
     },
     "output_type": "display_data"
    },
    {
     "name": "stdout",
     "output_type": "stream",
     "text": [
      "time: 6.78 s (started: 2021-05-19 00:27:38 +03:00)\n"
     ]
    }
   ],
   "source": [
    "# For the 5th token in our sentence, select its feature values from layer 5.\n",
    "token_i = 5\n",
    "layer_i = 5\n",
    "vec = hidden_states[layer_i][batch_i][token_i]\n",
    "\n",
    "# Plot the values as a histogram to show their distribution.\n",
    "plt.figure(figsize=(5,5))\n",
    "plt.hist(vec, bins=200)\n",
    "plt.show()"
   ]
  },
  {
   "cell_type": "code",
   "execution_count": 29,
   "metadata": {},
   "outputs": [
    {
     "name": "stdout",
     "output_type": "stream",
     "text": [
      "      Type of hidden_states:  <class 'tuple'>\n",
      "Tensor shape for each layer:  torch.Size([1, 22, 768])\n",
      "time: 0 ns (started: 2021-05-19 00:27:44 +03:00)\n"
     ]
    }
   ],
   "source": [
    "# `hidden_states` is a Python list.\n",
    "print('      Type of hidden_states: ', type(hidden_states))\n",
    "\n",
    "# Each layer in the list is a torch tensor.\n",
    "print('Tensor shape for each layer: ', hidden_states[0].size())"
   ]
  },
  {
   "cell_type": "code",
   "execution_count": 30,
   "metadata": {},
   "outputs": [
    {
     "data": {
      "text/plain": [
       "torch.Size([13, 1, 22, 768])"
      ]
     },
     "execution_count": 30,
     "metadata": {},
     "output_type": "execute_result"
    },
    {
     "name": "stdout",
     "output_type": "stream",
     "text": [
      "time: 125 ms (started: 2021-05-19 00:27:44 +03:00)\n"
     ]
    }
   ],
   "source": [
    "# Concatenate the tensors for all layers. We use `stack` here to\n",
    "# create a new dimension in the tensor.\n",
    "token_embeddings = torch.stack(hidden_states, dim=0)\n",
    "\n",
    "token_embeddings.size()"
   ]
  },
  {
   "cell_type": "code",
   "execution_count": 31,
   "metadata": {},
   "outputs": [
    {
     "data": {
      "text/plain": [
       "torch.Size([13, 22, 768])"
      ]
     },
     "execution_count": 31,
     "metadata": {},
     "output_type": "execute_result"
    },
    {
     "name": "stdout",
     "output_type": "stream",
     "text": [
      "time: 15 ms (started: 2021-05-19 00:27:45 +03:00)\n"
     ]
    }
   ],
   "source": [
    "# Remove dimension 1, the \"batches\".\n",
    "token_embeddings = torch.squeeze(token_embeddings, dim=1)\n",
    "\n",
    "token_embeddings.size()"
   ]
  },
  {
   "cell_type": "code",
   "execution_count": 32,
   "metadata": {},
   "outputs": [
    {
     "data": {
      "text/plain": [
       "torch.Size([22, 13, 768])"
      ]
     },
     "execution_count": 32,
     "metadata": {},
     "output_type": "execute_result"
    },
    {
     "name": "stdout",
     "output_type": "stream",
     "text": [
      "time: 0 ns (started: 2021-05-19 00:27:45 +03:00)\n"
     ]
    }
   ],
   "source": [
    "# Swap dimensions 0 and 1.\n",
    "token_embeddings = token_embeddings.permute(1,0,2)\n",
    "\n",
    "token_embeddings.size()"
   ]
  },
  {
   "cell_type": "markdown",
   "metadata": {},
   "source": [
    "## Word vectors"
   ]
  },
  {
   "cell_type": "markdown",
   "metadata": {},
   "source": [
    "To give you some examples, let’s create word vectors two ways.\n",
    "\n",
    "\n",
    "First, let’s <b>concatenate</b> the last four layers, giving us a single word vector per token. Each vector will have length `4 x 768 = 3,072`."
   ]
  },
  {
   "cell_type": "code",
   "execution_count": 33,
   "metadata": {},
   "outputs": [
    {
     "name": "stdout",
     "output_type": "stream",
     "text": [
      "Shape is: 22 x 3072\n",
      "time: 47 ms (started: 2021-05-19 00:27:45 +03:00)\n"
     ]
    }
   ],
   "source": [
    "# Stores the token vectors, with shape [22 x 3,072]\n",
    "token_vecs_cat = []\n",
    "\n",
    "# `token_embeddings` is a [22 x 12 x 768] tensor.\n",
    "\n",
    "# For each token in the sentence...\n",
    "for token in token_embeddings:\n",
    "    \n",
    "    # `token` is a [12 x 768] tensor\n",
    "\n",
    "    # Concatenate the vectors (that is, append them together) from the last \n",
    "    # four layers.\n",
    "    # Each layer vector is 768 values, so `cat_vec` is length 3,072.\n",
    "    cat_vec = torch.cat((token[-1], token[-2], token[-3], token[-4]), dim=0)\n",
    "    \n",
    "    # Use `cat_vec` to represent `token`.\n",
    "    token_vecs_cat.append(cat_vec)\n",
    "\n",
    "print ('Shape is: %d x %d' % (len(token_vecs_cat), len(token_vecs_cat[0])))"
   ]
  },
  {
   "cell_type": "code",
   "execution_count": null,
   "metadata": {},
   "outputs": [],
   "source": []
  },
  {
   "cell_type": "markdown",
   "metadata": {},
   "source": [
    "As an alternative method, let’s try creating the word vectors by <b>summing</b> together the last four layers."
   ]
  },
  {
   "cell_type": "code",
   "execution_count": 34,
   "metadata": {},
   "outputs": [
    {
     "name": "stdout",
     "output_type": "stream",
     "text": [
      "Shape is: 22 x 768\n",
      "time: 32 ms (started: 2021-05-19 00:27:45 +03:00)\n"
     ]
    }
   ],
   "source": [
    "# Stores the token vectors, with shape [22 x 768]\n",
    "token_vecs_sum = []\n",
    "\n",
    "# `token_embeddings` is a [22 x 12 x 768] tensor.\n",
    "\n",
    "# For each token in the sentence...\n",
    "for token in token_embeddings:\n",
    "\n",
    "    # `token` is a [12 x 768] tensor\n",
    "\n",
    "    # Sum the vectors from the last four layers.\n",
    "    sum_vec = torch.sum(token[-4:], dim=0)\n",
    "    \n",
    "    # Use `sum_vec` to represent `token`.\n",
    "    token_vecs_sum.append(sum_vec)\n",
    "\n",
    "print ('Shape is: %d x %d' % (len(token_vecs_sum), len(token_vecs_sum[0])))"
   ]
  },
  {
   "cell_type": "markdown",
   "metadata": {},
   "source": [
    "Посмотрим на вектора слова `замок`"
   ]
  },
  {
   "cell_type": "code",
   "execution_count": 35,
   "metadata": {},
   "outputs": [
    {
     "name": "stdout",
     "output_type": "stream",
     "text": [
      "0 [CLS]\n",
      "1 париж\n",
      "2 франци\n",
      "3 ##я\n",
      "4 москв\n",
      "5 ##а\n",
      "6 россия\n",
      "7 берлин\n",
      "8 герман\n",
      "9 ##ия\n",
      "10 афин\n",
      "11 ##ы\n",
      "12 гре\n",
      "13 ##ция\n",
      "14 лонд\n",
      "15 ##он\n",
      "16 англ\n",
      "17 ##ия\n",
      "18 мадрид\n",
      "19 испан\n",
      "20 ##ия\n",
      "21 [SEP]\n",
      "time: 16 ms (started: 2021-05-19 00:27:45 +03:00)\n"
     ]
    }
   ],
   "source": [
    "for i, token_str in enumerate(tokenized_text):\n",
    "  print (i, token_str)"
   ]
  },
  {
   "cell_type": "markdown",
   "metadata": {},
   "source": [
    "Айдишники пар: 1-2, 4-6, 7-8, 10-12, 14-16, 18-19."
   ]
  },
  {
   "cell_type": "code",
   "execution_count": null,
   "metadata": {},
   "outputs": [],
   "source": []
  },
  {
   "cell_type": "code",
   "execution_count": 109,
   "metadata": {},
   "outputs": [
    {
     "name": "stdout",
     "output_type": "stream",
     "text": [
      "time: 0 ns (started: 2021-05-18 00:25:10 +03:00)\n"
     ]
    }
   ],
   "source": [
    "# а возьмем предпоследний\n",
    "\n",
    "paris_emb = token_embeddings[1][-2].numpy()\n",
    "france_emb = token_embeddings[2][-2].numpy()\n",
    "moscow_emb = token_embeddings[4][-2].numpy()\n",
    "russia_emb = token_embeddings[6][-2].numpy()\n",
    "berlin_emb = token_embeddings[7][-2].numpy()\n",
    "germany_emb = token_embeddings[8][-2].numpy()\n",
    "athens_emb = token_embeddings[10][-2].numpy()\n",
    "greece_emb = token_embeddings[12][-2].numpy() + token_embeddings[12][-2].numpy()"
   ]
  },
  {
   "cell_type": "code",
   "execution_count": 36,
   "metadata": {},
   "outputs": [
    {
     "name": "stdout",
     "output_type": "stream",
     "text": [
      "time: 0 ns (started: 2021-05-19 00:27:54 +03:00)\n"
     ]
    }
   ],
   "source": [
    "paris_emb = token_vecs_sum[1].numpy()\n",
    "france_emb = token_vecs_sum[2].numpy()\n",
    "moscow_emb = token_vecs_sum[4].numpy()\n",
    "russia_emb = token_vecs_sum[6].numpy()\n",
    "berlin_emb = token_vecs_sum[7].numpy()\n",
    "germany_emb = token_vecs_sum[8].numpy()\n",
    "athens_emb = token_vecs_sum[10].numpy()\n",
    "greece_emb = token_vecs_sum[12].numpy()\n",
    "#greece_emb = token_vecs_sum[12].numpy() + token_vecs_sum[13].numpy()\n",
    "london_emb = token_vecs_sum[14].numpy()\n",
    "england_emb = token_vecs_sum[16].numpy()\n",
    "madrid_emb = token_vecs_sum[18].numpy()\n",
    "spain_emb = token_vecs_sum[19].numpy()"
   ]
  },
  {
   "cell_type": "code",
   "execution_count": 37,
   "metadata": {},
   "outputs": [
    {
     "name": "stdout",
     "output_type": "stream",
     "text": [
      "time: 625 ms (started: 2021-05-19 00:27:56 +03:00)\n"
     ]
    }
   ],
   "source": [
    "test = pd.DataFrame()"
   ]
  },
  {
   "cell_type": "code",
   "execution_count": 38,
   "metadata": {
    "scrolled": true
   },
   "outputs": [
    {
     "name": "stdout",
     "output_type": "stream",
     "text": [
      "time: 766 ms (started: 2021-05-19 00:27:57 +03:00)\n"
     ]
    }
   ],
   "source": [
    "test = test.append(pd.Series(paris_emb),ignore_index=True)\n",
    "test = test.append(pd.Series(france_emb),ignore_index=True)\n",
    "test = test.append(pd.Series(moscow_emb),ignore_index=True)\n",
    "test = test.append(pd.Series(russia_emb),ignore_index=True)\n",
    "test = test.append(pd.Series(berlin_emb),ignore_index=True)\n",
    "test = test.append(pd.Series(germany_emb),ignore_index=True)\n",
    "test = test.append(pd.Series(athens_emb),ignore_index=True)\n",
    "test = test.append(pd.Series(greece_emb),ignore_index=True)\n",
    "test = test.append(pd.Series(london_emb),ignore_index=True)\n",
    "test = test.append(pd.Series(england_emb),ignore_index=True)\n",
    "test = test.append(pd.Series(madrid_emb),ignore_index=True)\n",
    "test = test.append(pd.Series(spain_emb),ignore_index=True)"
   ]
  },
  {
   "cell_type": "code",
   "execution_count": 39,
   "metadata": {},
   "outputs": [
    {
     "data": {
      "text/html": [
       "<div>\n",
       "<style scoped>\n",
       "    .dataframe tbody tr th:only-of-type {\n",
       "        vertical-align: middle;\n",
       "    }\n",
       "\n",
       "    .dataframe tbody tr th {\n",
       "        vertical-align: top;\n",
       "    }\n",
       "\n",
       "    .dataframe thead th {\n",
       "        text-align: right;\n",
       "    }\n",
       "</style>\n",
       "<table border=\"1\" class=\"dataframe\">\n",
       "  <thead>\n",
       "    <tr style=\"text-align: right;\">\n",
       "      <th></th>\n",
       "      <th>0</th>\n",
       "      <th>1</th>\n",
       "      <th>2</th>\n",
       "      <th>3</th>\n",
       "      <th>4</th>\n",
       "      <th>5</th>\n",
       "      <th>6</th>\n",
       "      <th>7</th>\n",
       "      <th>8</th>\n",
       "      <th>9</th>\n",
       "      <th>...</th>\n",
       "      <th>758</th>\n",
       "      <th>759</th>\n",
       "      <th>760</th>\n",
       "      <th>761</th>\n",
       "      <th>762</th>\n",
       "      <th>763</th>\n",
       "      <th>764</th>\n",
       "      <th>765</th>\n",
       "      <th>766</th>\n",
       "      <th>767</th>\n",
       "    </tr>\n",
       "  </thead>\n",
       "  <tbody>\n",
       "    <tr>\n",
       "      <th>0</th>\n",
       "      <td>-0.003114</td>\n",
       "      <td>-2.058001</td>\n",
       "      <td>-1.394311</td>\n",
       "      <td>0.121295</td>\n",
       "      <td>0.481300</td>\n",
       "      <td>-3.246455</td>\n",
       "      <td>-1.235075</td>\n",
       "      <td>-0.186147</td>\n",
       "      <td>0.808198</td>\n",
       "      <td>2.166018</td>\n",
       "      <td>...</td>\n",
       "      <td>-2.890276</td>\n",
       "      <td>-2.577757</td>\n",
       "      <td>-3.301895</td>\n",
       "      <td>1.102910</td>\n",
       "      <td>0.325077</td>\n",
       "      <td>0.737481</td>\n",
       "      <td>-3.034222</td>\n",
       "      <td>0.676974</td>\n",
       "      <td>1.861386</td>\n",
       "      <td>-2.576355</td>\n",
       "    </tr>\n",
       "    <tr>\n",
       "      <th>1</th>\n",
       "      <td>-0.736797</td>\n",
       "      <td>1.053958</td>\n",
       "      <td>-1.872405</td>\n",
       "      <td>0.089941</td>\n",
       "      <td>2.680049</td>\n",
       "      <td>1.168334</td>\n",
       "      <td>-0.619913</td>\n",
       "      <td>0.025099</td>\n",
       "      <td>-0.016552</td>\n",
       "      <td>-0.350928</td>\n",
       "      <td>...</td>\n",
       "      <td>-0.657748</td>\n",
       "      <td>-1.897073</td>\n",
       "      <td>-1.382324</td>\n",
       "      <td>0.721138</td>\n",
       "      <td>-2.237031</td>\n",
       "      <td>1.139206</td>\n",
       "      <td>-1.238804</td>\n",
       "      <td>2.343306</td>\n",
       "      <td>1.912787</td>\n",
       "      <td>-2.816941</td>\n",
       "    </tr>\n",
       "    <tr>\n",
       "      <th>2</th>\n",
       "      <td>-2.028959</td>\n",
       "      <td>-0.159111</td>\n",
       "      <td>-1.674458</td>\n",
       "      <td>0.642370</td>\n",
       "      <td>3.422942</td>\n",
       "      <td>0.188494</td>\n",
       "      <td>-0.981709</td>\n",
       "      <td>2.635972</td>\n",
       "      <td>6.301226</td>\n",
       "      <td>1.055593</td>\n",
       "      <td>...</td>\n",
       "      <td>-1.232975</td>\n",
       "      <td>-5.201823</td>\n",
       "      <td>-8.846484</td>\n",
       "      <td>0.055697</td>\n",
       "      <td>0.609739</td>\n",
       "      <td>-0.041781</td>\n",
       "      <td>-3.461908</td>\n",
       "      <td>3.483282</td>\n",
       "      <td>1.828532</td>\n",
       "      <td>0.291707</td>\n",
       "    </tr>\n",
       "    <tr>\n",
       "      <th>3</th>\n",
       "      <td>-1.605073</td>\n",
       "      <td>0.737740</td>\n",
       "      <td>-0.758754</td>\n",
       "      <td>1.793325</td>\n",
       "      <td>1.093732</td>\n",
       "      <td>2.617974</td>\n",
       "      <td>-0.795928</td>\n",
       "      <td>-0.460808</td>\n",
       "      <td>2.374045</td>\n",
       "      <td>-0.489695</td>\n",
       "      <td>...</td>\n",
       "      <td>-1.880772</td>\n",
       "      <td>-1.139619</td>\n",
       "      <td>-1.952205</td>\n",
       "      <td>1.105665</td>\n",
       "      <td>2.290243</td>\n",
       "      <td>3.387191</td>\n",
       "      <td>-1.443761</td>\n",
       "      <td>4.199044</td>\n",
       "      <td>1.107644</td>\n",
       "      <td>-1.328255</td>\n",
       "    </tr>\n",
       "    <tr>\n",
       "      <th>4</th>\n",
       "      <td>2.473841</td>\n",
       "      <td>0.027713</td>\n",
       "      <td>-1.386068</td>\n",
       "      <td>-1.255533</td>\n",
       "      <td>1.863845</td>\n",
       "      <td>-1.261865</td>\n",
       "      <td>-1.837558</td>\n",
       "      <td>-1.990492</td>\n",
       "      <td>-1.407757</td>\n",
       "      <td>-1.843037</td>\n",
       "      <td>...</td>\n",
       "      <td>-3.439919</td>\n",
       "      <td>0.747018</td>\n",
       "      <td>-4.045298</td>\n",
       "      <td>1.762781</td>\n",
       "      <td>1.774979</td>\n",
       "      <td>0.832239</td>\n",
       "      <td>-2.686106</td>\n",
       "      <td>4.528450</td>\n",
       "      <td>2.822947</td>\n",
       "      <td>-2.331383</td>\n",
       "    </tr>\n",
       "    <tr>\n",
       "      <th>5</th>\n",
       "      <td>0.955934</td>\n",
       "      <td>-0.692006</td>\n",
       "      <td>3.026168</td>\n",
       "      <td>-1.257527</td>\n",
       "      <td>0.829290</td>\n",
       "      <td>2.476984</td>\n",
       "      <td>-1.960615</td>\n",
       "      <td>-0.146613</td>\n",
       "      <td>2.261358</td>\n",
       "      <td>3.023014</td>\n",
       "      <td>...</td>\n",
       "      <td>-3.254135</td>\n",
       "      <td>-0.114003</td>\n",
       "      <td>-8.019578</td>\n",
       "      <td>0.905147</td>\n",
       "      <td>2.179380</td>\n",
       "      <td>-1.133929</td>\n",
       "      <td>-1.279347</td>\n",
       "      <td>5.666100</td>\n",
       "      <td>2.520435</td>\n",
       "      <td>0.111071</td>\n",
       "    </tr>\n",
       "    <tr>\n",
       "      <th>6</th>\n",
       "      <td>-0.929565</td>\n",
       "      <td>-1.762680</td>\n",
       "      <td>-1.073046</td>\n",
       "      <td>-0.229176</td>\n",
       "      <td>1.906949</td>\n",
       "      <td>-1.126096</td>\n",
       "      <td>-1.736734</td>\n",
       "      <td>-1.605492</td>\n",
       "      <td>4.262747</td>\n",
       "      <td>2.260285</td>\n",
       "      <td>...</td>\n",
       "      <td>-3.197547</td>\n",
       "      <td>-3.784966</td>\n",
       "      <td>-5.040825</td>\n",
       "      <td>1.408026</td>\n",
       "      <td>2.647895</td>\n",
       "      <td>-1.416710</td>\n",
       "      <td>-2.120019</td>\n",
       "      <td>3.456564</td>\n",
       "      <td>2.346672</td>\n",
       "      <td>1.706025</td>\n",
       "    </tr>\n",
       "    <tr>\n",
       "      <th>7</th>\n",
       "      <td>0.198675</td>\n",
       "      <td>-2.381216</td>\n",
       "      <td>-1.512520</td>\n",
       "      <td>-1.023841</td>\n",
       "      <td>-1.717209</td>\n",
       "      <td>2.308709</td>\n",
       "      <td>-1.834813</td>\n",
       "      <td>0.459084</td>\n",
       "      <td>1.178109</td>\n",
       "      <td>1.582245</td>\n",
       "      <td>...</td>\n",
       "      <td>-0.087142</td>\n",
       "      <td>-0.614625</td>\n",
       "      <td>-4.257168</td>\n",
       "      <td>4.386248</td>\n",
       "      <td>-0.880887</td>\n",
       "      <td>0.802092</td>\n",
       "      <td>1.299619</td>\n",
       "      <td>0.757023</td>\n",
       "      <td>1.295540</td>\n",
       "      <td>-3.391660</td>\n",
       "    </tr>\n",
       "    <tr>\n",
       "      <th>8</th>\n",
       "      <td>0.120019</td>\n",
       "      <td>-0.720249</td>\n",
       "      <td>-1.626442</td>\n",
       "      <td>-0.907965</td>\n",
       "      <td>4.172873</td>\n",
       "      <td>-2.351714</td>\n",
       "      <td>0.557654</td>\n",
       "      <td>-1.415269</td>\n",
       "      <td>1.794093</td>\n",
       "      <td>3.812435</td>\n",
       "      <td>...</td>\n",
       "      <td>0.376172</td>\n",
       "      <td>1.879353</td>\n",
       "      <td>-7.262979</td>\n",
       "      <td>1.159599</td>\n",
       "      <td>2.803829</td>\n",
       "      <td>0.895356</td>\n",
       "      <td>0.965803</td>\n",
       "      <td>0.759411</td>\n",
       "      <td>-0.482064</td>\n",
       "      <td>-0.524331</td>\n",
       "    </tr>\n",
       "    <tr>\n",
       "      <th>9</th>\n",
       "      <td>0.133684</td>\n",
       "      <td>0.390715</td>\n",
       "      <td>1.008427</td>\n",
       "      <td>-1.782830</td>\n",
       "      <td>1.859775</td>\n",
       "      <td>-0.469254</td>\n",
       "      <td>-3.527579</td>\n",
       "      <td>1.430483</td>\n",
       "      <td>1.626101</td>\n",
       "      <td>4.431969</td>\n",
       "      <td>...</td>\n",
       "      <td>-2.675090</td>\n",
       "      <td>-1.694160</td>\n",
       "      <td>-6.058403</td>\n",
       "      <td>-1.410010</td>\n",
       "      <td>2.552769</td>\n",
       "      <td>-0.550392</td>\n",
       "      <td>-3.237615</td>\n",
       "      <td>4.454701</td>\n",
       "      <td>2.439511</td>\n",
       "      <td>-0.723678</td>\n",
       "    </tr>\n",
       "    <tr>\n",
       "      <th>10</th>\n",
       "      <td>2.028387</td>\n",
       "      <td>0.517285</td>\n",
       "      <td>-0.427971</td>\n",
       "      <td>0.024570</td>\n",
       "      <td>5.275527</td>\n",
       "      <td>1.780190</td>\n",
       "      <td>-2.193593</td>\n",
       "      <td>2.251490</td>\n",
       "      <td>2.701794</td>\n",
       "      <td>1.783108</td>\n",
       "      <td>...</td>\n",
       "      <td>-1.100659</td>\n",
       "      <td>-2.550209</td>\n",
       "      <td>-3.224966</td>\n",
       "      <td>2.572051</td>\n",
       "      <td>1.513741</td>\n",
       "      <td>0.286751</td>\n",
       "      <td>-1.590368</td>\n",
       "      <td>1.298829</td>\n",
       "      <td>1.555979</td>\n",
       "      <td>-2.415012</td>\n",
       "    </tr>\n",
       "    <tr>\n",
       "      <th>11</th>\n",
       "      <td>1.621301</td>\n",
       "      <td>0.704323</td>\n",
       "      <td>-0.242810</td>\n",
       "      <td>0.091607</td>\n",
       "      <td>2.359733</td>\n",
       "      <td>2.640874</td>\n",
       "      <td>-3.541652</td>\n",
       "      <td>1.671101</td>\n",
       "      <td>1.829761</td>\n",
       "      <td>4.852383</td>\n",
       "      <td>...</td>\n",
       "      <td>-1.349330</td>\n",
       "      <td>-1.329838</td>\n",
       "      <td>-2.163257</td>\n",
       "      <td>0.396714</td>\n",
       "      <td>1.678036</td>\n",
       "      <td>-2.438580</td>\n",
       "      <td>-4.465724</td>\n",
       "      <td>2.948602</td>\n",
       "      <td>3.711176</td>\n",
       "      <td>0.018715</td>\n",
       "    </tr>\n",
       "  </tbody>\n",
       "</table>\n",
       "<p>12 rows × 768 columns</p>\n",
       "</div>"
      ],
      "text/plain": [
       "         0         1         2         3         4         5         6    \\\n",
       "0  -0.003114 -2.058001 -1.394311  0.121295  0.481300 -3.246455 -1.235075   \n",
       "1  -0.736797  1.053958 -1.872405  0.089941  2.680049  1.168334 -0.619913   \n",
       "2  -2.028959 -0.159111 -1.674458  0.642370  3.422942  0.188494 -0.981709   \n",
       "3  -1.605073  0.737740 -0.758754  1.793325  1.093732  2.617974 -0.795928   \n",
       "4   2.473841  0.027713 -1.386068 -1.255533  1.863845 -1.261865 -1.837558   \n",
       "5   0.955934 -0.692006  3.026168 -1.257527  0.829290  2.476984 -1.960615   \n",
       "6  -0.929565 -1.762680 -1.073046 -0.229176  1.906949 -1.126096 -1.736734   \n",
       "7   0.198675 -2.381216 -1.512520 -1.023841 -1.717209  2.308709 -1.834813   \n",
       "8   0.120019 -0.720249 -1.626442 -0.907965  4.172873 -2.351714  0.557654   \n",
       "9   0.133684  0.390715  1.008427 -1.782830  1.859775 -0.469254 -3.527579   \n",
       "10  2.028387  0.517285 -0.427971  0.024570  5.275527  1.780190 -2.193593   \n",
       "11  1.621301  0.704323 -0.242810  0.091607  2.359733  2.640874 -3.541652   \n",
       "\n",
       "         7         8         9    ...       758       759       760       761  \\\n",
       "0  -0.186147  0.808198  2.166018  ... -2.890276 -2.577757 -3.301895  1.102910   \n",
       "1   0.025099 -0.016552 -0.350928  ... -0.657748 -1.897073 -1.382324  0.721138   \n",
       "2   2.635972  6.301226  1.055593  ... -1.232975 -5.201823 -8.846484  0.055697   \n",
       "3  -0.460808  2.374045 -0.489695  ... -1.880772 -1.139619 -1.952205  1.105665   \n",
       "4  -1.990492 -1.407757 -1.843037  ... -3.439919  0.747018 -4.045298  1.762781   \n",
       "5  -0.146613  2.261358  3.023014  ... -3.254135 -0.114003 -8.019578  0.905147   \n",
       "6  -1.605492  4.262747  2.260285  ... -3.197547 -3.784966 -5.040825  1.408026   \n",
       "7   0.459084  1.178109  1.582245  ... -0.087142 -0.614625 -4.257168  4.386248   \n",
       "8  -1.415269  1.794093  3.812435  ...  0.376172  1.879353 -7.262979  1.159599   \n",
       "9   1.430483  1.626101  4.431969  ... -2.675090 -1.694160 -6.058403 -1.410010   \n",
       "10  2.251490  2.701794  1.783108  ... -1.100659 -2.550209 -3.224966  2.572051   \n",
       "11  1.671101  1.829761  4.852383  ... -1.349330 -1.329838 -2.163257  0.396714   \n",
       "\n",
       "         762       763       764       765       766       767  \n",
       "0   0.325077  0.737481 -3.034222  0.676974  1.861386 -2.576355  \n",
       "1  -2.237031  1.139206 -1.238804  2.343306  1.912787 -2.816941  \n",
       "2   0.609739 -0.041781 -3.461908  3.483282  1.828532  0.291707  \n",
       "3   2.290243  3.387191 -1.443761  4.199044  1.107644 -1.328255  \n",
       "4   1.774979  0.832239 -2.686106  4.528450  2.822947 -2.331383  \n",
       "5   2.179380 -1.133929 -1.279347  5.666100  2.520435  0.111071  \n",
       "6   2.647895 -1.416710 -2.120019  3.456564  2.346672  1.706025  \n",
       "7  -0.880887  0.802092  1.299619  0.757023  1.295540 -3.391660  \n",
       "8   2.803829  0.895356  0.965803  0.759411 -0.482064 -0.524331  \n",
       "9   2.552769 -0.550392 -3.237615  4.454701  2.439511 -0.723678  \n",
       "10  1.513741  0.286751 -1.590368  1.298829  1.555979 -2.415012  \n",
       "11  1.678036 -2.438580 -4.465724  2.948602  3.711176  0.018715  \n",
       "\n",
       "[12 rows x 768 columns]"
      ]
     },
     "execution_count": 39,
     "metadata": {},
     "output_type": "execute_result"
    },
    {
     "name": "stdout",
     "output_type": "stream",
     "text": [
      "time: 750 ms (started: 2021-05-19 00:27:57 +03:00)\n"
     ]
    }
   ],
   "source": [
    "test"
   ]
  },
  {
   "cell_type": "code",
   "execution_count": 40,
   "metadata": {},
   "outputs": [
    {
     "data": {
      "text/plain": [
       "array([[-30.203781  ,  -3.6722746 ],\n",
       "       [-15.262738  , -35.195965  ],\n",
       "       [-24.184164  , -16.006832  ],\n",
       "       [-29.568815  ,  14.122827  ],\n",
       "       [-17.419361  ,  21.73815   ],\n",
       "       [ 17.067547  , -15.833472  ],\n",
       "       [  0.23184536,  -0.7182147 ],\n",
       "       [  8.450757  ,  -1.3241204 ],\n",
       "       [  6.6486306 ,  10.514126  ],\n",
       "       [ 34.264526  ,  -6.955546  ],\n",
       "       [ 11.102631  ,  39.056942  ],\n",
       "       [ 38.872894  ,  -5.725602  ]], dtype=float32)"
      ]
     },
     "execution_count": 40,
     "metadata": {},
     "output_type": "execute_result"
    },
    {
     "name": "stdout",
     "output_type": "stream",
     "text": [
      "time: 1.06 s (started: 2021-05-19 00:27:59 +03:00)\n"
     ]
    }
   ],
   "source": [
    "pca = PCA(n_components=2)\n",
    "pca.fit_transform(test)"
   ]
  },
  {
   "cell_type": "code",
   "execution_count": 41,
   "metadata": {},
   "outputs": [
    {
     "name": "stdout",
     "output_type": "stream",
     "text": [
      "time: 16 ms (started: 2021-05-19 00:28:04 +03:00)\n"
     ]
    }
   ],
   "source": [
    "test = pca.fit_transform(test)"
   ]
  },
  {
   "cell_type": "code",
   "execution_count": 42,
   "metadata": {},
   "outputs": [
    {
     "name": "stdout",
     "output_type": "stream",
     "text": [
      "time: 15 ms (started: 2021-05-19 00:28:04 +03:00)\n"
     ]
    }
   ],
   "source": [
    "x = [row[0] for row in test]\n",
    "y = [row[1] for row in test]\n",
    "names = ['Париж', 'Франция', 'Москва', 'Россия', 'Берлин','Германия', 'Афины','Греция',\n",
    "        'Лондон','A','Мадрид','И']"
   ]
  },
  {
   "cell_type": "code",
   "execution_count": 166,
   "metadata": {},
   "outputs": [
    {
     "name": "stdout",
     "output_type": "stream",
     "text": [
      "time: 0 ns (started: 2021-05-18 00:40:31 +03:00)\n"
     ]
    }
   ],
   "source": [
    "analogies=['Париж-Франция', 'Москва-Россия', 'Берлин-Германия', 'Афины-Греция']"
   ]
  },
  {
   "cell_type": "code",
   "execution_count": 45,
   "metadata": {},
   "outputs": [
    {
     "name": "stdout",
     "output_type": "stream",
     "text": [
      "time: 0 ns (started: 2021-05-19 00:29:00 +03:00)\n"
     ]
    }
   ],
   "source": [
    "idxes = (0,2,4,6,8,10)"
   ]
  },
  {
   "cell_type": "code",
   "execution_count": 55,
   "metadata": {},
   "outputs": [
    {
     "data": {
      "text/plain": [
       "Text(0, 0.5, 'Координата y (RuBERT)')"
      ]
     },
     "execution_count": 55,
     "metadata": {},
     "output_type": "execute_result"
    },
    {
     "data": {
      "image/png": "[encoded data removed]",
      "text/plain": [
       "<Figure size 576x432 with 1 Axes>"
      ]
     },
     "metadata": {
      "needs_background": "light"
     },
     "output_type": "display_data"
    },
    {
     "name": "stdout",
     "output_type": "stream",
     "text": [
      "time: 234 ms (started: 2021-05-19 00:35:57 +03:00)\n"
     ]
    }
   ],
   "source": [
    "plt.figure(figsize=(8,6))\n",
    "\n",
    "plt.scatter(x,y)\n",
    "for i in idxes:\n",
    "    plt.plot([test[i][0],test[i+1][0]], [test[i][1], test[i+1][1]], label=names[i])\n",
    "\n",
    "    \n",
    "    \n",
    "plt.text(-15.262738  , -35.195965, 'Франция', fontsize=10)\n",
    "plt.text(-30.203781  ,  -3.6722746, 'Париж', fontsize=10)\n",
    "plt.text(-29.568815  ,  14.122827, 'Россия', fontsize=10)\n",
    "plt.text(-24.184164  , -16.006832, 'Москва', fontsize=10)\n",
    "plt.text(17.067547  , -15.833472, 'Германия', fontsize=10)\n",
    "plt.text(-17.419361  ,  21.73815, 'Берлин', fontsize=10)\n",
    "plt.text(38.872894  ,  -5.725602, 'Испания', fontsize=10)\n",
    "plt.text(11.102631  ,  39.056942, 'Мадрид', fontsize=10)\n",
    "plt.text(8.450757  ,  -1.3241204, 'Греция', fontsize=10)\n",
    "plt.text(0.23184536,  -0.7182147, 'Афины', fontsize=10)\n",
    "plt.text(34.264526  ,  -6.955546, 'Англия', fontsize=10)\n",
    "plt.text(6.6486306 ,  10.514126, 'Лондон', fontsize=10)\n",
    "plt.title('Проекция категории \"Известная столица мира - страна\"')\n",
    "#plt.grid()\n",
    "plt.xlabel('Координата х (RuBERT)')\n",
    "plt.ylabel('Координата y (RuBERT)')\n",
    "\n",
    "#plt.grid()\n",
    "#plt.legend()"
   ]
  },
  {
   "cell_type": "markdown",
   "metadata": {},
   "source": [
    "Айдишники пар: 1-2, 4-6, 7-8, 10-12, 14-16, 18-19."
   ]
  },
  {
   "cell_type": "code",
   "execution_count": 174,
   "metadata": {},
   "outputs": [
    {
     "data": {
      "text/plain": [
       "22"
      ]
     },
     "execution_count": 174,
     "metadata": {},
     "output_type": "execute_result"
    },
    {
     "name": "stdout",
     "output_type": "stream",
     "text": [
      "time: 0 ns (started: 2021-05-18 00:54:46 +03:00)\n"
     ]
    }
   ],
   "source": [
    "len(token_vecs_sum)"
   ]
  },
  {
   "cell_type": "code",
   "execution_count": 52,
   "metadata": {},
   "outputs": [
    {
     "name": "stdout",
     "output_type": "stream",
     "text": [
      "Looking for Париж\n",
      "\n",
      "москв - россия + франци\n",
      "True argmax =  0.5486891269683838\n",
      "Найденное слово  париж\n",
      "0.5486891269683838\n",
      "\n",
      "берлин - герман + франци\n",
      "True argmax =  0.6306568384170532\n",
      "Найденное слово  ##я\n",
      "0.6472331881523132\n",
      "\n",
      "афин - гре + франци\n",
      "True argmax =  0.5188661813735962\n",
      "Найденное слово  москв\n",
      "0.6425675749778748\n",
      "\n",
      "лонд - англ + франци\n",
      "True argmax =  0.6301726698875427\n",
      "Найденное слово  париж\n",
      "0.6301726698875427\n",
      "\n",
      "мадрид - испан + франци\n",
      "True argmax =  0.6278064250946045\n",
      "Найденное слово  ##я\n",
      "0.6624007821083069\n",
      "\n",
      "time: 63 ms (started: 2021-05-19 00:34:31 +03:00)\n"
     ]
    }
   ],
   "source": [
    "#argmax = 0\n",
    "#imax = 0\n",
    "\n",
    "word_1 = [4,7,10,14,18]\n",
    "word_2 = [6,8,12,16,19]\n",
    "\n",
    "print('Looking for Париж\\n')\n",
    "for i in range(len(word_1)):\n",
    "    print(tokenized_text[word_1[i]], '-', \n",
    "          tokenized_text[word_2[i]], '+', tokenized_text[2])\n",
    "    \n",
    "    argmax = 0\n",
    "    imax = 0\n",
    "    for word_id in range(len(token_vecs_sum)):\n",
    "        \n",
    "        if (word_id not in [word_1[i],word_2[i],2,0,21]):\n",
    "            res = 1 - cosine(token_vecs_sum[word_id], (token_vecs_sum[word_1[i]] - token_vecs_sum[word_2[i]] + token_vecs_sum[2]))\n",
    "        \n",
    "            if (res > argmax):\n",
    "                argmax = res\n",
    "                imax = word_id\n",
    "    \n",
    "    true_res = 1 - cosine(token_vecs_sum[1], (token_vecs_sum[word_1[i]] - token_vecs_sum[word_2[i]] + token_vecs_sum[2]))\n",
    "    print('True argmax = ', true_res)\n",
    "    \n",
    "    print('Найденное слово ', tokenized_text[imax])\n",
    "    print(argmax)\n",
    "    print('')\n",
    "                \n"
   ]
  },
  {
   "cell_type": "code",
   "execution_count": 53,
   "metadata": {},
   "outputs": [
    {
     "name": "stdout",
     "output_type": "stream",
     "text": [
      "Looking for Берлин\n",
      "\n",
      "москв - россия + герман\n",
      "True argmax =  0.5028237104415894\n",
      "Найденное слово  англ\n",
      "0.6704373955726624\n",
      "\n",
      "париж - франци + герман\n",
      "True argmax =  0.6480290293693542\n",
      "Найденное слово  берлин\n",
      "0.6480290293693542\n",
      "\n",
      "афин - гре + герман\n",
      "True argmax =  0.6163378357887268\n",
      "Найденное слово  англ\n",
      "0.6185653209686279\n",
      "\n",
      "лонд - англ + герман\n",
      "True argmax =  0.6861370801925659\n",
      "Найденное слово  афин\n",
      "0.7090265154838562\n",
      "\n",
      "мадрид - испан + герман\n",
      "True argmax =  0.7918646931648254\n",
      "Найденное слово  берлин\n",
      "0.7918646931648254\n",
      "\n",
      "time: 31 ms (started: 2021-05-19 00:34:32 +03:00)\n"
     ]
    }
   ],
   "source": [
    "#argmax = 0\n",
    "#imax = 0\n",
    "\n",
    "word_1 = [4,1,10,14,18]\n",
    "word_2 = [6,2,12,16,19]\n",
    "\n",
    "print('Looking for Берлин\\n')\n",
    "for i in range(len(word_1)):\n",
    "    print(tokenized_text[word_1[i]], '-', \n",
    "          tokenized_text[word_2[i]], '+', tokenized_text[8])\n",
    "    \n",
    "    argmax = 0\n",
    "    imax = 0\n",
    "    for word_id in range(len(token_vecs_sum)):\n",
    "        \n",
    "        if (word_id not in [word_1[i],word_2[i],8,0,21]):\n",
    "            res = 1 - cosine(token_vecs_sum[word_id], (token_vecs_sum[word_1[i]] - token_vecs_sum[word_2[i]] + token_vecs_sum[8]))\n",
    "        \n",
    "            if (res > argmax):\n",
    "                argmax = res\n",
    "                imax = word_id\n",
    "    \n",
    "    true_res = 1 - cosine(token_vecs_sum[7], (token_vecs_sum[word_1[i]] - token_vecs_sum[word_2[i]] + token_vecs_sum[8]))\n",
    "    print('True argmax = ', true_res)\n",
    "    \n",
    "    print('Найденное слово ', tokenized_text[imax])\n",
    "    print(argmax)\n",
    "    print('')"
   ]
  },
  {
   "cell_type": "code",
   "execution_count": 54,
   "metadata": {},
   "outputs": [
    {
     "name": "stdout",
     "output_type": "stream",
     "text": [
      "Looking for Мадрид\n",
      "\n",
      "москв - россия + испан\n",
      "True argmax =  0.5163750648498535\n",
      "Найденное слово  англ\n",
      "0.7250609993934631\n",
      "\n",
      "париж - франци + испан\n",
      "True argmax =  0.6556596755981445\n",
      "Найденное слово  англ\n",
      "0.6784156560897827\n",
      "\n",
      "афин - гре + испан\n",
      "True argmax =  0.6154543161392212\n",
      "Найденное слово  англ\n",
      "0.6988268494606018\n",
      "\n",
      "лонд - англ + испан\n",
      "True argmax =  0.6692520976066589\n",
      "Найденное слово  афин\n",
      "0.6709465980529785\n",
      "\n",
      "берлин - герман + испан\n",
      "True argmax =  0.7918150424957275\n",
      "Найденное слово  мадрид\n",
      "0.7918150424957275\n",
      "\n",
      "time: 16 ms (started: 2021-05-19 00:34:32 +03:00)\n"
     ]
    }
   ],
   "source": [
    "#argmax = 0\n",
    "#imax = 0\n",
    "\n",
    "word_1 = [4,1,10,14,7]\n",
    "word_2 = [6,2,12,16,8]\n",
    "\n",
    "print('Looking for Мадрид\\n')\n",
    "for i in range(len(word_1)):\n",
    "    print(tokenized_text[word_1[i]], '-', \n",
    "          tokenized_text[word_2[i]], '+', tokenized_text[19])\n",
    "    \n",
    "    argmax = 0\n",
    "    imax = 0\n",
    "    for word_id in range(len(token_vecs_sum)):\n",
    "        \n",
    "        if (word_id not in [word_1[i],word_2[i],19,0,21]):\n",
    "            res = 1 - cosine(token_vecs_sum[word_id], (token_vecs_sum[word_1[i]] - token_vecs_sum[word_2[i]] + token_vecs_sum[19]))\n",
    "        \n",
    "            if (res > argmax):\n",
    "                argmax = res\n",
    "                imax = word_id\n",
    "    \n",
    "    true_res = 1 - cosine(token_vecs_sum[18], (token_vecs_sum[word_1[i]] - token_vecs_sum[word_2[i]] + token_vecs_sum[19]))\n",
    "    print('True argmax = ', true_res)\n",
    "    \n",
    "    print('Найденное слово ', tokenized_text[imax])\n",
    "    print(argmax)\n",
    "    print('')"
   ]
  },
  {
   "cell_type": "code",
   "execution_count": null,
   "metadata": {},
   "outputs": [],
   "source": []
  },
  {
   "cell_type": "code",
   "execution_count": null,
   "metadata": {},
   "outputs": [],
   "source": []
  },
  {
   "cell_type": "code",
   "execution_count": null,
   "metadata": {},
   "outputs": [],
   "source": []
  },
  {
   "cell_type": "code",
   "execution_count": null,
   "metadata": {},
   "outputs": [],
   "source": []
  }
 ],
 "metadata": {
  "kernelspec": {
   "display_name": "Python 3",
   "language": "python",
   "name": "python3"
  },
  "language_info": {
   "codemirror_mode": {
    "name": "ipython",
    "version": 3
   },
   "file_extension": ".py",
   "mimetype": "text/x-python",
   "name": "python",
   "nbconvert_exporter": "python",
   "pygments_lexer": "ipython3",
   "version": "3.8.3"
  }
 },
 "nbformat": 4,
 "nbformat_minor": 4
}
