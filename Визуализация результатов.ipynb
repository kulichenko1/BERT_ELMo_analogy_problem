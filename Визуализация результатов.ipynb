{
 "cells": [
  {
   "cell_type": "code",
   "execution_count": 1,
   "metadata": {},
   "outputs": [
    {
     "name": "stdout",
     "output_type": "stream",
     "text": [
      "time: 0 ns (started: 2021-05-22 16:43:21 +03:00)\n"
     ]
    }
   ],
   "source": [
    "from transformers import AutoTokenizer, AutoModel\n",
    "\n",
    "from sklearn.decomposition import PCA\n",
    "\n",
    "import torch\n",
    "\n",
    "import matplotlib.pyplot as plt\n",
    "from scipy.spatial.distance import cosine\n",
    "import pandas as pd\n",
    "import numpy as np\n",
    "import re\n",
    "import seaborn as sns\n",
    "\n",
    "%load_ext autotime"
   ]
  },
  {
   "cell_type": "code",
   "execution_count": null,
   "metadata": {},
   "outputs": [],
   "source": []
  },
  {
   "cell_type": "code",
   "execution_count": 88,
   "metadata": {},
   "outputs": [
    {
     "data": {
      "text/html": [
       "<div>\n",
       "<style scoped>\n",
       "    .dataframe tbody tr th:only-of-type {\n",
       "        vertical-align: middle;\n",
       "    }\n",
       "\n",
       "    .dataframe tbody tr th {\n",
       "        vertical-align: top;\n",
       "    }\n",
       "\n",
       "    .dataframe thead th {\n",
       "        text-align: right;\n",
       "    }\n",
       "</style>\n",
       "<table border=\"1\" class=\"dataframe\">\n",
       "  <thead>\n",
       "    <tr style=\"text-align: right;\">\n",
       "      <th></th>\n",
       "      <th>A1</th>\n",
       "      <th>A2</th>\n",
       "      <th>A3</th>\n",
       "      <th>A4</th>\n",
       "      <th>A5</th>\n",
       "      <th>A6</th>\n",
       "      <th>A7</th>\n",
       "      <th>A8</th>\n",
       "      <th>A9</th>\n",
       "      <th>A10</th>\n",
       "      <th>A11</th>\n",
       "      <th>A12</th>\n",
       "      <th>A13</th>\n",
       "    </tr>\n",
       "  </thead>\n",
       "  <tbody>\n",
       "    <tr>\n",
       "      <th>RuBERT</th>\n",
       "      <td>0.65</td>\n",
       "      <td>0.76</td>\n",
       "      <td>0.20</td>\n",
       "      <td>0.33</td>\n",
       "      <td>0.97</td>\n",
       "      <td>0.78</td>\n",
       "      <td>0.81</td>\n",
       "      <td>0.69</td>\n",
       "      <td>0.89</td>\n",
       "      <td>0.42</td>\n",
       "      <td>0.52</td>\n",
       "      <td>0.13</td>\n",
       "      <td>0.04</td>\n",
       "    </tr>\n",
       "    <tr>\n",
       "      <th>RuBERT Sentence</th>\n",
       "      <td>0.66</td>\n",
       "      <td>0.86</td>\n",
       "      <td>0.29</td>\n",
       "      <td>0.43</td>\n",
       "      <td>0.99</td>\n",
       "      <td>0.91</td>\n",
       "      <td>0.97</td>\n",
       "      <td>0.83</td>\n",
       "      <td>0.96</td>\n",
       "      <td>0.73</td>\n",
       "      <td>0.60</td>\n",
       "      <td>0.27</td>\n",
       "      <td>0.05</td>\n",
       "    </tr>\n",
       "    <tr>\n",
       "      <th>RuBERT Conversational</th>\n",
       "      <td>0.57</td>\n",
       "      <td>0.63</td>\n",
       "      <td>0.10</td>\n",
       "      <td>0.18</td>\n",
       "      <td>0.98</td>\n",
       "      <td>0.80</td>\n",
       "      <td>0.71</td>\n",
       "      <td>0.62</td>\n",
       "      <td>0.88</td>\n",
       "      <td>0.40</td>\n",
       "      <td>0.26</td>\n",
       "      <td>0.16</td>\n",
       "      <td>0.04</td>\n",
       "    </tr>\n",
       "  </tbody>\n",
       "</table>\n",
       "</div>"
      ],
      "text/plain": [
       "                         A1    A2    A3    A4    A5    A6    A7    A8    A9  \\\n",
       "RuBERT                 0.65  0.76  0.20  0.33  0.97  0.78  0.81  0.69  0.89   \n",
       "RuBERT Sentence        0.66  0.86  0.29  0.43  0.99  0.91  0.97  0.83  0.96   \n",
       "RuBERT Conversational  0.57  0.63  0.10  0.18  0.98  0.80  0.71  0.62  0.88   \n",
       "\n",
       "                        A10   A11   A12   A13  \n",
       "RuBERT                 0.42  0.52  0.13  0.04  \n",
       "RuBERT Sentence        0.73  0.60  0.27  0.05  \n",
       "RuBERT Conversational  0.40  0.26  0.16  0.04  "
      ]
     },
     "execution_count": 88,
     "metadata": {},
     "output_type": "execute_result"
    },
    {
     "name": "stdout",
     "output_type": "stream",
     "text": [
      "time: 16 ms (started: 2021-05-22 15:08:44 +03:00)\n"
     ]
    }
   ],
   "source": [
    "BERT_3CosAdd = pd.read_csv('bert_results_3CosAdd', sep='\\t')\n",
    "\n",
    "BERT_3CosAdd.index = list(BERT_3CosAdd['Unnamed: 0'])\n",
    "\n",
    "BERT_3CosAdd = BERT_3CosAdd.drop(columns=['Unnamed: 0'])\n",
    "\n",
    "column_list = ['A1','A2','A3','A4', 'A5','A6','A7','A8','A9','A10','A11','A12','A13']\n",
    "BERT_3CosAdd.columns = column_list\n",
    "\n",
    "BERT_3CosAdd"
   ]
  },
  {
   "cell_type": "code",
   "execution_count": 89,
   "metadata": {
    "scrolled": true
   },
   "outputs": [
    {
     "data": {
      "text/html": [
       "<div>\n",
       "<style scoped>\n",
       "    .dataframe tbody tr th:only-of-type {\n",
       "        vertical-align: middle;\n",
       "    }\n",
       "\n",
       "    .dataframe tbody tr th {\n",
       "        vertical-align: top;\n",
       "    }\n",
       "\n",
       "    .dataframe thead th {\n",
       "        text-align: right;\n",
       "    }\n",
       "</style>\n",
       "<table border=\"1\" class=\"dataframe\">\n",
       "  <thead>\n",
       "    <tr style=\"text-align: right;\">\n",
       "      <th></th>\n",
       "      <th>A1</th>\n",
       "      <th>A2</th>\n",
       "      <th>A3</th>\n",
       "      <th>A4</th>\n",
       "      <th>A5</th>\n",
       "      <th>A6</th>\n",
       "      <th>A7</th>\n",
       "      <th>A8</th>\n",
       "      <th>A9</th>\n",
       "      <th>A10</th>\n",
       "      <th>A11</th>\n",
       "      <th>A12</th>\n",
       "      <th>A13</th>\n",
       "    </tr>\n",
       "  </thead>\n",
       "  <tbody>\n",
       "    <tr>\n",
       "      <th>RuBERT</th>\n",
       "      <td>0.81</td>\n",
       "      <td>0.83</td>\n",
       "      <td>0.31</td>\n",
       "      <td>0.44</td>\n",
       "      <td>0.99</td>\n",
       "      <td>0.95</td>\n",
       "      <td>0.98</td>\n",
       "      <td>0.80</td>\n",
       "      <td>0.97</td>\n",
       "      <td>0.63</td>\n",
       "      <td>0.80</td>\n",
       "      <td>0.09</td>\n",
       "      <td>0.04</td>\n",
       "    </tr>\n",
       "    <tr>\n",
       "      <th>RuBERT Sentence</th>\n",
       "      <td>0.85</td>\n",
       "      <td>0.98</td>\n",
       "      <td>0.31</td>\n",
       "      <td>0.52</td>\n",
       "      <td>1.00</td>\n",
       "      <td>0.98</td>\n",
       "      <td>1.00</td>\n",
       "      <td>0.89</td>\n",
       "      <td>1.00</td>\n",
       "      <td>0.83</td>\n",
       "      <td>0.84</td>\n",
       "      <td>0.39</td>\n",
       "      <td>0.04</td>\n",
       "    </tr>\n",
       "    <tr>\n",
       "      <th>RuBERT Conversational</th>\n",
       "      <td>0.93</td>\n",
       "      <td>0.78</td>\n",
       "      <td>0.15</td>\n",
       "      <td>0.33</td>\n",
       "      <td>1.00</td>\n",
       "      <td>0.93</td>\n",
       "      <td>0.78</td>\n",
       "      <td>0.71</td>\n",
       "      <td>0.97</td>\n",
       "      <td>0.63</td>\n",
       "      <td>0.28</td>\n",
       "      <td>0.26</td>\n",
       "      <td>0.04</td>\n",
       "    </tr>\n",
       "  </tbody>\n",
       "</table>\n",
       "</div>"
      ],
      "text/plain": [
       "                         A1    A2    A3    A4    A5    A6    A7    A8    A9  \\\n",
       "RuBERT                 0.81  0.83  0.31  0.44  0.99  0.95  0.98  0.80  0.97   \n",
       "RuBERT Sentence        0.85  0.98  0.31  0.52  1.00  0.98  1.00  0.89  1.00   \n",
       "RuBERT Conversational  0.93  0.78  0.15  0.33  1.00  0.93  0.78  0.71  0.97   \n",
       "\n",
       "                        A10   A11   A12   A13  \n",
       "RuBERT                 0.63  0.80  0.09  0.04  \n",
       "RuBERT Sentence        0.83  0.84  0.39  0.04  \n",
       "RuBERT Conversational  0.63  0.28  0.26  0.04  "
      ]
     },
     "execution_count": 89,
     "metadata": {},
     "output_type": "execute_result"
    },
    {
     "name": "stdout",
     "output_type": "stream",
     "text": [
      "time: 15 ms (started: 2021-05-22 15:08:44 +03:00)\n"
     ]
    }
   ],
   "source": [
    "BERT_3CosAvg = pd.read_csv('bert_results_3CosAvg', sep='\\t')\n",
    "\n",
    "BERT_3CosAvg.index = list(BERT_3CosAvg['Unnamed: 0'])\n",
    "\n",
    "BERT_3CosAvg = BERT_3CosAvg.drop(columns=['Unnamed: 0'])\n",
    "\n",
    "column_list = ['A1','A2','A3','A4', 'A5','A6','A7','A8','A9','A10','A11','A12','A13']\n",
    "BERT_3CosAvg.columns = column_list\n",
    "\n",
    "BERT_3CosAvg"
   ]
  },
  {
   "cell_type": "code",
   "execution_count": null,
   "metadata": {},
   "outputs": [],
   "source": []
  },
  {
   "cell_type": "code",
   "execution_count": 90,
   "metadata": {},
   "outputs": [
    {
     "data": {
      "text/html": [
       "<div>\n",
       "<style scoped>\n",
       "    .dataframe tbody tr th:only-of-type {\n",
       "        vertical-align: middle;\n",
       "    }\n",
       "\n",
       "    .dataframe tbody tr th {\n",
       "        vertical-align: top;\n",
       "    }\n",
       "\n",
       "    .dataframe thead th {\n",
       "        text-align: right;\n",
       "    }\n",
       "</style>\n",
       "<table border=\"1\" class=\"dataframe\">\n",
       "  <thead>\n",
       "    <tr style=\"text-align: right;\">\n",
       "      <th></th>\n",
       "      <th>A1</th>\n",
       "      <th>A2</th>\n",
       "      <th>A3</th>\n",
       "      <th>A4</th>\n",
       "      <th>A5</th>\n",
       "      <th>A6</th>\n",
       "      <th>A7</th>\n",
       "      <th>A8</th>\n",
       "      <th>A9</th>\n",
       "      <th>A10</th>\n",
       "      <th>A11</th>\n",
       "      <th>A12</th>\n",
       "      <th>A13</th>\n",
       "    </tr>\n",
       "  </thead>\n",
       "  <tbody>\n",
       "    <tr>\n",
       "      <th>ELMo Ru News</th>\n",
       "      <td>0.905350</td>\n",
       "      <td>0.594884</td>\n",
       "      <td>0.174556</td>\n",
       "      <td>0.451303</td>\n",
       "      <td>0.9879</td>\n",
       "      <td>0.903699</td>\n",
       "      <td>0.980826</td>\n",
       "      <td>0.942149</td>\n",
       "      <td>0.940299</td>\n",
       "      <td>0.965556</td>\n",
       "      <td>0.8784</td>\n",
       "      <td>0.379962</td>\n",
       "      <td>0.142684</td>\n",
       "    </tr>\n",
       "    <tr>\n",
       "      <th>ELMo Ru Wiki</th>\n",
       "      <td>0.891632</td>\n",
       "      <td>0.668650</td>\n",
       "      <td>0.213018</td>\n",
       "      <td>0.517147</td>\n",
       "      <td>0.9835</td>\n",
       "      <td>0.965561</td>\n",
       "      <td>0.973554</td>\n",
       "      <td>0.962975</td>\n",
       "      <td>0.937625</td>\n",
       "      <td>0.966667</td>\n",
       "      <td>0.8464</td>\n",
       "      <td>0.561437</td>\n",
       "      <td>0.167637</td>\n",
       "    </tr>\n",
       "    <tr>\n",
       "      <th>ELMo Ru Twitter</th>\n",
       "      <td>0.946502</td>\n",
       "      <td>0.711481</td>\n",
       "      <td>0.146450</td>\n",
       "      <td>0.418381</td>\n",
       "      <td>0.9895</td>\n",
       "      <td>0.953444</td>\n",
       "      <td>0.962645</td>\n",
       "      <td>0.931240</td>\n",
       "      <td>0.950100</td>\n",
       "      <td>0.966667</td>\n",
       "      <td>0.9584</td>\n",
       "      <td>0.393195</td>\n",
       "      <td>0.077429</td>\n",
       "    </tr>\n",
       "  </tbody>\n",
       "</table>\n",
       "</div>"
      ],
      "text/plain": [
       "                       A1        A2        A3        A4      A5        A6  \\\n",
       "ELMo Ru News     0.905350  0.594884  0.174556  0.451303  0.9879  0.903699   \n",
       "ELMo Ru Wiki     0.891632  0.668650  0.213018  0.517147  0.9835  0.965561   \n",
       "ELMo Ru Twitter  0.946502  0.711481  0.146450  0.418381  0.9895  0.953444   \n",
       "\n",
       "                       A7        A8        A9       A10     A11       A12  \\\n",
       "ELMo Ru News     0.980826  0.942149  0.940299  0.965556  0.8784  0.379962   \n",
       "ELMo Ru Wiki     0.973554  0.962975  0.937625  0.966667  0.8464  0.561437   \n",
       "ELMo Ru Twitter  0.962645  0.931240  0.950100  0.966667  0.9584  0.393195   \n",
       "\n",
       "                      A13  \n",
       "ELMo Ru News     0.142684  \n",
       "ELMo Ru Wiki     0.167637  \n",
       "ELMo Ru Twitter  0.077429  "
      ]
     },
     "execution_count": 90,
     "metadata": {},
     "output_type": "execute_result"
    },
    {
     "name": "stdout",
     "output_type": "stream",
     "text": [
      "time: 31 ms (started: 2021-05-22 15:08:55 +03:00)\n"
     ]
    }
   ],
   "source": [
    "elmo_ru_news_scores_3CosAdd = pd.read_csv('elmo_ru_news_3CosAdd_results', sep='\\t')\n",
    "elmo_ru_news_scores_3CosAdd = elmo_ru_news_scores_3CosAdd.drop(columns=['Unnamed: 0']).T\n",
    "elmo_ru_wiki_scores_3CosAdd = pd.read_csv('elmo_ru_wiki_3CosAdd_results', sep='\\t')\n",
    "elmo_ru_wiki_scores_3CosAdd = elmo_ru_wiki_scores_3CosAdd.drop(columns=['Unnamed: 0']).T\n",
    "elmo_ru_twitter_scores_3CosAdd = pd.read_csv('elmo_ru_twitter_3CosAdd_results', sep='\\t')\n",
    "elmo_ru_twitter_scores_3CosAdd = elmo_ru_twitter_scores_3CosAdd.drop(columns=['Unnamed: 0']).T\n",
    "\n",
    "ELMo_3CosAdd = pd.DataFrame()\n",
    "\n",
    "ELMo_3CosAdd = ELMo_3CosAdd.append(elmo_ru_news_scores_3CosAdd,ignore_index=True)\n",
    "ELMo_3CosAdd = ELMo_3CosAdd.append(elmo_ru_wiki_scores_3CosAdd,ignore_index=True)\n",
    "ELMo_3CosAdd = ELMo_3CosAdd.append(elmo_ru_twitter_scores_3CosAdd,ignore_index=True)\n",
    "\n",
    "ELMo_model_list = ['ELMo Ru News', 'ELMo Ru Wiki', 'ELMo Ru Twitter']\n",
    "column_list = ['A1','A2','A3','A4', 'A5','A6','A7','A8','A9','A10','A11','A12','A13']\n",
    "\n",
    "\n",
    "ELMo_3CosAdd.columns = column_list\n",
    "ELMo_3CosAdd.index = ELMo_model_list\n",
    "\n",
    "ELMo_3CosAdd"
   ]
  },
  {
   "cell_type": "code",
   "execution_count": null,
   "metadata": {},
   "outputs": [],
   "source": []
  },
  {
   "cell_type": "code",
   "execution_count": 91,
   "metadata": {},
   "outputs": [
    {
     "data": {
      "text/html": [
       "<div>\n",
       "<style scoped>\n",
       "    .dataframe tbody tr th:only-of-type {\n",
       "        vertical-align: middle;\n",
       "    }\n",
       "\n",
       "    .dataframe tbody tr th {\n",
       "        vertical-align: top;\n",
       "    }\n",
       "\n",
       "    .dataframe thead th {\n",
       "        text-align: right;\n",
       "    }\n",
       "</style>\n",
       "<table border=\"1\" class=\"dataframe\">\n",
       "  <thead>\n",
       "    <tr style=\"text-align: right;\">\n",
       "      <th></th>\n",
       "      <th>A1</th>\n",
       "      <th>A2</th>\n",
       "      <th>A3</th>\n",
       "      <th>A4</th>\n",
       "      <th>A5</th>\n",
       "      <th>A6</th>\n",
       "      <th>A7</th>\n",
       "      <th>A8</th>\n",
       "      <th>A9</th>\n",
       "      <th>A10</th>\n",
       "      <th>A11</th>\n",
       "      <th>A12</th>\n",
       "      <th>A13</th>\n",
       "    </tr>\n",
       "  </thead>\n",
       "  <tbody>\n",
       "    <tr>\n",
       "      <th>ELMo Ru News</th>\n",
       "      <td>0.962963</td>\n",
       "      <td>0.682927</td>\n",
       "      <td>0.192308</td>\n",
       "      <td>0.703704</td>\n",
       "      <td>1.00</td>\n",
       "      <td>0.946429</td>\n",
       "      <td>1.0</td>\n",
       "      <td>1.000000</td>\n",
       "      <td>0.955224</td>\n",
       "      <td>1.0</td>\n",
       "      <td>0.92</td>\n",
       "      <td>0.565217</td>\n",
       "      <td>0.243478</td>\n",
       "    </tr>\n",
       "    <tr>\n",
       "      <th>ELMo Ru Wiki</th>\n",
       "      <td>0.925926</td>\n",
       "      <td>0.756098</td>\n",
       "      <td>0.269231</td>\n",
       "      <td>0.592593</td>\n",
       "      <td>0.99</td>\n",
       "      <td>1.000000</td>\n",
       "      <td>1.0</td>\n",
       "      <td>0.981818</td>\n",
       "      <td>0.955224</td>\n",
       "      <td>1.0</td>\n",
       "      <td>0.92</td>\n",
       "      <td>0.695652</td>\n",
       "      <td>0.217391</td>\n",
       "    </tr>\n",
       "    <tr>\n",
       "      <th>ELMo Ru Twitter</th>\n",
       "      <td>1.000000</td>\n",
       "      <td>0.853659</td>\n",
       "      <td>0.115385</td>\n",
       "      <td>0.444444</td>\n",
       "      <td>1.00</td>\n",
       "      <td>1.000000</td>\n",
       "      <td>1.0</td>\n",
       "      <td>0.981818</td>\n",
       "      <td>0.985075</td>\n",
       "      <td>1.0</td>\n",
       "      <td>1.00</td>\n",
       "      <td>0.521739</td>\n",
       "      <td>0.121739</td>\n",
       "    </tr>\n",
       "  </tbody>\n",
       "</table>\n",
       "</div>"
      ],
      "text/plain": [
       "                       A1        A2        A3        A4    A5        A6   A7  \\\n",
       "ELMo Ru News     0.962963  0.682927  0.192308  0.703704  1.00  0.946429  1.0   \n",
       "ELMo Ru Wiki     0.925926  0.756098  0.269231  0.592593  0.99  1.000000  1.0   \n",
       "ELMo Ru Twitter  1.000000  0.853659  0.115385  0.444444  1.00  1.000000  1.0   \n",
       "\n",
       "                       A8        A9  A10   A11       A12       A13  \n",
       "ELMo Ru News     1.000000  0.955224  1.0  0.92  0.565217  0.243478  \n",
       "ELMo Ru Wiki     0.981818  0.955224  1.0  0.92  0.695652  0.217391  \n",
       "ELMo Ru Twitter  0.981818  0.985075  1.0  1.00  0.521739  0.121739  "
      ]
     },
     "execution_count": 91,
     "metadata": {},
     "output_type": "execute_result"
    },
    {
     "name": "stdout",
     "output_type": "stream",
     "text": [
      "time: 31 ms (started: 2021-05-22 15:08:56 +03:00)\n"
     ]
    }
   ],
   "source": [
    "elmo_ru_news_scores_3CosAvg = pd.read_csv('elmo_ru_news_3CosAvg_results', sep='\\t')\n",
    "elmo_ru_news_scores_3CosAvg = elmo_ru_news_scores_3CosAvg.drop(columns=['Unnamed: 0']).T\n",
    "elmo_ru_wiki_scores_3CosAvg = pd.read_csv('elmo_ru_wiki_3CosAvg_results', sep='\\t')\n",
    "elmo_ru_wiki_scores_3CosAvg = elmo_ru_wiki_scores_3CosAvg.drop(columns=['Unnamed: 0']).T\n",
    "elmo_ru_twitter_scores_3CosAvg = pd.read_csv('elmo_ru_twitter_3CosAvg_results', sep='\\t')\n",
    "elmo_ru_twitter_scores_3CosAvg = elmo_ru_twitter_scores_3CosAvg.drop(columns=['Unnamed: 0']).T\n",
    "\n",
    "ELMo_3CosAvg = pd.DataFrame()\n",
    "\n",
    "ELMo_3CosAvg = ELMo_3CosAvg.append(elmo_ru_news_scores_3CosAvg,ignore_index=True)\n",
    "ELMo_3CosAvg = ELMo_3CosAvg.append(elmo_ru_wiki_scores_3CosAvg,ignore_index=True)\n",
    "ELMo_3CosAvg = ELMo_3CosAvg.append(elmo_ru_twitter_scores_3CosAvg,ignore_index=True)\n",
    "\n",
    "ELMo_model_list = ['ELMo Ru News', 'ELMo Ru Wiki', 'ELMo Ru Twitter']\n",
    "column_list = ['A1','A2','A3','A4', 'A5','A6','A7','A8','A9','A10','A11','A12','A13']\n",
    "\n",
    "ELMo_3CosAvg.index = ELMo_model_list\n",
    "ELMo_3CosAvg.columns = column_list\n",
    "\n",
    "ELMo_3CosAvg"
   ]
  },
  {
   "cell_type": "code",
   "execution_count": null,
   "metadata": {},
   "outputs": [],
   "source": []
  },
  {
   "cell_type": "code",
   "execution_count": null,
   "metadata": {},
   "outputs": [],
   "source": []
  },
  {
   "cell_type": "markdown",
   "metadata": {},
   "source": [
    "# Результаты методом 3CosAdd"
   ]
  },
  {
   "cell_type": "code",
   "execution_count": 92,
   "metadata": {},
   "outputs": [
    {
     "data": {
      "text/html": [
       "<div>\n",
       "<style scoped>\n",
       "    .dataframe tbody tr th:only-of-type {\n",
       "        vertical-align: middle;\n",
       "    }\n",
       "\n",
       "    .dataframe tbody tr th {\n",
       "        vertical-align: top;\n",
       "    }\n",
       "\n",
       "    .dataframe thead th {\n",
       "        text-align: right;\n",
       "    }\n",
       "</style>\n",
       "<table border=\"1\" class=\"dataframe\">\n",
       "  <thead>\n",
       "    <tr style=\"text-align: right;\">\n",
       "      <th></th>\n",
       "      <th>A1</th>\n",
       "      <th>A2</th>\n",
       "      <th>A3</th>\n",
       "      <th>A4</th>\n",
       "      <th>A5</th>\n",
       "      <th>A6</th>\n",
       "      <th>A7</th>\n",
       "      <th>A8</th>\n",
       "      <th>A9</th>\n",
       "      <th>A10</th>\n",
       "      <th>A11</th>\n",
       "      <th>A12</th>\n",
       "      <th>A13</th>\n",
       "    </tr>\n",
       "  </thead>\n",
       "  <tbody>\n",
       "    <tr>\n",
       "      <th>RuBERT</th>\n",
       "      <td>0.650000</td>\n",
       "      <td>0.760000</td>\n",
       "      <td>0.200000</td>\n",
       "      <td>0.330000</td>\n",
       "      <td>0.9700</td>\n",
       "      <td>0.780000</td>\n",
       "      <td>0.810000</td>\n",
       "      <td>0.690000</td>\n",
       "      <td>0.890000</td>\n",
       "      <td>0.420000</td>\n",
       "      <td>0.5200</td>\n",
       "      <td>0.130000</td>\n",
       "      <td>0.040000</td>\n",
       "    </tr>\n",
       "    <tr>\n",
       "      <th>RuBERT Sentence</th>\n",
       "      <td>0.660000</td>\n",
       "      <td>0.860000</td>\n",
       "      <td>0.290000</td>\n",
       "      <td>0.430000</td>\n",
       "      <td>0.9900</td>\n",
       "      <td>0.910000</td>\n",
       "      <td>0.970000</td>\n",
       "      <td>0.830000</td>\n",
       "      <td>0.960000</td>\n",
       "      <td>0.730000</td>\n",
       "      <td>0.6000</td>\n",
       "      <td>0.270000</td>\n",
       "      <td>0.050000</td>\n",
       "    </tr>\n",
       "    <tr>\n",
       "      <th>RuBERT Conversational</th>\n",
       "      <td>0.570000</td>\n",
       "      <td>0.630000</td>\n",
       "      <td>0.100000</td>\n",
       "      <td>0.180000</td>\n",
       "      <td>0.9800</td>\n",
       "      <td>0.800000</td>\n",
       "      <td>0.710000</td>\n",
       "      <td>0.620000</td>\n",
       "      <td>0.880000</td>\n",
       "      <td>0.400000</td>\n",
       "      <td>0.2600</td>\n",
       "      <td>0.160000</td>\n",
       "      <td>0.040000</td>\n",
       "    </tr>\n",
       "    <tr>\n",
       "      <th>ELMo Ru News</th>\n",
       "      <td>0.905350</td>\n",
       "      <td>0.594884</td>\n",
       "      <td>0.174556</td>\n",
       "      <td>0.451303</td>\n",
       "      <td>0.9879</td>\n",
       "      <td>0.903699</td>\n",
       "      <td>0.980826</td>\n",
       "      <td>0.942149</td>\n",
       "      <td>0.940299</td>\n",
       "      <td>0.965556</td>\n",
       "      <td>0.8784</td>\n",
       "      <td>0.379962</td>\n",
       "      <td>0.142684</td>\n",
       "    </tr>\n",
       "    <tr>\n",
       "      <th>ELMo Ru Wiki</th>\n",
       "      <td>0.891632</td>\n",
       "      <td>0.668650</td>\n",
       "      <td>0.213018</td>\n",
       "      <td>0.517147</td>\n",
       "      <td>0.9835</td>\n",
       "      <td>0.965561</td>\n",
       "      <td>0.973554</td>\n",
       "      <td>0.962975</td>\n",
       "      <td>0.937625</td>\n",
       "      <td>0.966667</td>\n",
       "      <td>0.8464</td>\n",
       "      <td>0.561437</td>\n",
       "      <td>0.167637</td>\n",
       "    </tr>\n",
       "    <tr>\n",
       "      <th>ELMo Ru Twitter</th>\n",
       "      <td>0.946502</td>\n",
       "      <td>0.711481</td>\n",
       "      <td>0.146450</td>\n",
       "      <td>0.418381</td>\n",
       "      <td>0.9895</td>\n",
       "      <td>0.953444</td>\n",
       "      <td>0.962645</td>\n",
       "      <td>0.931240</td>\n",
       "      <td>0.950100</td>\n",
       "      <td>0.966667</td>\n",
       "      <td>0.9584</td>\n",
       "      <td>0.393195</td>\n",
       "      <td>0.077429</td>\n",
       "    </tr>\n",
       "  </tbody>\n",
       "</table>\n",
       "</div>"
      ],
      "text/plain": [
       "                             A1        A2        A3        A4      A5  \\\n",
       "RuBERT                 0.650000  0.760000  0.200000  0.330000  0.9700   \n",
       "RuBERT Sentence        0.660000  0.860000  0.290000  0.430000  0.9900   \n",
       "RuBERT Conversational  0.570000  0.630000  0.100000  0.180000  0.9800   \n",
       "ELMo Ru News           0.905350  0.594884  0.174556  0.451303  0.9879   \n",
       "ELMo Ru Wiki           0.891632  0.668650  0.213018  0.517147  0.9835   \n",
       "ELMo Ru Twitter        0.946502  0.711481  0.146450  0.418381  0.9895   \n",
       "\n",
       "                             A6        A7        A8        A9       A10  \\\n",
       "RuBERT                 0.780000  0.810000  0.690000  0.890000  0.420000   \n",
       "RuBERT Sentence        0.910000  0.970000  0.830000  0.960000  0.730000   \n",
       "RuBERT Conversational  0.800000  0.710000  0.620000  0.880000  0.400000   \n",
       "ELMo Ru News           0.903699  0.980826  0.942149  0.940299  0.965556   \n",
       "ELMo Ru Wiki           0.965561  0.973554  0.962975  0.937625  0.966667   \n",
       "ELMo Ru Twitter        0.953444  0.962645  0.931240  0.950100  0.966667   \n",
       "\n",
       "                          A11       A12       A13  \n",
       "RuBERT                 0.5200  0.130000  0.040000  \n",
       "RuBERT Sentence        0.6000  0.270000  0.050000  \n",
       "RuBERT Conversational  0.2600  0.160000  0.040000  \n",
       "ELMo Ru News           0.8784  0.379962  0.142684  \n",
       "ELMo Ru Wiki           0.8464  0.561437  0.167637  \n",
       "ELMo Ru Twitter        0.9584  0.393195  0.077429  "
      ]
     },
     "execution_count": 92,
     "metadata": {},
     "output_type": "execute_result"
    },
    {
     "name": "stdout",
     "output_type": "stream",
     "text": [
      "time: 15 ms (started: 2021-05-22 15:08:59 +03:00)\n"
     ]
    }
   ],
   "source": [
    "CosAdd_results = pd.DataFrame()\n",
    "\n",
    "CosAdd_results = CosAdd_results.append(BERT_3CosAdd)\n",
    "CosAdd_results = CosAdd_results.append(ELMo_3CosAdd)\n",
    "\n",
    "CosAdd_results"
   ]
  },
  {
   "cell_type": "code",
   "execution_count": 93,
   "metadata": {},
   "outputs": [
    {
     "data": {
      "image/png": "[encoded data removed]",
      "text/plain": [
       "<Figure size 1080x504 with 1 Axes>"
      ]
     },
     "metadata": {
      "needs_background": "light"
     },
     "output_type": "display_data"
    },
    {
     "name": "stdout",
     "output_type": "stream",
     "text": [
      "time: 359 ms (started: 2021-05-22 15:08:59 +03:00)\n"
     ]
    }
   ],
   "source": [
    "f, axes = plt.subplots(1, 1, figsize=(15, 7))\n",
    "axes = sns.heatmap(CosAdd_results, annot=True, cmap='Blues', cbar=False)"
   ]
  },
  {
   "cell_type": "code",
   "execution_count": null,
   "metadata": {},
   "outputs": [],
   "source": []
  },
  {
   "cell_type": "markdown",
   "metadata": {},
   "source": [
    "# Результаты методом 3CosAvg"
   ]
  },
  {
   "cell_type": "code",
   "execution_count": 94,
   "metadata": {},
   "outputs": [
    {
     "data": {
      "text/html": [
       "<div>\n",
       "<style scoped>\n",
       "    .dataframe tbody tr th:only-of-type {\n",
       "        vertical-align: middle;\n",
       "    }\n",
       "\n",
       "    .dataframe tbody tr th {\n",
       "        vertical-align: top;\n",
       "    }\n",
       "\n",
       "    .dataframe thead th {\n",
       "        text-align: right;\n",
       "    }\n",
       "</style>\n",
       "<table border=\"1\" class=\"dataframe\">\n",
       "  <thead>\n",
       "    <tr style=\"text-align: right;\">\n",
       "      <th></th>\n",
       "      <th>A1</th>\n",
       "      <th>A2</th>\n",
       "      <th>A3</th>\n",
       "      <th>A4</th>\n",
       "      <th>A5</th>\n",
       "      <th>A6</th>\n",
       "      <th>A7</th>\n",
       "      <th>A8</th>\n",
       "      <th>A9</th>\n",
       "      <th>A10</th>\n",
       "      <th>A11</th>\n",
       "      <th>A12</th>\n",
       "      <th>A13</th>\n",
       "    </tr>\n",
       "  </thead>\n",
       "  <tbody>\n",
       "    <tr>\n",
       "      <th>RuBERT</th>\n",
       "      <td>0.810000</td>\n",
       "      <td>0.830000</td>\n",
       "      <td>0.310000</td>\n",
       "      <td>0.440000</td>\n",
       "      <td>0.99</td>\n",
       "      <td>0.950000</td>\n",
       "      <td>0.98</td>\n",
       "      <td>0.800000</td>\n",
       "      <td>0.970000</td>\n",
       "      <td>0.63</td>\n",
       "      <td>0.80</td>\n",
       "      <td>0.090000</td>\n",
       "      <td>0.040000</td>\n",
       "    </tr>\n",
       "    <tr>\n",
       "      <th>RuBERT Sentence</th>\n",
       "      <td>0.850000</td>\n",
       "      <td>0.980000</td>\n",
       "      <td>0.310000</td>\n",
       "      <td>0.520000</td>\n",
       "      <td>1.00</td>\n",
       "      <td>0.980000</td>\n",
       "      <td>1.00</td>\n",
       "      <td>0.890000</td>\n",
       "      <td>1.000000</td>\n",
       "      <td>0.83</td>\n",
       "      <td>0.84</td>\n",
       "      <td>0.390000</td>\n",
       "      <td>0.040000</td>\n",
       "    </tr>\n",
       "    <tr>\n",
       "      <th>RuBERT Conversational</th>\n",
       "      <td>0.930000</td>\n",
       "      <td>0.780000</td>\n",
       "      <td>0.150000</td>\n",
       "      <td>0.330000</td>\n",
       "      <td>1.00</td>\n",
       "      <td>0.930000</td>\n",
       "      <td>0.78</td>\n",
       "      <td>0.710000</td>\n",
       "      <td>0.970000</td>\n",
       "      <td>0.63</td>\n",
       "      <td>0.28</td>\n",
       "      <td>0.260000</td>\n",
       "      <td>0.040000</td>\n",
       "    </tr>\n",
       "    <tr>\n",
       "      <th>ELMo Ru News</th>\n",
       "      <td>0.962963</td>\n",
       "      <td>0.682927</td>\n",
       "      <td>0.192308</td>\n",
       "      <td>0.703704</td>\n",
       "      <td>1.00</td>\n",
       "      <td>0.946429</td>\n",
       "      <td>1.00</td>\n",
       "      <td>1.000000</td>\n",
       "      <td>0.955224</td>\n",
       "      <td>1.00</td>\n",
       "      <td>0.92</td>\n",
       "      <td>0.565217</td>\n",
       "      <td>0.243478</td>\n",
       "    </tr>\n",
       "    <tr>\n",
       "      <th>ELMo Ru Wiki</th>\n",
       "      <td>0.925926</td>\n",
       "      <td>0.756098</td>\n",
       "      <td>0.269231</td>\n",
       "      <td>0.592593</td>\n",
       "      <td>0.99</td>\n",
       "      <td>1.000000</td>\n",
       "      <td>1.00</td>\n",
       "      <td>0.981818</td>\n",
       "      <td>0.955224</td>\n",
       "      <td>1.00</td>\n",
       "      <td>0.92</td>\n",
       "      <td>0.695652</td>\n",
       "      <td>0.217391</td>\n",
       "    </tr>\n",
       "    <tr>\n",
       "      <th>ELMo Ru Twitter</th>\n",
       "      <td>1.000000</td>\n",
       "      <td>0.853659</td>\n",
       "      <td>0.115385</td>\n",
       "      <td>0.444444</td>\n",
       "      <td>1.00</td>\n",
       "      <td>1.000000</td>\n",
       "      <td>1.00</td>\n",
       "      <td>0.981818</td>\n",
       "      <td>0.985075</td>\n",
       "      <td>1.00</td>\n",
       "      <td>1.00</td>\n",
       "      <td>0.521739</td>\n",
       "      <td>0.121739</td>\n",
       "    </tr>\n",
       "  </tbody>\n",
       "</table>\n",
       "</div>"
      ],
      "text/plain": [
       "                             A1        A2        A3        A4    A5        A6  \\\n",
       "RuBERT                 0.810000  0.830000  0.310000  0.440000  0.99  0.950000   \n",
       "RuBERT Sentence        0.850000  0.980000  0.310000  0.520000  1.00  0.980000   \n",
       "RuBERT Conversational  0.930000  0.780000  0.150000  0.330000  1.00  0.930000   \n",
       "ELMo Ru News           0.962963  0.682927  0.192308  0.703704  1.00  0.946429   \n",
       "ELMo Ru Wiki           0.925926  0.756098  0.269231  0.592593  0.99  1.000000   \n",
       "ELMo Ru Twitter        1.000000  0.853659  0.115385  0.444444  1.00  1.000000   \n",
       "\n",
       "                         A7        A8        A9   A10   A11       A12  \\\n",
       "RuBERT                 0.98  0.800000  0.970000  0.63  0.80  0.090000   \n",
       "RuBERT Sentence        1.00  0.890000  1.000000  0.83  0.84  0.390000   \n",
       "RuBERT Conversational  0.78  0.710000  0.970000  0.63  0.28  0.260000   \n",
       "ELMo Ru News           1.00  1.000000  0.955224  1.00  0.92  0.565217   \n",
       "ELMo Ru Wiki           1.00  0.981818  0.955224  1.00  0.92  0.695652   \n",
       "ELMo Ru Twitter        1.00  0.981818  0.985075  1.00  1.00  0.521739   \n",
       "\n",
       "                            A13  \n",
       "RuBERT                 0.040000  \n",
       "RuBERT Sentence        0.040000  \n",
       "RuBERT Conversational  0.040000  \n",
       "ELMo Ru News           0.243478  \n",
       "ELMo Ru Wiki           0.217391  \n",
       "ELMo Ru Twitter        0.121739  "
      ]
     },
     "execution_count": 94,
     "metadata": {},
     "output_type": "execute_result"
    },
    {
     "name": "stdout",
     "output_type": "stream",
     "text": [
      "time: 15 ms (started: 2021-05-22 15:09:06 +03:00)\n"
     ]
    }
   ],
   "source": [
    "CosAvg_results = pd.DataFrame()\n",
    "\n",
    "CosAvg_results = CosAvg_results.append(BERT_3CosAvg)\n",
    "CosAvg_results = CosAvg_results.append(ELMo_3CosAvg)\n",
    "\n",
    "CosAvg_results"
   ]
  },
  {
   "cell_type": "code",
   "execution_count": 95,
   "metadata": {},
   "outputs": [
    {
     "data": {
      "image/png": "[encoded data removed]",
      "text/plain": [
       "<Figure size 1080x504 with 1 Axes>"
      ]
     },
     "metadata": {
      "needs_background": "light"
     },
     "output_type": "display_data"
    },
    {
     "name": "stdout",
     "output_type": "stream",
     "text": [
      "time: 343 ms (started: 2021-05-22 15:09:07 +03:00)\n"
     ]
    }
   ],
   "source": [
    "f, axes = plt.subplots(1, 1, figsize=(15, 7))\n",
    "axes = sns.heatmap(CosAvg_results, annot=True, cmap='Blues', cbar=False)"
   ]
  },
  {
   "cell_type": "code",
   "execution_count": null,
   "metadata": {},
   "outputs": [],
   "source": []
  },
  {
   "cell_type": "code",
   "execution_count": null,
   "metadata": {},
   "outputs": [],
   "source": []
  },
  {
   "cell_type": "code",
   "execution_count": null,
   "metadata": {},
   "outputs": [],
   "source": []
  },
  {
   "cell_type": "code",
   "execution_count": 28,
   "metadata": {},
   "outputs": [
    {
     "data": {
      "text/html": [
       "<div>\n",
       "<style scoped>\n",
       "    .dataframe tbody tr th:only-of-type {\n",
       "        vertical-align: middle;\n",
       "    }\n",
       "\n",
       "    .dataframe tbody tr th {\n",
       "        vertical-align: top;\n",
       "    }\n",
       "\n",
       "    .dataframe thead th {\n",
       "        text-align: right;\n",
       "    }\n",
       "</style>\n",
       "<table border=\"1\" class=\"dataframe\">\n",
       "  <thead>\n",
       "    <tr style=\"text-align: right;\">\n",
       "      <th></th>\n",
       "      <th>0</th>\n",
       "      <th>1</th>\n",
       "      <th>2</th>\n",
       "      <th>3</th>\n",
       "      <th>4</th>\n",
       "      <th>5</th>\n",
       "      <th>6</th>\n",
       "      <th>7</th>\n",
       "      <th>8</th>\n",
       "      <th>9</th>\n",
       "      <th>10</th>\n",
       "      <th>11</th>\n",
       "      <th>12</th>\n",
       "    </tr>\n",
       "  </thead>\n",
       "  <tbody>\n",
       "    <tr>\n",
       "      <th>RuBERT</th>\n",
       "      <td>0.65</td>\n",
       "      <td>0.76</td>\n",
       "      <td>0.20</td>\n",
       "      <td>0.33</td>\n",
       "      <td>0.97</td>\n",
       "      <td>0.78</td>\n",
       "      <td>0.81</td>\n",
       "      <td>0.69</td>\n",
       "      <td>0.89</td>\n",
       "      <td>0.42</td>\n",
       "      <td>0.52</td>\n",
       "      <td>0.13</td>\n",
       "      <td>0.04</td>\n",
       "    </tr>\n",
       "    <tr>\n",
       "      <th>RuBERT Sentence</th>\n",
       "      <td>0.66</td>\n",
       "      <td>0.86</td>\n",
       "      <td>0.29</td>\n",
       "      <td>0.43</td>\n",
       "      <td>0.99</td>\n",
       "      <td>0.91</td>\n",
       "      <td>0.97</td>\n",
       "      <td>0.83</td>\n",
       "      <td>0.96</td>\n",
       "      <td>0.73</td>\n",
       "      <td>0.60</td>\n",
       "      <td>0.27</td>\n",
       "      <td>0.05</td>\n",
       "    </tr>\n",
       "    <tr>\n",
       "      <th>RuBERT Conversational</th>\n",
       "      <td>0.57</td>\n",
       "      <td>0.63</td>\n",
       "      <td>0.10</td>\n",
       "      <td>0.18</td>\n",
       "      <td>0.98</td>\n",
       "      <td>0.80</td>\n",
       "      <td>0.71</td>\n",
       "      <td>0.62</td>\n",
       "      <td>0.88</td>\n",
       "      <td>0.40</td>\n",
       "      <td>0.26</td>\n",
       "      <td>0.16</td>\n",
       "      <td>0.04</td>\n",
       "    </tr>\n",
       "  </tbody>\n",
       "</table>\n",
       "</div>"
      ],
      "text/plain": [
       "                          0     1     2     3     4     5     6     7     8  \\\n",
       "RuBERT                 0.65  0.76  0.20  0.33  0.97  0.78  0.81  0.69  0.89   \n",
       "RuBERT Sentence        0.66  0.86  0.29  0.43  0.99  0.91  0.97  0.83  0.96   \n",
       "RuBERT Conversational  0.57  0.63  0.10  0.18  0.98  0.80  0.71  0.62  0.88   \n",
       "\n",
       "                          9    10    11    12  \n",
       "RuBERT                 0.42  0.52  0.13  0.04  \n",
       "RuBERT Sentence        0.73  0.60  0.27  0.05  \n",
       "RuBERT Conversational  0.40  0.26  0.16  0.04  "
      ]
     },
     "execution_count": 28,
     "metadata": {},
     "output_type": "execute_result"
    },
    {
     "name": "stdout",
     "output_type": "stream",
     "text": [
      "time: 15 ms (started: 2021-05-22 12:00:28 +03:00)\n"
     ]
    }
   ],
   "source": [
    "BERT_3CosAdd"
   ]
  },
  {
   "cell_type": "code",
   "execution_count": 29,
   "metadata": {},
   "outputs": [
    {
     "data": {
      "text/html": [
       "<div>\n",
       "<style scoped>\n",
       "    .dataframe tbody tr th:only-of-type {\n",
       "        vertical-align: middle;\n",
       "    }\n",
       "\n",
       "    .dataframe tbody tr th {\n",
       "        vertical-align: top;\n",
       "    }\n",
       "\n",
       "    .dataframe thead th {\n",
       "        text-align: right;\n",
       "    }\n",
       "</style>\n",
       "<table border=\"1\" class=\"dataframe\">\n",
       "  <thead>\n",
       "    <tr style=\"text-align: right;\">\n",
       "      <th></th>\n",
       "      <th>0</th>\n",
       "      <th>1</th>\n",
       "      <th>2</th>\n",
       "      <th>3</th>\n",
       "      <th>4</th>\n",
       "      <th>5</th>\n",
       "      <th>6</th>\n",
       "      <th>7</th>\n",
       "      <th>8</th>\n",
       "      <th>9</th>\n",
       "      <th>10</th>\n",
       "      <th>11</th>\n",
       "      <th>12</th>\n",
       "    </tr>\n",
       "  </thead>\n",
       "  <tbody>\n",
       "    <tr>\n",
       "      <th>ELMo Ru News</th>\n",
       "      <td>0.905350</td>\n",
       "      <td>0.594884</td>\n",
       "      <td>0.174556</td>\n",
       "      <td>0.451303</td>\n",
       "      <td>0.9879</td>\n",
       "      <td>0.903699</td>\n",
       "      <td>0.980826</td>\n",
       "      <td>0.942149</td>\n",
       "      <td>0.940299</td>\n",
       "      <td>0.965556</td>\n",
       "      <td>0.8784</td>\n",
       "      <td>0.379962</td>\n",
       "      <td>0.142684</td>\n",
       "    </tr>\n",
       "    <tr>\n",
       "      <th>ELMo Ru Wiki</th>\n",
       "      <td>0.891632</td>\n",
       "      <td>0.668650</td>\n",
       "      <td>0.213018</td>\n",
       "      <td>0.517147</td>\n",
       "      <td>0.9835</td>\n",
       "      <td>0.965561</td>\n",
       "      <td>0.973554</td>\n",
       "      <td>0.962975</td>\n",
       "      <td>0.937625</td>\n",
       "      <td>0.966667</td>\n",
       "      <td>0.8464</td>\n",
       "      <td>0.561437</td>\n",
       "      <td>0.167637</td>\n",
       "    </tr>\n",
       "    <tr>\n",
       "      <th>ELMo Ru Twitter</th>\n",
       "      <td>1.000000</td>\n",
       "      <td>0.853659</td>\n",
       "      <td>0.115385</td>\n",
       "      <td>0.444444</td>\n",
       "      <td>1.0000</td>\n",
       "      <td>1.000000</td>\n",
       "      <td>1.000000</td>\n",
       "      <td>0.981818</td>\n",
       "      <td>0.985075</td>\n",
       "      <td>1.000000</td>\n",
       "      <td>1.0000</td>\n",
       "      <td>0.521739</td>\n",
       "      <td>0.121739</td>\n",
       "    </tr>\n",
       "  </tbody>\n",
       "</table>\n",
       "</div>"
      ],
      "text/plain": [
       "                        0         1         2         3       4         5  \\\n",
       "ELMo Ru News     0.905350  0.594884  0.174556  0.451303  0.9879  0.903699   \n",
       "ELMo Ru Wiki     0.891632  0.668650  0.213018  0.517147  0.9835  0.965561   \n",
       "ELMo Ru Twitter  1.000000  0.853659  0.115385  0.444444  1.0000  1.000000   \n",
       "\n",
       "                        6         7         8         9      10        11  \\\n",
       "ELMo Ru News     0.980826  0.942149  0.940299  0.965556  0.8784  0.379962   \n",
       "ELMo Ru Wiki     0.973554  0.962975  0.937625  0.966667  0.8464  0.561437   \n",
       "ELMo Ru Twitter  1.000000  0.981818  0.985075  1.000000  1.0000  0.521739   \n",
       "\n",
       "                       12  \n",
       "ELMo Ru News     0.142684  \n",
       "ELMo Ru Wiki     0.167637  \n",
       "ELMo Ru Twitter  0.121739  "
      ]
     },
     "execution_count": 29,
     "metadata": {},
     "output_type": "execute_result"
    },
    {
     "name": "stdout",
     "output_type": "stream",
     "text": [
      "time: 15 ms (started: 2021-05-22 12:00:31 +03:00)\n"
     ]
    }
   ],
   "source": [
    "ELMo_3CosAvg"
   ]
  },
  {
   "cell_type": "code",
   "execution_count": null,
   "metadata": {},
   "outputs": [],
   "source": []
  },
  {
   "cell_type": "code",
   "execution_count": null,
   "metadata": {},
   "outputs": [],
   "source": []
  },
  {
   "cell_type": "code",
   "execution_count": null,
   "metadata": {},
   "outputs": [],
   "source": []
  },
  {
   "cell_type": "code",
   "execution_count": null,
   "metadata": {},
   "outputs": [],
   "source": []
  },
  {
   "cell_type": "code",
   "execution_count": null,
   "metadata": {},
   "outputs": [],
   "source": []
  },
  {
   "cell_type": "markdown",
   "metadata": {},
   "source": [
    "## Гистограмма косинусной близости вектора переноса и векторов разностей пар слов\n"
   ]
  },
  {
   "cell_type": "code",
   "execution_count": 2,
   "metadata": {},
   "outputs": [
    {
     "name": "stdout",
     "output_type": "stream",
     "text": [
      "time: 15 ms (started: 2021-05-22 16:43:21 +03:00)\n"
     ]
    }
   ],
   "source": [
    "from os import listdir\n",
    "from os.path import isfile, join\n",
    "\n",
    "mypath = 'C:\\\\Users\\\\Asus\\\\Data analysis\\\\Учеба\\\\ДИПЛОМ\\\\Analogies\\\\Small\\\\'\n",
    "onlyfiles = [f for f in listdir(mypath) if isfile(join(mypath, f))]\n",
    "onlyfiles = onlyfiles"
   ]
  },
  {
   "cell_type": "code",
   "execution_count": 3,
   "metadata": {},
   "outputs": [
    {
     "name": "stdout",
     "output_type": "stream",
     "text": [
      "time: 0 ns (started: 2021-05-22 16:43:21 +03:00)\n"
     ]
    }
   ],
   "source": [
    "def unique_list(l):\n",
    "    ulist = []\n",
    "    [ulist.append(x) for x in l if x not in ulist]\n",
    "    return ulist"
   ]
  },
  {
   "cell_type": "code",
   "execution_count": 4,
   "metadata": {},
   "outputs": [
    {
     "name": "stdout",
     "output_type": "stream",
     "text": [
      "time: 15 ms (started: 2021-05-22 16:43:21 +03:00)\n"
     ]
    }
   ],
   "source": [
    "def get_analogy_words(filename):\n",
    "    \n",
    "    with open(filename, encoding='utf-8') as f:\n",
    "        content = f.readlines()\n",
    "    \n",
    "    words_to_agg = [x.strip() for x in content] \n",
    "    \n",
    "    words_to_agg = \" \".join(words_to_agg)\n",
    "    words_to_agg = \" \".join(words_to_agg.split('_'))\n",
    "    \n",
    "    stop_words = ['PROPN', 'ADJ', 'VERB','ADV', 'NOUN']\n",
    "    \n",
    "    for i in stop_words:\n",
    "        words_to_agg = words_to_agg.replace(i, '')\n",
    "    \n",
    "    words_to_agg = words_to_agg.replace('й','и')\n",
    "    \n",
    "    words_to_agg = ' '.join(unique_list(words_to_agg.split()))\n",
    "    \n",
    "    return words_to_agg"
   ]
  },
  {
   "cell_type": "code",
   "execution_count": 5,
   "metadata": {},
   "outputs": [
    {
     "name": "stdout",
     "output_type": "stream",
     "text": [
      "time: 16 ms (started: 2021-05-22 16:43:21 +03:00)\n"
     ]
    }
   ],
   "source": [
    "def get_d(words_to_embed, words_embeddings):\n",
    "    index_list = np.arange(0,len(words_to_embed.split()))\n",
    "    evensList = [x for x in index_list if x % 2 == 0]\n",
    "    index_list =  np.arange(0,len(evensList))\n",
    "    \n",
    "    word_1 = [words_to_embed.lower().split()[i] for i in evensList]\n",
    "    word_2 = [words_to_embed.lower().split()[i+1] for i in evensList]\n",
    "    \n",
    "    N_tasks = 0\n",
    "    N_correct = 0\n",
    "    \n",
    "    v_1 = 0\n",
    "    v_2 = 0\n",
    "\n",
    "    for pair_id in index_list:\n",
    "        v_1 += words_embeddings.loc[word_1[pair_id]]\n",
    "        v_2 += words_embeddings.loc[word_2[pair_id]]\n",
    "\n",
    "    d = (v_1 - v_2)/len(index_list)\n",
    "    \n",
    "    return d"
   ]
  },
  {
   "cell_type": "code",
   "execution_count": 120,
   "metadata": {},
   "outputs": [
    {
     "name": "stdout",
     "output_type": "stream",
     "text": [
      "time: 0 ns (started: 2021-05-23 18:13:23 +03:00)\n"
     ]
    }
   ],
   "source": [
    "def solve_analogy_3CosAvg(words_to_embed, words_embeddings):\n",
    "    \n",
    "    index_list = np.arange(0,len(words_to_embed.split()))\n",
    "    evensList = [x for x in index_list if x % 2 == 0]\n",
    "    index_list =  np.arange(0,len(evensList))\n",
    "    \n",
    "    word_1 = [words_to_embed.lower().split()[i] for i in evensList]\n",
    "    word_2 = [words_to_embed.lower().split()[i+1] for i in evensList]\n",
    "    \n",
    "    N_tasks = 0\n",
    "    N_correct = 0\n",
    "    \n",
    "    v_1 = 0\n",
    "    v_2 = 0\n",
    "\n",
    "    for pair_id in index_list:\n",
    "        v_1 += words_embeddings.loc[word_1[pair_id]]\n",
    "        v_2 += words_embeddings.loc[word_2[pair_id]]\n",
    "\n",
    "    d = (v_1 - v_2)/len(index_list)\n",
    "    \n",
    "    N_tasks = 0\n",
    "    N_correct = 0\n",
    "    \n",
    "    list_correct = []\n",
    "    \n",
    "    \n",
    "\n",
    "    for word_2_index in range(len(word_2)):\n",
    "        #print('looking for ', word_1[word_2_index])\n",
    "        \n",
    "        argmax = 0\n",
    "        i_max = 0\n",
    "        \n",
    "        for word_vector in words_to_embed.lower().split():\n",
    "            \n",
    "            vecs_to_exclude = [word_2[word_2_index]]\n",
    "            \n",
    "            if (word_vector not in vecs_to_exclude):\n",
    "                \n",
    "                res = 1 - cosine(words_embeddings.loc[word_vector], (words_embeddings.loc[word_2[word_2_index]] + d))\n",
    "                \n",
    "                if (res > argmax):\n",
    "                    argmax = res\n",
    "                    i_max = word_vector\n",
    "                    \n",
    "            \n",
    "            \n",
    "        #print(word_2[word_2_index], '- d = ', i_max)\n",
    "        N_tasks +=1\n",
    "    \n",
    "        if (i_max == word_1[word_2_index]):\n",
    "            N_correct += 1\n",
    "            list_correct.append(i_max)\n",
    "    \n",
    "    print('Accuracy score =', N_correct/N_tasks)\n",
    "    print(N_correct)\n",
    "    print(N_tasks)\n",
    "    \n",
    "    score = N_correct/N_tasks\n",
    "    \n",
    "    return list_correct"
   ]
  },
  {
   "cell_type": "code",
   "execution_count": null,
   "metadata": {},
   "outputs": [],
   "source": []
  },
  {
   "cell_type": "code",
   "execution_count": null,
   "metadata": {},
   "outputs": [],
   "source": []
  },
  {
   "cell_type": "code",
   "execution_count": null,
   "metadata": {},
   "outputs": [],
   "source": []
  },
  {
   "cell_type": "code",
   "execution_count": null,
   "metadata": {},
   "outputs": [],
   "source": []
  },
  {
   "cell_type": "code",
   "execution_count": 16,
   "metadata": {},
   "outputs": [
    {
     "name": "stdout",
     "output_type": "stream",
     "text": [
      "time: 235 ms (started: 2021-05-23 17:05:50 +03:00)\n"
     ]
    }
   ],
   "source": [
    "for i in range(13,14):\n",
    "    file_name = 'elmo_ru_twitter_analogy'+str(i)+'_emb'\n",
    "    file_words = 'C:\\\\Users\\\\Asus\\\\Data analysis\\\\Учеба\\\\ДИПЛОМ\\\\Analogies\\\\Small\\\\'+onlyfiles[i]\n",
    "\n",
    "    analogy_words = get_analogy_words(file_words)\n",
    "    \n",
    "    analogy_embeddings = pd.read_csv(file_name, sep='\\t')\n",
    "    analogy_embeddings.index = analogy_embeddings['Unnamed: 0']\n",
    "    analogy_embeddings = analogy_embeddings.drop(columns=['Unnamed: 0'])\n",
    "    \n",
    "    d_12 = get_d(analogy_words,analogy_embeddings)"
   ]
  },
  {
   "cell_type": "code",
   "execution_count": 17,
   "metadata": {},
   "outputs": [
    {
     "name": "stdout",
     "output_type": "stream",
     "text": [
      "time: 16 ms (started: 2021-05-23 17:05:51 +03:00)\n"
     ]
    }
   ],
   "source": [
    "index_list = np.arange(0,len(analogy_words.split()))\n",
    "evensList = [x for x in index_list if x % 2 == 0]\n",
    "index_list =  np.arange(0,len(evensList))\n",
    "    \n",
    "word_1 = [analogy_words.lower().split()[i] for i in evensList]\n",
    "word_2 = [analogy_words.lower().split()[i+1] for i in evensList]"
   ]
  },
  {
   "cell_type": "code",
   "execution_count": 18,
   "metadata": {},
   "outputs": [
    {
     "name": "stdout",
     "output_type": "stream",
     "text": [
      "time: 62 ms (started: 2021-05-23 17:05:51 +03:00)\n"
     ]
    }
   ],
   "source": [
    "cos_list = []\n",
    "\n",
    "for i in range(len(word_1)):\n",
    "    \n",
    "    res = 1 - cosine(d_12, (analogy_embeddings.loc[word_1[i]] - analogy_embeddings.loc[word_2[i]]))\n",
    "    cos_list.append(res)"
   ]
  },
  {
   "cell_type": "code",
   "execution_count": 20,
   "metadata": {},
   "outputs": [
    {
     "data": {
      "text/plain": [
       "Text(0.5, 1.0, 'Категория «Любая столица мира – страна»')"
      ]
     },
     "execution_count": 20,
     "metadata": {},
     "output_type": "execute_result"
    },
    {
     "data": {
      "image/png": "[encoded data removed]",
      "text/plain": [
       "<Figure size 576x432 with 1 Axes>"
      ]
     },
     "metadata": {
      "needs_background": "light"
     },
     "output_type": "display_data"
    },
    {
     "name": "stdout",
     "output_type": "stream",
     "text": [
      "time: 172 ms (started: 2021-05-23 17:06:11 +03:00)\n"
     ]
    }
   ],
   "source": [
    "plt.figure(figsize=(8,6))\n",
    "plt.hist(cos_list, bins=30)\n",
    "plt.xlabel('cos(d,v_i)')\n",
    "plt.ylabel('Частота')\n",
    "plt.xlim(-1,1)\n",
    "plt.title('Категория «Любая столица мира – страна»')"
   ]
  },
  {
   "cell_type": "code",
   "execution_count": 11,
   "metadata": {},
   "outputs": [
    {
     "name": "stdout",
     "output_type": "stream",
     "text": [
      "time: 156 ms (started: 2021-05-23 17:04:17 +03:00)\n"
     ]
    }
   ],
   "source": [
    "plt.xscale?"
   ]
  },
  {
   "cell_type": "code",
   "execution_count": null,
   "metadata": {},
   "outputs": [],
   "source": []
  },
  {
   "cell_type": "code",
   "execution_count": 21,
   "metadata": {},
   "outputs": [
    {
     "name": "stdout",
     "output_type": "stream",
     "text": [
      "time: 109 ms (started: 2021-05-23 17:06:52 +03:00)\n"
     ]
    }
   ],
   "source": [
    "for i in range(3,4):\n",
    "    file_name = 'elmo_ru_twitter_analogy'+str(i)+'_emb'\n",
    "    file_words = 'C:\\\\Users\\\\Asus\\\\Data analysis\\\\Учеба\\\\ДИПЛОМ\\\\Analogies\\\\Small\\\\'+onlyfiles[i]\n",
    "\n",
    "    analogy_words = get_analogy_words(file_words)\n",
    "    \n",
    "    analogy_embeddings = pd.read_csv(file_name, sep='\\t')\n",
    "    analogy_embeddings.index = analogy_embeddings['Unnamed: 0']\n",
    "    analogy_embeddings = analogy_embeddings.drop(columns=['Unnamed: 0'])\n",
    "    \n",
    "    d_12 = get_d(analogy_words,analogy_embeddings)"
   ]
  },
  {
   "cell_type": "code",
   "execution_count": 22,
   "metadata": {},
   "outputs": [
    {
     "name": "stdout",
     "output_type": "stream",
     "text": [
      "time: 0 ns (started: 2021-05-23 17:06:52 +03:00)\n"
     ]
    }
   ],
   "source": [
    "index_list = np.arange(0,len(analogy_words.split()))\n",
    "evensList = [x for x in index_list if x % 2 == 0]\n",
    "index_list =  np.arange(0,len(evensList))\n",
    "    \n",
    "word_1 = [analogy_words.lower().split()[i] for i in evensList]\n",
    "word_2 = [analogy_words.lower().split()[i+1] for i in evensList]"
   ]
  },
  {
   "cell_type": "code",
   "execution_count": 23,
   "metadata": {},
   "outputs": [
    {
     "name": "stdout",
     "output_type": "stream",
     "text": [
      "time: 15 ms (started: 2021-05-23 17:06:53 +03:00)\n"
     ]
    }
   ],
   "source": [
    "cos_list = []\n",
    "\n",
    "for i in range(len(word_1)):\n",
    "    \n",
    "    res = 1 - cosine(d_12, (analogy_embeddings.loc[word_1[i]] - analogy_embeddings.loc[word_2[i]]))\n",
    "    cos_list.append(res)"
   ]
  },
  {
   "cell_type": "code",
   "execution_count": 25,
   "metadata": {},
   "outputs": [
    {
     "data": {
      "text/plain": [
       "Text(0.5, 1.0, 'Категория «Страна - язык»')"
      ]
     },
     "execution_count": 25,
     "metadata": {},
     "output_type": "execute_result"
    },
    {
     "data": {
      "image/png": "[encoded data removed]",
      "text/plain": [
       "<Figure size 576x432 with 1 Axes>"
      ]
     },
     "metadata": {
      "needs_background": "light"
     },
     "output_type": "display_data"
    },
    {
     "name": "stdout",
     "output_type": "stream",
     "text": [
      "time: 171 ms (started: 2021-05-23 17:07:01 +03:00)\n"
     ]
    }
   ],
   "source": [
    "plt.figure(figsize=(8,6))\n",
    "plt.hist(cos_list, bins=30)\n",
    "plt.xlabel('cos(d,v_i)')\n",
    "plt.ylabel('Частота')\n",
    "plt.xlim(-1,1)\n",
    "plt.title('Категория «Страна - язык»')"
   ]
  },
  {
   "cell_type": "code",
   "execution_count": null,
   "metadata": {},
   "outputs": [],
   "source": []
  },
  {
   "cell_type": "code",
   "execution_count": null,
   "metadata": {},
   "outputs": [],
   "source": []
  },
  {
   "cell_type": "code",
   "execution_count": null,
   "metadata": {},
   "outputs": [],
   "source": []
  },
  {
   "cell_type": "code",
   "execution_count": 26,
   "metadata": {},
   "outputs": [
    {
     "name": "stdout",
     "output_type": "stream",
     "text": [
      "time: 94 ms (started: 2021-05-23 17:11:12 +03:00)\n"
     ]
    }
   ],
   "source": [
    "length_vi_list\n",
    "\n",
    "for i in range(11,12):\n",
    "    file_name = 'elmo_ru_news_analogy'+str(i)+'_emb'\n",
    "    file_words = 'C:\\\\Users\\\\Asus\\\\Data analysis\\\\Учеба\\\\ДИПЛОМ\\\\Analogies\\\\Small\\\\'+onlyfiles[i]\n",
    "\n",
    "    analogy_words = get_analogy_words(file_words)\n",
    "    \n",
    "    analogy_embeddings = pd.read_csv(file_name, sep='\\t')\n",
    "    analogy_embeddings.index = analogy_embeddings['Unnamed: 0']\n",
    "    analogy_embeddings = analogy_embeddings.drop(columns=['Unnamed: 0'])\n",
    "    \n",
    "    d_12 = get_d(analogy_words,analogy_embeddings)\n",
    "    \n",
    "    "
   ]
  },
  {
   "cell_type": "code",
   "execution_count": 27,
   "metadata": {},
   "outputs": [
    {
     "name": "stdout",
     "output_type": "stream",
     "text": [
      "time: 16 ms (started: 2021-05-23 17:11:12 +03:00)\n"
     ]
    }
   ],
   "source": [
    "index_list = np.arange(0,len(analogy_words.split()))\n",
    "evensList = [x for x in index_list if x % 2 == 0]\n",
    "index_list =  np.arange(0,len(evensList))\n",
    "    \n",
    "word_1 = [analogy_words.lower().split()[i] for i in evensList]\n",
    "word_2 = [analogy_words.lower().split()[i+1] for i in evensList]"
   ]
  },
  {
   "cell_type": "code",
   "execution_count": 28,
   "metadata": {},
   "outputs": [
    {
     "name": "stdout",
     "output_type": "stream",
     "text": [
      "time: 16 ms (started: 2021-05-23 17:11:13 +03:00)\n"
     ]
    }
   ],
   "source": [
    "cos_list = []\n",
    "\n",
    "for i in range(len(word_1)):\n",
    "    \n",
    "    res = 1 - cosine(d_12, (analogy_embeddings.loc[word_1[i]] - analogy_embeddings.loc[word_2[i]]))\n",
    "    cos_list.append(res)"
   ]
  },
  {
   "cell_type": "code",
   "execution_count": 31,
   "metadata": {},
   "outputs": [
    {
     "data": {
      "text/plain": [
       "Text(0.5, 1.0, 'Категория «Прилагательное - сравнительная степень»')"
      ]
     },
     "execution_count": 31,
     "metadata": {},
     "output_type": "execute_result"
    },
    {
     "data": {
      "image/png": "[encoded data removed]",
      "text/plain": [
       "<Figure size 576x432 with 1 Axes>"
      ]
     },
     "metadata": {
      "needs_background": "light"
     },
     "output_type": "display_data"
    },
    {
     "name": "stdout",
     "output_type": "stream",
     "text": [
      "time: 187 ms (started: 2021-05-23 17:12:58 +03:00)\n"
     ]
    }
   ],
   "source": [
    "plt.figure(figsize=(8,6))\n",
    "plt.hist(cos_list, bins=30)\n",
    "plt.xlabel('cos(d,v_i)')\n",
    "plt.ylabel('Частота')\n",
    "plt.xlim(-1,1)\n",
    "plt.title('Категория «Прилагательное - сравнительная степень»')"
   ]
  },
  {
   "cell_type": "code",
   "execution_count": null,
   "metadata": {},
   "outputs": [],
   "source": []
  },
  {
   "cell_type": "code",
   "execution_count": null,
   "metadata": {},
   "outputs": [],
   "source": []
  },
  {
   "cell_type": "code",
   "execution_count": 156,
   "metadata": {},
   "outputs": [
    {
     "name": "stdout",
     "output_type": "stream",
     "text": [
      "time: 171 ms (started: 2021-05-23 20:19:51 +03:00)\n"
     ]
    }
   ],
   "source": [
    "for i in range(9,10):\n",
    "    file_name = 'elmo_ru_twitter_analogy'+str(i)+'_emb'\n",
    "    file_words = 'C:\\\\Users\\\\Asus\\\\Data analysis\\\\Учеба\\\\ДИПЛОМ\\\\Analogies\\\\Small\\\\'+onlyfiles[i]\n",
    "\n",
    "    analogy_words = get_analogy_words(file_words)\n",
    "    \n",
    "    analogy_embeddings = pd.read_csv(file_name, sep='\\t')\n",
    "    analogy_embeddings.index = analogy_embeddings['Unnamed: 0']\n",
    "    analogy_embeddings = analogy_embeddings.drop(columns=['Unnamed: 0'])\n",
    "    \n",
    "    d_12 = get_d(analogy_words,analogy_embeddings)"
   ]
  },
  {
   "cell_type": "code",
   "execution_count": 157,
   "metadata": {},
   "outputs": [
    {
     "name": "stdout",
     "output_type": "stream",
     "text": [
      "time: 0 ns (started: 2021-05-23 20:19:51 +03:00)\n"
     ]
    }
   ],
   "source": [
    "index_list = np.arange(0,len(analogy_words.split()))\n",
    "evensList = [x for x in index_list if x % 2 == 0]\n",
    "index_list =  np.arange(0,len(evensList))\n",
    "    \n",
    "word_1 = [analogy_words.lower().split()[i] for i in evensList]\n",
    "word_2 = [analogy_words.lower().split()[i+1] for i in evensList]"
   ]
  },
  {
   "cell_type": "code",
   "execution_count": 158,
   "metadata": {},
   "outputs": [
    {
     "name": "stdout",
     "output_type": "stream",
     "text": [
      "Accuracy score = 0.9850746268656716\n",
      "66\n",
      "67\n",
      "time: 4.01 s (started: 2021-05-23 20:19:51 +03:00)\n"
     ]
    }
   ],
   "source": [
    "correct_words = solve_analogy_3CosAvg(analogy_words,analogy_embeddings)"
   ]
  },
  {
   "cell_type": "code",
   "execution_count": 159,
   "metadata": {},
   "outputs": [
    {
     "name": "stdout",
     "output_type": "stream",
     "text": [
      "time: 78 ms (started: 2021-05-23 20:19:55 +03:00)\n"
     ]
    }
   ],
   "source": [
    "cos_list_correct = []\n",
    "cos_list_wrong = []\n",
    "length_correct = []\n",
    "length_wrong = []\n",
    "\n",
    "for i in range(len(word_1)):\n",
    "    \n",
    "    res = 1 - cosine(d_12, (analogy_embeddings.loc[word_1[i]] - analogy_embeddings.loc[word_2[i]]))\n",
    "    \n",
    "    \n",
    "    if(word_1[i] in correct_words):     \n",
    "        summa = analogy_embeddings.loc[word_1[i]] - analogy_embeddings.loc[word_2[i]]\n",
    "        summa = summa**2\n",
    "        length_correct.append((np.sqrt(np.sum(summa))))\n",
    "        cos_list_correct.append(res)\n",
    "        \n",
    "    else:   \n",
    "        summa = analogy_embeddings.loc[word_1[i]] - analogy_embeddings.loc[word_2[i]]\n",
    "        summa = summa**2\n",
    "        length_wrong.append((np.sqrt(np.sum(summa))))\n",
    "        cos_list_wrong.append(res)"
   ]
  },
  {
   "cell_type": "code",
   "execution_count": 160,
   "metadata": {},
   "outputs": [
    {
     "data": {
      "text/plain": [
       "Text(0.5, 1.0, 'Категория «Страна - прилагательное»')"
      ]
     },
     "execution_count": 160,
     "metadata": {},
     "output_type": "execute_result"
    },
    {
     "data": {
      "image/png": "[encoded data removed]",
      "text/plain": [
       "<Figure size 576x432 with 1 Axes>"
      ]
     },
     "metadata": {
      "needs_background": "light"
     },
     "output_type": "display_data"
    },
    {
     "name": "stdout",
     "output_type": "stream",
     "text": [
      "time: 203 ms (started: 2021-05-23 20:19:55 +03:00)\n"
     ]
    }
   ],
   "source": [
    "plt.figure(figsize=(8,6))\n",
    "plt.scatter(cos_list_correct,length_correct, c='blue')\n",
    "plt.scatter(cos_list_wrong,length_wrong, c='red')\n",
    "plt.xlabel('cos(d,v_i)')\n",
    "plt.ylabel('Длина вектора v_i')\n",
    "plt.xlim(-1,1)\n",
    "plt.title('Категория «Страна - прилагательное»')"
   ]
  },
  {
   "cell_type": "code",
   "execution_count": null,
   "metadata": {},
   "outputs": [],
   "source": []
  },
  {
   "cell_type": "code",
   "execution_count": null,
   "metadata": {},
   "outputs": [],
   "source": []
  },
  {
   "cell_type": "code",
   "execution_count": 161,
   "metadata": {},
   "outputs": [
    {
     "data": {
      "text/plain": [
       "'актер актриса мальчик девочка брат сестра бык корова бизнесмен бизнесвумен председатель председательница папа мама герцог герцогиня император императрица лис лисица бог богиня дедушка бабушка внук внучка жених невеста руководитель руководительница наследник наследница герои героиня муж жена король королева лев львица мужчина женщина директор директриса племянник племянница поэт поэтесса полицеискии полицеиская принц принцесса баран овца петух курица сын дочь жеребец кобыла тигр тигрица дядя тетя официант официантка вор воровка конь лошадь юноша девушка старик старуха супруг супруга красавец красавица певец певица тесть теща отчим мачеха работник работница школьник школьница виновник виновница учитель учительница писатель писательница ткач ткачиха артист артистка студент студентка чемпион чемпионка колдун колдунья журналист журналистка тракторист трактористка разведчик разведчица воспитатель воспитательница гимнаст гимнастка рекордсмен рекордсменка теннисист теннисистка бегун бегунья волк волчица продавец продавщица кот кошка барон баронесса библиотекарь библиотекарша секретарь секретарша гусь гусыня'"
      ]
     },
     "execution_count": 161,
     "metadata": {},
     "output_type": "execute_result"
    },
    {
     "name": "stdout",
     "output_type": "stream",
     "text": [
      "time: 0 ns (started: 2021-05-23 20:20:13 +03:00)\n"
     ]
    }
   ],
   "source": [
    "analogy_words"
   ]
  },
  {
   "cell_type": "code",
   "execution_count": null,
   "metadata": {},
   "outputs": [],
   "source": []
  },
  {
   "cell_type": "code",
   "execution_count": null,
   "metadata": {},
   "outputs": [],
   "source": []
  },
  {
   "cell_type": "code",
   "execution_count": null,
   "metadata": {},
   "outputs": [],
   "source": []
  },
  {
   "cell_type": "code",
   "execution_count": 95,
   "metadata": {},
   "outputs": [
    {
     "data": {
      "text/plain": [
       "Text(0.5, 1.0, 'Категория «Глагол – сущ. с -ение»')"
      ]
     },
     "execution_count": 95,
     "metadata": {},
     "output_type": "execute_result"
    },
    {
     "data": {
      "image/png": "[encoded data removed]",
      "text/plain": [
       "<Figure size 576x432 with 1 Axes>"
      ]
     },
     "metadata": {
      "needs_background": "light"
     },
     "output_type": "display_data"
    },
    {
     "name": "stdout",
     "output_type": "stream",
     "text": [
      "time: 172 ms (started: 2021-05-23 17:28:39 +03:00)\n"
     ]
    }
   ],
   "source": [
    "plt.figure(figsize=(8,6))\n",
    "plt.hist(cos_list, bins=30)\n",
    "plt.xlabel('cos(d,v_i)')\n",
    "plt.ylabel('Частота')\n",
    "plt.xlim(-1,1)\n",
    "plt.title('Категория «Глагол – сущ. с -ение»')"
   ]
  },
  {
   "cell_type": "code",
   "execution_count": null,
   "metadata": {},
   "outputs": [],
   "source": []
  },
  {
   "cell_type": "code",
   "execution_count": null,
   "metadata": {},
   "outputs": [],
   "source": []
  },
  {
   "cell_type": "code",
   "execution_count": null,
   "metadata": {},
   "outputs": [],
   "source": []
  },
  {
   "cell_type": "code",
   "execution_count": null,
   "metadata": {},
   "outputs": [],
   "source": []
  }
 ],
 "metadata": {
  "kernelspec": {
   "display_name": "Python 3",
   "language": "python",
   "name": "python3"
  },
  "language_info": {
   "codemirror_mode": {
    "name": "ipython",
    "version": 3
   },
   "file_extension": ".py",
   "mimetype": "text/x-python",
   "name": "python",
   "nbconvert_exporter": "python",
   "pygments_lexer": "ipython3",
   "version": "3.8.3"
  }
 },
 "nbformat": 4,
 "nbformat_minor": 4
}
